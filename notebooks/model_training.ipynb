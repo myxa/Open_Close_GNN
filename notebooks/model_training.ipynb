{
 "cells": [
  {
   "cell_type": "code",
   "execution_count": 1,
   "metadata": {
    "collapsed": true,
    "pycharm": {
     "name": "#%%\n"
    }
   },
   "outputs": [],
   "source": [
    "from model.dataset import OpenCloseDataset\n",
    "from model.gnn_model import GCN\n",
    "import os\n",
    "from model.utils import train, device\n",
    "import torch"
   ]
  },
  {
   "cell_type": "code",
   "execution_count": 10,
   "outputs": [],
   "source": [
    "closed = np.load(f'../data/raw/close_sorted.npy')"
   ],
   "metadata": {
    "collapsed": false,
    "pycharm": {
     "name": "#%%\n"
    }
   }
  },
  {
   "cell_type": "code",
   "execution_count": 11,
   "outputs": [
    {
     "data": {
      "text/plain": "(420, 420)"
     },
     "execution_count": 11,
     "metadata": {},
     "output_type": "execute_result"
    }
   ],
   "source": [
    "closed[0].shape"
   ],
   "metadata": {
    "collapsed": false,
    "pycharm": {
     "name": "#%%\n"
    }
   }
  },
  {
   "cell_type": "code",
   "execution_count": 14,
   "outputs": [
    {
     "data": {
      "text/plain": "-0.6105633829323729"
     },
     "execution_count": 14,
     "metadata": {},
     "output_type": "execute_result"
    }
   ],
   "source": [
    "np.min(closed[0])"
   ],
   "metadata": {
    "collapsed": false,
    "pycharm": {
     "name": "#%%\n"
    }
   }
  },
  {
   "cell_type": "code",
   "execution_count": 15,
   "outputs": [],
   "source": [
    "cl0 = closed[0].copy()"
   ],
   "metadata": {
    "collapsed": false,
    "pycharm": {
     "name": "#%%\n"
    }
   }
  },
  {
   "cell_type": "code",
   "execution_count": 23,
   "outputs": [],
   "source": [
    "ad_cl0 = np.zeros((420, 420))\n",
    "idx = []\n",
    "for i in range(420):\n",
    "    for j in range(420):\n",
    "        if abs(cl0[i, j]) > 0.5:\n",
    "            ad_cl0[i, j] = 1\n",
    "            idx.append((i, j))"
   ],
   "metadata": {
    "collapsed": false,
    "pycharm": {
     "name": "#%%\n"
    }
   }
  },
  {
   "cell_type": "code",
   "execution_count": 24,
   "outputs": [
    {
     "data": {
      "text/plain": "[(0, 1),\n (0, 2),\n (0, 3),\n (0, 5),\n (0, 7),\n (0, 14),\n (0, 15),\n (0, 16),\n (0, 17),\n (0, 18),\n (0, 21),\n (0, 23),\n (0, 32),\n (0, 33),\n (0, 34),\n (0, 35),\n (0, 42),\n (0, 43),\n (0, 44),\n (0, 45),\n (0, 47),\n (0, 50),\n (0, 58),\n (0, 71),\n (0, 120),\n (0, 158),\n (0, 159),\n (0, 181),\n (0, 195),\n (0, 197),\n (0, 199),\n (0, 202),\n (0, 208),\n (0, 209),\n (0, 237),\n (0, 238),\n (0, 239),\n (0, 241),\n (0, 244),\n (0, 247),\n (0, 248),\n (0, 249),\n (0, 250),\n (0, 251),\n (0, 253),\n (0, 254),\n (0, 255),\n (0, 256),\n (0, 257),\n (0, 258),\n (0, 259),\n (0, 260),\n (0, 261),\n (0, 262),\n (0, 263),\n (0, 264),\n (0, 265),\n (0, 266),\n (0, 267),\n (0, 278),\n (0, 279),\n (0, 283),\n (0, 291),\n (0, 299),\n (0, 310),\n (0, 311),\n (0, 331),\n (0, 333),\n (0, 335),\n (0, 366),\n (0, 368),\n (0, 375),\n (0, 397),\n (0, 416),\n (0, 417),\n (0, 418),\n (1, 0),\n (1, 2),\n (1, 3),\n (1, 5),\n (1, 7),\n (1, 9),\n (1, 12),\n (1, 15),\n (1, 16),\n (1, 17),\n (1, 18),\n (1, 20),\n (1, 21),\n (1, 23),\n (1, 27),\n (1, 32),\n (1, 33),\n (1, 35),\n (1, 40),\n (1, 42),\n (1, 43),\n (1, 44),\n (1, 45),\n (1, 46),\n (1, 47),\n (1, 50),\n (1, 68),\n (1, 71),\n (1, 75),\n (1, 120),\n (1, 158),\n (1, 159),\n (1, 172),\n (1, 174),\n (1, 175),\n (1, 181),\n (1, 185),\n (1, 195),\n (1, 197),\n (1, 198),\n (1, 199),\n (1, 202),\n (1, 203),\n (1, 207),\n (1, 208),\n (1, 209),\n (1, 217),\n (1, 223),\n (1, 234),\n (1, 235),\n (1, 236),\n (1, 237),\n (1, 238),\n (1, 239),\n (1, 241),\n (1, 243),\n (1, 244),\n (1, 245),\n (1, 247),\n (1, 248),\n (1, 249),\n (1, 250),\n (1, 251),\n (1, 252),\n (1, 253),\n (1, 254),\n (1, 256),\n (1, 257),\n (1, 258),\n (1, 259),\n (1, 260),\n (1, 261),\n (1, 262),\n (1, 263),\n (1, 264),\n (1, 265),\n (1, 267),\n (1, 279),\n (1, 283),\n (1, 284),\n (1, 291),\n (1, 299),\n (1, 310),\n (1, 311),\n (1, 331),\n (1, 332),\n (1, 333),\n (1, 335),\n (1, 349),\n (1, 364),\n (1, 366),\n (1, 368),\n (1, 375),\n (1, 397),\n (1, 416),\n (1, 417),\n (1, 418),\n (2, 0),\n (2, 1),\n (2, 3),\n (2, 4),\n (2, 5),\n (2, 6),\n (2, 7),\n (2, 10),\n (2, 11),\n (2, 14),\n (2, 15),\n (2, 19),\n (2, 21),\n (2, 22),\n (2, 23),\n (2, 24),\n (2, 25),\n (2, 26),\n (2, 31),\n (2, 33),\n (2, 34),\n (2, 35),\n (2, 36),\n (2, 37),\n (2, 38),\n (2, 39),\n (2, 43),\n (2, 45),\n (2, 47),\n (2, 49),\n (2, 50),\n (2, 51),\n (2, 71),\n (2, 103),\n (2, 113),\n (2, 120),\n (2, 177),\n (2, 181),\n (2, 195),\n (2, 197),\n (2, 248),\n (2, 257),\n (2, 258),\n (2, 259),\n (2, 265),\n (2, 331),\n (3, 0),\n (3, 1),\n (3, 2),\n (3, 5),\n (3, 7),\n (3, 9),\n (3, 12),\n (3, 15),\n (3, 16),\n (3, 17),\n (3, 18),\n (3, 20),\n (3, 21),\n (3, 23),\n (3, 24),\n (3, 25),\n (3, 27),\n (3, 29),\n (3, 32),\n (3, 33),\n (3, 36),\n (3, 40),\n (3, 41),\n (3, 43),\n (3, 44),\n (3, 45),\n (3, 46),\n (3, 47),\n (3, 48),\n (3, 49),\n (3, 50),\n (3, 68),\n (3, 71),\n (3, 75),\n (3, 83),\n (3, 120),\n (3, 158),\n (3, 159),\n (3, 160),\n (3, 174),\n (3, 177),\n (3, 181),\n (3, 195),\n (3, 197),\n (3, 198),\n (3, 199),\n (3, 202),\n (3, 203),\n (3, 207),\n (3, 208),\n (3, 209),\n (3, 217),\n (3, 235),\n (3, 237),\n (3, 238),\n (3, 239),\n (3, 241),\n (3, 243),\n (3, 244),\n (3, 245),\n (3, 247),\n (3, 248),\n (3, 249),\n (3, 250),\n (3, 251),\n (3, 252),\n (3, 253),\n (3, 254),\n (3, 255),\n (3, 256),\n (3, 257),\n (3, 258),\n (3, 259),\n (3, 260),\n (3, 261),\n (3, 262),\n (3, 263),\n (3, 264),\n (3, 265),\n (3, 267),\n (3, 279),\n (3, 284),\n (3, 291),\n (3, 298),\n (3, 299),\n (3, 311),\n (3, 331),\n (3, 332),\n (3, 333),\n (3, 335),\n (3, 337),\n (3, 349),\n (3, 355),\n (3, 364),\n (3, 366),\n (3, 368),\n (3, 375),\n (3, 416),\n (3, 417),\n (3, 418),\n (4, 2),\n (4, 5),\n (4, 6),\n (4, 7),\n (4, 10),\n (4, 11),\n (4, 19),\n (4, 21),\n (4, 22),\n (4, 23),\n (4, 24),\n (4, 25),\n (4, 26),\n (4, 30),\n (4, 31),\n (4, 33),\n (4, 34),\n (4, 35),\n (4, 36),\n (4, 37),\n (4, 38),\n (4, 39),\n (4, 47),\n (4, 49),\n (4, 51),\n (4, 103),\n (4, 125),\n (4, 129),\n (4, 130),\n (5, 0),\n (5, 1),\n (5, 2),\n (5, 3),\n (5, 4),\n (5, 6),\n (5, 7),\n (5, 10),\n (5, 11),\n (5, 19),\n (5, 20),\n (5, 21),\n (5, 22),\n (5, 23),\n (5, 24),\n (5, 25),\n (5, 29),\n (5, 31),\n (5, 33),\n (5, 34),\n (5, 35),\n (5, 36),\n (5, 37),\n (5, 38),\n (5, 39),\n (5, 43),\n (5, 44),\n (5, 45),\n (5, 47),\n (5, 48),\n (5, 49),\n (5, 50),\n (5, 51),\n (5, 52),\n (5, 71),\n (5, 103),\n (5, 119),\n (5, 120),\n (5, 175),\n (5, 177),\n (5, 181),\n (5, 185),\n (5, 195),\n (5, 258),\n (5, 259),\n (5, 331),\n (5, 417),\n (5, 418),\n (6, 2),\n (6, 4),\n (6, 5),\n (6, 7),\n (6, 10),\n (6, 11),\n (6, 12),\n (6, 19),\n (6, 20),\n (6, 21),\n (6, 22),\n (6, 23),\n (6, 24),\n (6, 25),\n (6, 31),\n (6, 33),\n (6, 35),\n (6, 36),\n (6, 37),\n (6, 38),\n (6, 39),\n (6, 47),\n (6, 48),\n (6, 49),\n (6, 51),\n (6, 119),\n (6, 130),\n (6, 175),\n (6, 178),\n (6, 180),\n (7, 0),\n (7, 1),\n (7, 2),\n (7, 3),\n (7, 4),\n (7, 5),\n (7, 6),\n (7, 10),\n (7, 11),\n (7, 19),\n (7, 20),\n (7, 21),\n (7, 22),\n (7, 23),\n (7, 24),\n (7, 25),\n (7, 27),\n (7, 29),\n (7, 30),\n (7, 31),\n (7, 32),\n (7, 33),\n (7, 35),\n (7, 36),\n (7, 37),\n (7, 38),\n (7, 39),\n (7, 40),\n (7, 45),\n (7, 46),\n (7, 47),\n (7, 48),\n (7, 49),\n (7, 50),\n (7, 51),\n (7, 120),\n (7, 175),\n (7, 181),\n (7, 185),\n (7, 202),\n (7, 203),\n (7, 207),\n (7, 219),\n (7, 221),\n (7, 252),\n (8, 9),\n (8, 12),\n (8, 13),\n (8, 16),\n (8, 18),\n (8, 19),\n (8, 20),\n (8, 40),\n (8, 46),\n (8, 48),\n (8, 74),\n (8, 75),\n (8, 82),\n (8, 83),\n (8, 86),\n (8, 87),\n (8, 89),\n (8, 93),\n (8, 174),\n (8, 175),\n (8, 181),\n (8, 184),\n (8, 202),\n (8, 203),\n (8, 206),\n (8, 207),\n (8, 208),\n (8, 209),\n (8, 210),\n (8, 212),\n (8, 213),\n (8, 214),\n (8, 215),\n (8, 216),\n (8, 217),\n (8, 218),\n (8, 219),\n (8, 220),\n (8, 221),\n (8, 222),\n (8, 223),\n (8, 224),\n (8, 225),\n (8, 228),\n (8, 229),\n (8, 236),\n (8, 238),\n (8, 239),\n (8, 247),\n (8, 250),\n (8, 251),\n (8, 252),\n (8, 253),\n (8, 254),\n (8, 255),\n (8, 258),\n (8, 259),\n (8, 265),\n (8, 305),\n (8, 313),\n (8, 320),\n (8, 321),\n (8, 322),\n (8, 323),\n (8, 324),\n (8, 325),\n (8, 327),\n (8, 338),\n (8, 348),\n (8, 349),\n (9, 1),\n (9, 3),\n (9, 8),\n (9, 12),\n (9, 13),\n (9, 15),\n (9, 16),\n (9, 17),\n (9, 18),\n (9, 20),\n (9, 46),\n (9, 69),\n (9, 71),\n (9, 75),\n (9, 82),\n (9, 83),\n (9, 87),\n (9, 89),\n (9, 93),\n (9, 174),\n (9, 175),\n (9, 181),\n (9, 202),\n (9, 203),\n (9, 206),\n (9, 207),\n (9, 208),\n (9, 209),\n (9, 212),\n (9, 213),\n (9, 214),\n (9, 215),\n (9, 216),\n (9, 217),\n (9, 218),\n (9, 219),\n (9, 220),\n (9, 221),\n (9, 222),\n (9, 223),\n (9, 225),\n (9, 228),\n (9, 229),\n (9, 236),\n (9, 237),\n (9, 238),\n (9, 239),\n (9, 242),\n (9, 243),\n (9, 247),\n (9, 248),\n (9, 249),\n (9, 250),\n (9, 251),\n (9, 252),\n (9, 253),\n (9, 254),\n (9, 255),\n (9, 257),\n (9, 258),\n (9, 259),\n (9, 262),\n (9, 263),\n (9, 311),\n (9, 313),\n (9, 321),\n (9, 323),\n (9, 335),\n (9, 346),\n (9, 349),\n (9, 368),\n (10, 2),\n (10, 4),\n (10, 5),\n (10, 6),\n (10, 7),\n (10, 11),\n (10, 19),\n (10, 24),\n (10, 35),\n (10, 36),\n (10, 38),\n (10, 39),\n (10, 51),\n (10, 131),\n (11, 2),\n (11, 4),\n (11, 5),\n (11, 6),\n (11, 7),\n (11, 10),\n (11, 19),\n (11, 21),\n (11, 23),\n (11, 24),\n (11, 25),\n (11, 35),\n (11, 39),\n (11, 47),\n (11, 51),\n (11, 52),\n (12, 1),\n (12, 3),\n (12, 6),\n (12, 8),\n (12, 9),\n (12, 13),\n (12, 16),\n (12, 18),\n (12, 19),\n (12, 20),\n (12, 21),\n (12, 23),\n (12, 36),\n (12, 40),\n (12, 41),\n (12, 44),\n (12, 45),\n (12, 46),\n (12, 47),\n (12, 48),\n (12, 49),\n (12, 50),\n (12, 89),\n (12, 118),\n (12, 120),\n (12, 174),\n (12, 175),\n (12, 176),\n (12, 181),\n (12, 185),\n (12, 202),\n (12, 203),\n (12, 206),\n (12, 207),\n (12, 213),\n (12, 214),\n (12, 215),\n (12, 216),\n (12, 217),\n (12, 218),\n (12, 219),\n (12, 220),\n (12, 221),\n (12, 223),\n (12, 229),\n (12, 236),\n (12, 237),\n (12, 239),\n (12, 247),\n (12, 251),\n (12, 252),\n (12, 258),\n (12, 259),\n (12, 418),\n (13, 8),\n (13, 9),\n (13, 12),\n (13, 19),\n (13, 20),\n (13, 23),\n (13, 41),\n (13, 45),\n (13, 46),\n (13, 47),\n (13, 49),\n (13, 89),\n (13, 93),\n (13, 175),\n (13, 181),\n (13, 202),\n (13, 203),\n (13, 206),\n (13, 207),\n (13, 213),\n (13, 215),\n (13, 216),\n (13, 217),\n (13, 218),\n (13, 219),\n (13, 220),\n (13, 221),\n (13, 223),\n (13, 252),\n (14, 0),\n (14, 2),\n (14, 15),\n (14, 258),\n (15, 0),\n (15, 1),\n (15, 2),\n (15, 3),\n (15, 9),\n (15, 14),\n (15, 17),\n (15, 43),\n (15, 45),\n (15, 71),\n (15, 193),\n (15, 195),\n (15, 196),\n (15, 197),\n (15, 198),\n (15, 199),\n (15, 202),\n (15, 203),\n (15, 208),\n (15, 209),\n (15, 236),\n (15, 237),\n (15, 242),\n (15, 243),\n (15, 244),\n (15, 245),\n (15, 246),\n (15, 247),\n (15, 248),\n (15, 249),\n (15, 250),\n (15, 251),\n (15, 253),\n (15, 254),\n (15, 255),\n (15, 257),\n (15, 258),\n (15, 259),\n (15, 265),\n (15, 335),\n (15, 355),\n (15, 372),\n (15, 397),\n (16, 0),\n (16, 1),\n (16, 3),\n (16, 8),\n (16, 9),\n (16, 12),\n (16, 17),\n (16, 18),\n (16, 19),\n (16, 45),\n (16, 46),\n (16, 47),\n (16, 50),\n (16, 68),\n (16, 71),\n (16, 181),\n (16, 202),\n (16, 206),\n (16, 207),\n (16, 208),\n (16, 209),\n (16, 216),\n (16, 217),\n (16, 218),\n (16, 219),\n (16, 220),\n (16, 221),\n (16, 229),\n (16, 236),\n (16, 237),\n (16, 238),\n (16, 239),\n (16, 252),\n (16, 253),\n (16, 258),\n (16, 259),\n (16, 265),\n (16, 400),\n (16, 416),\n (17, 0),\n (17, 1),\n (17, 3),\n (17, 9),\n (17, 15),\n (17, 16),\n (17, 18),\n (17, 19),\n (17, 68),\n (17, 71),\n (17, 75),\n (17, 89),\n (17, 181),\n (17, 202),\n (17, 203),\n (17, 206),\n (17, 207),\n (17, 208),\n (17, 209),\n (17, 215),\n (17, 217),\n (17, 219),\n (17, 223),\n (17, 237),\n (17, 238),\n (17, 239),\n (17, 247),\n (17, 248),\n (17, 249),\n (17, 252),\n (17, 253),\n (17, 258),\n (17, 259),\n (17, 272),\n (17, 273),\n (17, 280),\n (17, 281),\n (17, 286),\n (17, 335),\n (17, 349),\n (17, 357),\n (17, 393),\n (17, 400),\n (17, 416),\n (18, 0),\n (18, 1),\n (18, 3),\n (18, 8),\n (18, 9),\n (18, 12),\n (18, 16),\n (18, 17),\n (18, 40),\n (18, 41),\n (18, 44),\n (18, 45),\n (18, 46),\n (18, 47),\n (18, 75),\n (18, 83),\n (18, 89),\n (18, 172),\n (18, 174),\n (18, 175),\n (18, 181),\n (18, 195),\n (18, 197),\n (18, 198),\n (18, 199),\n (18, 202),\n (18, 203),\n (18, 206),\n (18, 207),\n (18, 208),\n (18, 209),\n (18, 213),\n (18, 214),\n (18, 216),\n (18, 217),\n (18, 218),\n (18, 220),\n (18, 221),\n (18, 223),\n (18, 236),\n (18, 237),\n (18, 238),\n (18, 239),\n (18, 245),\n (18, 247),\n (18, 248),\n (18, 249),\n (18, 251),\n (18, 252),\n (18, 253),\n (18, 254),\n (18, 256),\n (18, 257),\n (18, 258),\n (18, 259),\n (18, 262),\n (18, 263),\n (18, 265),\n (18, 311),\n (18, 335),\n (18, 348),\n (18, 349),\n (18, 352),\n (18, 357),\n (19, 2),\n (19, 4),\n (19, 5),\n (19, 6),\n (19, 7),\n (19, 8),\n (19, 10),\n (19, 11),\n (19, 12),\n (19, 13),\n (19, 16),\n (19, 17),\n (19, 20),\n (19, 21),\n (19, 22),\n (19, 23),\n (19, 24),\n (19, 25),\n (19, 33),\n (19, 35),\n (19, 36),\n (19, 37),\n (19, 39),\n (19, 46),\n (19, 47),\n (19, 48),\n (19, 49),\n (19, 51),\n (19, 52),\n (19, 68),\n (19, 69),\n (19, 71),\n (19, 89),\n (19, 181),\n (19, 202),\n (19, 203),\n (19, 207),\n (19, 215),\n (19, 219),\n (19, 221),\n (19, 231),\n (19, 252),\n (20, 1),\n (20, 3),\n (20, 5),\n (20, 6),\n (20, 7),\n (20, 8),\n (20, 9),\n (20, 12),\n (20, 13),\n (20, 19),\n (20, 21),\n (20, 22),\n (20, 23),\n (20, 24),\n (20, 25),\n (20, 40),\n (20, 41),\n (20, 42),\n (20, 44),\n (20, 45),\n (20, 46),\n (20, 47),\n (20, 48),\n (20, 50),\n (20, 52),\n (20, 68),\n (20, 69),\n (20, 71),\n (20, 75),\n (20, 174),\n (20, 175),\n (20, 180),\n (20, 181),\n (20, 184),\n (20, 202),\n (20, 203),\n (20, 206),\n (20, 207),\n (20, 208),\n ...]"
     },
     "execution_count": 24,
     "metadata": {},
     "output_type": "execute_result"
    }
   ],
   "source": [
    "idx"
   ],
   "metadata": {
    "collapsed": false,
    "pycharm": {
     "name": "#%%\n"
    }
   }
  },
  {
   "cell_type": "code",
   "execution_count": 27,
   "outputs": [
    {
     "data": {
      "text/plain": "tensor([[  0,   0,   0,  ..., 419, 419, 419],\n        [  1,   2,   3,  ..., 401, 406, 407]])"
     },
     "execution_count": 27,
     "metadata": {},
     "output_type": "execute_result"
    }
   ],
   "source": [
    "torch.tensor(idx).long().t().contiguous()"
   ],
   "metadata": {
    "collapsed": false,
    "pycharm": {
     "name": "#%%\n"
    }
   }
  },
  {
   "cell_type": "code",
   "execution_count": 28,
   "outputs": [
    {
     "data": {
      "text/plain": "Data(x=[420, 420], edge_index=[2, 11736], y=0)"
     },
     "execution_count": 28,
     "metadata": {},
     "output_type": "execute_result"
    }
   ],
   "source": [
    "Data(x=cl0, edge_index=torch.tensor(idx).long().t().contiguous(), y=0)"
   ],
   "metadata": {
    "collapsed": false,
    "pycharm": {
     "name": "#%%\n"
    }
   }
  },
  {
   "cell_type": "code",
   "execution_count": null,
   "outputs": [],
   "source": [],
   "metadata": {
    "collapsed": false,
    "pycharm": {
     "name": "#%%\n"
    }
   }
  },
  {
   "cell_type": "code",
   "execution_count": 34,
   "outputs": [],
   "source": [
    "import torch\n",
    "from torch_geometric.data import Dataset, Data\n",
    "from torch_geometric.utils import dense_to_sparse\n",
    "from scipy.sparse import coo_matrix\n",
    "import numpy as np\n",
    "import os\n",
    "\n",
    "\n",
    "class OpenCloseDataset(Dataset):\n",
    "\n",
    "    def __init__(self, datafolder, test=False, transform=None, pre_transform=None, k_degree=10):\n",
    "\n",
    "        self.test = test\n",
    "        self.datafolder = datafolder\n",
    "        self.open = np.load(f'{datafolder}/raw/open_sorted.npy')\n",
    "        self.close = np.load(f'{datafolder}/raw/close_sorted.npy')\n",
    "        self.k_degree = k_degree\n",
    "\n",
    "        super().__init__(root=datafolder, transform=transform, pre_transform=pre_transform)\n",
    "\n",
    "    @property\n",
    "    def raw_file_names(self):\n",
    "        return ['close.npy', 'open.npy']\n",
    "\n",
    "    @property\n",
    "    def processed_file_names(self):\n",
    "\n",
    "        \"\"\" If these files are found in raw_dir, processing is skipped\"\"\"\n",
    "        # todo test filenames\n",
    "        if self.test:\n",
    "            return [os.path.join(self.datafolder, 'processed', 'test', f'data_{i}.pt') for i in range(47+47)]\n",
    "\n",
    "        else:\n",
    "            return [os.path.join(self.datafolder, 'processed', f'data_{i}.pt') for i in range(47+47)]\n",
    "\n",
    "    def download(self):\n",
    "        pass\n",
    "\n",
    "    def process(self):\n",
    "\n",
    "        for index, matr in enumerate(self.open):\n",
    "            _ = self._load_and_save(matr, index, 'open')\n",
    "\n",
    "        for index, matr in enumerate(self.close):\n",
    "            _ = self._load_and_save(matr, index, 'close')\n",
    "\n",
    "    def _load_and_save(self, matr, index, state):\n",
    "\n",
    "        x = torch.from_numpy(matr).float()\n",
    "\n",
    "        if self.k_degree is not None:\n",
    "            adj = self.compute_KNN_graph(matr, k_degree=self.k_degree)\n",
    "            adj = torch.from_numpy(adj).float()\n",
    "            edge_index, edge_attr = dense_to_sparse(adj)\n",
    "        else:\n",
    "            edge_index = self._adjacency_threshold(x)\n",
    "\n",
    "        label = torch.tensor(0 if state == 'close' else 1).long()\n",
    "\n",
    "        data = Data(x=x, edge_index=edge_index, y=label) # edge_attr=edge_attr,\n",
    "\n",
    "        index = index + 47 if state == 'close' else index\n",
    "        if self.test:\n",
    "            torch.save(data,\n",
    "                       os.path.join(self.processed_dir, 'test',\n",
    "                                    f'data_{index}.pt'))\n",
    "        else:\n",
    "            torch.save(data,\n",
    "                       os.path.join(self.processed_dir,\n",
    "                                    f'data_{index}.pt'))\n",
    "        return data\n",
    "\n",
    "    def compute_KNN_graph(self, matrix, k_degree):\n",
    "        \"\"\" Calculate the adjacency matrix from the connectivity matrix.\"\"\"\n",
    "\n",
    "        matrix = np.abs(matrix)\n",
    "        idx = np.argsort(-matrix)[:, 0:k_degree]\n",
    "        matrix.sort()\n",
    "        matrix = matrix[:, ::-1]\n",
    "        matrix = matrix[:, 0:k_degree]\n",
    "\n",
    "        A = self._adjacency(matrix, idx).astype(np.float32)\n",
    "\n",
    "        return A\n",
    "\n",
    "    def _adjacency(self, dist, idx):\n",
    "\n",
    "        m, k = dist.shape\n",
    "        assert m, k == idx.shape\n",
    "        assert dist.min() >= 0\n",
    "\n",
    "        # Weight matrix.\n",
    "        I = np.arange(0, m).repeat(k)\n",
    "        J = idx.reshape(m * k)\n",
    "        V = dist.reshape(m * k)\n",
    "        W = coo_matrix((V, (I, J)), shape=(m, m))\n",
    "\n",
    "        # No self-connections.\n",
    "        W.setdiag(0)\n",
    "\n",
    "        # Non-directed graph.\n",
    "        bigger = W.T > W\n",
    "        W = W - W.multiply(bigger) + W.T.multiply(bigger)\n",
    "\n",
    "        return W.todense()\n",
    "\n",
    "    def _adjacency_threshold(self, matr, threshold=0.5):\n",
    "\n",
    "        idx = []\n",
    "        for i in range(len(matr)):\n",
    "            for j in range(len(matr)):\n",
    "                if abs(matr[i, j]) > threshold:\n",
    "                    idx.append((i, j))\n",
    "\n",
    "        return torch.tensor(idx).long().t().contiguous()\n",
    "\n",
    "    def len(self):\n",
    "        return 47+47  # len(self.files)\n",
    "\n",
    "    def get(self, idx):\n",
    "        \"\"\" - Equivalent to __getitem__ in pytorch\n",
    "            - Is not needed for PyG's InMemoryDataset\n",
    "        \"\"\"\n",
    "        if self.test:\n",
    "            data = torch.load(os.path.join(self.processed_dir,\n",
    "                                           f'data_test_{idx}.pt'))\n",
    "        else:\n",
    "            data = torch.load(os.path.join(self.processed_dir,\n",
    "                                           f'data_{idx}.pt'))\n",
    "        return data"
   ],
   "metadata": {
    "collapsed": false,
    "pycharm": {
     "name": "#%%\n"
    }
   }
  },
  {
   "cell_type": "code",
   "execution_count": 35,
   "outputs": [
    {
     "name": "stderr",
     "output_type": "stream",
     "text": [
      "Processing...\n",
      "Done!\n"
     ]
    },
    {
     "data": {
      "text/plain": "96"
     },
     "execution_count": 35,
     "metadata": {},
     "output_type": "execute_result"
    }
   ],
   "source": [
    "full_dataset = OpenCloseDataset(datafolder='../data', k_degree=None).shuffle()\n",
    "len(os.listdir('../data/processed'))"
   ],
   "metadata": {
    "collapsed": false,
    "pycharm": {
     "name": "#%%\n"
    }
   }
  },
  {
   "cell_type": "code",
   "execution_count": 41,
   "outputs": [
    {
     "data": {
      "text/plain": "Data(x=[420, 420], edge_index=[2, 41280], y=1)"
     },
     "execution_count": 41,
     "metadata": {},
     "output_type": "execute_result"
    }
   ],
   "source": [
    "full_dataset[0]\n"
   ],
   "metadata": {
    "collapsed": false,
    "pycharm": {
     "name": "#%%\n"
    }
   }
  },
  {
   "cell_type": "code",
   "execution_count": 33,
   "outputs": [
    {
     "data": {
      "text/plain": "('y', tensor(1))"
     },
     "execution_count": 33,
     "metadata": {},
     "output_type": "execute_result"
    }
   ],
   "source": [],
   "metadata": {
    "collapsed": false,
    "pycharm": {
     "name": "#%%\n"
    }
   }
  },
  {
   "cell_type": "code",
   "execution_count": 37,
   "outputs": [
    {
     "name": "stdout",
     "output_type": "stream",
     "text": [
      "OpenCloseDataset (#graphs=94):\n",
      "+------------+----------+----------+\n",
      "|            |   #nodes |   #edges |\n",
      "|------------+----------+----------|\n",
      "| mean       |      420 |  23259   |\n",
      "| std        |        0 |  19101.4 |\n",
      "| min        |      420 |   4962   |\n",
      "| quantile25 |      420 |  11303.5 |\n",
      "| median     |      420 |  17672   |\n",
      "| quantile75 |      420 |  27237.5 |\n",
      "| max        |      420 | 126186   |\n",
      "+------------+----------+----------+\n"
     ]
    }
   ],
   "source": [
    "print(full_dataset.print_summary())"
   ],
   "metadata": {
    "collapsed": false,
    "pycharm": {
     "name": "#%%\n"
    }
   }
  },
  {
   "cell_type": "code",
   "execution_count": null,
   "outputs": [],
   "source": [],
   "metadata": {
    "collapsed": false,
    "pycharm": {
     "name": "#%%\n"
    }
   }
  },
  {
   "cell_type": "code",
   "execution_count": 38,
   "outputs": [],
   "source": [
    "train_size = int(0.9 * len(full_dataset))\n",
    "train_dataset, val_dataset = full_dataset[:train_size], full_dataset[train_size:]"
   ],
   "metadata": {
    "collapsed": false,
    "pycharm": {
     "name": "#%%\n"
    }
   }
  },
  {
   "cell_type": "code",
   "execution_count": 39,
   "outputs": [],
   "source": [
    "import torch.nn.functional as F\n",
    "import torch.nn as nn\n",
    "from torch_geometric.nn import global_mean_pool, GCNConv, GATConv\n",
    "\n",
    "class GCN(nn.Module):\n",
    "    def __init__(self,\n",
    "                 num_features,\n",
    "                 num_classes,\n",
    "                 channels,\n",
    "                 dropout=0):\n",
    "        super().__init__()\n",
    "\n",
    "        self.p = dropout\n",
    "        self.conv1 = GCNConv(int(num_features), channels[0])\n",
    "        self.conv2 = GCNConv(channels[0], channels[1])\n",
    "        self.conv3 = GCNConv(channels[1], channels[2])\n",
    "\n",
    "        self.lin1 = nn.Linear(channels[2], int(num_classes))\n",
    "\n",
    "    def forward(self, data):\n",
    "        x, edge_index, edge_attr = data.x, data.edge_index, data.edge_attr\n",
    "        batch = data.batch\n",
    "        #print(x.shape)\n",
    "        x = F.relu(self.conv1(x, edge_index, edge_attr))\n",
    "        #print(x.shape)\n",
    "        x = F.relu(self.conv2(x, edge_index, edge_attr))\n",
    "        x = F.dropout(x, p=self.p, training=self.training)\n",
    "        #print(x.shape)\n",
    "        x = F.relu(self.conv3(x, edge_index, edge_attr))\n",
    "        #print(x.shape)\n",
    "        x = global_mean_pool(x, batch)\n",
    "        #print(x.shape)\n",
    "        x = self.lin1(x)\n",
    "        return x"
   ],
   "metadata": {
    "collapsed": false,
    "pycharm": {
     "name": "#%%\n"
    }
   }
  },
  {
   "cell_type": "code",
   "execution_count": 42,
   "outputs": [],
   "source": [
    "from sklearn.metrics import precision_score, recall_score\n",
    "\n",
    "def train_epoch(train_loader, model, criterion, optimizer):\n",
    "    model.train()\n",
    "    for data in train_loader:  # Iterate in batches over the training dataset.\n",
    "         out = model(data)  # Perform a single forward pass.\n",
    "         loss = criterion(out, data.y)  # Compute the loss.\n",
    "         loss.backward()  # Derive gradients.\n",
    "         optimizer.step()  # Update parameters based on gradients.\n",
    "         optimizer.zero_grad()  # Clear gradients.\n",
    "\n",
    "def eval_epoch(loader, model, criterion):\n",
    "    model.eval()\n",
    "    losses = 0\n",
    "    correct = 0\n",
    "    pr = []\n",
    "    rc = []\n",
    "    for data in loader:  # Iterate in batches over the training/test dataset.\n",
    "        out = model(data)\n",
    "        loss = criterion(out, data.y)\n",
    "        losses += loss.item()\n",
    "        pred = out.argmax(dim=1)  # Use the class with highest probability.\n",
    "        correct += int((pred == data.y).sum())  # Check against ground-truth labels.\n",
    "        #print(pred)\n",
    "        #print(data.y)\n",
    "        pr.append(precision_score(data.y, pred, zero_division=0))\n",
    "        rc.append(recall_score(data.y, pred, zero_division=0))\n",
    "        # Derive ratio of correct predictions.\n",
    "    return losses / len(loader.dataset), correct / len(loader.dataset), np.mean(pr), np.mean(rc)\n",
    "\n",
    "def train(model, epochs, train_loader, val_loader, criterion, optimizer):\n",
    "    losses = []\n",
    "    for epoch in range(1, epochs):\n",
    "        train_epoch(train_loader, model, criterion, optimizer)\n",
    "        train_loss, train_acc, _, _ = eval_epoch(train_loader, model, criterion)\n",
    "        val_loss, test_acc, _, _ = eval_epoch(val_loader, model, criterion)\n",
    "        scheduler.step()\n",
    "        print(f'Epoch: {epoch:03d}, Train Loss: {train_loss:.4f}, Test Loss {val_loss:.4f}, Train Acc: {train_acc:.4f}, Test Acc: {test_acc:.4f}')\n",
    "        losses.append((train_loss, val_loss))\n",
    "    return losses"
   ],
   "metadata": {
    "collapsed": false,
    "pycharm": {
     "name": "#%%\n"
    }
   }
  },
  {
   "cell_type": "code",
   "execution_count": 43,
   "outputs": [
    {
     "name": "stdout",
     "output_type": "stream",
     "text": [
      "Adjusting learning rate of group 0 to 1.0000e-03.\n"
     ]
    },
    {
     "data": {
      "text/plain": "59138"
     },
     "execution_count": 43,
     "metadata": {},
     "output_type": "execute_result"
    }
   ],
   "source": [
    "from torch.optim import lr_scheduler\n",
    "model = GCN(full_dataset.num_features, 2, channels=[128, 32, 32], dropout=0.2).to(device())\n",
    "optimizer = torch.optim.Adam(model.parameters(), lr=0.001)\n",
    "loss = torch.nn.CrossEntropyLoss()\n",
    "epochs = 20\n",
    "scheduler = lr_scheduler.StepLR(optimizer, step_size=epochs//4, gamma=0.1, last_epoch=-1, verbose=True)\n",
    "sum(p.numel() for p in model.parameters())"
   ],
   "metadata": {
    "collapsed": false,
    "pycharm": {
     "name": "#%%\n"
    }
   }
  },
  {
   "cell_type": "code",
   "execution_count": 44,
   "outputs": [],
   "source": [
    "from torch_geometric.loader import DataLoader\n",
    "train_loader = DataLoader(train_dataset, batch_size=8, shuffle=True)\n",
    "val_loader = DataLoader(val_dataset, batch_size=2, shuffle=True)"
   ],
   "metadata": {
    "collapsed": false,
    "pycharm": {
     "name": "#%%\n"
    }
   }
  },
  {
   "cell_type": "code",
   "execution_count": 45,
   "outputs": [
    {
     "name": "stdout",
     "output_type": "stream",
     "text": [
      "Adjusting learning rate of group 0 to 1.0000e-03.\n",
      "Epoch: 001, Train Loss: 0.0916, Test Loss 0.3255, Train Acc: 0.4762, Test Acc: 0.7000\n",
      "Adjusting learning rate of group 0 to 1.0000e-03.\n",
      "Epoch: 002, Train Loss: 0.0904, Test Loss 0.3505, Train Acc: 0.5595, Test Acc: 0.5000\n",
      "Adjusting learning rate of group 0 to 1.0000e-03.\n",
      "Epoch: 003, Train Loss: 0.0901, Test Loss 0.3443, Train Acc: 0.5833, Test Acc: 0.5000\n",
      "Adjusting learning rate of group 0 to 1.0000e-03.\n",
      "Epoch: 004, Train Loss: 0.0899, Test Loss 0.3351, Train Acc: 0.4881, Test Acc: 0.7000\n",
      "Adjusting learning rate of group 0 to 1.0000e-04.\n",
      "Epoch: 005, Train Loss: 0.0902, Test Loss 0.3431, Train Acc: 0.5833, Test Acc: 0.4000\n",
      "Adjusting learning rate of group 0 to 1.0000e-04.\n",
      "Epoch: 006, Train Loss: 0.0899, Test Loss 0.3444, Train Acc: 0.6190, Test Acc: 0.4000\n",
      "Adjusting learning rate of group 0 to 1.0000e-04.\n",
      "Epoch: 007, Train Loss: 0.0897, Test Loss 0.3442, Train Acc: 0.6190, Test Acc: 0.4000\n",
      "Adjusting learning rate of group 0 to 1.0000e-04.\n",
      "Epoch: 008, Train Loss: 0.0897, Test Loss 0.3429, Train Acc: 0.5952, Test Acc: 0.4000\n",
      "Adjusting learning rate of group 0 to 1.0000e-04.\n",
      "Epoch: 009, Train Loss: 0.0898, Test Loss 0.3436, Train Acc: 0.6310, Test Acc: 0.4000\n",
      "Adjusting learning rate of group 0 to 1.0000e-05.\n",
      "Epoch: 010, Train Loss: 0.0901, Test Loss 0.3435, Train Acc: 0.6190, Test Acc: 0.4000\n",
      "Adjusting learning rate of group 0 to 1.0000e-05.\n",
      "Epoch: 011, Train Loss: 0.0899, Test Loss 0.3434, Train Acc: 0.6190, Test Acc: 0.4000\n",
      "Adjusting learning rate of group 0 to 1.0000e-05.\n",
      "Epoch: 012, Train Loss: 0.0896, Test Loss 0.3433, Train Acc: 0.6190, Test Acc: 0.4000\n",
      "Adjusting learning rate of group 0 to 1.0000e-05.\n",
      "Epoch: 013, Train Loss: 0.0896, Test Loss 0.3431, Train Acc: 0.6071, Test Acc: 0.4000\n",
      "Adjusting learning rate of group 0 to 1.0000e-05.\n",
      "Epoch: 014, Train Loss: 0.0895, Test Loss 0.3431, Train Acc: 0.6071, Test Acc: 0.4000\n",
      "Adjusting learning rate of group 0 to 1.0000e-06.\n",
      "Epoch: 015, Train Loss: 0.0896, Test Loss 0.3431, Train Acc: 0.6071, Test Acc: 0.4000\n",
      "Adjusting learning rate of group 0 to 1.0000e-06.\n",
      "Epoch: 016, Train Loss: 0.0900, Test Loss 0.3431, Train Acc: 0.6071, Test Acc: 0.4000\n",
      "Adjusting learning rate of group 0 to 1.0000e-06.\n",
      "Epoch: 017, Train Loss: 0.0896, Test Loss 0.3431, Train Acc: 0.6071, Test Acc: 0.4000\n",
      "Adjusting learning rate of group 0 to 1.0000e-06.\n",
      "Epoch: 018, Train Loss: 0.0897, Test Loss 0.3431, Train Acc: 0.6071, Test Acc: 0.4000\n",
      "Adjusting learning rate of group 0 to 1.0000e-06.\n",
      "Epoch: 019, Train Loss: 0.0897, Test Loss 0.3431, Train Acc: 0.6071, Test Acc: 0.4000\n"
     ]
    }
   ],
   "source": [
    "history = train(model, epochs, train_loader, val_loader, loss, optimizer)"
   ],
   "metadata": {
    "collapsed": false,
    "pycharm": {
     "name": "#%%\n"
    }
   }
  },
  {
   "cell_type": "code",
   "execution_count": 46,
   "outputs": [],
   "source": [
    "train_loss, val_loss = zip(*history)"
   ],
   "metadata": {
    "collapsed": false,
    "pycharm": {
     "name": "#%%\n"
    }
   }
  },
  {
   "cell_type": "code",
   "execution_count": 47,
   "outputs": [
    {
     "data": {
      "text/plain": "[<matplotlib.lines.Line2D at 0x222f74e9f48>]"
     },
     "execution_count": 47,
     "metadata": {},
     "output_type": "execute_result"
    },
    {
     "data": {
      "text/plain": "<Figure size 640x480 with 1 Axes>",
      "image/png": "[encoded data removed]"
     },
     "metadata": {},
     "output_type": "display_data"
    }
   ],
   "source": [
    "import matplotlib.pyplot as plt\n",
    "\n",
    "plt.plot(train_loss)\n",
    "plt.plot(val_loss)\n",
    "#plt.plot(acc)\n",
    "#plt.plot(pres)"
   ],
   "metadata": {
    "collapsed": false,
    "pycharm": {
     "name": "#%%\n"
    }
   }
  },
  {
   "cell_type": "code",
   "execution_count": 123,
   "outputs": [],
   "source": [
    "torch.save(model.state_dict(), '../weights/bs8_128_32_8_k10.pt')"
   ],
   "metadata": {
    "collapsed": false,
    "pycharm": {
     "name": "#%%\n"
    }
   }
  },
  {
   "cell_type": "code",
   "execution_count": 134,
   "outputs": [
    {
     "data": {
      "text/plain": "[<matplotlib.lines.Line2D at 0x26280724748>]"
     },
     "execution_count": 134,
     "metadata": {},
     "output_type": "execute_result"
    },
    {
     "data": {
      "text/plain": "<Figure size 640x480 with 1 Axes>",
      "image/png": "[encoded data removed]"
     },
     "metadata": {},
     "output_type": "display_data"
    }
   ],
   "source": [
    "plt.plot(train_loss)\n",
    "plt.plot(val_loss)"
   ],
   "metadata": {
    "collapsed": false,
    "pycharm": {
     "name": "#%%\n"
    }
   }
  },
  {
   "cell_type": "code",
   "execution_count": 135,
   "outputs": [],
   "source": [
    "torch.save(model.state_dict(), '../weights/bs8_128_32_8_k5.pt')"
   ],
   "metadata": {
    "collapsed": false,
    "pycharm": {
     "name": "#%%\n"
    }
   }
  },
  {
   "cell_type": "code",
   "execution_count": null,
   "outputs": [],
   "source": [],
   "metadata": {
    "collapsed": false,
    "pycharm": {
     "name": "#%%\n"
    }
   }
  },
  {
   "cell_type": "code",
   "execution_count": 48,
   "outputs": [
    {
     "name": "stdout",
     "output_type": "stream",
     "text": [
      "0\n",
      "\n",
      "Epoch: 000, Train Loss: 0.0907, Test Loss 0.3492, Train Acc: 0.5476, Test Acc: 0.2000\n",
      "Train Prec: 0.379, Train Rec: 0.197, Test Prec: 0.100, Test Rec: 0.200\n",
      "Epoch: 001, Train Loss: 0.0905, Test Loss 0.3499, Train Acc: 0.5238, Test Acc: 0.2000\n",
      "Train Prec: 0.091, Train Rec: 0.023, Test Prec: 0.000, Test Rec: 0.000\n",
      "Epoch: 002, Train Loss: 0.0898, Test Loss 0.3668, Train Acc: 0.5238, Test Acc: 0.3000\n",
      "Train Prec: 0.000, Train Rec: 0.000, Test Prec: 0.000, Test Rec: 0.000\n",
      "Epoch: 003, Train Loss: 0.0898, Test Loss 0.3618, Train Acc: 0.5357, Test Acc: 0.3000\n",
      "Train Prec: 0.091, Train Rec: 0.023, Test Prec: 0.000, Test Rec: 0.000\n",
      "Epoch: 004, Train Loss: 0.0890, Test Loss 0.3482, Train Acc: 0.6190, Test Acc: 0.3000\n",
      "Train Prec: 0.682, Train Rec: 0.229, Test Prec: 0.000, Test Rec: 0.000\n",
      "Epoch: 005, Train Loss: 0.0894, Test Loss 0.3679, Train Acc: 0.5357, Test Acc: 0.3000\n",
      "Train Prec: 0.091, Train Rec: 0.013, Test Prec: 0.000, Test Rec: 0.000\n",
      "Epoch: 006, Train Loss: 0.0891, Test Loss 0.3506, Train Acc: 0.6071, Test Acc: 0.3000\n",
      "Train Prec: 0.455, Train Rec: 0.188, Test Prec: 0.000, Test Rec: 0.000\n",
      "Epoch: 007, Train Loss: 0.0875, Test Loss 0.3568, Train Acc: 0.5952, Test Acc: 0.3000\n",
      "Train Prec: 0.636, Train Rec: 0.202, Test Prec: 0.000, Test Rec: 0.000\n",
      "Epoch: 008, Train Loss: 0.0857, Test Loss 0.3532, Train Acc: 0.6429, Test Acc: 0.2000\n",
      "Train Prec: 0.667, Train Rec: 0.309, Test Prec: 0.000, Test Rec: 0.000\n",
      "Epoch: 009, Train Loss: 0.0843, Test Loss 0.3377, Train Acc: 0.7619, Test Acc: 0.6000\n",
      "Train Prec: 0.748, Train Rec: 0.797, Test Prec: 0.500, Test Rec: 0.500\n",
      "Epoch: 010, Train Loss: 0.0840, Test Loss 0.3655, Train Acc: 0.6310, Test Acc: 0.3000\n",
      "Train Prec: 0.470, Train Rec: 0.252, Test Prec: 0.000, Test Rec: 0.000\n",
      "Epoch: 011, Train Loss: 0.0809, Test Loss 0.3233, Train Acc: 0.5476, Test Acc: 0.7000\n",
      "Train Prec: 0.536, Train Rec: 1.000, Test Prec: 0.700, Test Rec: 1.000\n",
      "Epoch: 012, Train Loss: 0.0801, Test Loss 0.3624, Train Acc: 0.6905, Test Acc: 0.3000\n",
      "Train Prec: 0.758, Train Rec: 0.377, Test Prec: 0.000, Test Rec: 0.000\n",
      "Epoch: 013, Train Loss: 0.0848, Test Loss 0.3329, Train Acc: 0.4881, Test Acc: 0.7000\n",
      "Train Prec: 0.469, Train Rec: 1.000, Test Prec: 0.700, Test Rec: 1.000\n",
      "Epoch: 014, Train Loss: 0.0826, Test Loss 0.3740, Train Acc: 0.6310, Test Acc: 0.2000\n",
      "Train Prec: 0.591, Train Rec: 0.244, Test Prec: 0.000, Test Rec: 0.000\n",
      "Epoch: 015, Train Loss: 0.0811, Test Loss 0.3632, Train Acc: 0.6667, Test Acc: 0.4000\n",
      "Train Prec: 0.552, Train Rec: 0.464, Test Prec: 0.400, Test Rec: 0.200\n",
      "Epoch: 016, Train Loss: 0.0763, Test Loss 0.3726, Train Acc: 0.6786, Test Acc: 0.2000\n",
      "Train Prec: 0.591, Train Rec: 0.355, Test Prec: 0.000, Test Rec: 0.000\n",
      "Epoch: 017, Train Loss: 0.0715, Test Loss 0.3452, Train Acc: 0.8214, Test Acc: 0.4000\n",
      "Train Prec: 0.850, Train Rec: 0.766, Test Prec: 0.400, Test Rec: 0.200\n",
      "Epoch: 018, Train Loss: 0.0737, Test Loss 0.3502, Train Acc: 0.7024, Test Acc: 0.8000\n",
      "Train Prec: 0.581, Train Rec: 0.841, Test Prec: 0.800, Test Rec: 1.000\n",
      "Epoch: 019, Train Loss: 0.0693, Test Loss 0.3566, Train Acc: 0.6905, Test Acc: 0.7000\n",
      "Train Prec: 0.587, Train Rec: 0.939, Test Prec: 0.700, Test Rec: 1.000\n",
      "1\n",
      "\n",
      "Epoch: 000, Train Loss: 0.0907, Test Loss 0.3539, Train Acc: 0.5238, Test Acc: 0.6000\n",
      "Train Prec: 0.494, Train Rec: 0.520, Test Prec: 0.800, Test Rec: 0.800\n",
      "Epoch: 001, Train Loss: 0.0909, Test Loss 0.3486, Train Acc: 0.4643, Test Acc: 0.5000\n",
      "Train Prec: 0.449, Train Rec: 0.845, Test Prec: 0.600, Test Rec: 0.700\n",
      "Epoch: 002, Train Loss: 0.0905, Test Loss 0.3730, Train Acc: 0.5238, Test Acc: 0.3000\n",
      "Train Prec: 0.000, Train Rec: 0.000, Test Prec: 0.000, Test Rec: 0.000\n",
      "Epoch: 003, Train Loss: 0.0897, Test Loss 0.3524, Train Acc: 0.6905, Test Acc: 0.2000\n",
      "Train Prec: 0.550, Train Rec: 0.433, Test Prec: 0.200, Test Rec: 0.100\n",
      "Epoch: 004, Train Loss: 0.0893, Test Loss 0.3654, Train Acc: 0.5476, Test Acc: 0.3000\n",
      "Train Prec: 0.091, Train Rec: 0.030, Test Prec: 0.000, Test Rec: 0.000\n",
      "Epoch: 005, Train Loss: 0.0886, Test Loss 0.3529, Train Acc: 0.7738, Test Acc: 0.2000\n",
      "Train Prec: 0.765, Train Rec: 0.747, Test Prec: 0.200, Test Rec: 0.100\n",
      "Epoch: 006, Train Loss: 0.0878, Test Loss 0.3611, Train Acc: 0.6071, Test Acc: 0.3000\n",
      "Train Prec: 0.636, Train Rec: 0.227, Test Prec: 0.000, Test Rec: 0.000\n",
      "Epoch: 007, Train Loss: 0.0869, Test Loss 0.3526, Train Acc: 0.7500, Test Acc: 0.2000\n",
      "Train Prec: 0.833, Train Rec: 0.652, Test Prec: 0.000, Test Rec: 0.000\n",
      "Epoch: 008, Train Loss: 0.0854, Test Loss 0.3657, Train Acc: 0.6429, Test Acc: 0.2000\n",
      "Train Prec: 0.709, Train Rec: 0.287, Test Prec: 0.000, Test Rec: 0.000\n",
      "Epoch: 009, Train Loss: 0.0832, Test Loss 0.3387, Train Acc: 0.6905, Test Acc: 0.7000\n",
      "Train Prec: 0.600, Train Rec: 0.939, Test Prec: 0.800, Test Rec: 0.700\n",
      "Epoch: 010, Train Loss: 0.0799, Test Loss 0.3657, Train Acc: 0.7024, Test Acc: 0.2000\n",
      "Train Prec: 0.788, Train Rec: 0.462, Test Prec: 0.000, Test Rec: 0.000\n",
      "Epoch: 011, Train Loss: 0.0786, Test Loss 0.3462, Train Acc: 0.7619, Test Acc: 0.6000\n",
      "Train Prec: 0.737, Train Rec: 0.909, Test Prec: 0.800, Test Rec: 0.600\n",
      "Epoch: 012, Train Loss: 0.0759, Test Loss 0.3444, Train Acc: 0.7619, Test Acc: 0.7000\n",
      "Train Prec: 0.635, Train Rec: 0.702, Test Prec: 0.600, Test Rec: 0.500\n",
      "Epoch: 013, Train Loss: 0.0736, Test Loss 0.3870, Train Acc: 0.7024, Test Acc: 0.2000\n",
      "Train Prec: 0.742, Train Rec: 0.416, Test Prec: 0.000, Test Rec: 0.000\n",
      "Epoch: 014, Train Loss: 0.0814, Test Loss 0.4945, Train Acc: 0.6548, Test Acc: 0.2000\n",
      "Train Prec: 0.697, Train Rec: 0.355, Test Prec: 0.000, Test Rec: 0.000\n",
      "Epoch: 015, Train Loss: 0.0748, Test Loss 0.3457, Train Acc: 0.5595, Test Acc: 0.7000\n",
      "Train Prec: 0.542, Train Rec: 1.000, Test Prec: 0.700, Test Rec: 0.800\n",
      "Epoch: 016, Train Loss: 0.0639, Test Loss 0.3917, Train Acc: 0.7976, Test Acc: 0.2000\n",
      "Train Prec: 0.898, Train Rec: 0.633, Test Prec: 0.000, Test Rec: 0.000\n",
      "Epoch: 017, Train Loss: 0.0833, Test Loss 0.5508, Train Acc: 0.6667, Test Acc: 0.2000\n",
      "Train Prec: 0.818, Train Rec: 0.282, Test Prec: 0.000, Test Rec: 0.000\n",
      "Epoch: 018, Train Loss: 0.0662, Test Loss 0.3548, Train Acc: 0.7500, Test Acc: 0.8000\n",
      "Train Prec: 0.681, Train Rec: 0.891, Test Prec: 0.900, Test Rec: 0.900\n",
      "Epoch: 019, Train Loss: 0.0588, Test Loss 0.3916, Train Acc: 0.8810, Test Acc: 0.3000\n",
      "Train Prec: 0.936, Train Rec: 0.786, Test Prec: 0.200, Test Rec: 0.100\n",
      "2\n",
      "\n",
      "Epoch: 000, Train Loss: 0.0908, Test Loss 0.3572, Train Acc: 0.5238, Test Acc: 0.3000\n",
      "Train Prec: 0.000, Train Rec: 0.000, Test Prec: 0.000, Test Rec: 0.000\n",
      "Epoch: 001, Train Loss: 0.0904, Test Loss 0.3518, Train Acc: 0.5357, Test Acc: 0.3000\n",
      "Train Prec: 0.091, Train Rec: 0.015, Test Prec: 0.000, Test Rec: 0.000\n",
      "Epoch: 002, Train Loss: 0.0899, Test Loss 0.3565, Train Acc: 0.5357, Test Acc: 0.3000\n",
      "Train Prec: 0.091, Train Rec: 0.015, Test Prec: 0.000, Test Rec: 0.000\n",
      "Epoch: 003, Train Loss: 0.0897, Test Loss 0.3604, Train Acc: 0.5476, Test Acc: 0.3000\n",
      "Train Prec: 0.182, Train Rec: 0.053, Test Prec: 0.000, Test Rec: 0.000\n",
      "Epoch: 004, Train Loss: 0.0894, Test Loss 0.3479, Train Acc: 0.6310, Test Acc: 0.3000\n",
      "Train Prec: 0.727, Train Rec: 0.276, Test Prec: 0.000, Test Rec: 0.000\n",
      "Epoch: 005, Train Loss: 0.0888, Test Loss 0.3614, Train Acc: 0.5476, Test Acc: 0.3000\n",
      "Train Prec: 0.182, Train Rec: 0.114, Test Prec: 0.000, Test Rec: 0.000\n",
      "Epoch: 006, Train Loss: 0.0883, Test Loss 0.3552, Train Acc: 0.5833, Test Acc: 0.3000\n",
      "Train Prec: 0.485, Train Rec: 0.224, Test Prec: 0.000, Test Rec: 0.000\n",
      "Epoch: 007, Train Loss: 0.0867, Test Loss 0.3572, Train Acc: 0.6429, Test Acc: 0.2000\n",
      "Train Prec: 0.703, Train Rec: 0.371, Test Prec: 0.000, Test Rec: 0.000\n",
      "Epoch: 008, Train Loss: 0.0867, Test Loss 0.3490, Train Acc: 0.7262, Test Acc: 0.3000\n",
      "Train Prec: 0.818, Train Rec: 0.592, Test Prec: 0.200, Test Rec: 0.100\n",
      "Epoch: 009, Train Loss: 0.0840, Test Loss 0.3629, Train Acc: 0.6548, Test Acc: 0.2000\n",
      "Train Prec: 0.500, Train Rec: 0.352, Test Prec: 0.000, Test Rec: 0.000\n",
      "Epoch: 010, Train Loss: 0.0814, Test Loss 0.3593, Train Acc: 0.7024, Test Acc: 0.2000\n",
      "Train Prec: 0.776, Train Rec: 0.540, Test Prec: 0.000, Test Rec: 0.000\n",
      "Epoch: 011, Train Loss: 0.0801, Test Loss 0.3482, Train Acc: 0.7857, Test Acc: 0.4000\n",
      "Train Prec: 0.739, Train Rec: 0.789, Test Prec: 0.300, Test Rec: 0.300\n",
      "Epoch: 012, Train Loss: 0.0808, Test Loss 0.3388, Train Acc: 0.5714, Test Acc: 0.7000\n",
      "Train Prec: 0.532, Train Rec: 0.947, Test Prec: 0.700, Test Rec: 1.000\n",
      "Epoch: 013, Train Loss: 0.0761, Test Loss 0.3897, Train Acc: 0.7024, Test Acc: 0.2000\n",
      "Train Prec: 0.788, Train Rec: 0.458, Test Prec: 0.000, Test Rec: 0.000\n",
      "Epoch: 014, Train Loss: 0.0724, Test Loss 0.3443, Train Acc: 0.7738, Test Acc: 0.5000\n",
      "Train Prec: 0.729, Train Rec: 0.895, Test Prec: 0.500, Test Rec: 0.500\n",
      "Epoch: 015, Train Loss: 0.0659, Test Loss 0.3636, Train Acc: 0.8571, Test Acc: 0.4000\n",
      "Train Prec: 0.876, Train Rec: 0.835, Test Prec: 0.400, Test Rec: 0.300\n",
      "Epoch: 016, Train Loss: 0.0666, Test Loss 0.3465, Train Acc: 0.7500, Test Acc: 0.8000\n",
      "Train Prec: 0.644, Train Rec: 0.977, Test Prec: 0.900, Test Rec: 0.900\n",
      "Epoch: 017, Train Loss: 0.0566, Test Loss 0.4635, Train Acc: 0.8214, Test Acc: 0.2000\n",
      "Train Prec: 0.886, Train Rec: 0.629, Test Prec: 0.000, Test Rec: 0.000\n",
      "Epoch: 018, Train Loss: 0.0595, Test Loss 0.3526, Train Acc: 0.7381, Test Acc: 0.8000\n",
      "Train Prec: 0.705, Train Rec: 0.970, Test Prec: 0.800, Test Rec: 0.800\n",
      "Epoch: 019, Train Loss: 0.0593, Test Loss 0.3846, Train Acc: 0.7857, Test Acc: 0.4000\n",
      "Train Prec: 0.701, Train Rec: 0.952, Test Prec: 0.400, Test Rec: 0.600\n",
      "3\n",
      "\n",
      "Epoch: 000, Train Loss: 0.0905, Test Loss 0.3499, Train Acc: 0.5476, Test Acc: 0.3000\n",
      "Train Prec: 0.182, Train Rec: 0.036, Test Prec: 0.000, Test Rec: 0.000\n",
      "Epoch: 001, Train Loss: 0.0899, Test Loss 0.3528, Train Acc: 0.5476, Test Acc: 0.3000\n",
      "Train Prec: 0.182, Train Rec: 0.048, Test Prec: 0.000, Test Rec: 0.000\n",
      "Epoch: 002, Train Loss: 0.0924, Test Loss 0.3309, Train Acc: 0.4762, Test Acc: 0.7000\n",
      "Train Prec: 0.477, Train Rec: 1.000, Test Prec: 0.700, Test Rec: 1.000\n",
      "Epoch: 003, Train Loss: 0.0908, Test Loss 0.3658, Train Acc: 0.5476, Test Acc: 0.3000\n",
      "Train Prec: 0.182, Train Rec: 0.053, Test Prec: 0.000, Test Rec: 0.000\n",
      "Epoch: 004, Train Loss: 0.0890, Test Loss 0.3553, Train Acc: 0.5476, Test Acc: 0.3000\n",
      "Train Prec: 0.182, Train Rec: 0.064, Test Prec: 0.000, Test Rec: 0.000\n",
      "Epoch: 005, Train Loss: 0.0885, Test Loss 0.3559, Train Acc: 0.5476, Test Acc: 0.3000\n",
      "Train Prec: 0.364, Train Rec: 0.082, Test Prec: 0.000, Test Rec: 0.000\n",
      "Epoch: 006, Train Loss: 0.0877, Test Loss 0.3477, Train Acc: 0.6667, Test Acc: 0.2000\n",
      "Train Prec: 0.833, Train Rec: 0.436, Test Prec: 0.000, Test Rec: 0.000\n",
      "Epoch: 007, Train Loss: 0.0874, Test Loss 0.3399, Train Acc: 0.6786, Test Acc: 0.9000\n",
      "Train Prec: 0.605, Train Rec: 0.847, Test Prec: 0.900, Test Rec: 1.000\n",
      "Epoch: 008, Train Loss: 0.0867, Test Loss 0.3515, Train Acc: 0.5952, Test Acc: 0.3000\n",
      "Train Prec: 0.470, Train Rec: 0.209, Test Prec: 0.000, Test Rec: 0.000\n",
      "Epoch: 009, Train Loss: 0.0854, Test Loss 0.3510, Train Acc: 0.6667, Test Acc: 0.3000\n",
      "Train Prec: 0.712, Train Rec: 0.380, Test Prec: 0.000, Test Rec: 0.000\n",
      "Epoch: 010, Train Loss: 0.0834, Test Loss 0.3333, Train Acc: 0.7024, Test Acc: 0.8000\n",
      "Train Prec: 0.725, Train Rec: 0.782, Test Prec: 0.800, Test Rec: 0.800\n",
      "Epoch: 011, Train Loss: 0.0836, Test Loss 0.3552, Train Acc: 0.6429, Test Acc: 0.3000\n",
      "Train Prec: 0.583, Train Rec: 0.426, Test Prec: 0.200, Test Rec: 0.200\n",
      "Epoch: 012, Train Loss: 0.0816, Test Loss 0.3382, Train Acc: 0.6786, Test Acc: 0.4000\n",
      "Train Prec: 0.691, Train Rec: 0.677, Test Prec: 0.400, Test Rec: 0.200\n",
      "Epoch: 013, Train Loss: 0.0809, Test Loss 0.3719, Train Acc: 0.6786, Test Acc: 0.2000\n",
      "Train Prec: 0.712, Train Rec: 0.365, Test Prec: 0.000, Test Rec: 0.000\n",
      "Epoch: 014, Train Loss: 0.0785, Test Loss 0.3322, Train Acc: 0.6667, Test Acc: 0.7000\n",
      "Train Prec: 0.574, Train Rec: 0.970, Test Prec: 0.700, Test Rec: 1.000\n",
      "Epoch: 015, Train Loss: 0.0759, Test Loss 0.4030, Train Acc: 0.6786, Test Acc: 0.2000\n",
      "Train Prec: 0.765, Train Rec: 0.338, Test Prec: 0.000, Test Rec: 0.000\n",
      "Epoch: 016, Train Loss: 0.0751, Test Loss 0.4240, Train Acc: 0.6905, Test Acc: 0.3000\n",
      "Train Prec: 0.818, Train Rec: 0.442, Test Prec: 0.000, Test Rec: 0.000\n",
      "Epoch: 017, Train Loss: 0.0695, Test Loss 0.3415, Train Acc: 0.7857, Test Acc: 0.5000\n",
      "Train Prec: 0.724, Train Rec: 0.792, Test Prec: 0.500, Test Rec: 0.500\n",
      "Epoch: 018, Train Loss: 0.0613, Test Loss 0.3431, Train Acc: 0.7738, Test Acc: 0.5000\n",
      "Train Prec: 0.759, Train Rec: 0.877, Test Prec: 0.500, Test Rec: 0.400\n",
      "Epoch: 019, Train Loss: 0.0785, Test Loss 0.3732, Train Acc: 0.5833, Test Acc: 0.7000\n",
      "Train Prec: 0.523, Train Rec: 1.000, Test Prec: 0.700, Test Rec: 0.800\n",
      "4\n",
      "\n",
      "Epoch: 000, Train Loss: 0.0900, Test Loss 0.3598, Train Acc: 0.5238, Test Acc: 0.3000\n",
      "Train Prec: 0.000, Train Rec: 0.000, Test Prec: 0.000, Test Rec: 0.000\n",
      "Epoch: 001, Train Loss: 0.0896, Test Loss 0.3519, Train Acc: 0.5714, Test Acc: 0.3000\n",
      "Train Prec: 0.273, Train Rec: 0.083, Test Prec: 0.000, Test Rec: 0.000\n",
      "Epoch: 002, Train Loss: 0.0894, Test Loss 0.3483, Train Acc: 0.6786, Test Acc: 0.6000\n",
      "Train Prec: 0.614, Train Rec: 0.636, Test Prec: 0.700, Test Rec: 0.700\n",
      "Epoch: 003, Train Loss: 0.0890, Test Loss 0.3573, Train Acc: 0.5357, Test Acc: 0.3000\n",
      "Train Prec: 0.091, Train Rec: 0.015, Test Prec: 0.000, Test Rec: 0.000\n",
      "Epoch: 004, Train Loss: 0.0890, Test Loss 0.3550, Train Acc: 0.5476, Test Acc: 0.3000\n",
      "Train Prec: 0.182, Train Rec: 0.033, Test Prec: 0.000, Test Rec: 0.000\n",
      "Epoch: 005, Train Loss: 0.0889, Test Loss 0.3407, Train Acc: 0.5714, Test Acc: 0.5000\n",
      "Train Prec: 0.512, Train Rec: 1.000, Test Prec: 0.600, Test Rec: 0.700\n",
      "Epoch: 006, Train Loss: 0.0877, Test Loss 0.3579, Train Acc: 0.5595, Test Acc: 0.3000\n",
      "Train Prec: 0.273, Train Rec: 0.076, Test Prec: 0.000, Test Rec: 0.000\n",
      "Epoch: 007, Train Loss: 0.0873, Test Loss 0.3413, Train Acc: 0.6905, Test Acc: 0.7000\n",
      "Train Prec: 0.672, Train Rec: 0.886, Test Prec: 0.900, Test Rec: 0.800\n",
      "Epoch: 008, Train Loss: 0.0859, Test Loss 0.3567, Train Acc: 0.5952, Test Acc: 0.3000\n",
      "Train Prec: 0.515, Train Rec: 0.211, Test Prec: 0.000, Test Rec: 0.000\n",
      "Epoch: 009, Train Loss: 0.0830, Test Loss 0.3274, Train Acc: 0.6786, Test Acc: 0.6000\n",
      "Train Prec: 0.612, Train Rec: 0.939, Test Prec: 0.600, Test Rec: 0.700\n",
      "Epoch: 010, Train Loss: 0.0903, Test Loss 0.3834, Train Acc: 0.5357, Test Acc: 0.3000\n",
      "Train Prec: 0.091, Train Rec: 0.015, Test Prec: 0.000, Test Rec: 0.000\n",
      "Epoch: 011, Train Loss: 0.0868, Test Loss 0.3453, Train Acc: 0.7619, Test Acc: 0.6000\n",
      "Train Prec: 0.761, Train Rec: 0.827, Test Prec: 0.500, Test Rec: 0.500\n",
      "Epoch: 012, Train Loss: 0.0853, Test Loss 0.3496, Train Acc: 0.7024, Test Acc: 0.2000\n",
      "Train Prec: 0.818, Train Rec: 0.461, Test Prec: 0.000, Test Rec: 0.000\n",
      "Epoch: 013, Train Loss: 0.0831, Test Loss 0.3397, Train Acc: 0.7262, Test Acc: 0.8000\n",
      "Train Prec: 0.626, Train Rec: 0.924, Test Prec: 0.900, Test Rec: 0.900\n",
      "Epoch: 014, Train Loss: 0.0785, Test Loss 0.3425, Train Acc: 0.7976, Test Acc: 0.6000\n",
      "Train Prec: 0.803, Train Rec: 0.832, Test Prec: 0.500, Test Rec: 0.500\n",
      "Epoch: 015, Train Loss: 0.0718, Test Loss 0.3241, Train Acc: 0.7738, Test Acc: 0.6000\n",
      "Train Prec: 0.715, Train Rec: 0.830, Test Prec: 0.700, Test Rec: 0.600\n",
      "Epoch: 016, Train Loss: 0.0765, Test Loss 0.4148, Train Acc: 0.7024, Test Acc: 0.3000\n",
      "Train Prec: 0.939, Train Rec: 0.517, Test Prec: 0.000, Test Rec: 0.000\n",
      "Epoch: 017, Train Loss: 0.0634, Test Loss 0.3413, Train Acc: 0.8690, Test Acc: 0.6000\n",
      "Train Prec: 0.906, Train Rec: 0.827, Test Prec: 0.800, Test Rec: 0.500\n",
      "Epoch: 018, Train Loss: 0.0621, Test Loss 0.3215, Train Acc: 0.7381, Test Acc: 0.7000\n",
      "Train Prec: 0.664, Train Rec: 0.955, Test Prec: 0.600, Test Rec: 0.800\n",
      "Epoch: 019, Train Loss: 0.0530, Test Loss 0.3635, Train Acc: 0.8810, Test Acc: 0.4000\n",
      "Train Prec: 0.926, Train Rec: 0.817, Test Prec: 0.400, Test Rec: 0.200\n",
      "5\n",
      "\n",
      "Epoch: 000, Train Loss: 0.0903, Test Loss 0.3450, Train Acc: 0.5714, Test Acc: 0.5000\n",
      "Train Prec: 0.621, Train Rec: 0.223, Test Prec: 0.400, Test Rec: 0.400\n",
      "Epoch: 001, Train Loss: 0.0908, Test Loss 0.3337, Train Acc: 0.4762, Test Acc: 0.8000\n",
      "Train Prec: 0.479, Train Rec: 0.982, Test Prec: 0.700, Test Rec: 0.800\n",
      "Epoch: 002, Train Loss: 0.0900, Test Loss 0.3460, Train Acc: 0.5833, Test Acc: 0.5000\n",
      "Train Prec: 0.545, Train Rec: 0.192, Test Prec: 0.400, Test Rec: 0.300\n",
      "Epoch: 003, Train Loss: 0.0902, Test Loss 0.3562, Train Acc: 0.5476, Test Acc: 0.3000\n",
      "Train Prec: 0.182, Train Rec: 0.053, Test Prec: 0.000, Test Rec: 0.000\n",
      "Epoch: 004, Train Loss: 0.0890, Test Loss 0.3549, Train Acc: 0.5595, Test Acc: 0.3000\n",
      "Train Prec: 0.273, Train Rec: 0.064, Test Prec: 0.000, Test Rec: 0.000\n",
      "Epoch: 005, Train Loss: 0.0897, Test Loss 0.3331, Train Acc: 0.5119, Test Acc: 0.9000\n",
      "Train Prec: 0.508, Train Rec: 0.982, Test Prec: 0.900, Test Rec: 1.000\n",
      "Epoch: 006, Train Loss: 0.0897, Test Loss 0.3347, Train Acc: 0.5357, Test Acc: 0.9000\n",
      "Train Prec: 0.492, Train Rec: 0.902, Test Prec: 0.900, Test Rec: 1.000\n",
      "Epoch: 007, Train Loss: 0.0893, Test Loss 0.3463, Train Acc: 0.6190, Test Acc: 0.4000\n",
      "Train Prec: 0.561, Train Rec: 0.315, Test Prec: 0.200, Test Rec: 0.200\n",
      "Epoch: 008, Train Loss: 0.0886, Test Loss 0.3438, Train Acc: 0.6667, Test Acc: 0.4000\n",
      "Train Prec: 0.583, Train Rec: 0.365, Test Prec: 0.200, Test Rec: 0.200\n",
      "Epoch: 009, Train Loss: 0.0878, Test Loss 0.3457, Train Acc: 0.6667, Test Acc: 0.4000\n",
      "Train Prec: 0.633, Train Rec: 0.359, Test Prec: 0.300, Test Rec: 0.400\n",
      "Epoch: 010, Train Loss: 0.0865, Test Loss 0.3400, Train Acc: 0.6190, Test Acc: 0.6000\n",
      "Train Prec: 0.520, Train Rec: 0.542, Test Prec: 0.700, Test Rec: 0.600\n",
      "Epoch: 011, Train Loss: 0.0850, Test Loss 0.3542, Train Acc: 0.6071, Test Acc: 0.4000\n",
      "Train Prec: 0.591, Train Rec: 0.424, Test Prec: 0.400, Test Rec: 0.300\n",
      "Epoch: 012, Train Loss: 0.0845, Test Loss 0.3374, Train Acc: 0.6786, Test Acc: 0.9000\n",
      "Train Prec: 0.610, Train Rec: 0.791, Test Prec: 0.900, Test Rec: 1.000\n",
      "Epoch: 013, Train Loss: 0.0813, Test Loss 0.3562, Train Acc: 0.6667, Test Acc: 0.2000\n",
      "Train Prec: 0.727, Train Rec: 0.365, Test Prec: 0.000, Test Rec: 0.000\n",
      "Epoch: 014, Train Loss: 0.0784, Test Loss 0.3720, Train Acc: 0.6667, Test Acc: 0.3000\n",
      "Train Prec: 0.664, Train Rec: 0.433, Test Prec: 0.200, Test Rec: 0.100\n",
      "Epoch: 015, Train Loss: 0.0769, Test Loss 0.3790, Train Acc: 0.6786, Test Acc: 0.3000\n",
      "Train Prec: 0.818, Train Rec: 0.493, Test Prec: 0.000, Test Rec: 0.000\n",
      "Epoch: 016, Train Loss: 0.0718, Test Loss 0.4023, Train Acc: 0.7262, Test Acc: 0.2000\n",
      "Train Prec: 0.795, Train Rec: 0.462, Test Prec: 0.000, Test Rec: 0.000\n",
      "Epoch: 017, Train Loss: 0.0702, Test Loss 0.4143, Train Acc: 0.7262, Test Acc: 0.2000\n",
      "Train Prec: 0.750, Train Rec: 0.402, Test Prec: 0.000, Test Rec: 0.000\n",
      "Epoch: 018, Train Loss: 0.0730, Test Loss 0.4670, Train Acc: 0.6905, Test Acc: 0.2000\n",
      "Train Prec: 0.970, Train Rec: 0.436, Test Prec: 0.000, Test Rec: 0.000\n",
      "Epoch: 019, Train Loss: 0.0647, Test Loss 0.4341, Train Acc: 0.7738, Test Acc: 0.2000\n",
      "Train Prec: 0.947, Train Rec: 0.586, Test Prec: 0.000, Test Rec: 0.000\n",
      "6\n",
      "\n",
      "Epoch: 000, Train Loss: 0.0902, Test Loss 0.3541, Train Acc: 0.5357, Test Acc: 0.3000\n",
      "Train Prec: 0.091, Train Rec: 0.015, Test Prec: 0.000, Test Rec: 0.000\n",
      "Epoch: 001, Train Loss: 0.0897, Test Loss 0.3509, Train Acc: 0.5357, Test Acc: 0.3000\n",
      "Train Prec: 0.182, Train Rec: 0.048, Test Prec: 0.000, Test Rec: 0.000\n",
      "Epoch: 002, Train Loss: 0.0892, Test Loss 0.3478, Train Acc: 0.5833, Test Acc: 0.3000\n",
      "Train Prec: 0.455, Train Rec: 0.118, Test Prec: 0.000, Test Rec: 0.000\n",
      "Epoch: 003, Train Loss: 0.0894, Test Loss 0.3518, Train Acc: 0.5357, Test Acc: 0.3000\n",
      "Train Prec: 0.136, Train Rec: 0.048, Test Prec: 0.000, Test Rec: 0.000\n",
      "Epoch: 004, Train Loss: 0.0879, Test Loss 0.3472, Train Acc: 0.6429, Test Acc: 0.3000\n",
      "Train Prec: 0.758, Train Rec: 0.308, Test Prec: 0.000, Test Rec: 0.000\n",
      "Epoch: 005, Train Loss: 0.0890, Test Loss 0.3641, Train Acc: 0.5476, Test Acc: 0.3000\n",
      "Train Prec: 0.182, Train Rec: 0.053, Test Prec: 0.000, Test Rec: 0.000\n",
      "Epoch: 006, Train Loss: 0.0881, Test Loss 0.3309, Train Acc: 0.5833, Test Acc: 0.7000\n",
      "Train Prec: 0.527, Train Rec: 1.000, Test Prec: 0.700, Test Rec: 0.800\n",
      "Epoch: 007, Train Loss: 0.0861, Test Loss 0.3329, Train Acc: 0.6905, Test Acc: 0.9000\n",
      "Train Prec: 0.597, Train Rec: 0.911, Test Prec: 0.900, Test Rec: 1.000\n",
      "Epoch: 008, Train Loss: 0.0865, Test Loss 0.3582, Train Acc: 0.6429, Test Acc: 0.3000\n",
      "Train Prec: 0.568, Train Rec: 0.223, Test Prec: 0.000, Test Rec: 0.000\n",
      "Epoch: 009, Train Loss: 0.0879, Test Loss 0.3729, Train Acc: 0.5476, Test Acc: 0.3000\n",
      "Train Prec: 0.091, Train Rec: 0.045, Test Prec: 0.000, Test Rec: 0.000\n",
      "Epoch: 010, Train Loss: 0.0857, Test Loss 0.3446, Train Acc: 0.7262, Test Acc: 0.3000\n",
      "Train Prec: 0.789, Train Rec: 0.645, Test Prec: 0.200, Test Rec: 0.200\n",
      "Epoch: 011, Train Loss: 0.0863, Test Loss 0.3165, Train Acc: 0.5000, Test Acc: 0.7000\n",
      "Train Prec: 0.487, Train Rec: 0.909, Test Prec: 0.700, Test Rec: 1.000\n",
      "Epoch: 012, Train Loss: 0.0843, Test Loss 0.3893, Train Acc: 0.5833, Test Acc: 0.3000\n",
      "Train Prec: 0.455, Train Rec: 0.124, Test Prec: 0.000, Test Rec: 0.000\n",
      "Epoch: 013, Train Loss: 0.0779, Test Loss 0.3630, Train Acc: 0.7262, Test Acc: 0.3000\n",
      "Train Prec: 0.848, Train Rec: 0.530, Test Prec: 0.000, Test Rec: 0.000\n",
      "Epoch: 014, Train Loss: 0.0753, Test Loss 0.3519, Train Acc: 0.7381, Test Acc: 0.3000\n",
      "Train Prec: 0.811, Train Rec: 0.620, Test Prec: 0.200, Test Rec: 0.100\n",
      "Epoch: 015, Train Loss: 0.1135, Test Loss 0.6480, Train Acc: 0.5595, Test Acc: 0.3000\n",
      "Train Prec: 0.182, Train Rec: 0.053, Test Prec: 0.000, Test Rec: 0.000\n",
      "Epoch: 016, Train Loss: 0.0824, Test Loss 0.3232, Train Acc: 0.5357, Test Acc: 0.7000\n",
      "Train Prec: 0.510, Train Rec: 1.000, Test Prec: 0.700, Test Rec: 1.000\n",
      "Epoch: 017, Train Loss: 0.0767, Test Loss 0.3532, Train Acc: 0.7262, Test Acc: 0.2000\n",
      "Train Prec: 0.803, Train Rec: 0.580, Test Prec: 0.000, Test Rec: 0.000\n",
      "Epoch: 018, Train Loss: 0.0743, Test Loss 0.3097, Train Acc: 0.6786, Test Acc: 0.7000\n",
      "Train Prec: 0.597, Train Rec: 1.000, Test Prec: 0.700, Test Rec: 0.800\n",
      "Epoch: 019, Train Loss: 0.0658, Test Loss 0.3191, Train Acc: 0.7738, Test Acc: 0.6000\n",
      "Train Prec: 0.737, Train Rec: 0.923, Test Prec: 0.600, Test Rec: 0.500\n",
      "7\n",
      "\n",
      "Epoch: 000, Train Loss: 0.0900, Test Loss 0.3700, Train Acc: 0.5238, Test Acc: 0.3000\n",
      "Train Prec: 0.000, Train Rec: 0.000, Test Prec: 0.000, Test Rec: 0.000\n",
      "Epoch: 001, Train Loss: 0.0902, Test Loss 0.3502, Train Acc: 0.5714, Test Acc: 0.3000\n",
      "Train Prec: 0.614, Train Rec: 0.436, Test Prec: 0.200, Test Rec: 0.200\n",
      "Epoch: 002, Train Loss: 0.0897, Test Loss 0.3499, Train Acc: 0.6310, Test Acc: 0.3000\n",
      "Train Prec: 0.583, Train Rec: 0.439, Test Prec: 0.300, Test Rec: 0.300\n",
      "Epoch: 003, Train Loss: 0.0884, Test Loss 0.3524, Train Acc: 0.6429, Test Acc: 0.4000\n",
      "Train Prec: 0.606, Train Rec: 0.273, Test Prec: 0.200, Test Rec: 0.200\n",
      "Epoch: 004, Train Loss: 0.0868, Test Loss 0.3485, Train Acc: 0.7857, Test Acc: 0.4000\n",
      "Train Prec: 0.864, Train Rec: 0.585, Test Prec: 0.200, Test Rec: 0.100\n",
      "Epoch: 005, Train Loss: 0.0884, Test Loss 0.3679, Train Acc: 0.5476, Test Acc: 0.3000\n",
      "Train Prec: 0.182, Train Rec: 0.033, Test Prec: 0.000, Test Rec: 0.000\n",
      "Epoch: 006, Train Loss: 0.0847, Test Loss 0.3417, Train Acc: 0.7976, Test Acc: 0.6000\n",
      "Train Prec: 0.729, Train Rec: 0.706, Test Prec: 0.400, Test Rec: 0.400\n",
      "Epoch: 007, Train Loss: 0.0810, Test Loss 0.3241, Train Acc: 0.6905, Test Acc: 0.8000\n",
      "Train Prec: 0.617, Train Rec: 0.789, Test Prec: 0.700, Test Rec: 0.800\n",
      "Epoch: 008, Train Loss: 0.0807, Test Loss 0.3606, Train Acc: 0.7619, Test Acc: 0.2000\n",
      "Train Prec: 0.833, Train Rec: 0.580, Test Prec: 0.000, Test Rec: 0.000\n",
      "Epoch: 009, Train Loss: 0.0797, Test Loss 0.3122, Train Acc: 0.5714, Test Acc: 0.7000\n",
      "Train Prec: 0.529, Train Rec: 1.000, Test Prec: 0.700, Test Rec: 1.000\n",
      "Epoch: 010, Train Loss: 0.0794, Test Loss 0.4058, Train Acc: 0.6429, Test Acc: 0.3000\n",
      "Train Prec: 0.697, Train Rec: 0.276, Test Prec: 0.000, Test Rec: 0.000\n",
      "Epoch: 011, Train Loss: 0.0750, Test Loss 0.3951, Train Acc: 0.7500, Test Acc: 0.3000\n",
      "Train Prec: 0.864, Train Rec: 0.470, Test Prec: 0.000, Test Rec: 0.000\n",
      "Epoch: 012, Train Loss: 0.0955, Test Loss 0.4970, Train Acc: 0.5476, Test Acc: 0.3000\n",
      "Train Prec: 0.182, Train Rec: 0.033, Test Prec: 0.000, Test Rec: 0.000\n",
      "Epoch: 013, Train Loss: 0.0835, Test Loss 0.3738, Train Acc: 0.6429, Test Acc: 0.3000\n",
      "Train Prec: 0.606, Train Rec: 0.453, Test Prec: 0.200, Test Rec: 0.100\n",
      "Epoch: 014, Train Loss: 0.0792, Test Loss 0.3738, Train Acc: 0.7262, Test Acc: 0.2000\n",
      "Train Prec: 0.891, Train Rec: 0.585, Test Prec: 0.000, Test Rec: 0.000\n",
      "Epoch: 015, Train Loss: 0.0727, Test Loss 0.3440, Train Acc: 0.8095, Test Acc: 0.5000\n",
      "Train Prec: 0.879, Train Rec: 0.691, Test Prec: 0.400, Test Rec: 0.300\n",
      "Epoch: 016, Train Loss: 0.0782, Test Loss 0.3161, Train Acc: 0.5238, Test Acc: 0.7000\n",
      "Train Prec: 0.510, Train Rec: 1.000, Test Prec: 0.700, Test Rec: 1.000\n",
      "Epoch: 017, Train Loss: 0.0643, Test Loss 0.3319, Train Acc: 0.8214, Test Acc: 0.6000\n",
      "Train Prec: 0.850, Train Rec: 0.773, Test Prec: 0.700, Test Rec: 0.600\n",
      "Epoch: 018, Train Loss: 0.0672, Test Loss 0.4230, Train Acc: 0.7738, Test Acc: 0.2000\n",
      "Train Prec: 0.864, Train Rec: 0.546, Test Prec: 0.000, Test Rec: 0.000\n",
      "Epoch: 019, Train Loss: 0.0785, Test Loss 0.4756, Train Acc: 0.6905, Test Acc: 0.3000\n",
      "Train Prec: 0.773, Train Rec: 0.377, Test Prec: 0.000, Test Rec: 0.000\n",
      "8\n",
      "\n",
      "Epoch: 000, Train Loss: 0.0906, Test Loss 0.3667, Train Acc: 0.5238, Test Acc: 0.3000\n",
      "Train Prec: 0.000, Train Rec: 0.000, Test Prec: 0.000, Test Rec: 0.000\n",
      "Epoch: 001, Train Loss: 0.0905, Test Loss 0.3464, Train Acc: 0.6190, Test Acc: 0.4000\n",
      "Train Prec: 0.629, Train Rec: 0.347, Test Prec: 0.200, Test Rec: 0.200\n",
      "Epoch: 002, Train Loss: 0.0902, Test Loss 0.3482, Train Acc: 0.5714, Test Acc: 0.3000\n",
      "Train Prec: 0.455, Train Rec: 0.127, Test Prec: 0.000, Test Rec: 0.000\n",
      "Epoch: 003, Train Loss: 0.0903, Test Loss 0.3448, Train Acc: 0.4762, Test Acc: 0.6000\n",
      "Train Prec: 0.464, Train Rec: 0.982, Test Prec: 0.600, Test Rec: 0.800\n",
      "Epoch: 004, Train Loss: 0.0893, Test Loss 0.3520, Train Acc: 0.5714, Test Acc: 0.3000\n",
      "Train Prec: 0.364, Train Rec: 0.106, Test Prec: 0.000, Test Rec: 0.000\n",
      "Epoch: 005, Train Loss: 0.0887, Test Loss 0.3603, Train Acc: 0.5357, Test Acc: 0.3000\n",
      "Train Prec: 0.182, Train Rec: 0.068, Test Prec: 0.000, Test Rec: 0.000\n",
      "Epoch: 006, Train Loss: 0.0887, Test Loss 0.3489, Train Acc: 0.6071, Test Acc: 0.3000\n",
      "Train Prec: 0.523, Train Rec: 0.371, Test Prec: 0.200, Test Rec: 0.200\n",
      "Epoch: 007, Train Loss: 0.0884, Test Loss 0.3698, Train Acc: 0.5595, Test Acc: 0.3000\n",
      "Train Prec: 0.273, Train Rec: 0.068, Test Prec: 0.000, Test Rec: 0.000\n",
      "Epoch: 008, Train Loss: 0.0857, Test Loss 0.3325, Train Acc: 0.5952, Test Acc: 0.9000\n",
      "Train Prec: 0.563, Train Rec: 0.932, Test Prec: 0.900, Test Rec: 1.000\n",
      "Epoch: 009, Train Loss: 0.0833, Test Loss 0.3236, Train Acc: 0.6905, Test Acc: 0.9000\n",
      "Train Prec: 0.602, Train Rec: 0.941, Test Prec: 0.900, Test Rec: 1.000\n",
      "Epoch: 010, Train Loss: 0.0806, Test Loss 0.3357, Train Acc: 0.7024, Test Acc: 0.6000\n",
      "Train Prec: 0.676, Train Rec: 0.668, Test Prec: 0.700, Test Rec: 0.500\n",
      "Epoch: 011, Train Loss: 0.0861, Test Loss 0.4040, Train Acc: 0.6429, Test Acc: 0.3000\n",
      "Train Prec: 0.682, Train Rec: 0.311, Test Prec: 0.000, Test Rec: 0.000\n",
      "Epoch: 012, Train Loss: 0.0841, Test Loss 0.3679, Train Acc: 0.5952, Test Acc: 0.4000\n",
      "Train Prec: 0.477, Train Rec: 0.350, Test Prec: 0.400, Test Rec: 0.200\n",
      "Epoch: 013, Train Loss: 0.0812, Test Loss 0.3765, Train Acc: 0.6548, Test Acc: 0.2000\n",
      "Train Prec: 0.727, Train Rec: 0.300, Test Prec: 0.000, Test Rec: 0.000\n",
      "Epoch: 014, Train Loss: 0.0757, Test Loss 0.3671, Train Acc: 0.7262, Test Acc: 0.2000\n",
      "Train Prec: 0.727, Train Rec: 0.553, Test Prec: 0.000, Test Rec: 0.000\n",
      "Epoch: 015, Train Loss: 0.0735, Test Loss 0.3288, Train Acc: 0.6905, Test Acc: 0.9000\n",
      "Train Prec: 0.571, Train Rec: 0.955, Test Prec: 0.700, Test Rec: 0.800\n",
      "Epoch: 016, Train Loss: 0.0695, Test Loss 0.3369, Train Acc: 0.7500, Test Acc: 0.7000\n",
      "Train Prec: 0.656, Train Rec: 0.864, Test Prec: 0.900, Test Rec: 0.800\n",
      "Epoch: 017, Train Loss: 0.0692, Test Loss 0.4233, Train Acc: 0.7381, Test Acc: 0.2000\n",
      "Train Prec: 0.848, Train Rec: 0.459, Test Prec: 0.000, Test Rec: 0.000\n",
      "Epoch: 018, Train Loss: 0.0611, Test Loss 0.3731, Train Acc: 0.8452, Test Acc: 0.3000\n",
      "Train Prec: 0.815, Train Rec: 0.680, Test Prec: 0.200, Test Rec: 0.200\n",
      "Epoch: 019, Train Loss: 0.0585, Test Loss 0.3353, Train Acc: 0.8095, Test Acc: 0.6000\n",
      "Train Prec: 0.777, Train Rec: 0.939, Test Prec: 0.500, Test Rec: 0.500\n",
      "9\n",
      "\n",
      "Epoch: 000, Train Loss: 0.0908, Test Loss 0.3576, Train Acc: 0.5119, Test Acc: 0.2000\n",
      "Train Prec: 0.000, Train Rec: 0.000, Test Prec: 0.000, Test Rec: 0.000\n",
      "Epoch: 001, Train Loss: 0.0907, Test Loss 0.3530, Train Acc: 0.5357, Test Acc: 0.2000\n",
      "Train Prec: 0.273, Train Rec: 0.070, Test Prec: 0.100, Test Rec: 0.200\n",
      "Epoch: 002, Train Loss: 0.0904, Test Loss 0.3550, Train Acc: 0.5238, Test Acc: 0.3000\n",
      "Train Prec: 0.000, Train Rec: 0.000, Test Prec: 0.000, Test Rec: 0.000\n",
      "Epoch: 003, Train Loss: 0.0902, Test Loss 0.3542, Train Acc: 0.5238, Test Acc: 0.3000\n",
      "Train Prec: 0.091, Train Rec: 0.030, Test Prec: 0.000, Test Rec: 0.000\n",
      "Epoch: 004, Train Loss: 0.0900, Test Loss 0.3539, Train Acc: 0.5595, Test Acc: 0.3000\n",
      "Train Prec: 0.364, Train Rec: 0.089, Test Prec: 0.200, Test Rec: 0.200\n",
      "Epoch: 005, Train Loss: 0.0897, Test Loss 0.3673, Train Acc: 0.5476, Test Acc: 0.3000\n",
      "Train Prec: 0.182, Train Rec: 0.041, Test Prec: 0.000, Test Rec: 0.000\n",
      "Epoch: 006, Train Loss: 0.0885, Test Loss 0.3604, Train Acc: 0.5595, Test Acc: 0.3000\n",
      "Train Prec: 0.273, Train Rec: 0.068, Test Prec: 0.000, Test Rec: 0.000\n",
      "Epoch: 007, Train Loss: 0.0877, Test Loss 0.3585, Train Acc: 0.5833, Test Acc: 0.3000\n",
      "Train Prec: 0.636, Train Rec: 0.161, Test Prec: 0.000, Test Rec: 0.000\n",
      "Epoch: 008, Train Loss: 0.0859, Test Loss 0.3581, Train Acc: 0.6429, Test Acc: 0.3000\n",
      "Train Prec: 0.727, Train Rec: 0.310, Test Prec: 0.000, Test Rec: 0.000\n",
      "Epoch: 009, Train Loss: 0.0872, Test Loss 0.3914, Train Acc: 0.5595, Test Acc: 0.3000\n",
      "Train Prec: 0.273, Train Rec: 0.083, Test Prec: 0.000, Test Rec: 0.000\n",
      "Epoch: 010, Train Loss: 0.0855, Test Loss 0.3485, Train Acc: 0.7381, Test Acc: 0.3000\n",
      "Train Prec: 0.711, Train Rec: 0.645, Test Prec: 0.200, Test Rec: 0.100\n",
      "Epoch: 011, Train Loss: 0.0835, Test Loss 0.3450, Train Acc: 0.7619, Test Acc: 0.6000\n",
      "Train Prec: 0.730, Train Rec: 0.806, Test Prec: 0.600, Test Rec: 0.500\n",
      "Epoch: 012, Train Loss: 0.0856, Test Loss 0.3907, Train Acc: 0.5714, Test Acc: 0.3000\n",
      "Train Prec: 0.318, Train Rec: 0.117, Test Prec: 0.000, Test Rec: 0.000\n",
      "Epoch: 013, Train Loss: 0.0835, Test Loss 0.3411, Train Acc: 0.7500, Test Acc: 0.6000\n",
      "Train Prec: 0.710, Train Rec: 0.902, Test Prec: 0.700, Test Rec: 0.700\n",
      "Epoch: 014, Train Loss: 0.0803, Test Loss 0.3468, Train Acc: 0.8452, Test Acc: 0.4000\n",
      "Train Prec: 0.803, Train Rec: 0.709, Test Prec: 0.400, Test Rec: 0.300\n",
      "Epoch: 015, Train Loss: 0.0794, Test Loss 0.3888, Train Acc: 0.6667, Test Acc: 0.2000\n",
      "Train Prec: 0.818, Train Rec: 0.379, Test Prec: 0.000, Test Rec: 0.000\n",
      "Epoch: 016, Train Loss: 0.0739, Test Loss 0.3564, Train Acc: 0.8452, Test Acc: 0.3000\n",
      "Train Prec: 0.891, Train Rec: 0.788, Test Prec: 0.200, Test Rec: 0.100\n",
      "Epoch: 017, Train Loss: 0.0797, Test Loss 0.3399, Train Acc: 0.5952, Test Acc: 0.6000\n",
      "Train Prec: 0.525, Train Rec: 0.982, Test Prec: 0.700, Test Rec: 0.900\n",
      "Epoch: 018, Train Loss: 0.0697, Test Loss 0.3842, Train Acc: 0.8095, Test Acc: 0.2000\n",
      "Train Prec: 0.864, Train Rec: 0.629, Test Prec: 0.000, Test Rec: 0.000\n",
      "Epoch: 019, Train Loss: 0.0683, Test Loss 0.3634, Train Acc: 0.7381, Test Acc: 0.5000\n",
      "Train Prec: 0.682, Train Rec: 0.964, Test Prec: 0.700, Test Rec: 0.600\n"
     ]
    }
   ],
   "source": [
    "from sklearn.model_selection import StratifiedKFold\n",
    "\n",
    "skf = StratifiedKFold(n_splits=10, shuffle=True)\n",
    "eval_metrics = np.zeros((skf.n_splits, 3))\n",
    "\n",
    "labels = [full_dataset[i].y for i in range(len(full_dataset))]\n",
    "\n",
    "for n_fold, (train_idx, test_idx) in enumerate(skf.split(labels, labels)):\n",
    "    model = GCN(full_dataset.num_features, 2, channels=[256, 32, 32], dropout=0.2)\n",
    "    optimizer = torch.optim.Adam(model.parameters(), lr=0.001)\n",
    "    criterion = torch.nn.CrossEntropyLoss()\n",
    "\n",
    "    train_loader_ = DataLoader(full_dataset[list(train_idx)], batch_size=8, shuffle=True)\n",
    "    test_loader_ = DataLoader(full_dataset[list(test_idx)], batch_size=8, shuffle=True)\n",
    "    min_v_loss = np.inf\n",
    "    print(n_fold)\n",
    "    print()\n",
    "    for epoch in range(20):\n",
    "        train_epoch(train_loader, model, criterion, optimizer)\n",
    "        train_loss, train_acc, train_pr, train_rc = eval_epoch(train_loader, model, criterion)\n",
    "        val_loss, test_acc, val_pr, val_rc = eval_epoch(val_loader, model, criterion)\n",
    "        print(f'Epoch: {epoch:03d}, Train Loss: {train_loss:.4f}, Test Loss {val_loss:.4f}, Train Acc: {train_acc:.4f}, Test Acc: {test_acc:.4f}')\n",
    "        print(f'Train Prec: {train_pr:.3f}, Train Rec: {train_rc:.3f}, Test Prec: {val_pr:.3f}, Test Rec: {val_rc:.3f}')\n",
    "        if min_v_loss > val_loss:\n",
    "            min_v_loss = val_loss\n",
    "            best_test_acc = test_acc\n",
    "            best_pr = val_pr\n",
    "            best_rc = val_rc\n",
    "\n",
    "    eval_metrics[n_fold, 0] = val_pr\n",
    "    eval_metrics[n_fold, 1] = val_rc\n",
    "    eval_metrics[n_fold, 2] = best_test_acc"
   ],
   "metadata": {
    "collapsed": false,
    "pycharm": {
     "name": "#%%\n"
    }
   }
  },
  {
   "cell_type": "code",
   "execution_count": 49,
   "outputs": [
    {
     "data": {
      "text/plain": "array([[0.7, 1. , 0.7],\n       [0.2, 0.1, 0.7],\n       [0.4, 0.6, 0.7],\n       [0.7, 0.8, 0.7],\n       [0.4, 0.2, 0.7],\n       [0. , 0. , 0.9],\n       [0.6, 0.5, 0.7],\n       [0. , 0. , 0.7],\n       [0.5, 0.5, 0.9],\n       [0.7, 0.6, 0.6]])"
     },
     "execution_count": 49,
     "metadata": {},
     "output_type": "execute_result"
    }
   ],
   "source": [
    "eval_metrics"
   ],
   "metadata": {
    "collapsed": false,
    "pycharm": {
     "name": "#%%\n"
    }
   }
  },
  {
   "cell_type": "code",
   "execution_count": null,
   "outputs": [],
   "source": [],
   "metadata": {
    "collapsed": false,
    "pycharm": {
     "name": "#%%\n"
    }
   }
  }
 ],
 "metadata": {
  "kernelspec": {
   "display_name": "Python 3",
   "language": "python",
   "name": "python3"
  },
  "language_info": {
   "codemirror_mode": {
    "name": "ipython",
    "version": 2
   },
   "file_extension": ".py",
   "mimetype": "text/x-python",
   "name": "python",
   "nbconvert_exporter": "python",
   "pygments_lexer": "ipython2",
   "version": "2.7.6"
  }
 },
 "nbformat": 4,
 "nbformat_minor": 0
}