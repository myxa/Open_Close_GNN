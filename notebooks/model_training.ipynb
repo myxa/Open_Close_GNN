{
 "cells": [
  {
   "cell_type": "code",
   "execution_count": 1,
   "metadata": {},
   "outputs": [
    {
     "name": "stdout",
     "output_type": "stream",
     "text": [
      "Python 3.7.16 (default, Jan 17 2023, 16:06:28) [MSC v.1916 64 bit (AMD64)] on win32\n"
     ]
    }
   ],
   "source": [
    "import sys; print('Python %s on %s' % (sys.version, sys.platform))\n",
    "sys.path.extend(['C:\\\\Users\\\\user\\\\PycharmProjects\\\\Open_Close_GNN'])"
   ]
  },
  {
   "cell_type": "code",
   "execution_count": 2,
   "metadata": {
    "collapsed": true,
    "pycharm": {
     "is_executing": true
    }
   },
   "outputs": [],
   "source": [
    "from model.dataset import OpenCloseDataset\n",
    "from model.gnn_model import GCN, GATv2\n",
    "import os\n",
    "from model.utils import train, device, train_epoch, eval_epoch, cross_val\n",
    "import torch\n",
    "import numpy as np\n",
    "import matplotlib.pyplot as plt\n",
    "from torch.optim import lr_scheduler\n",
    "from torch_geometric.loader import DataLoader\n",
    "\n",
    "from seaborn import heatmap"
   ]
  },
  {
   "cell_type": "code",
   "execution_count": 4,
   "metadata": {
    "collapsed": false,
    "pycharm": {
     "is_executing": true
    }
   },
   "outputs": [
    {
     "name": "stderr",
     "output_type": "stream",
     "text": [
      "Processing...\n",
      "Done!\n"
     ]
    },
    {
     "data": {
      "text/plain": [
       "170"
      ]
     },
     "execution_count": 4,
     "metadata": {},
     "output_type": "execute_result"
    }
   ],
   "source": [
    "full_dataset = OpenCloseDataset(datafolder='../data/new', reload=True, k_degree=10).shuffle()\n",
    "len(os.listdir('../data/new/processed'))"
   ]
  },
  {
   "cell_type": "code",
   "execution_count": 31,
   "metadata": {},
   "outputs": [
    {
     "data": {
      "text/plain": [
       "Data(x=[418, 418], edge_index=[2, 6098], edge_attr=[6098], y=0)"
      ]
     },
     "execution_count": 31,
     "metadata": {},
     "output_type": "execute_result"
    }
   ],
   "source": [
    "full_dataset[0]"
   ]
  },
  {
   "cell_type": "code",
   "execution_count": 5,
   "metadata": {
    "collapsed": false
   },
   "outputs": [],
   "source": [
    "train_size = int(0.8 * len(full_dataset))\n",
    "train_dataset, val_dataset = full_dataset[:train_size], full_dataset[train_size:]\n",
    "val_dataset, test_dataset = val_dataset[:-15], val_dataset[-15:]\n",
    "\n",
    "# len train - 134\n",
    "# val - 19\n",
    "# test - 15"
   ]
  },
  {
   "cell_type": "code",
   "execution_count": 38,
   "metadata": {
    "collapsed": false
   },
   "outputs": [],
   "source": [
    "train_loader = DataLoader(train_dataset, batch_size=16, shuffle=True)\n",
    "val_loader = DataLoader(val_dataset, batch_size=len(val_dataset), shuffle=True)\n",
    "test_loader = DataLoader(test_dataset, batch_size=len(test_dataset))"
   ]
  },
  {
   "attachments": {},
   "cell_type": "markdown",
   "metadata": {},
   "source": [
    "## GCN"
   ]
  },
  {
   "cell_type": "code",
   "execution_count": 47,
   "metadata": {
    "collapsed": false
   },
   "outputs": [
    {
     "name": "stdout",
     "output_type": "stream",
     "text": [
      "Adjusting learning rate of group 0 to 1.0000e-03.\n"
     ]
    },
    {
     "data": {
      "text/plain": [
       "116346"
      ]
     },
     "execution_count": 47,
     "metadata": {},
     "output_type": "execute_result"
    }
   ],
   "source": [
    "model = GCN(full_dataset.num_features, channels=[256, 32, 8], dropout=0.3).to(device())\n",
    "optimizer = torch.optim.Adam(model.parameters(), lr=0.001)\n",
    "loss = torch.nn.CrossEntropyLoss()\n",
    "epochs = 30\n",
    "scheduler = lr_scheduler.StepLR(optimizer, step_size=epochs//3, gamma=0.1, last_epoch=-1, verbose=True)\n",
    "sum(p.numel() for p in model.parameters())"
   ]
  },
  {
   "cell_type": "code",
   "execution_count": 48,
   "metadata": {
    "collapsed": false
   },
   "outputs": [
    {
     "data": {
      "application/vnd.jupyter.widget-view+json": {
       "model_id": "b657ab080b664a15bd3b23e21850dd7d",
       "version_major": 2,
       "version_minor": 0
      },
      "text/plain": [
       "  0%|          | 0/30 [00:00<?, ?it/s]"
      ]
     },
     "metadata": {},
     "output_type": "display_data"
    },
    {
     "name": "stdout",
     "output_type": "stream",
     "text": [
      "Adjusting learning rate of group 0 to 1.0000e-03.\n",
      "Epoch: 001, Train Loss: 0.0814, Test Loss 0.1034, Train Acc: 0.6250, Test Acc: 0.5972\n",
      "Test precision: 0.5556, Test recall: 1.0000\n",
      "Adjusting learning rate of group 0 to 1.0000e-03.\n",
      "Epoch: 002, Train Loss: 0.0605, Test Loss 0.0938, Train Acc: 0.8946, Test Acc: 0.6389\n",
      "Test precision: 0.5278, Test recall: 1.0000\n",
      "Adjusting learning rate of group 0 to 1.0000e-03.\n",
      "Epoch: 003, Train Loss: 0.0374, Test Loss 0.0892, Train Acc: 1.0000, Test Acc: 0.7639\n",
      "Test precision: 0.7000, Test recall: 0.9333\n",
      "Adjusting learning rate of group 0 to 1.0000e-03.\n",
      "Epoch: 004, Train Loss: 0.0201, Test Loss 0.0935, Train Acc: 1.0000, Test Acc: 0.7222\n",
      "Test precision: 0.6667, Test recall: 0.8222\n",
      "Adjusting learning rate of group 0 to 1.0000e-03.\n",
      "Epoch: 005, Train Loss: 0.0100, Test Loss 0.0880, Train Acc: 1.0000, Test Acc: 0.5694\n",
      "Test precision: 0.5833, Test recall: 0.6389\n",
      "Adjusting learning rate of group 0 to 1.0000e-03.\n",
      "Epoch: 006, Train Loss: 0.0053, Test Loss 0.1024, Train Acc: 1.0000, Test Acc: 0.6806\n",
      "Test precision: 0.6389, Test recall: 0.9167\n",
      "Adjusting learning rate of group 0 to 1.0000e-03.\n",
      "Epoch: 007, Train Loss: 0.0026, Test Loss 0.0748, Train Acc: 1.0000, Test Acc: 0.7222\n",
      "Test precision: 0.7111, Test recall: 0.8222\n",
      "Adjusting learning rate of group 0 to 1.0000e-03.\n",
      "Epoch: 008, Train Loss: 0.0020, Test Loss 0.0708, Train Acc: 1.0000, Test Acc: 0.7917\n",
      "Test precision: 0.7500, Test recall: 0.8667\n",
      "Adjusting learning rate of group 0 to 1.0000e-03.\n",
      "Epoch: 009, Train Loss: 0.0017, Test Loss 0.0943, Train Acc: 1.0000, Test Acc: 0.7917\n",
      "Test precision: 0.7083, Test recall: 0.8333\n",
      "Adjusting learning rate of group 0 to 1.0000e-04.\n",
      "Epoch: 010, Train Loss: 0.0010, Test Loss 0.0752, Train Acc: 1.0000, Test Acc: 0.8333\n",
      "Test precision: 0.8000, Test recall: 0.9333\n",
      "Adjusting learning rate of group 0 to 1.0000e-04.\n",
      "Epoch: 011, Train Loss: 0.0009, Test Loss 0.1006, Train Acc: 1.0000, Test Acc: 0.7639\n",
      "Test precision: 0.7222, Test recall: 0.8889\n",
      "Adjusting learning rate of group 0 to 1.0000e-04.\n",
      "Epoch: 012, Train Loss: 0.0010, Test Loss 0.0713, Train Acc: 1.0000, Test Acc: 0.8333\n",
      "Test precision: 0.7222, Test recall: 0.8333\n",
      "Adjusting learning rate of group 0 to 1.0000e-04.\n",
      "Epoch: 013, Train Loss: 0.0009, Test Loss 0.0784, Train Acc: 1.0000, Test Acc: 0.8333\n",
      "Test precision: 0.8000, Test recall: 0.9333\n",
      "Adjusting learning rate of group 0 to 1.0000e-04.\n",
      "Epoch: 014, Train Loss: 0.0008, Test Loss 0.0843, Train Acc: 1.0000, Test Acc: 0.7639\n",
      "Test precision: 0.8056, Test recall: 0.8333\n",
      "Adjusting learning rate of group 0 to 1.0000e-04.\n",
      "Epoch: 015, Train Loss: 0.0009, Test Loss 0.0813, Train Acc: 1.0000, Test Acc: 0.7917\n",
      "Test precision: 0.7500, Test recall: 0.9167\n",
      "Adjusting learning rate of group 0 to 1.0000e-04.\n",
      "Epoch: 016, Train Loss: 0.0008, Test Loss 0.1182, Train Acc: 1.0000, Test Acc: 0.6528\n",
      "Test precision: 0.6444, Test recall: 0.9333\n",
      "Adjusting learning rate of group 0 to 1.0000e-04.\n",
      "Epoch: 017, Train Loss: 0.0006, Test Loss 0.0867, Train Acc: 1.0000, Test Acc: 0.6806\n",
      "Test precision: 0.6111, Test recall: 0.5556\n",
      "Adjusting learning rate of group 0 to 1.0000e-04.\n",
      "Epoch: 018, Train Loss: 0.0007, Test Loss 0.0941, Train Acc: 1.0000, Test Acc: 0.7222\n",
      "Test precision: 0.6889, Test recall: 0.9333\n",
      "Adjusting learning rate of group 0 to 1.0000e-04.\n",
      "Epoch: 019, Train Loss: 0.0006, Test Loss 0.0782, Train Acc: 1.0000, Test Acc: 0.7500\n",
      "Test precision: 0.7556, Test recall: 0.7500\n",
      "Adjusting learning rate of group 0 to 1.0000e-05.\n",
      "Epoch: 020, Train Loss: 0.0006, Test Loss 0.1219, Train Acc: 1.0000, Test Acc: 0.6528\n",
      "Test precision: 0.5278, Test recall: 0.5833\n",
      "Adjusting learning rate of group 0 to 1.0000e-05.\n",
      "Epoch: 021, Train Loss: 0.0006, Test Loss 0.1028, Train Acc: 1.0000, Test Acc: 0.7222\n",
      "Test precision: 0.6333, Test recall: 0.9333\n",
      "Adjusting learning rate of group 0 to 1.0000e-05.\n",
      "Epoch: 022, Train Loss: 0.0006, Test Loss 0.0821, Train Acc: 1.0000, Test Acc: 0.7917\n",
      "Test precision: 0.7167, Test recall: 0.9167\n",
      "Adjusting learning rate of group 0 to 1.0000e-05.\n",
      "Epoch: 023, Train Loss: 0.0005, Test Loss 0.0960, Train Acc: 1.0000, Test Acc: 0.6806\n",
      "Test precision: 0.6667, Test recall: 0.8333\n",
      "Adjusting learning rate of group 0 to 1.0000e-05.\n",
      "Epoch: 024, Train Loss: 0.0006, Test Loss 0.0758, Train Acc: 1.0000, Test Acc: 0.7500\n",
      "Test precision: 0.7460, Test recall: 0.8333\n",
      "Adjusting learning rate of group 0 to 1.0000e-05.\n",
      "Epoch: 025, Train Loss: 0.0006, Test Loss 0.0902, Train Acc: 1.0000, Test Acc: 0.7222\n",
      "Test precision: 0.7222, Test recall: 0.7778\n",
      "Adjusting learning rate of group 0 to 1.0000e-05.\n",
      "Epoch: 026, Train Loss: 0.0006, Test Loss 0.0912, Train Acc: 1.0000, Test Acc: 0.7917\n",
      "Test precision: 0.7500, Test recall: 0.9167\n",
      "Adjusting learning rate of group 0 to 1.0000e-05.\n",
      "Epoch: 027, Train Loss: 0.0006, Test Loss 0.1281, Train Acc: 1.0000, Test Acc: 0.6528\n",
      "Test precision: 0.5333, Test recall: 0.6111\n",
      "Adjusting learning rate of group 0 to 1.0000e-05.\n",
      "Epoch: 028, Train Loss: 0.0006, Test Loss 0.0904, Train Acc: 1.0000, Test Acc: 0.7917\n",
      "Test precision: 0.7333, Test recall: 0.8889\n",
      "Adjusting learning rate of group 0 to 1.0000e-05.\n",
      "Epoch: 029, Train Loss: 0.0006, Test Loss 0.0958, Train Acc: 1.0000, Test Acc: 0.7222\n",
      "Test precision: 0.7024, Test recall: 0.8333\n",
      "Adjusting learning rate of group 0 to 1.0000e-06.\n",
      "Epoch: 030, Train Loss: 0.0006, Test Loss 0.1241, Train Acc: 1.0000, Test Acc: 0.6111\n",
      "Test precision: 0.5833, Test recall: 0.9167\n"
     ]
    }
   ],
   "source": [
    "history = train(model, epochs, train_loader, val_loader, loss, optimizer, scheduler=scheduler)"
   ]
  },
  {
   "cell_type": "code",
   "execution_count": 49,
   "metadata": {
    "collapsed": false
   },
   "outputs": [
    {
     "data": {
      "image/png": "[encoded data removed]",
      "text/plain": [
       "<Figure size 640x480 with 1 Axes>"
      ]
     },
     "metadata": {},
     "output_type": "display_data"
    }
   ],
   "source": [
    "train_loss, val_loss, train_acc, test_acc = zip(*history)\n",
    "plt.plot(train_loss, label='train loss')\n",
    "plt.plot(val_loss, label='val loss')\n",
    "plt.legend();"
   ]
  },
  {
   "cell_type": "code",
   "execution_count": 50,
   "metadata": {},
   "outputs": [
    {
     "data": {
      "image/png": "[encoded data removed]",
      "text/plain": [
       "<Figure size 640x480 with 1 Axes>"
      ]
     },
     "metadata": {},
     "output_type": "display_data"
    }
   ],
   "source": [
    "plt.plot(train_acc, label='train acc')\n",
    "plt.plot(test_acc, label='val acc')\n",
    "plt.legend();"
   ]
  },
  {
   "cell_type": "code",
   "execution_count": 51,
   "metadata": {},
   "outputs": [
    {
     "data": {
      "text/plain": [
       "0.7263888"
      ]
     },
     "execution_count": 51,
     "metadata": {},
     "output_type": "execute_result"
    }
   ],
   "source": [
    "np.mean(test_acc)"
   ]
  },
  {
   "cell_type": "code",
   "execution_count": 52,
   "metadata": {},
   "outputs": [
    {
     "data": {
      "text/plain": [
       "(0.7768831251654774, 0.6, 0.2, 0.2)"
      ]
     },
     "execution_count": 52,
     "metadata": {},
     "output_type": "execute_result"
    }
   ],
   "source": [
    "test_loader = DataLoader(test_dataset)\n",
    "eval_epoch(test_loader, model, loss)\n",
    "# loss, acc, precision, recall"
   ]
  },
  {
   "attachments": {},
   "cell_type": "markdown",
   "metadata": {},
   "source": [
    "## GAT"
   ]
  },
  {
   "cell_type": "code",
   "execution_count": 84,
   "metadata": {
    "collapsed": false
   },
   "outputs": [
    {
     "data": {
      "text/plain": [
       "219698"
      ]
     },
     "execution_count": 84,
     "metadata": {},
     "output_type": "execute_result"
    }
   ],
   "source": [
    "model = GATv2(full_dataset.num_features, 128, 8, dropout=0.3).to(device())\n",
    "optimizer = torch.optim.Adam(model.parameters(), lr=0.0001)\n",
    "loss = torch.nn.CrossEntropyLoss()\n",
    "epochs = 30\n",
    "scheduler = lr_scheduler.StepLR(optimizer, step_size=epochs//3, gamma=0.1, last_epoch=-1, verbose=False)\n",
    "sum(p.numel() for p in model.parameters())"
   ]
  },
  {
   "cell_type": "code",
   "execution_count": 85,
   "metadata": {
    "collapsed": false
   },
   "outputs": [
    {
     "data": {
      "application/vnd.jupyter.widget-view+json": {
       "model_id": "a76b12dd4ba64fea9b2c89aea4493dde",
       "version_major": 2,
       "version_minor": 0
      },
      "text/plain": [
       "  0%|          | 0/30 [00:00<?, ?it/s]"
      ]
     },
     "metadata": {},
     "output_type": "display_data"
    },
    {
     "name": "stdout",
     "output_type": "stream",
     "text": [
      "Epoch: 001, Train Loss: 0.0858, Test Loss 0.1140, Train Acc: 0.5686, Test Acc: 0.4861\n",
      "Test precision: 0.4623, Test recall: 1.0000\n",
      "Epoch: 002, Train Loss: 0.0796, Test Loss 0.1117, Train Acc: 0.6716, Test Acc: 0.5556\n",
      "Test precision: 0.5258, Test recall: 1.0000\n",
      "Epoch: 003, Train Loss: 0.0712, Test Loss 0.1054, Train Acc: 0.7206, Test Acc: 0.5556\n",
      "Test precision: 0.5377, Test recall: 1.0000\n",
      "Epoch: 004, Train Loss: 0.0651, Test Loss 0.1214, Train Acc: 0.7696, Test Acc: 0.4861\n",
      "Test precision: 0.4683, Test recall: 1.0000\n",
      "Epoch: 005, Train Loss: 0.0594, Test Loss 0.0937, Train Acc: 0.8186, Test Acc: 0.6250\n",
      "Test precision: 0.6012, Test recall: 1.0000\n",
      "Epoch: 006, Train Loss: 0.0540, Test Loss 0.0935, Train Acc: 0.8603, Test Acc: 0.6389\n",
      "Test precision: 0.5794, Test recall: 1.0000\n",
      "Epoch: 007, Train Loss: 0.0489, Test Loss 0.0964, Train Acc: 0.8676, Test Acc: 0.7083\n",
      "Test precision: 0.6429, Test recall: 1.0000\n",
      "Epoch: 008, Train Loss: 0.0444, Test Loss 0.0939, Train Acc: 0.8897, Test Acc: 0.6806\n",
      "Test precision: 0.6111, Test recall: 1.0000\n",
      "Epoch: 009, Train Loss: 0.0401, Test Loss 0.0886, Train Acc: 0.9118, Test Acc: 0.6806\n",
      "Test precision: 0.6317, Test recall: 1.0000\n",
      "Epoch: 010, Train Loss: 0.0367, Test Loss 0.0824, Train Acc: 0.9461, Test Acc: 0.7639\n",
      "Test precision: 0.7083, Test recall: 1.0000\n",
      "Epoch: 011, Train Loss: 0.0324, Test Loss 0.0796, Train Acc: 0.9485, Test Acc: 0.8333\n",
      "Test precision: 0.7714, Test recall: 1.0000\n",
      "Epoch: 012, Train Loss: 0.0294, Test Loss 0.0979, Train Acc: 0.9706, Test Acc: 0.7639\n",
      "Test precision: 0.6389, Test recall: 1.0000\n",
      "Epoch: 013, Train Loss: 0.0263, Test Loss 0.0871, Train Acc: 0.9632, Test Acc: 0.6528\n",
      "Test precision: 0.4667, Test recall: 0.6667\n",
      "Epoch: 014, Train Loss: 0.0231, Test Loss 0.0928, Train Acc: 0.9779, Test Acc: 0.7639\n",
      "Test precision: 0.6444, Test recall: 1.0000\n",
      "Epoch: 015, Train Loss: 0.0206, Test Loss 0.0952, Train Acc: 0.9779, Test Acc: 0.7222\n",
      "Test precision: 0.6333, Test recall: 0.9167\n",
      "Epoch: 016, Train Loss: 0.0187, Test Loss 0.0989, Train Acc: 0.9779, Test Acc: 0.7639\n",
      "Test precision: 0.5333, Test recall: 0.6111\n",
      "Epoch: 017, Train Loss: 0.0171, Test Loss 0.0807, Train Acc: 0.9755, Test Acc: 0.7639\n",
      "Test precision: 0.5278, Test recall: 0.6111\n",
      "Epoch: 018, Train Loss: 0.0148, Test Loss 0.0959, Train Acc: 0.9853, Test Acc: 0.6944\n",
      "Test precision: 0.7000, Test recall: 0.8333\n",
      "Epoch: 019, Train Loss: 0.0131, Test Loss 0.0939, Train Acc: 1.0000, Test Acc: 0.7639\n",
      "Test precision: 0.7111, Test recall: 0.8889\n",
      "Epoch: 020, Train Loss: 0.0121, Test Loss 0.0671, Train Acc: 1.0000, Test Acc: 0.8333\n",
      "Test precision: 0.7111, Test recall: 0.8333\n",
      "Epoch: 021, Train Loss: 0.0105, Test Loss 0.0702, Train Acc: 1.0000, Test Acc: 0.8333\n",
      "Test precision: 0.8000, Test recall: 0.9333\n",
      "Epoch: 022, Train Loss: 0.0096, Test Loss 0.0700, Train Acc: 1.0000, Test Acc: 0.8333\n",
      "Test precision: 0.7833, Test recall: 0.9167\n",
      "Epoch: 023, Train Loss: 0.0084, Test Loss 0.0797, Train Acc: 1.0000, Test Acc: 0.7639\n",
      "Test precision: 0.4778, Test recall: 0.6667\n",
      "Epoch: 024, Train Loss: 0.0077, Test Loss 0.0762, Train Acc: 1.0000, Test Acc: 0.7639\n",
      "Test precision: 0.5000, Test recall: 0.6667\n",
      "Epoch: 025, Train Loss: 0.0068, Test Loss 0.0647, Train Acc: 1.0000, Test Acc: 0.8333\n",
      "Test precision: 0.7778, Test recall: 0.9444\n",
      "Epoch: 026, Train Loss: 0.0062, Test Loss 0.0803, Train Acc: 1.0000, Test Acc: 0.7639\n",
      "Test precision: 0.7778, Test recall: 0.8333\n",
      "Epoch: 027, Train Loss: 0.0055, Test Loss 0.0724, Train Acc: 1.0000, Test Acc: 0.8333\n",
      "Test precision: 0.8056, Test recall: 0.9333\n",
      "Epoch: 028, Train Loss: 0.0049, Test Loss 0.0743, Train Acc: 1.0000, Test Acc: 0.8333\n",
      "Test precision: 0.8056, Test recall: 0.9167\n",
      "Epoch: 029, Train Loss: 0.0046, Test Loss 0.0808, Train Acc: 1.0000, Test Acc: 0.8333\n",
      "Test precision: 0.8333, Test recall: 0.9333\n",
      "Epoch: 030, Train Loss: 0.0041, Test Loss 0.0766, Train Acc: 1.0000, Test Acc: 0.8333\n",
      "Test precision: 0.7833, Test recall: 0.9167\n"
     ]
    }
   ],
   "source": [
    "history = train(model, epochs, train_loader, val_loader, loss, optimizer, scheduler=None)"
   ]
  },
  {
   "cell_type": "code",
   "execution_count": 86,
   "metadata": {},
   "outputs": [
    {
     "data": {
      "text/plain": [
       "(0.25161364951999304, 0.8666667, 0.26666668, 0.26666668)"
      ]
     },
     "execution_count": 86,
     "metadata": {},
     "output_type": "execute_result"
    }
   ],
   "source": [
    "test_loader = DataLoader(test_dataset)\n",
    "eval_epoch(test_loader, model, loss)\n",
    "# loss, acc, precision, recall"
   ]
  },
  {
   "cell_type": "code",
   "execution_count": 87,
   "metadata": {},
   "outputs": [
    {
     "data": {
      "image/png": "[encoded data removed]",
      "text/plain": [
       "<Figure size 640x480 with 1 Axes>"
      ]
     },
     "metadata": {},
     "output_type": "display_data"
    }
   ],
   "source": [
    "train_loss, val_loss, train_acc, test_acc = zip(*history)\n",
    "plt.plot(train_loss, label='train loss')\n",
    "plt.plot(val_loss, label='val loss')\n",
    "plt.legend();"
   ]
  },
  {
   "cell_type": "code",
   "execution_count": 88,
   "metadata": {},
   "outputs": [
    {
     "data": {
      "image/png": "[encoded data removed]",
      "text/plain": [
       "<Figure size 640x480 with 1 Axes>"
      ]
     },
     "metadata": {},
     "output_type": "display_data"
    }
   ],
   "source": [
    "plt.plot(train_acc, label='train acc')\n",
    "plt.plot(test_acc, label='val acc')\n",
    "plt.legend();"
   ]
  },
  {
   "cell_type": "code",
   "execution_count": 65,
   "metadata": {},
   "outputs": [
    {
     "data": {
      "text/plain": [
       "0.76620376"
      ]
     },
     "execution_count": 65,
     "metadata": {},
     "output_type": "execute_result"
    }
   ],
   "source": [
    "np.mean(test_acc)"
   ]
  },
  {
   "cell_type": "code",
   "execution_count": 81,
   "metadata": {
    "collapsed": false
   },
   "outputs": [],
   "source": [
    "torch.save(model.state_dict(), '../weights/gat_2heads_128_8_knn10.pt')"
   ]
  },
  {
   "attachments": {},
   "cell_type": "markdown",
   "metadata": {},
   "source": [
    "## Cross-validation"
   ]
  },
  {
   "cell_type": "code",
   "execution_count": 64,
   "metadata": {
    "collapsed": false
   },
   "outputs": [
    {
     "data": {
      "application/vnd.jupyter.widget-view+json": {
       "model_id": "4d1de71b64e14c5fa4cbf81d6b44b46d",
       "version_major": 2,
       "version_minor": 0
      },
      "text/plain": [
       "0it [00:00, ?it/s]"
      ]
     },
     "metadata": {},
     "output_type": "display_data"
    },
    {
     "name": "stdout",
     "output_type": "stream",
     "text": [
      "0\n",
      "Epoch: 000, Train Loss: 0.0254, Test Loss 0.0371, Train Acc: 0.5188, Test Acc: 0.4211\n",
      "Epoch: 001, Train Loss: 0.0245, Test Loss 0.0370, Train Acc: 0.5458, Test Acc: 0.4211\n",
      "Epoch: 002, Train Loss: 0.0232, Test Loss 0.0369, Train Acc: 0.6854, Test Acc: 0.4737\n",
      "Epoch: 003, Train Loss: 0.0218, Test Loss 0.0366, Train Acc: 0.8625, Test Acc: 0.5789\n",
      "Epoch: 004, Train Loss: 0.0193, Test Loss 0.0357, Train Acc: 0.9875, Test Acc: 0.6842\n",
      "Epoch: 005, Train Loss: 0.0165, Test Loss 0.0355, Train Acc: 1.0000, Test Acc: 0.6316\n",
      "Epoch: 006, Train Loss: 0.0129, Test Loss 0.0359, Train Acc: 1.0000, Test Acc: 0.5789\n",
      "Epoch: 007, Train Loss: 0.0098, Test Loss 0.0355, Train Acc: 1.0000, Test Acc: 0.6316\n",
      "Epoch: 008, Train Loss: 0.0072, Test Loss 0.0350, Train Acc: 1.0000, Test Acc: 0.6316\n",
      "Epoch: 009, Train Loss: 0.0050, Test Loss 0.0347, Train Acc: 1.0000, Test Acc: 0.6316\n",
      "Epoch: 010, Train Loss: 0.0031, Test Loss 0.0347, Train Acc: 1.0000, Test Acc: 0.6316\n",
      "Epoch: 011, Train Loss: 0.0022, Test Loss 0.0360, Train Acc: 1.0000, Test Acc: 0.6316\n",
      "Epoch: 012, Train Loss: 0.0022, Test Loss 0.0345, Train Acc: 1.0000, Test Acc: 0.6316\n",
      "Epoch: 013, Train Loss: 0.0021, Test Loss 0.0329, Train Acc: 1.0000, Test Acc: 0.6316\n",
      "Epoch: 014, Train Loss: 0.0019, Test Loss 0.0328, Train Acc: 1.0000, Test Acc: 0.6842\n",
      "Epoch: 015, Train Loss: 0.0020, Test Loss 0.0339, Train Acc: 1.0000, Test Acc: 0.6316\n",
      "Epoch: 016, Train Loss: 0.0018, Test Loss 0.0348, Train Acc: 1.0000, Test Acc: 0.6316\n",
      "Epoch: 017, Train Loss: 0.0018, Test Loss 0.0359, Train Acc: 1.0000, Test Acc: 0.6316\n",
      "Epoch: 018, Train Loss: 0.0020, Test Loss 0.0345, Train Acc: 1.0000, Test Acc: 0.6316\n",
      "Epoch: 019, Train Loss: 0.0017, Test Loss 0.0344, Train Acc: 1.0000, Test Acc: 0.6316\n",
      "Epoch: 020, Train Loss: 0.0018, Test Loss 0.0336, Train Acc: 1.0000, Test Acc: 0.6316\n",
      "Epoch: 021, Train Loss: 0.0018, Test Loss 0.0346, Train Acc: 1.0000, Test Acc: 0.6316\n",
      "Epoch: 022, Train Loss: 0.0016, Test Loss 0.0338, Train Acc: 1.0000, Test Acc: 0.6316\n",
      "Epoch: 023, Train Loss: 0.0015, Test Loss 0.0343, Train Acc: 1.0000, Test Acc: 0.6316\n",
      "Epoch: 024, Train Loss: 0.0016, Test Loss 0.0342, Train Acc: 1.0000, Test Acc: 0.6316\n",
      "Epoch: 025, Train Loss: 0.0016, Test Loss 0.0357, Train Acc: 1.0000, Test Acc: 0.6316\n",
      "Epoch: 026, Train Loss: 0.0016, Test Loss 0.0348, Train Acc: 1.0000, Test Acc: 0.6316\n",
      "Epoch: 027, Train Loss: 0.0016, Test Loss 0.0350, Train Acc: 1.0000, Test Acc: 0.6316\n",
      "Epoch: 028, Train Loss: 0.0015, Test Loss 0.0340, Train Acc: 1.0000, Test Acc: 0.6316\n",
      "Epoch: 029, Train Loss: 0.0015, Test Loss 0.0353, Train Acc: 1.0000, Test Acc: 0.6316\n",
      "Epoch: 030, Train Loss: 0.0016, Test Loss 0.0371, Train Acc: 1.0000, Test Acc: 0.6316\n",
      "Epoch: 031, Train Loss: 0.0016, Test Loss 0.0378, Train Acc: 1.0000, Test Acc: 0.6316\n",
      "Epoch: 032, Train Loss: 0.0016, Test Loss 0.0391, Train Acc: 1.0000, Test Acc: 0.6316\n",
      "Epoch: 033, Train Loss: 0.0016, Test Loss 0.0368, Train Acc: 1.0000, Test Acc: 0.6316\n",
      "Epoch: 034, Train Loss: 0.0015, Test Loss 0.0361, Train Acc: 1.0000, Test Acc: 0.6316\n",
      "Epoch: 035, Train Loss: 0.0015, Test Loss 0.0344, Train Acc: 1.0000, Test Acc: 0.6316\n",
      "Epoch: 036, Train Loss: 0.0017, Test Loss 0.0342, Train Acc: 1.0000, Test Acc: 0.6316\n",
      "Epoch: 037, Train Loss: 0.0015, Test Loss 0.0336, Train Acc: 1.0000, Test Acc: 0.6316\n",
      "Epoch: 038, Train Loss: 0.0015, Test Loss 0.0345, Train Acc: 1.0000, Test Acc: 0.6316\n",
      "Epoch: 039, Train Loss: 0.0015, Test Loss 0.0350, Train Acc: 1.0000, Test Acc: 0.6316\n",
      "Epoch: 040, Train Loss: 0.0014, Test Loss 0.0367, Train Acc: 1.0000, Test Acc: 0.6316\n",
      "Epoch: 041, Train Loss: 0.0016, Test Loss 0.0354, Train Acc: 1.0000, Test Acc: 0.6316\n",
      "Epoch: 042, Train Loss: 0.0015, Test Loss 0.0347, Train Acc: 1.0000, Test Acc: 0.6316\n",
      "Epoch: 043, Train Loss: 0.0015, Test Loss 0.0339, Train Acc: 1.0000, Test Acc: 0.6316\n",
      "Epoch: 044, Train Loss: 0.0016, Test Loss 0.0340, Train Acc: 1.0000, Test Acc: 0.6316\n",
      "Epoch: 045, Train Loss: 0.0015, Test Loss 0.0333, Train Acc: 1.0000, Test Acc: 0.6316\n",
      "Epoch: 046, Train Loss: 0.0016, Test Loss 0.0357, Train Acc: 1.0000, Test Acc: 0.6316\n",
      "Epoch: 047, Train Loss: 0.0014, Test Loss 0.0348, Train Acc: 1.0000, Test Acc: 0.6316\n",
      "Epoch: 048, Train Loss: 0.0014, Test Loss 0.0340, Train Acc: 1.0000, Test Acc: 0.6316\n",
      "Epoch: 049, Train Loss: 0.0015, Test Loss 0.0341, Train Acc: 1.0000, Test Acc: 0.6316\n",
      "1\n",
      "Epoch: 000, Train Loss: 0.0255, Test Loss 0.0369, Train Acc: 0.4979, Test Acc: 0.4211\n",
      "Epoch: 001, Train Loss: 0.0247, Test Loss 0.0365, Train Acc: 0.6896, Test Acc: 0.5263\n",
      "Epoch: 002, Train Loss: 0.0239, Test Loss 0.0362, Train Acc: 0.9125, Test Acc: 0.5263\n",
      "Epoch: 003, Train Loss: 0.0227, Test Loss 0.0360, Train Acc: 0.9625, Test Acc: 0.5263\n",
      "Epoch: 004, Train Loss: 0.0209, Test Loss 0.0357, Train Acc: 0.9542, Test Acc: 0.4737\n",
      "Epoch: 005, Train Loss: 0.0180, Test Loss 0.0349, Train Acc: 1.0000, Test Acc: 0.5263\n",
      "Epoch: 006, Train Loss: 0.0152, Test Loss 0.0343, Train Acc: 1.0000, Test Acc: 0.4737\n",
      "Epoch: 007, Train Loss: 0.0133, Test Loss 0.0338, Train Acc: 1.0000, Test Acc: 0.5789\n",
      "Epoch: 008, Train Loss: 0.0102, Test Loss 0.0327, Train Acc: 1.0000, Test Acc: 0.5789\n",
      "Epoch: 009, Train Loss: 0.0075, Test Loss 0.0322, Train Acc: 1.0000, Test Acc: 0.5789\n",
      "Epoch: 010, Train Loss: 0.0057, Test Loss 0.0317, Train Acc: 1.0000, Test Acc: 0.5789\n",
      "Epoch: 011, Train Loss: 0.0041, Test Loss 0.0326, Train Acc: 1.0000, Test Acc: 0.6316\n",
      "Epoch: 012, Train Loss: 0.0039, Test Loss 0.0325, Train Acc: 1.0000, Test Acc: 0.6316\n",
      "Epoch: 013, Train Loss: 0.0037, Test Loss 0.0327, Train Acc: 1.0000, Test Acc: 0.6842\n",
      "Epoch: 014, Train Loss: 0.0034, Test Loss 0.0319, Train Acc: 1.0000, Test Acc: 0.6316\n",
      "Epoch: 015, Train Loss: 0.0034, Test Loss 0.0323, Train Acc: 1.0000, Test Acc: 0.6316\n",
      "Epoch: 016, Train Loss: 0.0032, Test Loss 0.0319, Train Acc: 1.0000, Test Acc: 0.6316\n",
      "Epoch: 017, Train Loss: 0.0031, Test Loss 0.0325, Train Acc: 1.0000, Test Acc: 0.6316\n",
      "Epoch: 018, Train Loss: 0.0031, Test Loss 0.0322, Train Acc: 1.0000, Test Acc: 0.6316\n",
      "Epoch: 019, Train Loss: 0.0029, Test Loss 0.0326, Train Acc: 1.0000, Test Acc: 0.6316\n",
      "Epoch: 020, Train Loss: 0.0029, Test Loss 0.0325, Train Acc: 1.0000, Test Acc: 0.6316\n",
      "Epoch: 021, Train Loss: 0.0029, Test Loss 0.0321, Train Acc: 1.0000, Test Acc: 0.6316\n",
      "Epoch: 022, Train Loss: 0.0028, Test Loss 0.0319, Train Acc: 1.0000, Test Acc: 0.6316\n",
      "Epoch: 023, Train Loss: 0.0026, Test Loss 0.0323, Train Acc: 1.0000, Test Acc: 0.5789\n",
      "Epoch: 024, Train Loss: 0.0028, Test Loss 0.0323, Train Acc: 1.0000, Test Acc: 0.5789\n",
      "Epoch: 025, Train Loss: 0.0026, Test Loss 0.0327, Train Acc: 1.0000, Test Acc: 0.6316\n",
      "Epoch: 026, Train Loss: 0.0026, Test Loss 0.0321, Train Acc: 1.0000, Test Acc: 0.6316\n",
      "Epoch: 027, Train Loss: 0.0027, Test Loss 0.0321, Train Acc: 1.0000, Test Acc: 0.6316\n",
      "Epoch: 028, Train Loss: 0.0027, Test Loss 0.0326, Train Acc: 1.0000, Test Acc: 0.6316\n",
      "Epoch: 029, Train Loss: 0.0026, Test Loss 0.0323, Train Acc: 1.0000, Test Acc: 0.5789\n",
      "Epoch: 030, Train Loss: 0.0026, Test Loss 0.0318, Train Acc: 1.0000, Test Acc: 0.6316\n",
      "Epoch: 031, Train Loss: 0.0026, Test Loss 0.0316, Train Acc: 1.0000, Test Acc: 0.6316\n",
      "Epoch: 032, Train Loss: 0.0025, Test Loss 0.0319, Train Acc: 1.0000, Test Acc: 0.6316\n",
      "Epoch: 033, Train Loss: 0.0024, Test Loss 0.0318, Train Acc: 1.0000, Test Acc: 0.6316\n",
      "Epoch: 034, Train Loss: 0.0025, Test Loss 0.0319, Train Acc: 1.0000, Test Acc: 0.6316\n",
      "Epoch: 035, Train Loss: 0.0026, Test Loss 0.0322, Train Acc: 1.0000, Test Acc: 0.6316\n",
      "Epoch: 036, Train Loss: 0.0026, Test Loss 0.0317, Train Acc: 1.0000, Test Acc: 0.6316\n",
      "Epoch: 037, Train Loss: 0.0024, Test Loss 0.0324, Train Acc: 1.0000, Test Acc: 0.6316\n",
      "Epoch: 038, Train Loss: 0.0025, Test Loss 0.0319, Train Acc: 1.0000, Test Acc: 0.6316\n",
      "Epoch: 039, Train Loss: 0.0025, Test Loss 0.0320, Train Acc: 1.0000, Test Acc: 0.6316\n",
      "Epoch: 040, Train Loss: 0.0026, Test Loss 0.0320, Train Acc: 1.0000, Test Acc: 0.6316\n",
      "Epoch: 041, Train Loss: 0.0026, Test Loss 0.0318, Train Acc: 1.0000, Test Acc: 0.7368\n",
      "Epoch: 042, Train Loss: 0.0026, Test Loss 0.0322, Train Acc: 1.0000, Test Acc: 0.6316\n",
      "Epoch: 043, Train Loss: 0.0025, Test Loss 0.0325, Train Acc: 1.0000, Test Acc: 0.6316\n",
      "Epoch: 044, Train Loss: 0.0026, Test Loss 0.0320, Train Acc: 1.0000, Test Acc: 0.6316\n",
      "Epoch: 045, Train Loss: 0.0025, Test Loss 0.0327, Train Acc: 1.0000, Test Acc: 0.6316\n",
      "Epoch: 046, Train Loss: 0.0026, Test Loss 0.0329, Train Acc: 1.0000, Test Acc: 0.6316\n",
      "Epoch: 047, Train Loss: 0.0026, Test Loss 0.0320, Train Acc: 1.0000, Test Acc: 0.6316\n",
      "Epoch: 048, Train Loss: 0.0025, Test Loss 0.0324, Train Acc: 1.0000, Test Acc: 0.6316\n",
      "Epoch: 049, Train Loss: 0.0025, Test Loss 0.0323, Train Acc: 1.0000, Test Acc: 0.6316\n",
      "2\n",
      "Epoch: 000, Train Loss: 0.0252, Test Loss 0.0358, Train Acc: 0.5354, Test Acc: 0.5789\n",
      "Epoch: 001, Train Loss: 0.0243, Test Loss 0.0357, Train Acc: 0.6062, Test Acc: 0.5789\n",
      "Epoch: 002, Train Loss: 0.0237, Test Loss 0.0355, Train Acc: 0.7417, Test Acc: 0.5789\n",
      "Epoch: 003, Train Loss: 0.0221, Test Loss 0.0356, Train Acc: 0.9250, Test Acc: 0.4737\n",
      "Epoch: 004, Train Loss: 0.0198, Test Loss 0.0359, Train Acc: 0.9625, Test Acc: 0.5263\n",
      "Epoch: 005, Train Loss: 0.0167, Test Loss 0.0364, Train Acc: 0.9875, Test Acc: 0.4737\n",
      "Epoch: 006, Train Loss: 0.0134, Test Loss 0.0377, Train Acc: 1.0000, Test Acc: 0.4737\n",
      "Epoch: 007, Train Loss: 0.0109, Test Loss 0.0385, Train Acc: 1.0000, Test Acc: 0.5263\n",
      "Epoch: 008, Train Loss: 0.0092, Test Loss 0.0401, Train Acc: 1.0000, Test Acc: 0.5789\n",
      "Epoch: 009, Train Loss: 0.0074, Test Loss 0.0396, Train Acc: 1.0000, Test Acc: 0.5789\n",
      "Epoch: 010, Train Loss: 0.0065, Test Loss 0.0409, Train Acc: 1.0000, Test Acc: 0.6316\n",
      "Epoch: 011, Train Loss: 0.0049, Test Loss 0.0391, Train Acc: 1.0000, Test Acc: 0.5789\n",
      "Epoch: 012, Train Loss: 0.0048, Test Loss 0.0383, Train Acc: 1.0000, Test Acc: 0.5263\n",
      "Epoch: 013, Train Loss: 0.0046, Test Loss 0.0387, Train Acc: 1.0000, Test Acc: 0.5263\n",
      "Epoch: 014, Train Loss: 0.0045, Test Loss 0.0375, Train Acc: 1.0000, Test Acc: 0.4737\n",
      "Epoch: 015, Train Loss: 0.0045, Test Loss 0.0375, Train Acc: 1.0000, Test Acc: 0.4737\n",
      "Epoch: 016, Train Loss: 0.0046, Test Loss 0.0377, Train Acc: 1.0000, Test Acc: 0.4737\n",
      "Epoch: 017, Train Loss: 0.0043, Test Loss 0.0371, Train Acc: 1.0000, Test Acc: 0.4737\n",
      "Epoch: 018, Train Loss: 0.0040, Test Loss 0.0370, Train Acc: 1.0000, Test Acc: 0.5263\n",
      "Epoch: 019, Train Loss: 0.0038, Test Loss 0.0367, Train Acc: 1.0000, Test Acc: 0.4737\n",
      "Epoch: 020, Train Loss: 0.0040, Test Loss 0.0368, Train Acc: 1.0000, Test Acc: 0.4737\n",
      "Epoch: 021, Train Loss: 0.0039, Test Loss 0.0367, Train Acc: 1.0000, Test Acc: 0.4737\n",
      "Epoch: 022, Train Loss: 0.0036, Test Loss 0.0379, Train Acc: 1.0000, Test Acc: 0.4737\n",
      "Epoch: 023, Train Loss: 0.0036, Test Loss 0.0378, Train Acc: 1.0000, Test Acc: 0.4737\n",
      "Epoch: 024, Train Loss: 0.0033, Test Loss 0.0383, Train Acc: 1.0000, Test Acc: 0.4737\n",
      "Epoch: 025, Train Loss: 0.0035, Test Loss 0.0388, Train Acc: 1.0000, Test Acc: 0.4737\n",
      "Epoch: 026, Train Loss: 0.0034, Test Loss 0.0389, Train Acc: 1.0000, Test Acc: 0.4737\n",
      "Epoch: 027, Train Loss: 0.0035, Test Loss 0.0384, Train Acc: 1.0000, Test Acc: 0.4737\n",
      "Epoch: 028, Train Loss: 0.0034, Test Loss 0.0382, Train Acc: 1.0000, Test Acc: 0.4737\n",
      "Epoch: 029, Train Loss: 0.0034, Test Loss 0.0383, Train Acc: 1.0000, Test Acc: 0.4737\n",
      "Epoch: 030, Train Loss: 0.0034, Test Loss 0.0379, Train Acc: 1.0000, Test Acc: 0.4737\n",
      "Epoch: 031, Train Loss: 0.0038, Test Loss 0.0378, Train Acc: 1.0000, Test Acc: 0.4737\n",
      "Epoch: 032, Train Loss: 0.0035, Test Loss 0.0384, Train Acc: 1.0000, Test Acc: 0.4737\n",
      "Epoch: 033, Train Loss: 0.0038, Test Loss 0.0383, Train Acc: 1.0000, Test Acc: 0.4737\n",
      "Epoch: 034, Train Loss: 0.0036, Test Loss 0.0374, Train Acc: 1.0000, Test Acc: 0.5263\n",
      "Epoch: 035, Train Loss: 0.0037, Test Loss 0.0374, Train Acc: 1.0000, Test Acc: 0.5263\n",
      "Epoch: 036, Train Loss: 0.0033, Test Loss 0.0379, Train Acc: 1.0000, Test Acc: 0.4737\n",
      "Epoch: 037, Train Loss: 0.0033, Test Loss 0.0378, Train Acc: 1.0000, Test Acc: 0.4737\n",
      "Epoch: 038, Train Loss: 0.0035, Test Loss 0.0374, Train Acc: 1.0000, Test Acc: 0.4737\n",
      "Epoch: 039, Train Loss: 0.0032, Test Loss 0.0370, Train Acc: 1.0000, Test Acc: 0.5263\n",
      "Epoch: 040, Train Loss: 0.0035, Test Loss 0.0370, Train Acc: 1.0000, Test Acc: 0.5263\n",
      "Epoch: 041, Train Loss: 0.0034, Test Loss 0.0380, Train Acc: 1.0000, Test Acc: 0.4737\n",
      "Epoch: 042, Train Loss: 0.0033, Test Loss 0.0382, Train Acc: 1.0000, Test Acc: 0.4737\n",
      "Epoch: 043, Train Loss: 0.0035, Test Loss 0.0379, Train Acc: 1.0000, Test Acc: 0.4737\n",
      "Epoch: 044, Train Loss: 0.0033, Test Loss 0.0379, Train Acc: 1.0000, Test Acc: 0.4737\n",
      "Epoch: 045, Train Loss: 0.0034, Test Loss 0.0399, Train Acc: 1.0000, Test Acc: 0.5263\n",
      "Epoch: 046, Train Loss: 0.0033, Test Loss 0.0392, Train Acc: 1.0000, Test Acc: 0.5263\n",
      "Epoch: 047, Train Loss: 0.0034, Test Loss 0.0386, Train Acc: 1.0000, Test Acc: 0.4737\n",
      "Epoch: 048, Train Loss: 0.0033, Test Loss 0.0379, Train Acc: 1.0000, Test Acc: 0.4737\n",
      "Epoch: 049, Train Loss: 0.0033, Test Loss 0.0381, Train Acc: 1.0000, Test Acc: 0.4737\n",
      "3\n",
      "Epoch: 000, Train Loss: 0.0258, Test Loss 0.0382, Train Acc: 0.4917, Test Acc: 0.4211\n",
      "Epoch: 001, Train Loss: 0.0242, Test Loss 0.0384, Train Acc: 0.5458, Test Acc: 0.4211\n",
      "Epoch: 002, Train Loss: 0.0235, Test Loss 0.0384, Train Acc: 0.5167, Test Acc: 0.4211\n",
      "Epoch: 003, Train Loss: 0.0210, Test Loss 0.0381, Train Acc: 0.6271, Test Acc: 0.4737\n",
      "Epoch: 004, Train Loss: 0.0192, Test Loss 0.0383, Train Acc: 0.7208, Test Acc: 0.5263\n",
      "Epoch: 005, Train Loss: 0.0164, Test Loss 0.0383, Train Acc: 0.8854, Test Acc: 0.5263\n",
      "Epoch: 006, Train Loss: 0.0134, Test Loss 0.0376, Train Acc: 0.9875, Test Acc: 0.6316\n",
      "Epoch: 007, Train Loss: 0.0111, Test Loss 0.0374, Train Acc: 1.0000, Test Acc: 0.5789\n",
      "Epoch: 008, Train Loss: 0.0085, Test Loss 0.0372, Train Acc: 1.0000, Test Acc: 0.5789\n",
      "Epoch: 009, Train Loss: 0.0057, Test Loss 0.0360, Train Acc: 1.0000, Test Acc: 0.6316\n",
      "Epoch: 010, Train Loss: 0.0040, Test Loss 0.0363, Train Acc: 1.0000, Test Acc: 0.6316\n",
      "Epoch: 011, Train Loss: 0.0029, Test Loss 0.0369, Train Acc: 1.0000, Test Acc: 0.6316\n",
      "Epoch: 012, Train Loss: 0.0026, Test Loss 0.0372, Train Acc: 1.0000, Test Acc: 0.6316\n",
      "Epoch: 013, Train Loss: 0.0025, Test Loss 0.0369, Train Acc: 1.0000, Test Acc: 0.6316\n",
      "Epoch: 014, Train Loss: 0.0022, Test Loss 0.0366, Train Acc: 1.0000, Test Acc: 0.6316\n",
      "Epoch: 015, Train Loss: 0.0021, Test Loss 0.0359, Train Acc: 1.0000, Test Acc: 0.6316\n",
      "Epoch: 016, Train Loss: 0.0022, Test Loss 0.0366, Train Acc: 1.0000, Test Acc: 0.6316\n",
      "Epoch: 017, Train Loss: 0.0020, Test Loss 0.0364, Train Acc: 1.0000, Test Acc: 0.6316\n",
      "Epoch: 018, Train Loss: 0.0020, Test Loss 0.0360, Train Acc: 1.0000, Test Acc: 0.6316\n",
      "Epoch: 019, Train Loss: 0.0019, Test Loss 0.0360, Train Acc: 1.0000, Test Acc: 0.6316\n",
      "Epoch: 020, Train Loss: 0.0019, Test Loss 0.0356, Train Acc: 1.0000, Test Acc: 0.6316\n",
      "Epoch: 021, Train Loss: 0.0018, Test Loss 0.0356, Train Acc: 1.0000, Test Acc: 0.6316\n",
      "Epoch: 022, Train Loss: 0.0018, Test Loss 0.0353, Train Acc: 1.0000, Test Acc: 0.6316\n",
      "Epoch: 023, Train Loss: 0.0017, Test Loss 0.0359, Train Acc: 1.0000, Test Acc: 0.6316\n",
      "Epoch: 024, Train Loss: 0.0018, Test Loss 0.0370, Train Acc: 1.0000, Test Acc: 0.6316\n",
      "Epoch: 025, Train Loss: 0.0016, Test Loss 0.0354, Train Acc: 1.0000, Test Acc: 0.6316\n",
      "Epoch: 026, Train Loss: 0.0016, Test Loss 0.0358, Train Acc: 1.0000, Test Acc: 0.6316\n",
      "Epoch: 027, Train Loss: 0.0017, Test Loss 0.0370, Train Acc: 1.0000, Test Acc: 0.6316\n",
      "Epoch: 028, Train Loss: 0.0016, Test Loss 0.0361, Train Acc: 1.0000, Test Acc: 0.6316\n",
      "Epoch: 029, Train Loss: 0.0017, Test Loss 0.0376, Train Acc: 1.0000, Test Acc: 0.6316\n",
      "Epoch: 030, Train Loss: 0.0017, Test Loss 0.0375, Train Acc: 1.0000, Test Acc: 0.6316\n",
      "Epoch: 031, Train Loss: 0.0017, Test Loss 0.0390, Train Acc: 1.0000, Test Acc: 0.5789\n",
      "Epoch: 032, Train Loss: 0.0017, Test Loss 0.0383, Train Acc: 1.0000, Test Acc: 0.5789\n",
      "Epoch: 033, Train Loss: 0.0017, Test Loss 0.0372, Train Acc: 1.0000, Test Acc: 0.6316\n",
      "Epoch: 034, Train Loss: 0.0018, Test Loss 0.0368, Train Acc: 1.0000, Test Acc: 0.6316\n",
      "Epoch: 035, Train Loss: 0.0017, Test Loss 0.0364, Train Acc: 1.0000, Test Acc: 0.6316\n",
      "Epoch: 036, Train Loss: 0.0016, Test Loss 0.0356, Train Acc: 1.0000, Test Acc: 0.6316\n",
      "Epoch: 037, Train Loss: 0.0018, Test Loss 0.0351, Train Acc: 1.0000, Test Acc: 0.6316\n",
      "Epoch: 038, Train Loss: 0.0016, Test Loss 0.0346, Train Acc: 1.0000, Test Acc: 0.6316\n",
      "Epoch: 039, Train Loss: 0.0016, Test Loss 0.0351, Train Acc: 1.0000, Test Acc: 0.6316\n",
      "Epoch: 040, Train Loss: 0.0018, Test Loss 0.0353, Train Acc: 1.0000, Test Acc: 0.6316\n",
      "Epoch: 041, Train Loss: 0.0016, Test Loss 0.0353, Train Acc: 1.0000, Test Acc: 0.6316\n",
      "Epoch: 042, Train Loss: 0.0017, Test Loss 0.0348, Train Acc: 1.0000, Test Acc: 0.6316\n",
      "Epoch: 043, Train Loss: 0.0017, Test Loss 0.0357, Train Acc: 1.0000, Test Acc: 0.6316\n",
      "Epoch: 044, Train Loss: 0.0016, Test Loss 0.0358, Train Acc: 1.0000, Test Acc: 0.6316\n",
      "Epoch: 045, Train Loss: 0.0016, Test Loss 0.0365, Train Acc: 1.0000, Test Acc: 0.6316\n",
      "Epoch: 046, Train Loss: 0.0017, Test Loss 0.0358, Train Acc: 1.0000, Test Acc: 0.6316\n",
      "Epoch: 047, Train Loss: 0.0017, Test Loss 0.0354, Train Acc: 1.0000, Test Acc: 0.6316\n",
      "Epoch: 048, Train Loss: 0.0017, Test Loss 0.0349, Train Acc: 1.0000, Test Acc: 0.6316\n",
      "Epoch: 049, Train Loss: 0.0016, Test Loss 0.0356, Train Acc: 1.0000, Test Acc: 0.6316\n",
      "4\n",
      "Epoch: 000, Train Loss: 0.0252, Test Loss 0.0359, Train Acc: 0.5354, Test Acc: 0.5789\n",
      "Epoch: 001, Train Loss: 0.0244, Test Loss 0.0355, Train Acc: 0.5000, Test Acc: 0.5789\n",
      "Epoch: 002, Train Loss: 0.0228, Test Loss 0.0350, Train Acc: 0.6833, Test Acc: 0.5789\n",
      "Epoch: 003, Train Loss: 0.0207, Test Loss 0.0345, Train Acc: 0.9062, Test Acc: 0.5789\n",
      "Epoch: 004, Train Loss: 0.0181, Test Loss 0.0343, Train Acc: 0.9438, Test Acc: 0.5263\n",
      "Epoch: 005, Train Loss: 0.0160, Test Loss 0.0340, Train Acc: 0.9937, Test Acc: 0.5263\n",
      "Epoch: 006, Train Loss: 0.0130, Test Loss 0.0341, Train Acc: 0.9937, Test Acc: 0.5263\n",
      "Epoch: 007, Train Loss: 0.0108, Test Loss 0.0334, Train Acc: 1.0000, Test Acc: 0.5263\n",
      "Epoch: 008, Train Loss: 0.0083, Test Loss 0.0331, Train Acc: 1.0000, Test Acc: 0.5789\n",
      "Epoch: 009, Train Loss: 0.0064, Test Loss 0.0335, Train Acc: 1.0000, Test Acc: 0.5263\n",
      "Epoch: 010, Train Loss: 0.0046, Test Loss 0.0345, Train Acc: 1.0000, Test Acc: 0.5789\n",
      "Epoch: 011, Train Loss: 0.0037, Test Loss 0.0354, Train Acc: 1.0000, Test Acc: 0.5263\n",
      "Epoch: 012, Train Loss: 0.0038, Test Loss 0.0356, Train Acc: 1.0000, Test Acc: 0.5789\n",
      "Epoch: 013, Train Loss: 0.0032, Test Loss 0.0357, Train Acc: 1.0000, Test Acc: 0.5263\n",
      "Epoch: 014, Train Loss: 0.0029, Test Loss 0.0357, Train Acc: 1.0000, Test Acc: 0.5789\n",
      "Epoch: 015, Train Loss: 0.0029, Test Loss 0.0356, Train Acc: 1.0000, Test Acc: 0.5789\n",
      "Epoch: 016, Train Loss: 0.0028, Test Loss 0.0354, Train Acc: 1.0000, Test Acc: 0.5789\n",
      "Epoch: 017, Train Loss: 0.0030, Test Loss 0.0354, Train Acc: 1.0000, Test Acc: 0.5789\n",
      "Epoch: 018, Train Loss: 0.0027, Test Loss 0.0353, Train Acc: 1.0000, Test Acc: 0.5789\n",
      "Epoch: 019, Train Loss: 0.0026, Test Loss 0.0352, Train Acc: 1.0000, Test Acc: 0.5789\n",
      "Epoch: 020, Train Loss: 0.0027, Test Loss 0.0352, Train Acc: 1.0000, Test Acc: 0.6316\n",
      "Epoch: 021, Train Loss: 0.0025, Test Loss 0.0352, Train Acc: 1.0000, Test Acc: 0.5789\n",
      "Epoch: 022, Train Loss: 0.0023, Test Loss 0.0353, Train Acc: 1.0000, Test Acc: 0.6316\n",
      "Epoch: 023, Train Loss: 0.0024, Test Loss 0.0352, Train Acc: 1.0000, Test Acc: 0.5789\n",
      "Epoch: 024, Train Loss: 0.0024, Test Loss 0.0352, Train Acc: 1.0000, Test Acc: 0.6316\n",
      "Epoch: 025, Train Loss: 0.0023, Test Loss 0.0352, Train Acc: 1.0000, Test Acc: 0.5789\n",
      "Epoch: 026, Train Loss: 0.0022, Test Loss 0.0354, Train Acc: 1.0000, Test Acc: 0.6316\n",
      "Epoch: 027, Train Loss: 0.0024, Test Loss 0.0352, Train Acc: 1.0000, Test Acc: 0.6316\n",
      "Epoch: 028, Train Loss: 0.0025, Test Loss 0.0352, Train Acc: 1.0000, Test Acc: 0.5789\n",
      "Epoch: 029, Train Loss: 0.0023, Test Loss 0.0352, Train Acc: 1.0000, Test Acc: 0.6316\n",
      "Epoch: 030, Train Loss: 0.0022, Test Loss 0.0353, Train Acc: 1.0000, Test Acc: 0.6316\n",
      "Epoch: 031, Train Loss: 0.0023, Test Loss 0.0352, Train Acc: 1.0000, Test Acc: 0.5789\n",
      "Epoch: 032, Train Loss: 0.0021, Test Loss 0.0352, Train Acc: 1.0000, Test Acc: 0.6316\n",
      "Epoch: 033, Train Loss: 0.0021, Test Loss 0.0352, Train Acc: 1.0000, Test Acc: 0.6316\n",
      "Epoch: 034, Train Loss: 0.0022, Test Loss 0.0352, Train Acc: 1.0000, Test Acc: 0.6316\n",
      "Epoch: 035, Train Loss: 0.0026, Test Loss 0.0352, Train Acc: 1.0000, Test Acc: 0.5789\n",
      "Epoch: 036, Train Loss: 0.0025, Test Loss 0.0350, Train Acc: 1.0000, Test Acc: 0.5789\n",
      "Epoch: 037, Train Loss: 0.0022, Test Loss 0.0350, Train Acc: 1.0000, Test Acc: 0.6316\n",
      "Epoch: 038, Train Loss: 0.0023, Test Loss 0.0350, Train Acc: 1.0000, Test Acc: 0.6316\n",
      "Epoch: 039, Train Loss: 0.0023, Test Loss 0.0351, Train Acc: 1.0000, Test Acc: 0.6316\n",
      "Epoch: 040, Train Loss: 0.0021, Test Loss 0.0352, Train Acc: 1.0000, Test Acc: 0.6316\n",
      "Epoch: 041, Train Loss: 0.0022, Test Loss 0.0354, Train Acc: 1.0000, Test Acc: 0.6316\n",
      "Epoch: 042, Train Loss: 0.0022, Test Loss 0.0351, Train Acc: 1.0000, Test Acc: 0.6316\n",
      "Epoch: 043, Train Loss: 0.0023, Test Loss 0.0351, Train Acc: 1.0000, Test Acc: 0.6316\n",
      "Epoch: 044, Train Loss: 0.0022, Test Loss 0.0349, Train Acc: 1.0000, Test Acc: 0.6316\n",
      "Epoch: 045, Train Loss: 0.0022, Test Loss 0.0352, Train Acc: 1.0000, Test Acc: 0.6316\n",
      "Epoch: 046, Train Loss: 0.0022, Test Loss 0.0352, Train Acc: 1.0000, Test Acc: 0.6316\n",
      "Epoch: 047, Train Loss: 0.0019, Test Loss 0.0356, Train Acc: 1.0000, Test Acc: 0.6316\n",
      "Epoch: 048, Train Loss: 0.0022, Test Loss 0.0354, Train Acc: 1.0000, Test Acc: 0.6316\n",
      "Epoch: 049, Train Loss: 0.0021, Test Loss 0.0352, Train Acc: 1.0000, Test Acc: 0.6316\n",
      "5\n",
      "Epoch: 000, Train Loss: 0.0253, Test Loss 0.0358, Train Acc: 0.5083, Test Acc: 0.5789\n",
      "Epoch: 001, Train Loss: 0.0251, Test Loss 0.0354, Train Acc: 0.4271, Test Acc: 0.5789\n",
      "Epoch: 002, Train Loss: 0.0238, Test Loss 0.0352, Train Acc: 0.5938, Test Acc: 0.5789\n",
      "Epoch: 003, Train Loss: 0.0218, Test Loss 0.0347, Train Acc: 0.8792, Test Acc: 0.5263\n",
      "Epoch: 004, Train Loss: 0.0197, Test Loss 0.0345, Train Acc: 0.9875, Test Acc: 0.5263\n",
      "Epoch: 005, Train Loss: 0.0173, Test Loss 0.0344, Train Acc: 1.0000, Test Acc: 0.5263\n",
      "Epoch: 006, Train Loss: 0.0145, Test Loss 0.0348, Train Acc: 1.0000, Test Acc: 0.5263\n",
      "Epoch: 007, Train Loss: 0.0120, Test Loss 0.0348, Train Acc: 1.0000, Test Acc: 0.5263\n",
      "Epoch: 008, Train Loss: 0.0095, Test Loss 0.0341, Train Acc: 1.0000, Test Acc: 0.6316\n",
      "Epoch: 009, Train Loss: 0.0071, Test Loss 0.0332, Train Acc: 1.0000, Test Acc: 0.5263\n",
      "Epoch: 010, Train Loss: 0.0057, Test Loss 0.0335, Train Acc: 1.0000, Test Acc: 0.5789\n",
      "Epoch: 011, Train Loss: 0.0038, Test Loss 0.0339, Train Acc: 1.0000, Test Acc: 0.6316\n",
      "Epoch: 012, Train Loss: 0.0035, Test Loss 0.0337, Train Acc: 1.0000, Test Acc: 0.6316\n",
      "Epoch: 013, Train Loss: 0.0036, Test Loss 0.0333, Train Acc: 1.0000, Test Acc: 0.5263\n",
      "Epoch: 014, Train Loss: 0.0036, Test Loss 0.0335, Train Acc: 1.0000, Test Acc: 0.5263\n",
      "Epoch: 015, Train Loss: 0.0035, Test Loss 0.0336, Train Acc: 1.0000, Test Acc: 0.5263\n",
      "Epoch: 016, Train Loss: 0.0034, Test Loss 0.0337, Train Acc: 1.0000, Test Acc: 0.5263\n",
      "Epoch: 017, Train Loss: 0.0033, Test Loss 0.0339, Train Acc: 1.0000, Test Acc: 0.5263\n",
      "Epoch: 018, Train Loss: 0.0032, Test Loss 0.0339, Train Acc: 1.0000, Test Acc: 0.5263\n",
      "Epoch: 019, Train Loss: 0.0030, Test Loss 0.0339, Train Acc: 1.0000, Test Acc: 0.5263\n",
      "Epoch: 020, Train Loss: 0.0029, Test Loss 0.0340, Train Acc: 1.0000, Test Acc: 0.5263\n",
      "Epoch: 021, Train Loss: 0.0029, Test Loss 0.0339, Train Acc: 1.0000, Test Acc: 0.5263\n",
      "Epoch: 022, Train Loss: 0.0029, Test Loss 0.0343, Train Acc: 1.0000, Test Acc: 0.5263\n",
      "Epoch: 023, Train Loss: 0.0026, Test Loss 0.0347, Train Acc: 1.0000, Test Acc: 0.5263\n",
      "Epoch: 024, Train Loss: 0.0025, Test Loss 0.0356, Train Acc: 1.0000, Test Acc: 0.6316\n",
      "Epoch: 025, Train Loss: 0.0026, Test Loss 0.0352, Train Acc: 1.0000, Test Acc: 0.5789\n",
      "Epoch: 026, Train Loss: 0.0027, Test Loss 0.0343, Train Acc: 1.0000, Test Acc: 0.5789\n",
      "Epoch: 027, Train Loss: 0.0027, Test Loss 0.0342, Train Acc: 1.0000, Test Acc: 0.5789\n",
      "Epoch: 028, Train Loss: 0.0028, Test Loss 0.0339, Train Acc: 1.0000, Test Acc: 0.5263\n",
      "Epoch: 029, Train Loss: 0.0027, Test Loss 0.0341, Train Acc: 1.0000, Test Acc: 0.5789\n",
      "Epoch: 030, Train Loss: 0.0026, Test Loss 0.0342, Train Acc: 1.0000, Test Acc: 0.5263\n",
      "Epoch: 031, Train Loss: 0.0026, Test Loss 0.0340, Train Acc: 1.0000, Test Acc: 0.5263\n",
      "Epoch: 032, Train Loss: 0.0027, Test Loss 0.0341, Train Acc: 1.0000, Test Acc: 0.5263\n",
      "Epoch: 033, Train Loss: 0.0027, Test Loss 0.0341, Train Acc: 1.0000, Test Acc: 0.5263\n",
      "Epoch: 034, Train Loss: 0.0027, Test Loss 0.0339, Train Acc: 1.0000, Test Acc: 0.5263\n",
      "Epoch: 035, Train Loss: 0.0027, Test Loss 0.0339, Train Acc: 1.0000, Test Acc: 0.5263\n",
      "Epoch: 036, Train Loss: 0.0026, Test Loss 0.0339, Train Acc: 1.0000, Test Acc: 0.5263\n",
      "Epoch: 037, Train Loss: 0.0027, Test Loss 0.0340, Train Acc: 1.0000, Test Acc: 0.5263\n",
      "Epoch: 038, Train Loss: 0.0028, Test Loss 0.0338, Train Acc: 1.0000, Test Acc: 0.5263\n",
      "Epoch: 039, Train Loss: 0.0028, Test Loss 0.0338, Train Acc: 1.0000, Test Acc: 0.5263\n",
      "Epoch: 040, Train Loss: 0.0027, Test Loss 0.0340, Train Acc: 1.0000, Test Acc: 0.5263\n",
      "Epoch: 041, Train Loss: 0.0028, Test Loss 0.0340, Train Acc: 1.0000, Test Acc: 0.5263\n",
      "Epoch: 042, Train Loss: 0.0027, Test Loss 0.0338, Train Acc: 1.0000, Test Acc: 0.5263\n",
      "Epoch: 043, Train Loss: 0.0027, Test Loss 0.0338, Train Acc: 1.0000, Test Acc: 0.5263\n",
      "Epoch: 044, Train Loss: 0.0027, Test Loss 0.0339, Train Acc: 1.0000, Test Acc: 0.5263\n",
      "Epoch: 045, Train Loss: 0.0029, Test Loss 0.0339, Train Acc: 1.0000, Test Acc: 0.5263\n",
      "Epoch: 046, Train Loss: 0.0028, Test Loss 0.0339, Train Acc: 1.0000, Test Acc: 0.5263\n",
      "Epoch: 047, Train Loss: 0.0027, Test Loss 0.0343, Train Acc: 1.0000, Test Acc: 0.5263\n",
      "Epoch: 048, Train Loss: 0.0026, Test Loss 0.0340, Train Acc: 1.0000, Test Acc: 0.5263\n",
      "Epoch: 049, Train Loss: 0.0029, Test Loss 0.0340, Train Acc: 1.0000, Test Acc: 0.5263\n",
      "6\n",
      "Epoch: 000, Train Loss: 0.0256, Test Loss 0.0361, Train Acc: 0.5271, Test Acc: 0.5789\n",
      "Epoch: 001, Train Loss: 0.0255, Test Loss 0.0357, Train Acc: 0.4729, Test Acc: 0.5789\n",
      "Epoch: 002, Train Loss: 0.0242, Test Loss 0.0354, Train Acc: 0.5542, Test Acc: 0.5789\n",
      "Epoch: 003, Train Loss: 0.0233, Test Loss 0.0352, Train Acc: 0.5312, Test Acc: 0.5789\n",
      "Epoch: 004, Train Loss: 0.0218, Test Loss 0.0347, Train Acc: 0.6667, Test Acc: 0.5263\n",
      "Epoch: 005, Train Loss: 0.0183, Test Loss 0.0345, Train Acc: 0.9563, Test Acc: 0.5263\n",
      "Epoch: 006, Train Loss: 0.0153, Test Loss 0.0342, Train Acc: 1.0000, Test Acc: 0.5263\n",
      "Epoch: 007, Train Loss: 0.0119, Test Loss 0.0339, Train Acc: 1.0000, Test Acc: 0.5789\n",
      "Epoch: 008, Train Loss: 0.0100, Test Loss 0.0334, Train Acc: 1.0000, Test Acc: 0.5789\n",
      "Epoch: 009, Train Loss: 0.0079, Test Loss 0.0329, Train Acc: 1.0000, Test Acc: 0.6316\n",
      "Epoch: 010, Train Loss: 0.0065, Test Loss 0.0328, Train Acc: 1.0000, Test Acc: 0.5789\n",
      "Epoch: 011, Train Loss: 0.0049, Test Loss 0.0332, Train Acc: 1.0000, Test Acc: 0.6316\n",
      "Epoch: 012, Train Loss: 0.0051, Test Loss 0.0335, Train Acc: 1.0000, Test Acc: 0.6316\n",
      "Epoch: 013, Train Loss: 0.0046, Test Loss 0.0335, Train Acc: 1.0000, Test Acc: 0.6316\n",
      "Epoch: 014, Train Loss: 0.0040, Test Loss 0.0337, Train Acc: 1.0000, Test Acc: 0.6842\n",
      "Epoch: 015, Train Loss: 0.0041, Test Loss 0.0340, Train Acc: 1.0000, Test Acc: 0.6842\n",
      "Epoch: 016, Train Loss: 0.0040, Test Loss 0.0339, Train Acc: 1.0000, Test Acc: 0.6842\n",
      "Epoch: 017, Train Loss: 0.0039, Test Loss 0.0341, Train Acc: 1.0000, Test Acc: 0.6842\n",
      "Epoch: 018, Train Loss: 0.0037, Test Loss 0.0339, Train Acc: 1.0000, Test Acc: 0.6842\n",
      "Epoch: 019, Train Loss: 0.0037, Test Loss 0.0341, Train Acc: 1.0000, Test Acc: 0.6842\n",
      "Epoch: 020, Train Loss: 0.0037, Test Loss 0.0339, Train Acc: 1.0000, Test Acc: 0.6842\n",
      "Epoch: 021, Train Loss: 0.0035, Test Loss 0.0337, Train Acc: 1.0000, Test Acc: 0.6842\n",
      "Epoch: 022, Train Loss: 0.0033, Test Loss 0.0338, Train Acc: 1.0000, Test Acc: 0.6842\n",
      "Epoch: 023, Train Loss: 0.0031, Test Loss 0.0346, Train Acc: 1.0000, Test Acc: 0.6842\n",
      "Epoch: 024, Train Loss: 0.0034, Test Loss 0.0343, Train Acc: 1.0000, Test Acc: 0.7368\n",
      "Epoch: 025, Train Loss: 0.0034, Test Loss 0.0341, Train Acc: 1.0000, Test Acc: 0.7368\n",
      "Epoch: 026, Train Loss: 0.0035, Test Loss 0.0341, Train Acc: 1.0000, Test Acc: 0.6842\n",
      "Epoch: 027, Train Loss: 0.0032, Test Loss 0.0346, Train Acc: 1.0000, Test Acc: 0.6842\n",
      "Epoch: 028, Train Loss: 0.0033, Test Loss 0.0344, Train Acc: 1.0000, Test Acc: 0.7368\n",
      "Epoch: 029, Train Loss: 0.0034, Test Loss 0.0344, Train Acc: 1.0000, Test Acc: 0.6842\n",
      "Epoch: 030, Train Loss: 0.0034, Test Loss 0.0341, Train Acc: 1.0000, Test Acc: 0.7368\n",
      "Epoch: 031, Train Loss: 0.0034, Test Loss 0.0341, Train Acc: 1.0000, Test Acc: 0.7368\n",
      "Epoch: 032, Train Loss: 0.0033, Test Loss 0.0341, Train Acc: 1.0000, Test Acc: 0.6842\n",
      "Epoch: 033, Train Loss: 0.0031, Test Loss 0.0339, Train Acc: 1.0000, Test Acc: 0.6842\n",
      "Epoch: 034, Train Loss: 0.0035, Test Loss 0.0338, Train Acc: 1.0000, Test Acc: 0.6316\n",
      "Epoch: 035, Train Loss: 0.0034, Test Loss 0.0341, Train Acc: 1.0000, Test Acc: 0.7368\n",
      "Epoch: 036, Train Loss: 0.0032, Test Loss 0.0338, Train Acc: 1.0000, Test Acc: 0.6842\n",
      "Epoch: 037, Train Loss: 0.0033, Test Loss 0.0338, Train Acc: 1.0000, Test Acc: 0.6842\n",
      "Epoch: 038, Train Loss: 0.0031, Test Loss 0.0338, Train Acc: 1.0000, Test Acc: 0.6842\n",
      "Epoch: 039, Train Loss: 0.0035, Test Loss 0.0339, Train Acc: 1.0000, Test Acc: 0.6842\n",
      "Epoch: 040, Train Loss: 0.0031, Test Loss 0.0339, Train Acc: 1.0000, Test Acc: 0.6842\n",
      "Epoch: 041, Train Loss: 0.0034, Test Loss 0.0339, Train Acc: 1.0000, Test Acc: 0.6842\n",
      "Epoch: 042, Train Loss: 0.0033, Test Loss 0.0338, Train Acc: 1.0000, Test Acc: 0.6316\n",
      "Epoch: 043, Train Loss: 0.0034, Test Loss 0.0339, Train Acc: 1.0000, Test Acc: 0.6316\n",
      "Epoch: 044, Train Loss: 0.0033, Test Loss 0.0341, Train Acc: 1.0000, Test Acc: 0.6842\n",
      "Epoch: 045, Train Loss: 0.0032, Test Loss 0.0341, Train Acc: 1.0000, Test Acc: 0.6842\n",
      "Epoch: 046, Train Loss: 0.0035, Test Loss 0.0341, Train Acc: 1.0000, Test Acc: 0.6842\n",
      "Epoch: 047, Train Loss: 0.0033, Test Loss 0.0341, Train Acc: 1.0000, Test Acc: 0.6842\n",
      "Epoch: 048, Train Loss: 0.0031, Test Loss 0.0342, Train Acc: 1.0000, Test Acc: 0.6842\n",
      "Epoch: 049, Train Loss: 0.0030, Test Loss 0.0342, Train Acc: 1.0000, Test Acc: 0.7368\n",
      "7\n",
      "Epoch: 000, Train Loss: 0.0259, Test Loss 0.0358, Train Acc: 0.5083, Test Acc: 0.5789\n",
      "Epoch: 001, Train Loss: 0.0258, Test Loss 0.0356, Train Acc: 0.4542, Test Acc: 0.5789\n",
      "Epoch: 002, Train Loss: 0.0248, Test Loss 0.0354, Train Acc: 0.4604, Test Acc: 0.5789\n",
      "Epoch: 003, Train Loss: 0.0221, Test Loss 0.0350, Train Acc: 0.6125, Test Acc: 0.5789\n",
      "Epoch: 004, Train Loss: 0.0211, Test Loss 0.0348, Train Acc: 0.6604, Test Acc: 0.5789\n",
      "Epoch: 005, Train Loss: 0.0190, Test Loss 0.0345, Train Acc: 0.8792, Test Acc: 0.5789\n",
      "Epoch: 006, Train Loss: 0.0152, Test Loss 0.0344, Train Acc: 0.9812, Test Acc: 0.5263\n",
      "Epoch: 007, Train Loss: 0.0122, Test Loss 0.0343, Train Acc: 1.0000, Test Acc: 0.5789\n",
      "Epoch: 008, Train Loss: 0.0089, Test Loss 0.0341, Train Acc: 1.0000, Test Acc: 0.6842\n",
      "Epoch: 009, Train Loss: 0.0071, Test Loss 0.0344, Train Acc: 1.0000, Test Acc: 0.6316\n",
      "Epoch: 010, Train Loss: 0.0053, Test Loss 0.0359, Train Acc: 1.0000, Test Acc: 0.6316\n",
      "Epoch: 011, Train Loss: 0.0043, Test Loss 0.0365, Train Acc: 1.0000, Test Acc: 0.6316\n",
      "Epoch: 012, Train Loss: 0.0040, Test Loss 0.0367, Train Acc: 1.0000, Test Acc: 0.6316\n",
      "Epoch: 013, Train Loss: 0.0037, Test Loss 0.0366, Train Acc: 1.0000, Test Acc: 0.6316\n",
      "Epoch: 014, Train Loss: 0.0034, Test Loss 0.0367, Train Acc: 1.0000, Test Acc: 0.6316\n",
      "Epoch: 015, Train Loss: 0.0034, Test Loss 0.0367, Train Acc: 1.0000, Test Acc: 0.6316\n",
      "Epoch: 016, Train Loss: 0.0033, Test Loss 0.0366, Train Acc: 1.0000, Test Acc: 0.6316\n",
      "Epoch: 017, Train Loss: 0.0032, Test Loss 0.0365, Train Acc: 1.0000, Test Acc: 0.6316\n",
      "Epoch: 018, Train Loss: 0.0032, Test Loss 0.0365, Train Acc: 1.0000, Test Acc: 0.6316\n",
      "Epoch: 019, Train Loss: 0.0030, Test Loss 0.0365, Train Acc: 1.0000, Test Acc: 0.6316\n",
      "Epoch: 020, Train Loss: 0.0028, Test Loss 0.0366, Train Acc: 1.0000, Test Acc: 0.6316\n",
      "Epoch: 021, Train Loss: 0.0030, Test Loss 0.0371, Train Acc: 1.0000, Test Acc: 0.5789\n",
      "Epoch: 022, Train Loss: 0.0028, Test Loss 0.0365, Train Acc: 1.0000, Test Acc: 0.6316\n",
      "Epoch: 023, Train Loss: 0.0026, Test Loss 0.0363, Train Acc: 1.0000, Test Acc: 0.6316\n",
      "Epoch: 024, Train Loss: 0.0026, Test Loss 0.0363, Train Acc: 1.0000, Test Acc: 0.6316\n",
      "Epoch: 025, Train Loss: 0.0025, Test Loss 0.0362, Train Acc: 1.0000, Test Acc: 0.6316\n",
      "Epoch: 026, Train Loss: 0.0027, Test Loss 0.0363, Train Acc: 1.0000, Test Acc: 0.6316\n",
      "Epoch: 027, Train Loss: 0.0027, Test Loss 0.0363, Train Acc: 1.0000, Test Acc: 0.6316\n",
      "Epoch: 028, Train Loss: 0.0027, Test Loss 0.0364, Train Acc: 1.0000, Test Acc: 0.6316\n",
      "Epoch: 029, Train Loss: 0.0025, Test Loss 0.0364, Train Acc: 1.0000, Test Acc: 0.6316\n",
      "Epoch: 030, Train Loss: 0.0024, Test Loss 0.0367, Train Acc: 1.0000, Test Acc: 0.6316\n",
      "Epoch: 031, Train Loss: 0.0025, Test Loss 0.0365, Train Acc: 1.0000, Test Acc: 0.6316\n",
      "Epoch: 032, Train Loss: 0.0026, Test Loss 0.0362, Train Acc: 1.0000, Test Acc: 0.6316\n",
      "Epoch: 033, Train Loss: 0.0027, Test Loss 0.0362, Train Acc: 1.0000, Test Acc: 0.6316\n",
      "Epoch: 034, Train Loss: 0.0026, Test Loss 0.0364, Train Acc: 1.0000, Test Acc: 0.6316\n",
      "Epoch: 035, Train Loss: 0.0027, Test Loss 0.0363, Train Acc: 1.0000, Test Acc: 0.6316\n",
      "Epoch: 036, Train Loss: 0.0026, Test Loss 0.0362, Train Acc: 1.0000, Test Acc: 0.6316\n",
      "Epoch: 037, Train Loss: 0.0026, Test Loss 0.0362, Train Acc: 1.0000, Test Acc: 0.6316\n",
      "Epoch: 038, Train Loss: 0.0025, Test Loss 0.0363, Train Acc: 1.0000, Test Acc: 0.6316\n",
      "Epoch: 039, Train Loss: 0.0026, Test Loss 0.0361, Train Acc: 1.0000, Test Acc: 0.6316\n",
      "Epoch: 040, Train Loss: 0.0025, Test Loss 0.0364, Train Acc: 1.0000, Test Acc: 0.6316\n",
      "Epoch: 041, Train Loss: 0.0026, Test Loss 0.0364, Train Acc: 1.0000, Test Acc: 0.6316\n",
      "Epoch: 042, Train Loss: 0.0026, Test Loss 0.0362, Train Acc: 1.0000, Test Acc: 0.6316\n",
      "Epoch: 043, Train Loss: 0.0026, Test Loss 0.0366, Train Acc: 1.0000, Test Acc: 0.6316\n",
      "Epoch: 044, Train Loss: 0.0026, Test Loss 0.0363, Train Acc: 1.0000, Test Acc: 0.6316\n",
      "Epoch: 045, Train Loss: 0.0025, Test Loss 0.0363, Train Acc: 1.0000, Test Acc: 0.6316\n",
      "Epoch: 046, Train Loss: 0.0026, Test Loss 0.0362, Train Acc: 1.0000, Test Acc: 0.6316\n",
      "Epoch: 047, Train Loss: 0.0027, Test Loss 0.0360, Train Acc: 1.0000, Test Acc: 0.6316\n",
      "Epoch: 048, Train Loss: 0.0027, Test Loss 0.0360, Train Acc: 1.0000, Test Acc: 0.6316\n",
      "Epoch: 049, Train Loss: 0.0028, Test Loss 0.0362, Train Acc: 1.0000, Test Acc: 0.6316\n",
      "8\n",
      "Epoch: 000, Train Loss: 0.0259, Test Loss 0.0374, Train Acc: 0.4917, Test Acc: 0.4211\n",
      "Epoch: 001, Train Loss: 0.0255, Test Loss 0.0374, Train Acc: 0.4917, Test Acc: 0.4211\n",
      "Epoch: 002, Train Loss: 0.0251, Test Loss 0.0372, Train Acc: 0.4708, Test Acc: 0.4211\n",
      "Epoch: 003, Train Loss: 0.0233, Test Loss 0.0369, Train Acc: 0.6667, Test Acc: 0.4737\n",
      "Epoch: 004, Train Loss: 0.0216, Test Loss 0.0362, Train Acc: 0.8313, Test Acc: 0.5789\n",
      "Epoch: 005, Train Loss: 0.0198, Test Loss 0.0352, Train Acc: 0.9104, Test Acc: 0.6316\n",
      "Epoch: 006, Train Loss: 0.0172, Test Loss 0.0348, Train Acc: 0.9625, Test Acc: 0.6842\n",
      "Epoch: 007, Train Loss: 0.0137, Test Loss 0.0343, Train Acc: 0.9812, Test Acc: 0.6316\n",
      "Epoch: 008, Train Loss: 0.0115, Test Loss 0.0345, Train Acc: 1.0000, Test Acc: 0.6842\n",
      "Epoch: 009, Train Loss: 0.0087, Test Loss 0.0334, Train Acc: 1.0000, Test Acc: 0.5263\n",
      "Epoch: 010, Train Loss: 0.0064, Test Loss 0.0335, Train Acc: 1.0000, Test Acc: 0.5263\n",
      "Epoch: 011, Train Loss: 0.0049, Test Loss 0.0333, Train Acc: 1.0000, Test Acc: 0.6316\n",
      "Epoch: 012, Train Loss: 0.0048, Test Loss 0.0333, Train Acc: 1.0000, Test Acc: 0.6316\n",
      "Epoch: 013, Train Loss: 0.0046, Test Loss 0.0326, Train Acc: 1.0000, Test Acc: 0.5789\n",
      "Epoch: 014, Train Loss: 0.0045, Test Loss 0.0330, Train Acc: 1.0000, Test Acc: 0.6316\n",
      "Epoch: 015, Train Loss: 0.0043, Test Loss 0.0332, Train Acc: 1.0000, Test Acc: 0.6316\n",
      "Epoch: 016, Train Loss: 0.0041, Test Loss 0.0332, Train Acc: 1.0000, Test Acc: 0.6316\n",
      "Epoch: 017, Train Loss: 0.0038, Test Loss 0.0338, Train Acc: 1.0000, Test Acc: 0.5789\n",
      "Epoch: 018, Train Loss: 0.0037, Test Loss 0.0332, Train Acc: 1.0000, Test Acc: 0.6316\n",
      "Epoch: 019, Train Loss: 0.0037, Test Loss 0.0326, Train Acc: 1.0000, Test Acc: 0.5789\n",
      "Epoch: 020, Train Loss: 0.0037, Test Loss 0.0329, Train Acc: 1.0000, Test Acc: 0.5789\n",
      "Epoch: 021, Train Loss: 0.0036, Test Loss 0.0343, Train Acc: 1.0000, Test Acc: 0.5789\n",
      "Epoch: 022, Train Loss: 0.0035, Test Loss 0.0340, Train Acc: 1.0000, Test Acc: 0.5789\n",
      "Epoch: 023, Train Loss: 0.0032, Test Loss 0.0335, Train Acc: 1.0000, Test Acc: 0.5789\n",
      "Epoch: 024, Train Loss: 0.0033, Test Loss 0.0332, Train Acc: 1.0000, Test Acc: 0.5789\n",
      "Epoch: 025, Train Loss: 0.0033, Test Loss 0.0338, Train Acc: 1.0000, Test Acc: 0.5789\n",
      "Epoch: 026, Train Loss: 0.0033, Test Loss 0.0330, Train Acc: 1.0000, Test Acc: 0.5789\n",
      "Epoch: 027, Train Loss: 0.0032, Test Loss 0.0334, Train Acc: 1.0000, Test Acc: 0.5789\n",
      "Epoch: 028, Train Loss: 0.0032, Test Loss 0.0334, Train Acc: 1.0000, Test Acc: 0.5789\n",
      "Epoch: 029, Train Loss: 0.0035, Test Loss 0.0341, Train Acc: 1.0000, Test Acc: 0.5789\n",
      "Epoch: 030, Train Loss: 0.0031, Test Loss 0.0333, Train Acc: 1.0000, Test Acc: 0.5789\n",
      "Epoch: 031, Train Loss: 0.0032, Test Loss 0.0331, Train Acc: 1.0000, Test Acc: 0.5789\n",
      "Epoch: 032, Train Loss: 0.0035, Test Loss 0.0338, Train Acc: 1.0000, Test Acc: 0.6316\n",
      "Epoch: 033, Train Loss: 0.0032, Test Loss 0.0354, Train Acc: 1.0000, Test Acc: 0.5789\n",
      "Epoch: 034, Train Loss: 0.0032, Test Loss 0.0348, Train Acc: 1.0000, Test Acc: 0.5789\n",
      "Epoch: 035, Train Loss: 0.0033, Test Loss 0.0347, Train Acc: 1.0000, Test Acc: 0.5789\n",
      "Epoch: 036, Train Loss: 0.0032, Test Loss 0.0358, Train Acc: 1.0000, Test Acc: 0.6316\n",
      "Epoch: 037, Train Loss: 0.0031, Test Loss 0.0358, Train Acc: 1.0000, Test Acc: 0.5789\n",
      "Epoch: 038, Train Loss: 0.0033, Test Loss 0.0349, Train Acc: 1.0000, Test Acc: 0.5789\n",
      "Epoch: 039, Train Loss: 0.0035, Test Loss 0.0339, Train Acc: 1.0000, Test Acc: 0.5789\n",
      "Epoch: 040, Train Loss: 0.0031, Test Loss 0.0339, Train Acc: 1.0000, Test Acc: 0.6316\n",
      "Epoch: 041, Train Loss: 0.0034, Test Loss 0.0339, Train Acc: 1.0000, Test Acc: 0.5789\n",
      "Epoch: 042, Train Loss: 0.0034, Test Loss 0.0344, Train Acc: 1.0000, Test Acc: 0.5789\n",
      "Epoch: 043, Train Loss: 0.0032, Test Loss 0.0355, Train Acc: 1.0000, Test Acc: 0.5789\n",
      "Epoch: 044, Train Loss: 0.0032, Test Loss 0.0352, Train Acc: 1.0000, Test Acc: 0.5789\n",
      "Epoch: 045, Train Loss: 0.0032, Test Loss 0.0340, Train Acc: 1.0000, Test Acc: 0.5789\n",
      "Epoch: 046, Train Loss: 0.0031, Test Loss 0.0334, Train Acc: 1.0000, Test Acc: 0.5263\n",
      "Epoch: 047, Train Loss: 0.0032, Test Loss 0.0338, Train Acc: 1.0000, Test Acc: 0.6316\n",
      "Epoch: 048, Train Loss: 0.0032, Test Loss 0.0351, Train Acc: 1.0000, Test Acc: 0.5789\n",
      "Epoch: 049, Train Loss: 0.0032, Test Loss 0.0336, Train Acc: 1.0000, Test Acc: 0.6316\n",
      "9\n",
      "Epoch: 000, Train Loss: 0.0258, Test Loss 0.0392, Train Acc: 0.5188, Test Acc: 0.4211\n",
      "Epoch: 001, Train Loss: 0.0248, Test Loss 0.0392, Train Acc: 0.5188, Test Acc: 0.4211\n",
      "Epoch: 002, Train Loss: 0.0241, Test Loss 0.0389, Train Acc: 0.4917, Test Acc: 0.4211\n",
      "Epoch: 003, Train Loss: 0.0220, Test Loss 0.0378, Train Acc: 0.5604, Test Acc: 0.4737\n",
      "Epoch: 004, Train Loss: 0.0180, Test Loss 0.0369, Train Acc: 0.8188, Test Acc: 0.5789\n",
      "Epoch: 005, Train Loss: 0.0155, Test Loss 0.0354, Train Acc: 0.9312, Test Acc: 0.5789\n",
      "Epoch: 006, Train Loss: 0.0137, Test Loss 0.0343, Train Acc: 1.0000, Test Acc: 0.6842\n",
      "Epoch: 007, Train Loss: 0.0103, Test Loss 0.0339, Train Acc: 1.0000, Test Acc: 0.6842\n",
      "Epoch: 008, Train Loss: 0.0076, Test Loss 0.0333, Train Acc: 1.0000, Test Acc: 0.6842\n",
      "Epoch: 009, Train Loss: 0.0060, Test Loss 0.0333, Train Acc: 1.0000, Test Acc: 0.6316\n",
      "Epoch: 010, Train Loss: 0.0045, Test Loss 0.0321, Train Acc: 1.0000, Test Acc: 0.6316\n",
      "Epoch: 011, Train Loss: 0.0037, Test Loss 0.0318, Train Acc: 1.0000, Test Acc: 0.6316\n",
      "Epoch: 012, Train Loss: 0.0031, Test Loss 0.0324, Train Acc: 1.0000, Test Acc: 0.6842\n",
      "Epoch: 013, Train Loss: 0.0031, Test Loss 0.0334, Train Acc: 1.0000, Test Acc: 0.6842\n",
      "Epoch: 014, Train Loss: 0.0032, Test Loss 0.0340, Train Acc: 1.0000, Test Acc: 0.6316\n",
      "Epoch: 015, Train Loss: 0.0029, Test Loss 0.0339, Train Acc: 1.0000, Test Acc: 0.6316\n",
      "Epoch: 016, Train Loss: 0.0026, Test Loss 0.0333, Train Acc: 1.0000, Test Acc: 0.6842\n",
      "Epoch: 017, Train Loss: 0.0026, Test Loss 0.0334, Train Acc: 1.0000, Test Acc: 0.6842\n",
      "Epoch: 018, Train Loss: 0.0025, Test Loss 0.0338, Train Acc: 1.0000, Test Acc: 0.6842\n",
      "Epoch: 019, Train Loss: 0.0023, Test Loss 0.0342, Train Acc: 1.0000, Test Acc: 0.6316\n",
      "Epoch: 020, Train Loss: 0.0025, Test Loss 0.0344, Train Acc: 1.0000, Test Acc: 0.6316\n",
      "Epoch: 021, Train Loss: 0.0024, Test Loss 0.0335, Train Acc: 1.0000, Test Acc: 0.6842\n",
      "Epoch: 022, Train Loss: 0.0022, Test Loss 0.0339, Train Acc: 1.0000, Test Acc: 0.6842\n",
      "Epoch: 023, Train Loss: 0.0022, Test Loss 0.0353, Train Acc: 1.0000, Test Acc: 0.6316\n",
      "Epoch: 024, Train Loss: 0.0022, Test Loss 0.0347, Train Acc: 1.0000, Test Acc: 0.6842\n",
      "Epoch: 025, Train Loss: 0.0021, Test Loss 0.0357, Train Acc: 1.0000, Test Acc: 0.6316\n",
      "Epoch: 026, Train Loss: 0.0021, Test Loss 0.0341, Train Acc: 1.0000, Test Acc: 0.6842\n",
      "Epoch: 027, Train Loss: 0.0021, Test Loss 0.0330, Train Acc: 1.0000, Test Acc: 0.6316\n",
      "Epoch: 028, Train Loss: 0.0021, Test Loss 0.0338, Train Acc: 1.0000, Test Acc: 0.6842\n",
      "Epoch: 029, Train Loss: 0.0022, Test Loss 0.0347, Train Acc: 1.0000, Test Acc: 0.6842\n",
      "Epoch: 030, Train Loss: 0.0021, Test Loss 0.0339, Train Acc: 1.0000, Test Acc: 0.6842\n",
      "Epoch: 031, Train Loss: 0.0021, Test Loss 0.0346, Train Acc: 1.0000, Test Acc: 0.6842\n",
      "Epoch: 032, Train Loss: 0.0021, Test Loss 0.0344, Train Acc: 1.0000, Test Acc: 0.6842\n",
      "Epoch: 033, Train Loss: 0.0022, Test Loss 0.0342, Train Acc: 1.0000, Test Acc: 0.6842\n",
      "Epoch: 034, Train Loss: 0.0022, Test Loss 0.0340, Train Acc: 1.0000, Test Acc: 0.6842\n",
      "Epoch: 035, Train Loss: 0.0020, Test Loss 0.0337, Train Acc: 1.0000, Test Acc: 0.6842\n",
      "Epoch: 036, Train Loss: 0.0021, Test Loss 0.0333, Train Acc: 1.0000, Test Acc: 0.6842\n",
      "Epoch: 037, Train Loss: 0.0020, Test Loss 0.0328, Train Acc: 1.0000, Test Acc: 0.6316\n",
      "Epoch: 038, Train Loss: 0.0022, Test Loss 0.0332, Train Acc: 1.0000, Test Acc: 0.6842\n",
      "Epoch: 039, Train Loss: 0.0020, Test Loss 0.0334, Train Acc: 1.0000, Test Acc: 0.6842\n",
      "Epoch: 040, Train Loss: 0.0021, Test Loss 0.0341, Train Acc: 1.0000, Test Acc: 0.6842\n",
      "Epoch: 041, Train Loss: 0.0022, Test Loss 0.0345, Train Acc: 1.0000, Test Acc: 0.6842\n",
      "Epoch: 042, Train Loss: 0.0021, Test Loss 0.0345, Train Acc: 1.0000, Test Acc: 0.6842\n",
      "Epoch: 043, Train Loss: 0.0021, Test Loss 0.0337, Train Acc: 1.0000, Test Acc: 0.6842\n",
      "Epoch: 044, Train Loss: 0.0020, Test Loss 0.0343, Train Acc: 1.0000, Test Acc: 0.6842\n",
      "Epoch: 045, Train Loss: 0.0020, Test Loss 0.0332, Train Acc: 1.0000, Test Acc: 0.6316\n",
      "Epoch: 046, Train Loss: 0.0019, Test Loss 0.0337, Train Acc: 1.0000, Test Acc: 0.6842\n",
      "Epoch: 047, Train Loss: 0.0021, Test Loss 0.0337, Train Acc: 1.0000, Test Acc: 0.6842\n",
      "Epoch: 048, Train Loss: 0.0019, Test Loss 0.0346, Train Acc: 1.0000, Test Acc: 0.6842\n",
      "Epoch: 049, Train Loss: 0.0021, Test Loss 0.0337, Train Acc: 1.0000, Test Acc: 0.6842\n"
     ]
    }
   ],
   "source": [
    "# GCN\n",
    "\n",
    "from sklearn.model_selection import StratifiedKFold\n",
    "from tqdm.notebook import tqdm\n",
    "\n",
    "skf = StratifiedKFold(n_splits=10, shuffle=True)\n",
    "eval_metrics = np.zeros((skf.n_splits, 3))\n",
    "\n",
    "labels = [full_dataset[i].y for i in range(len(full_dataset))]\n",
    "\n",
    "\n",
    "for n_fold, (train_idx, test_idx) in tqdm(enumerate(skf.split(labels, labels))):\n",
    "    model = GCN(full_dataset.num_features, channels=[256, 32, 8], dropout=0.3).to(device())\n",
    "    optimizer = torch.optim.Adam(model.parameters(), lr=0.001)\n",
    "    criterion = torch.nn.CrossEntropyLoss()\n",
    "    scheduler = lr_scheduler.StepLR(optimizer, step_size=50//4, gamma=0.1, last_epoch=-1, verbose=False)\n",
    "\n",
    "    train_loader_ = DataLoader(full_dataset[list(train_idx)], batch_size=8, shuffle=True)\n",
    "    test_loader_ = DataLoader(full_dataset[list(test_idx)], batch_size=8, shuffle=True)\n",
    "    min_v_loss = np.inf\n",
    "    print(n_fold)\n",
    "    pr, rc, acc = [], [], []\n",
    "    for epoch in range(50):\n",
    "        train_epoch(train_loader, model, criterion, optimizer)\n",
    "        train_loss, train_acc, _, _ = eval_epoch(train_loader, model, criterion)\n",
    "        val_loss, test_acc, _, _ = eval_epoch(val_loader, model, criterion)\n",
    "        #scheduler.step()\n",
    "        print(f'Epoch: {epoch:03d}, Train Loss: {train_loss:.4f}, Test Loss {val_loss:.4f}, Train Acc: {train_acc:.4f}, Test Acc: {test_acc:.4f}')\n",
    "        #print(f'Train Prec: {train_pr:.3f}, Train Rec: {train_rc:.3f}, Test Prec: {val_pr:.3f}, Test Rec: {val_rc:.3f}')\n",
    "        #rc.append(val_rc)\n",
    "        #pr.append(val_pr)\n",
    "        acc.append(test_acc)\n",
    "        if min_v_loss > val_loss:\n",
    "            min_v_loss = val_loss\n",
    "            best_test_acc = test_acc\n",
    "\n",
    "    eval_metrics[n_fold, 0] = best_test_acc\n",
    "    eval_metrics[n_fold, 1] = np.mean(acc)\n",
    "    eval_metrics[n_fold, 2] = np.std(acc)\n",
    "### eval_metrics[n_fold, 3] ="
   ]
  },
  {
   "cell_type": "code",
   "execution_count": 65,
   "metadata": {
    "collapsed": false
   },
   "outputs": [
    {
     "data": {
      "text/plain": [
       "array([[0.68421054, 0.61999995, 0.04856956],\n",
       "       [0.63157892, 0.60842103, 0.05383878],\n",
       "       [0.57894737, 0.50105268, 0.04109309],\n",
       "       [0.63157892, 0.60736841, 0.05689081],\n",
       "       [0.57894737, 0.59578943, 0.03712671],\n",
       "       [0.52631581, 0.54315788, 0.03234165],\n",
       "       [0.57894737, 0.66000003, 0.05689082],\n",
       "       [0.68421054, 0.62210524, 0.02510917],\n",
       "       [0.57894737, 0.58210522, 0.05511006],\n",
       "       [0.63157892, 0.64736837, 0.06922604]])"
      ]
     },
     "execution_count": 65,
     "metadata": {},
     "output_type": "execute_result"
    }
   ],
   "source": [
    "eval_metrics"
   ]
  },
  {
   "cell_type": "code",
   "execution_count": null,
   "metadata": {
    "collapsed": false
   },
   "outputs": [],
   "source": [
    "np.mean(eval_metrics[:, 1]), np.std(eval_metrics[:, 1])"
   ]
  },
  {
   "cell_type": "code",
   "execution_count": 66,
   "metadata": {
    "collapsed": false
   },
   "outputs": [
    {
     "data": {
      "application/vnd.jupyter.widget-view+json": {
       "model_id": "2bde862e294e42b58d7fba2de8e62f76",
       "version_major": 2,
       "version_minor": 0
      },
      "text/plain": [
       "0it [00:00, ?it/s]"
      ]
     },
     "metadata": {},
     "output_type": "display_data"
    },
    {
     "name": "stdout",
     "output_type": "stream",
     "text": [
      "0\n",
      "Epoch: 000, Train Loss: 0.0246, Test Loss 0.0361, Train Acc: 0.6812, Test Acc: 0.4211\n",
      "Epoch: 001, Train Loss: 0.0234, Test Loss 0.0353, Train Acc: 0.7125, Test Acc: 0.4737\n",
      "Epoch: 002, Train Loss: 0.0205, Test Loss 0.0336, Train Acc: 0.7979, Test Acc: 0.4211\n",
      "Epoch: 003, Train Loss: 0.0167, Test Loss 0.0329, Train Acc: 0.8979, Test Acc: 0.5263\n",
      "Epoch: 004, Train Loss: 0.0123, Test Loss 0.0333, Train Acc: 0.9688, Test Acc: 0.5789\n",
      "Epoch: 005, Train Loss: 0.0084, Test Loss 0.0360, Train Acc: 0.9750, Test Acc: 0.6316\n",
      "Epoch: 006, Train Loss: 0.0061, Test Loss 0.0393, Train Acc: 0.9875, Test Acc: 0.5263\n",
      "Epoch: 007, Train Loss: 0.0037, Test Loss 0.0437, Train Acc: 0.9937, Test Acc: 0.5789\n",
      "Epoch: 008, Train Loss: 0.0024, Test Loss 0.0469, Train Acc: 1.0000, Test Acc: 0.5263\n",
      "Epoch: 009, Train Loss: 0.0015, Test Loss 0.0484, Train Acc: 1.0000, Test Acc: 0.6316\n",
      "Epoch: 010, Train Loss: 0.0008, Test Loss 0.0498, Train Acc: 1.0000, Test Acc: 0.5789\n",
      "Epoch: 011, Train Loss: 0.0006, Test Loss 0.0526, Train Acc: 1.0000, Test Acc: 0.5263\n",
      "Epoch: 012, Train Loss: 0.0006, Test Loss 0.0528, Train Acc: 1.0000, Test Acc: 0.5263\n",
      "Epoch: 013, Train Loss: 0.0006, Test Loss 0.0531, Train Acc: 1.0000, Test Acc: 0.5263\n",
      "Epoch: 014, Train Loss: 0.0006, Test Loss 0.0532, Train Acc: 1.0000, Test Acc: 0.4737\n",
      "Epoch: 015, Train Loss: 0.0006, Test Loss 0.0532, Train Acc: 1.0000, Test Acc: 0.5263\n",
      "Epoch: 016, Train Loss: 0.0006, Test Loss 0.0538, Train Acc: 1.0000, Test Acc: 0.5263\n",
      "Epoch: 017, Train Loss: 0.0005, Test Loss 0.0537, Train Acc: 1.0000, Test Acc: 0.5263\n",
      "Epoch: 018, Train Loss: 0.0006, Test Loss 0.0537, Train Acc: 1.0000, Test Acc: 0.5263\n",
      "Epoch: 019, Train Loss: 0.0005, Test Loss 0.0547, Train Acc: 1.0000, Test Acc: 0.5263\n",
      "Epoch: 020, Train Loss: 0.0005, Test Loss 0.0549, Train Acc: 1.0000, Test Acc: 0.5263\n",
      "Epoch: 021, Train Loss: 0.0005, Test Loss 0.0547, Train Acc: 1.0000, Test Acc: 0.4737\n",
      "Epoch: 022, Train Loss: 0.0005, Test Loss 0.0550, Train Acc: 1.0000, Test Acc: 0.5263\n",
      "Epoch: 023, Train Loss: 0.0005, Test Loss 0.0549, Train Acc: 1.0000, Test Acc: 0.4737\n",
      "Epoch: 024, Train Loss: 0.0005, Test Loss 0.0547, Train Acc: 1.0000, Test Acc: 0.5789\n",
      "Epoch: 025, Train Loss: 0.0005, Test Loss 0.0554, Train Acc: 1.0000, Test Acc: 0.5789\n",
      "Epoch: 026, Train Loss: 0.0004, Test Loss 0.0552, Train Acc: 1.0000, Test Acc: 0.5789\n",
      "Epoch: 027, Train Loss: 0.0005, Test Loss 0.0549, Train Acc: 1.0000, Test Acc: 0.5789\n",
      "Epoch: 028, Train Loss: 0.0004, Test Loss 0.0552, Train Acc: 1.0000, Test Acc: 0.5789\n",
      "Epoch: 029, Train Loss: 0.0004, Test Loss 0.0552, Train Acc: 1.0000, Test Acc: 0.5789\n",
      "1\n",
      "Epoch: 000, Train Loss: 0.0246, Test Loss 0.0358, Train Acc: 0.6083, Test Acc: 0.5789\n",
      "Epoch: 001, Train Loss: 0.0230, Test Loss 0.0367, Train Acc: 0.7479, Test Acc: 0.4211\n",
      "Epoch: 002, Train Loss: 0.0203, Test Loss 0.0363, Train Acc: 0.8292, Test Acc: 0.4211\n",
      "Epoch: 003, Train Loss: 0.0154, Test Loss 0.0364, Train Acc: 0.9250, Test Acc: 0.4737\n",
      "Epoch: 004, Train Loss: 0.0116, Test Loss 0.0356, Train Acc: 0.9229, Test Acc: 0.4737\n",
      "Epoch: 005, Train Loss: 0.0090, Test Loss 0.0370, Train Acc: 0.9812, Test Acc: 0.4737\n",
      "Epoch: 006, Train Loss: 0.0043, Test Loss 0.0385, Train Acc: 1.0000, Test Acc: 0.5263\n",
      "Epoch: 007, Train Loss: 0.0028, Test Loss 0.0434, Train Acc: 1.0000, Test Acc: 0.6316\n",
      "Epoch: 008, Train Loss: 0.0015, Test Loss 0.0497, Train Acc: 1.0000, Test Acc: 0.6316\n",
      "Epoch: 009, Train Loss: 0.0014, Test Loss 0.0545, Train Acc: 1.0000, Test Acc: 0.5789\n",
      "Epoch: 010, Train Loss: 0.0010, Test Loss 0.0553, Train Acc: 1.0000, Test Acc: 0.6842\n",
      "Epoch: 011, Train Loss: 0.0005, Test Loss 0.0605, Train Acc: 1.0000, Test Acc: 0.6316\n",
      "Epoch: 012, Train Loss: 0.0005, Test Loss 0.0618, Train Acc: 1.0000, Test Acc: 0.5789\n",
      "Epoch: 013, Train Loss: 0.0005, Test Loss 0.0632, Train Acc: 1.0000, Test Acc: 0.5789\n",
      "Epoch: 014, Train Loss: 0.0005, Test Loss 0.0645, Train Acc: 1.0000, Test Acc: 0.5789\n",
      "Epoch: 015, Train Loss: 0.0005, Test Loss 0.0635, Train Acc: 1.0000, Test Acc: 0.5789\n",
      "Epoch: 016, Train Loss: 0.0005, Test Loss 0.0645, Train Acc: 1.0000, Test Acc: 0.5789\n",
      "Epoch: 017, Train Loss: 0.0004, Test Loss 0.0643, Train Acc: 1.0000, Test Acc: 0.5789\n",
      "Epoch: 018, Train Loss: 0.0004, Test Loss 0.0644, Train Acc: 1.0000, Test Acc: 0.5789\n",
      "Epoch: 019, Train Loss: 0.0003, Test Loss 0.0648, Train Acc: 1.0000, Test Acc: 0.5789\n",
      "Epoch: 020, Train Loss: 0.0004, Test Loss 0.0647, Train Acc: 1.0000, Test Acc: 0.5789\n",
      "Epoch: 021, Train Loss: 0.0004, Test Loss 0.0637, Train Acc: 1.0000, Test Acc: 0.6316\n",
      "Epoch: 022, Train Loss: 0.0004, Test Loss 0.0642, Train Acc: 1.0000, Test Acc: 0.6316\n",
      "Epoch: 023, Train Loss: 0.0003, Test Loss 0.0651, Train Acc: 1.0000, Test Acc: 0.5789\n",
      "Epoch: 024, Train Loss: 0.0003, Test Loss 0.0659, Train Acc: 1.0000, Test Acc: 0.5789\n",
      "Epoch: 025, Train Loss: 0.0003, Test Loss 0.0659, Train Acc: 1.0000, Test Acc: 0.5789\n",
      "Epoch: 026, Train Loss: 0.0003, Test Loss 0.0661, Train Acc: 1.0000, Test Acc: 0.5789\n",
      "Epoch: 027, Train Loss: 0.0003, Test Loss 0.0656, Train Acc: 1.0000, Test Acc: 0.5789\n",
      "Epoch: 028, Train Loss: 0.0003, Test Loss 0.0654, Train Acc: 1.0000, Test Acc: 0.5789\n",
      "Epoch: 029, Train Loss: 0.0004, Test Loss 0.0656, Train Acc: 1.0000, Test Acc: 0.5789\n",
      "2\n",
      "Epoch: 000, Train Loss: 0.0258, Test Loss 0.0359, Train Acc: 0.4458, Test Acc: 0.5789\n",
      "Epoch: 001, Train Loss: 0.0248, Test Loss 0.0358, Train Acc: 0.4979, Test Acc: 0.5789\n",
      "Epoch: 002, Train Loss: 0.0235, Test Loss 0.0354, Train Acc: 0.5521, Test Acc: 0.5789\n",
      "Epoch: 003, Train Loss: 0.0176, Test Loss 0.0339, Train Acc: 0.8104, Test Acc: 0.5789\n",
      "Epoch: 004, Train Loss: 0.0138, Test Loss 0.0331, Train Acc: 0.9042, Test Acc: 0.5263\n",
      "Epoch: 005, Train Loss: 0.0082, Test Loss 0.0349, Train Acc: 0.9875, Test Acc: 0.5263\n",
      "Epoch: 006, Train Loss: 0.0051, Test Loss 0.0382, Train Acc: 0.9937, Test Acc: 0.5263\n",
      "Epoch: 007, Train Loss: 0.0034, Test Loss 0.0459, Train Acc: 0.9937, Test Acc: 0.5263\n",
      "Epoch: 008, Train Loss: 0.0034, Test Loss 0.0470, Train Acc: 1.0000, Test Acc: 0.5263\n",
      "Epoch: 009, Train Loss: 0.0015, Test Loss 0.0460, Train Acc: 1.0000, Test Acc: 0.5789\n",
      "Epoch: 010, Train Loss: 0.0007, Test Loss 0.0407, Train Acc: 1.0000, Test Acc: 0.5789\n",
      "Epoch: 011, Train Loss: 0.0005, Test Loss 0.0421, Train Acc: 1.0000, Test Acc: 0.6316\n",
      "Epoch: 012, Train Loss: 0.0005, Test Loss 0.0417, Train Acc: 1.0000, Test Acc: 0.6316\n",
      "Epoch: 013, Train Loss: 0.0005, Test Loss 0.0424, Train Acc: 1.0000, Test Acc: 0.6316\n",
      "Epoch: 014, Train Loss: 0.0005, Test Loss 0.0429, Train Acc: 1.0000, Test Acc: 0.6316\n",
      "Epoch: 015, Train Loss: 0.0005, Test Loss 0.0440, Train Acc: 1.0000, Test Acc: 0.6316\n",
      "Epoch: 016, Train Loss: 0.0006, Test Loss 0.0426, Train Acc: 1.0000, Test Acc: 0.6316\n",
      "Epoch: 017, Train Loss: 0.0005, Test Loss 0.0449, Train Acc: 1.0000, Test Acc: 0.6316\n",
      "Epoch: 018, Train Loss: 0.0005, Test Loss 0.0444, Train Acc: 1.0000, Test Acc: 0.6316\n",
      "Epoch: 019, Train Loss: 0.0004, Test Loss 0.0452, Train Acc: 1.0000, Test Acc: 0.6316\n",
      "Epoch: 020, Train Loss: 0.0004, Test Loss 0.0471, Train Acc: 1.0000, Test Acc: 0.6316\n",
      "Epoch: 021, Train Loss: 0.0004, Test Loss 0.0464, Train Acc: 1.0000, Test Acc: 0.6316\n",
      "Epoch: 022, Train Loss: 0.0004, Test Loss 0.0451, Train Acc: 1.0000, Test Acc: 0.6316\n",
      "Epoch: 023, Train Loss: 0.0004, Test Loss 0.0450, Train Acc: 1.0000, Test Acc: 0.6316\n",
      "Epoch: 024, Train Loss: 0.0005, Test Loss 0.0451, Train Acc: 1.0000, Test Acc: 0.6316\n",
      "Epoch: 025, Train Loss: 0.0004, Test Loss 0.0445, Train Acc: 1.0000, Test Acc: 0.6316\n",
      "Epoch: 026, Train Loss: 0.0004, Test Loss 0.0445, Train Acc: 1.0000, Test Acc: 0.6316\n",
      "Epoch: 027, Train Loss: 0.0004, Test Loss 0.0459, Train Acc: 1.0000, Test Acc: 0.6316\n",
      "Epoch: 028, Train Loss: 0.0006, Test Loss 0.0453, Train Acc: 1.0000, Test Acc: 0.6316\n",
      "Epoch: 029, Train Loss: 0.0004, Test Loss 0.0470, Train Acc: 1.0000, Test Acc: 0.6316\n",
      "3\n",
      "Epoch: 000, Train Loss: 0.0254, Test Loss 0.0358, Train Acc: 0.5083, Test Acc: 0.5789\n",
      "Epoch: 001, Train Loss: 0.0246, Test Loss 0.0363, Train Acc: 0.5063, Test Acc: 0.4737\n",
      "Epoch: 002, Train Loss: 0.0226, Test Loss 0.0358, Train Acc: 0.5250, Test Acc: 0.5263\n",
      "Epoch: 003, Train Loss: 0.0187, Test Loss 0.0355, Train Acc: 0.8104, Test Acc: 0.5789\n",
      "Epoch: 004, Train Loss: 0.0126, Test Loss 0.0363, Train Acc: 0.9500, Test Acc: 0.5263\n",
      "Epoch: 005, Train Loss: 0.0084, Test Loss 0.0391, Train Acc: 0.9875, Test Acc: 0.5789\n",
      "Epoch: 006, Train Loss: 0.0059, Test Loss 0.0362, Train Acc: 0.9875, Test Acc: 0.5789\n",
      "Epoch: 007, Train Loss: 0.0046, Test Loss 0.0374, Train Acc: 0.9812, Test Acc: 0.5789\n",
      "Epoch: 008, Train Loss: 0.0026, Test Loss 0.0374, Train Acc: 1.0000, Test Acc: 0.5789\n",
      "Epoch: 009, Train Loss: 0.0018, Test Loss 0.0413, Train Acc: 1.0000, Test Acc: 0.6316\n",
      "Epoch: 010, Train Loss: 0.0010, Test Loss 0.0432, Train Acc: 1.0000, Test Acc: 0.6316\n",
      "Epoch: 011, Train Loss: 0.0008, Test Loss 0.0545, Train Acc: 1.0000, Test Acc: 0.5789\n",
      "Epoch: 012, Train Loss: 0.0007, Test Loss 0.0568, Train Acc: 1.0000, Test Acc: 0.5789\n",
      "Epoch: 013, Train Loss: 0.0007, Test Loss 0.0565, Train Acc: 1.0000, Test Acc: 0.5789\n",
      "Epoch: 014, Train Loss: 0.0007, Test Loss 0.0576, Train Acc: 1.0000, Test Acc: 0.5789\n",
      "Epoch: 015, Train Loss: 0.0007, Test Loss 0.0583, Train Acc: 1.0000, Test Acc: 0.5789\n",
      "Epoch: 016, Train Loss: 0.0006, Test Loss 0.0577, Train Acc: 1.0000, Test Acc: 0.5263\n",
      "Epoch: 017, Train Loss: 0.0006, Test Loss 0.0595, Train Acc: 1.0000, Test Acc: 0.5789\n",
      "Epoch: 018, Train Loss: 0.0005, Test Loss 0.0599, Train Acc: 1.0000, Test Acc: 0.5789\n",
      "Epoch: 019, Train Loss: 0.0005, Test Loss 0.0598, Train Acc: 1.0000, Test Acc: 0.5789\n",
      "Epoch: 020, Train Loss: 0.0005, Test Loss 0.0592, Train Acc: 1.0000, Test Acc: 0.5789\n",
      "Epoch: 021, Train Loss: 0.0004, Test Loss 0.0592, Train Acc: 1.0000, Test Acc: 0.5789\n",
      "Epoch: 022, Train Loss: 0.0005, Test Loss 0.0562, Train Acc: 1.0000, Test Acc: 0.5263\n",
      "Epoch: 023, Train Loss: 0.0005, Test Loss 0.0545, Train Acc: 1.0000, Test Acc: 0.5263\n",
      "Epoch: 024, Train Loss: 0.0006, Test Loss 0.0538, Train Acc: 1.0000, Test Acc: 0.5789\n",
      "Epoch: 025, Train Loss: 0.0005, Test Loss 0.0539, Train Acc: 1.0000, Test Acc: 0.5263\n",
      "Epoch: 026, Train Loss: 0.0004, Test Loss 0.0549, Train Acc: 1.0000, Test Acc: 0.5263\n",
      "Epoch: 027, Train Loss: 0.0005, Test Loss 0.0549, Train Acc: 1.0000, Test Acc: 0.5263\n",
      "Epoch: 028, Train Loss: 0.0005, Test Loss 0.0545, Train Acc: 1.0000, Test Acc: 0.4737\n",
      "Epoch: 029, Train Loss: 0.0005, Test Loss 0.0546, Train Acc: 1.0000, Test Acc: 0.4737\n",
      "4\n",
      "Epoch: 000, Train Loss: 0.0249, Test Loss 0.0366, Train Acc: 0.5354, Test Acc: 0.5263\n",
      "Epoch: 001, Train Loss: 0.0224, Test Loss 0.0353, Train Acc: 0.7917, Test Acc: 0.6842\n",
      "Epoch: 002, Train Loss: 0.0196, Test Loss 0.0350, Train Acc: 0.8271, Test Acc: 0.5789\n",
      "Epoch: 003, Train Loss: 0.0147, Test Loss 0.0336, Train Acc: 0.9750, Test Acc: 0.5789\n",
      "Epoch: 004, Train Loss: 0.0107, Test Loss 0.0332, Train Acc: 0.9812, Test Acc: 0.5789\n",
      "Epoch: 005, Train Loss: 0.0070, Test Loss 0.0330, Train Acc: 1.0000, Test Acc: 0.5789\n",
      "Epoch: 006, Train Loss: 0.0054, Test Loss 0.0345, Train Acc: 1.0000, Test Acc: 0.6316\n",
      "Epoch: 007, Train Loss: 0.0028, Test Loss 0.0357, Train Acc: 1.0000, Test Acc: 0.6316\n",
      "Epoch: 008, Train Loss: 0.0014, Test Loss 0.0405, Train Acc: 1.0000, Test Acc: 0.5789\n",
      "Epoch: 009, Train Loss: 0.0009, Test Loss 0.0413, Train Acc: 1.0000, Test Acc: 0.5263\n",
      "Epoch: 010, Train Loss: 0.0005, Test Loss 0.0437, Train Acc: 1.0000, Test Acc: 0.5263\n",
      "Epoch: 011, Train Loss: 0.0004, Test Loss 0.0504, Train Acc: 1.0000, Test Acc: 0.5263\n",
      "Epoch: 012, Train Loss: 0.0004, Test Loss 0.0514, Train Acc: 1.0000, Test Acc: 0.5263\n",
      "Epoch: 013, Train Loss: 0.0004, Test Loss 0.0525, Train Acc: 1.0000, Test Acc: 0.5263\n",
      "Epoch: 014, Train Loss: 0.0004, Test Loss 0.0527, Train Acc: 1.0000, Test Acc: 0.5263\n",
      "Epoch: 015, Train Loss: 0.0003, Test Loss 0.0509, Train Acc: 1.0000, Test Acc: 0.5263\n",
      "Epoch: 016, Train Loss: 0.0004, Test Loss 0.0502, Train Acc: 1.0000, Test Acc: 0.5263\n",
      "Epoch: 017, Train Loss: 0.0003, Test Loss 0.0511, Train Acc: 1.0000, Test Acc: 0.5263\n",
      "Epoch: 018, Train Loss: 0.0003, Test Loss 0.0501, Train Acc: 1.0000, Test Acc: 0.5263\n",
      "Epoch: 019, Train Loss: 0.0003, Test Loss 0.0487, Train Acc: 1.0000, Test Acc: 0.5263\n",
      "Epoch: 020, Train Loss: 0.0003, Test Loss 0.0478, Train Acc: 1.0000, Test Acc: 0.5263\n",
      "Epoch: 021, Train Loss: 0.0003, Test Loss 0.0477, Train Acc: 1.0000, Test Acc: 0.5263\n",
      "Epoch: 022, Train Loss: 0.0003, Test Loss 0.0477, Train Acc: 1.0000, Test Acc: 0.5263\n",
      "Epoch: 023, Train Loss: 0.0003, Test Loss 0.0485, Train Acc: 1.0000, Test Acc: 0.5263\n",
      "Epoch: 024, Train Loss: 0.0003, Test Loss 0.0480, Train Acc: 1.0000, Test Acc: 0.5263\n",
      "Epoch: 025, Train Loss: 0.0003, Test Loss 0.0485, Train Acc: 1.0000, Test Acc: 0.5263\n",
      "Epoch: 026, Train Loss: 0.0003, Test Loss 0.0475, Train Acc: 1.0000, Test Acc: 0.5263\n",
      "Epoch: 027, Train Loss: 0.0003, Test Loss 0.0480, Train Acc: 1.0000, Test Acc: 0.5263\n",
      "Epoch: 028, Train Loss: 0.0003, Test Loss 0.0473, Train Acc: 1.0000, Test Acc: 0.5263\n",
      "Epoch: 029, Train Loss: 0.0003, Test Loss 0.0478, Train Acc: 1.0000, Test Acc: 0.5263\n",
      "5\n",
      "Epoch: 000, Train Loss: 0.0246, Test Loss 0.0342, Train Acc: 0.6521, Test Acc: 0.6842\n",
      "Epoch: 001, Train Loss: 0.0242, Test Loss 0.0354, Train Acc: 0.6458, Test Acc: 0.5263\n",
      "Epoch: 002, Train Loss: 0.0217, Test Loss 0.0330, Train Acc: 0.7437, Test Acc: 0.7895\n",
      "Epoch: 003, Train Loss: 0.0158, Test Loss 0.0301, Train Acc: 0.9229, Test Acc: 0.6842\n",
      "Epoch: 004, Train Loss: 0.0135, Test Loss 0.0305, Train Acc: 0.9375, Test Acc: 0.7368\n",
      "Epoch: 005, Train Loss: 0.0112, Test Loss 0.0333, Train Acc: 0.9500, Test Acc: 0.6842\n",
      "Epoch: 006, Train Loss: 0.0069, Test Loss 0.0310, Train Acc: 0.9875, Test Acc: 0.7368\n",
      "Epoch: 007, Train Loss: 0.0050, Test Loss 0.0316, Train Acc: 0.9937, Test Acc: 0.6842\n",
      "Epoch: 008, Train Loss: 0.0038, Test Loss 0.0371, Train Acc: 0.9937, Test Acc: 0.7895\n",
      "Epoch: 009, Train Loss: 0.0021, Test Loss 0.0386, Train Acc: 1.0000, Test Acc: 0.7895\n",
      "Epoch: 010, Train Loss: 0.0016, Test Loss 0.0418, Train Acc: 1.0000, Test Acc: 0.6316\n",
      "Epoch: 011, Train Loss: 0.0010, Test Loss 0.0441, Train Acc: 1.0000, Test Acc: 0.6316\n",
      "Epoch: 012, Train Loss: 0.0010, Test Loss 0.0450, Train Acc: 1.0000, Test Acc: 0.6316\n",
      "Epoch: 013, Train Loss: 0.0008, Test Loss 0.0453, Train Acc: 1.0000, Test Acc: 0.6842\n",
      "Epoch: 014, Train Loss: 0.0008, Test Loss 0.0451, Train Acc: 1.0000, Test Acc: 0.6842\n",
      "Epoch: 015, Train Loss: 0.0008, Test Loss 0.0457, Train Acc: 1.0000, Test Acc: 0.6842\n",
      "Epoch: 016, Train Loss: 0.0008, Test Loss 0.0457, Train Acc: 1.0000, Test Acc: 0.6842\n",
      "Epoch: 017, Train Loss: 0.0008, Test Loss 0.0457, Train Acc: 1.0000, Test Acc: 0.6842\n",
      "Epoch: 018, Train Loss: 0.0007, Test Loss 0.0461, Train Acc: 1.0000, Test Acc: 0.6842\n",
      "Epoch: 019, Train Loss: 0.0008, Test Loss 0.0455, Train Acc: 1.0000, Test Acc: 0.7368\n",
      "Epoch: 020, Train Loss: 0.0008, Test Loss 0.0452, Train Acc: 1.0000, Test Acc: 0.7368\n",
      "Epoch: 021, Train Loss: 0.0007, Test Loss 0.0452, Train Acc: 1.0000, Test Acc: 0.7368\n",
      "Epoch: 022, Train Loss: 0.0007, Test Loss 0.0449, Train Acc: 1.0000, Test Acc: 0.7368\n",
      "Epoch: 023, Train Loss: 0.0007, Test Loss 0.0449, Train Acc: 1.0000, Test Acc: 0.7368\n",
      "Epoch: 024, Train Loss: 0.0007, Test Loss 0.0449, Train Acc: 1.0000, Test Acc: 0.7368\n",
      "Epoch: 025, Train Loss: 0.0006, Test Loss 0.0452, Train Acc: 1.0000, Test Acc: 0.7368\n",
      "Epoch: 026, Train Loss: 0.0006, Test Loss 0.0454, Train Acc: 1.0000, Test Acc: 0.7368\n",
      "Epoch: 027, Train Loss: 0.0006, Test Loss 0.0451, Train Acc: 1.0000, Test Acc: 0.7368\n",
      "Epoch: 028, Train Loss: 0.0007, Test Loss 0.0448, Train Acc: 1.0000, Test Acc: 0.7368\n",
      "Epoch: 029, Train Loss: 0.0007, Test Loss 0.0450, Train Acc: 1.0000, Test Acc: 0.7368\n",
      "6\n",
      "Epoch: 000, Train Loss: 0.0250, Test Loss 0.0357, Train Acc: 0.5625, Test Acc: 0.5263\n",
      "Epoch: 001, Train Loss: 0.0225, Test Loss 0.0346, Train Acc: 0.7792, Test Acc: 0.5789\n",
      "Epoch: 002, Train Loss: 0.0194, Test Loss 0.0333, Train Acc: 0.9229, Test Acc: 0.6316\n",
      "Epoch: 003, Train Loss: 0.0156, Test Loss 0.0320, Train Acc: 0.9229, Test Acc: 0.6316\n",
      "Epoch: 004, Train Loss: 0.0113, Test Loss 0.0328, Train Acc: 0.9688, Test Acc: 0.5789\n",
      "Epoch: 005, Train Loss: 0.0063, Test Loss 0.0322, Train Acc: 1.0000, Test Acc: 0.5789\n",
      "Epoch: 006, Train Loss: 0.0041, Test Loss 0.0316, Train Acc: 0.9937, Test Acc: 0.6316\n",
      "Epoch: 007, Train Loss: 0.0026, Test Loss 0.0329, Train Acc: 1.0000, Test Acc: 0.6316\n",
      "Epoch: 008, Train Loss: 0.0017, Test Loss 0.0350, Train Acc: 1.0000, Test Acc: 0.6316\n",
      "Epoch: 009, Train Loss: 0.0013, Test Loss 0.0367, Train Acc: 1.0000, Test Acc: 0.6316\n",
      "Epoch: 010, Train Loss: 0.0009, Test Loss 0.0372, Train Acc: 1.0000, Test Acc: 0.6316\n",
      "Epoch: 011, Train Loss: 0.0006, Test Loss 0.0367, Train Acc: 1.0000, Test Acc: 0.6842\n",
      "Epoch: 012, Train Loss: 0.0006, Test Loss 0.0365, Train Acc: 1.0000, Test Acc: 0.6842\n",
      "Epoch: 013, Train Loss: 0.0006, Test Loss 0.0364, Train Acc: 1.0000, Test Acc: 0.6842\n",
      "Epoch: 014, Train Loss: 0.0006, Test Loss 0.0359, Train Acc: 1.0000, Test Acc: 0.6842\n",
      "Epoch: 015, Train Loss: 0.0006, Test Loss 0.0365, Train Acc: 1.0000, Test Acc: 0.6842\n",
      "Epoch: 016, Train Loss: 0.0005, Test Loss 0.0369, Train Acc: 1.0000, Test Acc: 0.6842\n",
      "Epoch: 017, Train Loss: 0.0005, Test Loss 0.0371, Train Acc: 1.0000, Test Acc: 0.6842\n",
      "Epoch: 018, Train Loss: 0.0005, Test Loss 0.0373, Train Acc: 1.0000, Test Acc: 0.6842\n",
      "Epoch: 019, Train Loss: 0.0005, Test Loss 0.0373, Train Acc: 1.0000, Test Acc: 0.6842\n",
      "Epoch: 020, Train Loss: 0.0005, Test Loss 0.0367, Train Acc: 1.0000, Test Acc: 0.6316\n",
      "Epoch: 021, Train Loss: 0.0007, Test Loss 0.0366, Train Acc: 1.0000, Test Acc: 0.6316\n",
      "Epoch: 022, Train Loss: 0.0005, Test Loss 0.0367, Train Acc: 1.0000, Test Acc: 0.6842\n",
      "Epoch: 023, Train Loss: 0.0005, Test Loss 0.0376, Train Acc: 1.0000, Test Acc: 0.6842\n",
      "Epoch: 024, Train Loss: 0.0005, Test Loss 0.0371, Train Acc: 1.0000, Test Acc: 0.6842\n",
      "Epoch: 025, Train Loss: 0.0005, Test Loss 0.0374, Train Acc: 1.0000, Test Acc: 0.6842\n",
      "Epoch: 026, Train Loss: 0.0005, Test Loss 0.0374, Train Acc: 1.0000, Test Acc: 0.6842\n",
      "Epoch: 027, Train Loss: 0.0005, Test Loss 0.0381, Train Acc: 1.0000, Test Acc: 0.6842\n",
      "Epoch: 028, Train Loss: 0.0005, Test Loss 0.0382, Train Acc: 1.0000, Test Acc: 0.6842\n",
      "Epoch: 029, Train Loss: 0.0005, Test Loss 0.0376, Train Acc: 1.0000, Test Acc: 0.6842\n",
      "7\n",
      "Epoch: 000, Train Loss: 0.0240, Test Loss 0.0376, Train Acc: 0.6833, Test Acc: 0.4737\n",
      "Epoch: 001, Train Loss: 0.0218, Test Loss 0.0356, Train Acc: 0.8792, Test Acc: 0.4211\n",
      "Epoch: 002, Train Loss: 0.0188, Test Loss 0.0353, Train Acc: 0.9125, Test Acc: 0.4737\n",
      "Epoch: 003, Train Loss: 0.0165, Test Loss 0.0357, Train Acc: 0.8833, Test Acc: 0.6842\n",
      "Epoch: 004, Train Loss: 0.0134, Test Loss 0.0365, Train Acc: 0.9750, Test Acc: 0.5789\n",
      "Epoch: 005, Train Loss: 0.0100, Test Loss 0.0375, Train Acc: 0.9937, Test Acc: 0.4737\n",
      "Epoch: 006, Train Loss: 0.0086, Test Loss 0.0388, Train Acc: 0.9937, Test Acc: 0.5263\n",
      "Epoch: 007, Train Loss: 0.0057, Test Loss 0.0375, Train Acc: 1.0000, Test Acc: 0.5789\n",
      "Epoch: 008, Train Loss: 0.0043, Test Loss 0.0380, Train Acc: 1.0000, Test Acc: 0.6316\n",
      "Epoch: 009, Train Loss: 0.0035, Test Loss 0.0391, Train Acc: 1.0000, Test Acc: 0.6842\n",
      "Epoch: 010, Train Loss: 0.0029, Test Loss 0.0415, Train Acc: 1.0000, Test Acc: 0.6316\n",
      "Epoch: 011, Train Loss: 0.0024, Test Loss 0.0436, Train Acc: 1.0000, Test Acc: 0.6316\n",
      "Epoch: 012, Train Loss: 0.0022, Test Loss 0.0437, Train Acc: 1.0000, Test Acc: 0.6316\n",
      "Epoch: 013, Train Loss: 0.0020, Test Loss 0.0441, Train Acc: 1.0000, Test Acc: 0.5263\n",
      "Epoch: 014, Train Loss: 0.0018, Test Loss 0.0441, Train Acc: 1.0000, Test Acc: 0.5263\n",
      "Epoch: 015, Train Loss: 0.0019, Test Loss 0.0442, Train Acc: 1.0000, Test Acc: 0.5789\n",
      "Epoch: 016, Train Loss: 0.0017, Test Loss 0.0446, Train Acc: 1.0000, Test Acc: 0.5789\n",
      "Epoch: 017, Train Loss: 0.0017, Test Loss 0.0447, Train Acc: 1.0000, Test Acc: 0.5263\n",
      "Epoch: 018, Train Loss: 0.0015, Test Loss 0.0448, Train Acc: 1.0000, Test Acc: 0.5789\n",
      "Epoch: 019, Train Loss: 0.0015, Test Loss 0.0445, Train Acc: 1.0000, Test Acc: 0.5789\n",
      "Epoch: 020, Train Loss: 0.0015, Test Loss 0.0447, Train Acc: 1.0000, Test Acc: 0.5263\n",
      "Epoch: 021, Train Loss: 0.0016, Test Loss 0.0444, Train Acc: 1.0000, Test Acc: 0.6316\n",
      "Epoch: 022, Train Loss: 0.0019, Test Loss 0.0445, Train Acc: 1.0000, Test Acc: 0.5789\n",
      "Epoch: 023, Train Loss: 0.0014, Test Loss 0.0445, Train Acc: 1.0000, Test Acc: 0.5789\n",
      "Epoch: 024, Train Loss: 0.0015, Test Loss 0.0445, Train Acc: 1.0000, Test Acc: 0.6316\n",
      "Epoch: 025, Train Loss: 0.0015, Test Loss 0.0445, Train Acc: 1.0000, Test Acc: 0.6316\n",
      "Epoch: 026, Train Loss: 0.0015, Test Loss 0.0445, Train Acc: 1.0000, Test Acc: 0.6316\n",
      "Epoch: 027, Train Loss: 0.0015, Test Loss 0.0445, Train Acc: 1.0000, Test Acc: 0.6316\n",
      "Epoch: 028, Train Loss: 0.0015, Test Loss 0.0447, Train Acc: 1.0000, Test Acc: 0.5789\n",
      "Epoch: 029, Train Loss: 0.0015, Test Loss 0.0445, Train Acc: 1.0000, Test Acc: 0.6316\n",
      "8\n",
      "Epoch: 000, Train Loss: 0.0257, Test Loss 0.0357, Train Acc: 0.4979, Test Acc: 0.5789\n",
      "Epoch: 001, Train Loss: 0.0239, Test Loss 0.0349, Train Acc: 0.6812, Test Acc: 0.5789\n",
      "Epoch: 002, Train Loss: 0.0213, Test Loss 0.0341, Train Acc: 0.8687, Test Acc: 0.6842\n",
      "Epoch: 003, Train Loss: 0.0191, Test Loss 0.0329, Train Acc: 0.8729, Test Acc: 0.7368\n",
      "Epoch: 004, Train Loss: 0.0159, Test Loss 0.0335, Train Acc: 0.9438, Test Acc: 0.6842\n",
      "Epoch: 005, Train Loss: 0.0117, Test Loss 0.0333, Train Acc: 0.9625, Test Acc: 0.6842\n",
      "Epoch: 006, Train Loss: 0.0092, Test Loss 0.0312, Train Acc: 0.9812, Test Acc: 0.5789\n",
      "Epoch: 007, Train Loss: 0.0063, Test Loss 0.0338, Train Acc: 0.9937, Test Acc: 0.5789\n",
      "Epoch: 008, Train Loss: 0.0041, Test Loss 0.0424, Train Acc: 0.9937, Test Acc: 0.6316\n",
      "Epoch: 009, Train Loss: 0.0024, Test Loss 0.0420, Train Acc: 1.0000, Test Acc: 0.6842\n",
      "Epoch: 010, Train Loss: 0.0016, Test Loss 0.0416, Train Acc: 1.0000, Test Acc: 0.6842\n",
      "Epoch: 011, Train Loss: 0.0010, Test Loss 0.0442, Train Acc: 1.0000, Test Acc: 0.6842\n",
      "Epoch: 012, Train Loss: 0.0010, Test Loss 0.0448, Train Acc: 1.0000, Test Acc: 0.6842\n",
      "Epoch: 013, Train Loss: 0.0011, Test Loss 0.0454, Train Acc: 1.0000, Test Acc: 0.6842\n",
      "Epoch: 014, Train Loss: 0.0008, Test Loss 0.0463, Train Acc: 1.0000, Test Acc: 0.6842\n",
      "Epoch: 015, Train Loss: 0.0007, Test Loss 0.0474, Train Acc: 1.0000, Test Acc: 0.6842\n",
      "Epoch: 016, Train Loss: 0.0009, Test Loss 0.0475, Train Acc: 1.0000, Test Acc: 0.6842\n",
      "Epoch: 017, Train Loss: 0.0008, Test Loss 0.0482, Train Acc: 1.0000, Test Acc: 0.7368\n",
      "Epoch: 018, Train Loss: 0.0007, Test Loss 0.0480, Train Acc: 1.0000, Test Acc: 0.6842\n",
      "Epoch: 019, Train Loss: 0.0007, Test Loss 0.0490, Train Acc: 1.0000, Test Acc: 0.7368\n",
      "Epoch: 020, Train Loss: 0.0007, Test Loss 0.0480, Train Acc: 1.0000, Test Acc: 0.6842\n",
      "Epoch: 021, Train Loss: 0.0007, Test Loss 0.0487, Train Acc: 1.0000, Test Acc: 0.6842\n",
      "Epoch: 022, Train Loss: 0.0007, Test Loss 0.0494, Train Acc: 1.0000, Test Acc: 0.6842\n",
      "Epoch: 023, Train Loss: 0.0006, Test Loss 0.0498, Train Acc: 1.0000, Test Acc: 0.6842\n",
      "Epoch: 024, Train Loss: 0.0006, Test Loss 0.0498, Train Acc: 1.0000, Test Acc: 0.6842\n",
      "Epoch: 025, Train Loss: 0.0007, Test Loss 0.0498, Train Acc: 1.0000, Test Acc: 0.6842\n",
      "Epoch: 026, Train Loss: 0.0005, Test Loss 0.0498, Train Acc: 1.0000, Test Acc: 0.6842\n",
      "Epoch: 027, Train Loss: 0.0006, Test Loss 0.0503, Train Acc: 1.0000, Test Acc: 0.7368\n",
      "Epoch: 028, Train Loss: 0.0007, Test Loss 0.0499, Train Acc: 1.0000, Test Acc: 0.6842\n",
      "Epoch: 029, Train Loss: 0.0006, Test Loss 0.0489, Train Acc: 1.0000, Test Acc: 0.6842\n",
      "9\n",
      "Epoch: 000, Train Loss: 0.0239, Test Loss 0.0368, Train Acc: 0.8188, Test Acc: 0.4737\n",
      "Epoch: 001, Train Loss: 0.0207, Test Loss 0.0356, Train Acc: 0.9250, Test Acc: 0.5263\n",
      "Epoch: 002, Train Loss: 0.0160, Test Loss 0.0351, Train Acc: 0.9563, Test Acc: 0.5789\n",
      "Epoch: 003, Train Loss: 0.0098, Test Loss 0.0349, Train Acc: 0.9875, Test Acc: 0.5789\n",
      "Epoch: 004, Train Loss: 0.0066, Test Loss 0.0349, Train Acc: 0.9875, Test Acc: 0.5789\n",
      "Epoch: 005, Train Loss: 0.0039, Test Loss 0.0411, Train Acc: 1.0000, Test Acc: 0.5263\n",
      "Epoch: 006, Train Loss: 0.0020, Test Loss 0.0494, Train Acc: 1.0000, Test Acc: 0.5263\n",
      "Epoch: 007, Train Loss: 0.0013, Test Loss 0.0563, Train Acc: 1.0000, Test Acc: 0.5263\n",
      "Epoch: 008, Train Loss: 0.0007, Test Loss 0.0714, Train Acc: 1.0000, Test Acc: 0.5263\n",
      "Epoch: 009, Train Loss: 0.0004, Test Loss 0.0783, Train Acc: 1.0000, Test Acc: 0.5263\n",
      "Epoch: 010, Train Loss: 0.0003, Test Loss 0.0792, Train Acc: 1.0000, Test Acc: 0.5263\n",
      "Epoch: 011, Train Loss: 0.0002, Test Loss 0.0795, Train Acc: 1.0000, Test Acc: 0.5263\n",
      "Epoch: 012, Train Loss: 0.0002, Test Loss 0.0817, Train Acc: 1.0000, Test Acc: 0.5263\n",
      "Epoch: 013, Train Loss: 0.0002, Test Loss 0.0821, Train Acc: 1.0000, Test Acc: 0.5263\n",
      "Epoch: 014, Train Loss: 0.0001, Test Loss 0.0814, Train Acc: 1.0000, Test Acc: 0.5263\n",
      "Epoch: 015, Train Loss: 0.0002, Test Loss 0.0851, Train Acc: 1.0000, Test Acc: 0.5263\n",
      "Epoch: 016, Train Loss: 0.0001, Test Loss 0.0882, Train Acc: 1.0000, Test Acc: 0.5263\n",
      "Epoch: 017, Train Loss: 0.0001, Test Loss 0.0898, Train Acc: 1.0000, Test Acc: 0.5263\n",
      "Epoch: 018, Train Loss: 0.0001, Test Loss 0.0900, Train Acc: 1.0000, Test Acc: 0.5263\n",
      "Epoch: 019, Train Loss: 0.0002, Test Loss 0.0889, Train Acc: 1.0000, Test Acc: 0.5263\n",
      "Epoch: 020, Train Loss: 0.0001, Test Loss 0.0888, Train Acc: 1.0000, Test Acc: 0.5263\n",
      "Epoch: 021, Train Loss: 0.0001, Test Loss 0.0875, Train Acc: 1.0000, Test Acc: 0.5263\n",
      "Epoch: 022, Train Loss: 0.0001, Test Loss 0.0883, Train Acc: 1.0000, Test Acc: 0.5263\n",
      "Epoch: 023, Train Loss: 0.0001, Test Loss 0.0904, Train Acc: 1.0000, Test Acc: 0.5263\n",
      "Epoch: 024, Train Loss: 0.0001, Test Loss 0.0899, Train Acc: 1.0000, Test Acc: 0.5263\n",
      "Epoch: 025, Train Loss: 0.0001, Test Loss 0.0906, Train Acc: 1.0000, Test Acc: 0.5263\n",
      "Epoch: 026, Train Loss: 0.0001, Test Loss 0.0917, Train Acc: 1.0000, Test Acc: 0.5263\n",
      "Epoch: 027, Train Loss: 0.0001, Test Loss 0.0930, Train Acc: 1.0000, Test Acc: 0.5263\n",
      "Epoch: 028, Train Loss: 0.0001, Test Loss 0.0919, Train Acc: 1.0000, Test Acc: 0.5263\n",
      "Epoch: 029, Train Loss: 0.0001, Test Loss 0.0918, Train Acc: 1.0000, Test Acc: 0.5263\n"
     ]
    }
   ],
   "source": [
    "# GAT\n",
    "\n",
    "from sklearn.model_selection import StratifiedKFold\n",
    "from tqdm.notebook import tqdm\n",
    "\n",
    "skf = StratifiedKFold(n_splits=10, shuffle=True)\n",
    "eval_metrics = np.zeros((skf.n_splits, 3))\n",
    "\n",
    "labels = [full_dataset[i].y for i in range(len(full_dataset))]\n",
    "\n",
    "\n",
    "for n_fold, (train_idx, test_idx) in tqdm(enumerate(skf.split(labels, labels))):\n",
    "    model = GATv2(full_dataset.num_features, 128, 8).to(device())\n",
    "    optimizer = torch.optim.Adam(model.parameters(), lr=0.001)\n",
    "    criterion = torch.nn.CrossEntropyLoss()\n",
    "    scheduler = lr_scheduler.StepLR(optimizer, step_size=50//4, gamma=0.1, last_epoch=-1, verbose=False)\n",
    "\n",
    "    train_loader_ = DataLoader(full_dataset[list(train_idx)], batch_size=8, shuffle=True)\n",
    "    test_loader_ = DataLoader(full_dataset[list(test_idx)], batch_size=8, shuffle=True)\n",
    "    min_v_loss = np.inf\n",
    "    print(n_fold)\n",
    "    pr, rc, acc = [], [], []\n",
    "    for epoch in range(30):\n",
    "        train_epoch(train_loader, model, criterion, optimizer)\n",
    "        train_loss, train_acc, _, _ = eval_epoch(train_loader, model, criterion)\n",
    "        val_loss, test_acc, _, _ = eval_epoch(val_loader, model, criterion)\n",
    "        #scheduler.step()\n",
    "        print(f'Epoch: {epoch:03d}, Train Loss: {train_loss:.4f}, Test Loss {val_loss:.4f}, Train Acc: {train_acc:.4f}, Test Acc: {test_acc:.4f}')\n",
    "        #print(f'Train Prec: {train_pr:.3f}, Train Rec: {train_rc:.3f}, Test Prec: {val_pr:.3f}, Test Rec: {val_rc:.3f}')\n",
    "        #rc.append(val_rc)\n",
    "        #pr.append(val_pr)\n",
    "        acc.append(test_acc)\n",
    "        if min_v_loss > val_loss:\n",
    "            min_v_loss = val_loss\n",
    "            best_test_acc = test_acc\n",
    "\n",
    "    eval_metrics[n_fold, 0] = best_test_acc\n",
    "    eval_metrics[n_fold, 1] = np.mean(acc)\n",
    "    eval_metrics[n_fold, 2] = np.std(acc)\n",
    "### eval_metrics[n_fold, 3] ="
   ]
  },
  {
   "cell_type": "code",
   "execution_count": 67,
   "metadata": {
    "collapsed": false
   },
   "outputs": [
    {
     "data": {
      "text/plain": [
       "array([[0.52631581, 0.53508765, 0.05099803],\n",
       "       [0.47368422, 0.56842101, 0.05985516],\n",
       "       [0.52631581, 0.60350871, 0.04015971],\n",
       "       [0.57894737, 0.55789471, 0.03985198],\n",
       "       [0.57894737, 0.54736841, 0.03985198],\n",
       "       [0.68421054, 0.70701736, 0.05381706],\n",
       "       [0.63157892, 0.65263146, 0.04210527],\n",
       "       [0.47368422, 0.57894731, 0.06374   ],\n",
       "       [0.57894737, 0.67543846, 0.04315219],\n",
       "       [0.57894737, 0.52982455, 0.01889531]])"
      ]
     },
     "execution_count": 67,
     "metadata": {},
     "output_type": "execute_result"
    }
   ],
   "source": [
    "eval_metrics"
   ]
  },
  {
   "cell_type": "code",
   "execution_count": null,
   "metadata": {
    "collapsed": false
   },
   "outputs": [],
   "source": [
    "np.mean(eval_metrics[:, 1]), np.std(eval_metrics[:, 1])"
   ]
  },
  {
   "attachments": {},
   "cell_type": "markdown",
   "metadata": {},
   "source": [
    "## Explainability"
   ]
  },
  {
   "cell_type": "code",
   "execution_count": null,
   "metadata": {
    "collapsed": false
   },
   "outputs": [],
   "source": [
    "from captum.attr import Saliency, IntegratedGradients\n",
    "\n",
    "def model_forward(edge_mask, data):\n",
    "    batch = torch.zeros(data.x.shape[0], dtype=int).to(device())\n",
    "    out = model(data) # .x, data.edge_index, batch, edge_mask\n",
    "    return out\n",
    "\n",
    "\n",
    "def explain(method, data, target=0):\n",
    "    input_mask = torch.ones(data.edge_index.shape[1]).requires_grad_(True).to(device)\n",
    "    if method == 'ig':\n",
    "        ig = IntegratedGradients(model_forward)\n",
    "        mask = ig.attribute(input_mask, target=target,\n",
    "                            additional_forward_args=(data,),\n",
    "                            internal_batch_size=data.edge_index.shape[1])\n",
    "    elif method == 'saliency':\n",
    "        saliency = Saliency(model_forward)\n",
    "        mask = saliency.attribute(input_mask, target=target,\n",
    "                                  additional_forward_args=(data,))\n",
    "    else:\n",
    "        raise Exception('Unknown explanation method')\n",
    "\n",
    "    edge_mask = np.abs(mask.cpu().detach().numpy())\n",
    "    if edge_mask.max() > 0:  # avoid division by zero\n",
    "        edge_mask = edge_mask / edge_mask.max()\n",
    "    return edge_mask"
   ]
  },
  {
   "cell_type": "code",
   "execution_count": null,
   "metadata": {
    "collapsed": false
   },
   "outputs": [],
   "source": []
  }
 ],
 "metadata": {
  "kernelspec": {
   "display_name": "Open_Close_GNN",
   "language": "python",
   "name": "python3"
  },
  "language_info": {
   "codemirror_mode": {
    "name": "ipython",
    "version": 3
   },
   "file_extension": ".py",
   "mimetype": "text/x-python",
   "name": "python",
   "nbconvert_exporter": "python",
   "pygments_lexer": "ipython3",
   "version": "3.7.16"
  },
  "vscode": {
   "interpreter": {
    "hash": "266da1a1721e4588a8feaf69449a5145239fab947ce8997260eacc776b5422ab"
   }
  }
 },
 "nbformat": 4,
 "nbformat_minor": 0
}
