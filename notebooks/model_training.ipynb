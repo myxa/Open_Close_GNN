{
 "cells": [
  {
   "cell_type": "code",
   "execution_count": 1,
   "metadata": {
    "collapsed": true,
    "pycharm": {
     "name": "#%%\n"
    }
   },
   "outputs": [],
   "source": [
    "from model.dataset import OpenCloseDataset\n",
    "from model.gnn_model import GCN\n",
    "import os\n",
    "from model.utils import train, device\n",
    "import torch"
   ]
  },
  {
   "cell_type": "code",
   "execution_count": 2,
   "outputs": [],
   "source": [
    "import torch\n",
    "from torch_geometric.data import Dataset, Data\n",
    "from torch_geometric.utils import dense_to_sparse\n",
    "from scipy.sparse import coo_matrix\n",
    "import numpy as np\n",
    "import os\n",
    "\n",
    "\n",
    "class OpenCloseDataset(Dataset):\n",
    "\n",
    "    def __init__(self, datafolder, test=False, transform=None, pre_transform=None, k_degree=10):\n",
    "\n",
    "        self.test = test\n",
    "        self.datafolder = datafolder\n",
    "        self.open = np.load(f'{datafolder}/raw/open.npy')\n",
    "        self.close = np.load(f'{datafolder}/raw/close.npy')\n",
    "        self.k_degree = k_degree\n",
    "\n",
    "        super().__init__(root=datafolder, transform=transform, pre_transform=pre_transform)\n",
    "\n",
    "    @property\n",
    "    def raw_file_names(self):\n",
    "        return ['close.npy', 'open.npy']\n",
    "\n",
    "    @property\n",
    "    def processed_file_names(self):\n",
    "\n",
    "        \"\"\" If these files are found in raw_dir, processing is skipped\"\"\"\n",
    "        # todo test filenames\n",
    "        if self.test:\n",
    "            return [os.path.join(self.datafolder, 'processed', 'test', f'data_{i}.pt') for i in range(47+47)]\n",
    "\n",
    "        else:\n",
    "            return [os.path.join(self.datafolder, 'processed', f'data_{i}.pt') for i in range(47+47)]\n",
    "\n",
    "    def download(self):\n",
    "        # todo download data\n",
    "        pass\n",
    "\n",
    "    def process(self):\n",
    "\n",
    "        for index, matr in enumerate(self.open):\n",
    "            _ = self._load_and_save(matr, index, 'open')\n",
    "\n",
    "        for index, matr in enumerate(self.close):\n",
    "            _ = self._load_and_save(matr, index, 'close')\n",
    "\n",
    "    def _load_and_save(self, matr, index, state):\n",
    "\n",
    "        x = torch.from_numpy(matr).float()\n",
    "\n",
    "        adj = self.compute_KNN_graph(matr, k_degree=self.k_degree)\n",
    "        adj = torch.from_numpy(adj).float()\n",
    "\n",
    "        edge_index, edge_attr = dense_to_sparse(adj)\n",
    "        label = torch.tensor(0 if state == 'close' else 1).long()\n",
    "\n",
    "        data = Data(x=x, edge_index=edge_index,\n",
    "                    edge_attr=edge_attr, y=label)\n",
    "\n",
    "        index = index + 47 if state == 'close' else index\n",
    "        if self.test:\n",
    "            torch.save(data,\n",
    "                       os.path.join(self.processed_dir, 'test',\n",
    "                                    f'data_{index}.pt'))\n",
    "        else:\n",
    "            torch.save(data,\n",
    "                       os.path.join(self.processed_dir,\n",
    "                                    f'data_{index}.pt'))\n",
    "        return data\n",
    "\n",
    "    def compute_KNN_graph(self, matrix, k_degree):\n",
    "        \"\"\" Calculate the adjacency matrix from the connectivity matrix.\"\"\"\n",
    "\n",
    "        matrix = np.abs(matrix)\n",
    "        idx = np.argsort(-matrix)[:, 0:k_degree]\n",
    "        matrix.sort()\n",
    "        matrix = matrix[:, ::-1]\n",
    "        matrix = matrix[:, 0:k_degree]\n",
    "\n",
    "        A = self._adjacency(matrix, idx).astype(np.float32)\n",
    "\n",
    "        return A\n",
    "\n",
    "    def _adjacency(self, dist, idx):\n",
    "\n",
    "        m, k = dist.shape\n",
    "        assert m, k == idx.shape\n",
    "        assert dist.min() >= 0\n",
    "\n",
    "        # Weight matrix.\n",
    "        I = np.arange(0, m).repeat(k)\n",
    "        J = idx.reshape(m * k)\n",
    "        V = dist.reshape(m * k)\n",
    "        W = coo_matrix((V, (I, J)), shape=(m, m))\n",
    "\n",
    "        # No self-connections.\n",
    "        W.setdiag(0)\n",
    "\n",
    "        # Non-directed graph.\n",
    "        bigger = W.T > W\n",
    "        W = W - W.multiply(bigger) + W.T.multiply(bigger)\n",
    "\n",
    "        return W.todense()\n",
    "\n",
    "    def len(self):\n",
    "        return 47+47  # len(self.files)\n",
    "\n",
    "    def get(self, idx):\n",
    "        \"\"\" - Equivalent to __getitem__ in pytorch\n",
    "            - Is not needed for PyG's InMemoryDataset\n",
    "        \"\"\"\n",
    "        if self.test:\n",
    "            data = torch.load(os.path.join(self.processed_dir,\n",
    "                                           f'data_test_{idx}.pt'))\n",
    "        else:\n",
    "            data = torch.load(os.path.join(self.processed_dir,\n",
    "                                           f'data_{idx}.pt'))\n",
    "        return data"
   ],
   "metadata": {
    "collapsed": false,
    "pycharm": {
     "name": "#%%\n"
    }
   }
  },
  {
   "cell_type": "code",
   "execution_count": 20,
   "outputs": [
    {
     "name": "stderr",
     "output_type": "stream",
     "text": [
      "Processing...\n",
      "Done!\n"
     ]
    },
    {
     "data": {
      "text/plain": "96"
     },
     "execution_count": 20,
     "metadata": {},
     "output_type": "execute_result"
    }
   ],
   "source": [
    "full_dataset = OpenCloseDataset(datafolder='../data', k_degree=10).shuffle()\n",
    "len(os.listdir('../data/processed'))"
   ],
   "metadata": {
    "collapsed": false,
    "pycharm": {
     "name": "#%%\n"
    }
   }
  },
  {
   "cell_type": "code",
   "execution_count": 21,
   "outputs": [],
   "source": [
    "train_size = int(0.9 * len(full_dataset))\n",
    "train_dataset, val_dataset = full_dataset[:train_size], full_dataset[train_size:]"
   ],
   "metadata": {
    "collapsed": false,
    "pycharm": {
     "name": "#%%\n"
    }
   }
  },
  {
   "cell_type": "code",
   "execution_count": 10,
   "outputs": [],
   "source": [
    "import torch.nn.functional as F\n",
    "import torch.nn as nn\n",
    "from torch_geometric.nn import global_mean_pool, GCNConv, GATConv\n",
    "\n",
    "class GCN(nn.Module):\n",
    "    def __init__(self,\n",
    "                 num_features,\n",
    "                 num_classes,\n",
    "                 channels,\n",
    "                 dropout=0):\n",
    "        super().__init__()\n",
    "\n",
    "        self.p = dropout\n",
    "        self.conv1 = GCNConv(int(num_features), channels[0])\n",
    "        self.conv2 = GCNConv(channels[0], channels[1])\n",
    "        self.conv3 = GCNConv(channels[1], channels[2])\n",
    "\n",
    "        self.lin1 = nn.Linear(channels[2], int(num_classes))\n",
    "\n",
    "    def forward(self, data):\n",
    "        x, edge_index, edge_attr = data.x, data.edge_index, data.edge_attr\n",
    "        batch = data.batch\n",
    "        #print(x.shape)\n",
    "        x = F.relu(self.conv1(x, edge_index, edge_attr))\n",
    "        #print(x.shape)\n",
    "        x = F.relu(self.conv2(x, edge_index, edge_attr))\n",
    "        x = F.dropout(x, p=self.p, training=self.training)\n",
    "        #print(x.shape)\n",
    "        x = F.relu(self.conv3(x, edge_index, edge_attr))\n",
    "        #print(x.shape)\n",
    "        x = global_mean_pool(x, batch)\n",
    "        #print(x.shape)\n",
    "        x = self.lin1(x)\n",
    "        return x"
   ],
   "metadata": {
    "collapsed": false,
    "pycharm": {
     "name": "#%%\n"
    }
   }
  },
  {
   "cell_type": "code",
   "execution_count": 39,
   "outputs": [],
   "source": [
    "from sklearn.metrics import precision_score, recall_score\n",
    "\n",
    "def train_epoch(train_loader, model, criterion, optimizer):\n",
    "    model.train()\n",
    "    for data in train_loader:  # Iterate in batches over the training dataset.\n",
    "         out = model(data)  # Perform a single forward pass.\n",
    "         loss = criterion(out, data.y)  # Compute the loss.\n",
    "         loss.backward()  # Derive gradients.\n",
    "         optimizer.step()  # Update parameters based on gradients.\n",
    "         optimizer.zero_grad()  # Clear gradients.\n",
    "\n",
    "def eval_epoch(loader, model, criterion):\n",
    "    model.eval()\n",
    "    losses = 0\n",
    "    correct = 0\n",
    "    pr = []\n",
    "    rc = []\n",
    "    for data in loader:  # Iterate in batches over the training/test dataset.\n",
    "        out = model(data)\n",
    "        loss = criterion(out, data.y)\n",
    "        losses += loss.item()\n",
    "        pred = out.argmax(dim=1)  # Use the class with highest probability.\n",
    "        correct += int((pred == data.y).sum())  # Check against ground-truth labels.\n",
    "        #print(pred)\n",
    "        #print(data.y)\n",
    "        pr.append(precision_score(data.y, pred, zero_division=0))\n",
    "        rc.append(recall_score(data.y, pred, zero_division=0))\n",
    "        # Derive ratio of correct predictions.\n",
    "    return losses / len(loader.dataset), correct / len(loader.dataset), np.mean(pr), np.mean(rc)\n",
    "\n",
    "def train(model, epochs, train_loader, val_loader, criterion, optimizer):\n",
    "    losses = []\n",
    "    for epoch in range(1, epochs):\n",
    "        train_epoch(train_loader, model, criterion, optimizer)\n",
    "        train_loss, train_acc, _, _ = eval_epoch(train_loader, model, criterion)\n",
    "        val_loss, test_acc, _, _ = eval_epoch(val_loader, model, criterion)\n",
    "        scheduler.step()\n",
    "        print(f'Epoch: {epoch:03d}, Train Loss: {train_loss:.4f}, Test Loss {val_loss:.4f}, Train Acc: {train_acc:.4f}, Test Acc: {test_acc:.4f}')\n",
    "        losses.append((train_loss, val_loss))\n",
    "    return losses"
   ],
   "metadata": {
    "collapsed": false,
    "pycharm": {
     "name": "#%%\n"
    }
   }
  },
  {
   "cell_type": "code",
   "execution_count": 37,
   "outputs": [
    {
     "name": "stdout",
     "output_type": "stream",
     "text": [
      "Adjusting learning rate of group 0 to 1.0000e-03.\n"
     ]
    },
    {
     "data": {
      "text/plain": "59138"
     },
     "execution_count": 37,
     "metadata": {},
     "output_type": "execute_result"
    }
   ],
   "source": [
    "from torch.optim import lr_scheduler\n",
    "model = GCN(full_dataset.num_features, 2, channels=[128, 32, 32], dropout=0.2).to(device())\n",
    "optimizer = torch.optim.Adam(model.parameters(), lr=0.001)\n",
    "loss = torch.nn.CrossEntropyLoss()\n",
    "epochs = 20\n",
    "scheduler = lr_scheduler.StepLR(optimizer, step_size=epochs//4, gamma=0.1, last_epoch=-1, verbose=True)\n",
    "sum(p.numel() for p in model.parameters())"
   ],
   "metadata": {
    "collapsed": false,
    "pycharm": {
     "name": "#%%\n"
    }
   }
  },
  {
   "cell_type": "code",
   "execution_count": 28,
   "outputs": [],
   "source": [
    "from torch_geometric.loader import DataLoader\n",
    "train_loader = DataLoader(train_dataset, batch_size=8, shuffle=True)\n",
    "val_loader = DataLoader(val_dataset, batch_size=2, shuffle=True)"
   ],
   "metadata": {
    "collapsed": false,
    "pycharm": {
     "name": "#%%\n"
    }
   }
  },
  {
   "cell_type": "code",
   "execution_count": 40,
   "outputs": [
    {
     "name": "stdout",
     "output_type": "stream",
     "text": [
      "Adjusting learning rate of group 0 to 1.0000e-03.\n",
      "Epoch: 001, Train Loss: 0.0905, Test Loss 0.3624, Train Acc: 0.5238, Test Acc: 0.3000\n",
      "Adjusting learning rate of group 0 to 1.0000e-03.\n",
      "Epoch: 002, Train Loss: 0.0902, Test Loss 0.3710, Train Acc: 0.5238, Test Acc: 0.3000\n",
      "Adjusting learning rate of group 0 to 1.0000e-03.\n",
      "Epoch: 003, Train Loss: 0.0903, Test Loss 0.3706, Train Acc: 0.5238, Test Acc: 0.3000\n"
     ]
    },
    {
     "ename": "KeyboardInterrupt",
     "evalue": "",
     "output_type": "error",
     "traceback": [
      "\u001B[1;31m---------------------------------------------------------------------------\u001B[0m",
      "\u001B[1;31mKeyboardInterrupt\u001B[0m                         Traceback (most recent call last)",
      "\u001B[1;32m~\\AppData\\Local\\Temp\\ipykernel_9900\\2076859329.py\u001B[0m in \u001B[0;36m<module>\u001B[1;34m\u001B[0m\n\u001B[1;32m----> 1\u001B[1;33m \u001B[0mhistory\u001B[0m \u001B[1;33m=\u001B[0m \u001B[0mtrain\u001B[0m\u001B[1;33m(\u001B[0m\u001B[0mmodel\u001B[0m\u001B[1;33m,\u001B[0m \u001B[0mepochs\u001B[0m\u001B[1;33m,\u001B[0m \u001B[0mtrain_loader\u001B[0m\u001B[1;33m,\u001B[0m \u001B[0mval_loader\u001B[0m\u001B[1;33m,\u001B[0m \u001B[0mloss\u001B[0m\u001B[1;33m,\u001B[0m \u001B[0moptimizer\u001B[0m\u001B[1;33m)\u001B[0m\u001B[1;33m\u001B[0m\u001B[1;33m\u001B[0m\u001B[0m\n\u001B[0m",
      "\u001B[1;32m~\\AppData\\Local\\Temp\\ipykernel_9900\\3922818499.py\u001B[0m in \u001B[0;36mtrain\u001B[1;34m(model, epochs, train_loader, val_loader, criterion, optimizer)\u001B[0m\n\u001B[0;32m     32\u001B[0m     \u001B[0mlosses\u001B[0m \u001B[1;33m=\u001B[0m \u001B[1;33m[\u001B[0m\u001B[1;33m]\u001B[0m\u001B[1;33m\u001B[0m\u001B[1;33m\u001B[0m\u001B[0m\n\u001B[0;32m     33\u001B[0m     \u001B[1;32mfor\u001B[0m \u001B[0mepoch\u001B[0m \u001B[1;32min\u001B[0m \u001B[0mrange\u001B[0m\u001B[1;33m(\u001B[0m\u001B[1;36m1\u001B[0m\u001B[1;33m,\u001B[0m \u001B[0mepochs\u001B[0m\u001B[1;33m)\u001B[0m\u001B[1;33m:\u001B[0m\u001B[1;33m\u001B[0m\u001B[1;33m\u001B[0m\u001B[0m\n\u001B[1;32m---> 34\u001B[1;33m         \u001B[0mtrain_epoch\u001B[0m\u001B[1;33m(\u001B[0m\u001B[0mtrain_loader\u001B[0m\u001B[1;33m,\u001B[0m \u001B[0mmodel\u001B[0m\u001B[1;33m,\u001B[0m \u001B[0mcriterion\u001B[0m\u001B[1;33m,\u001B[0m \u001B[0moptimizer\u001B[0m\u001B[1;33m)\u001B[0m\u001B[1;33m\u001B[0m\u001B[1;33m\u001B[0m\u001B[0m\n\u001B[0m\u001B[0;32m     35\u001B[0m         \u001B[0mtrain_loss\u001B[0m\u001B[1;33m,\u001B[0m \u001B[0mtrain_acc\u001B[0m\u001B[1;33m,\u001B[0m \u001B[0m_\u001B[0m\u001B[1;33m,\u001B[0m \u001B[0m_\u001B[0m \u001B[1;33m=\u001B[0m \u001B[0meval_epoch\u001B[0m\u001B[1;33m(\u001B[0m\u001B[0mtrain_loader\u001B[0m\u001B[1;33m,\u001B[0m \u001B[0mmodel\u001B[0m\u001B[1;33m,\u001B[0m \u001B[0mcriterion\u001B[0m\u001B[1;33m)\u001B[0m\u001B[1;33m\u001B[0m\u001B[1;33m\u001B[0m\u001B[0m\n\u001B[0;32m     36\u001B[0m         \u001B[0mval_loss\u001B[0m\u001B[1;33m,\u001B[0m \u001B[0mtest_acc\u001B[0m\u001B[1;33m,\u001B[0m \u001B[0m_\u001B[0m\u001B[1;33m,\u001B[0m \u001B[0m_\u001B[0m \u001B[1;33m=\u001B[0m \u001B[0meval_epoch\u001B[0m\u001B[1;33m(\u001B[0m\u001B[0mval_loader\u001B[0m\u001B[1;33m,\u001B[0m \u001B[0mmodel\u001B[0m\u001B[1;33m,\u001B[0m \u001B[0mcriterion\u001B[0m\u001B[1;33m)\u001B[0m\u001B[1;33m\u001B[0m\u001B[1;33m\u001B[0m\u001B[0m\n",
      "\u001B[1;32m~\\AppData\\Local\\Temp\\ipykernel_9900\\3922818499.py\u001B[0m in \u001B[0;36mtrain_epoch\u001B[1;34m(train_loader, model, criterion, optimizer)\u001B[0m\n\u001B[0;32m      6\u001B[0m          \u001B[0mout\u001B[0m \u001B[1;33m=\u001B[0m \u001B[0mmodel\u001B[0m\u001B[1;33m(\u001B[0m\u001B[0mdata\u001B[0m\u001B[1;33m)\u001B[0m  \u001B[1;31m# Perform a single forward pass.\u001B[0m\u001B[1;33m\u001B[0m\u001B[1;33m\u001B[0m\u001B[0m\n\u001B[0;32m      7\u001B[0m          \u001B[0mloss\u001B[0m \u001B[1;33m=\u001B[0m \u001B[0mcriterion\u001B[0m\u001B[1;33m(\u001B[0m\u001B[0mout\u001B[0m\u001B[1;33m,\u001B[0m \u001B[0mdata\u001B[0m\u001B[1;33m.\u001B[0m\u001B[0my\u001B[0m\u001B[1;33m)\u001B[0m  \u001B[1;31m# Compute the loss.\u001B[0m\u001B[1;33m\u001B[0m\u001B[1;33m\u001B[0m\u001B[0m\n\u001B[1;32m----> 8\u001B[1;33m          \u001B[0mloss\u001B[0m\u001B[1;33m.\u001B[0m\u001B[0mbackward\u001B[0m\u001B[1;33m(\u001B[0m\u001B[1;33m)\u001B[0m  \u001B[1;31m# Derive gradients.\u001B[0m\u001B[1;33m\u001B[0m\u001B[1;33m\u001B[0m\u001B[0m\n\u001B[0m\u001B[0;32m      9\u001B[0m          \u001B[0moptimizer\u001B[0m\u001B[1;33m.\u001B[0m\u001B[0mstep\u001B[0m\u001B[1;33m(\u001B[0m\u001B[1;33m)\u001B[0m  \u001B[1;31m# Update parameters based on gradients.\u001B[0m\u001B[1;33m\u001B[0m\u001B[1;33m\u001B[0m\u001B[0m\n\u001B[0;32m     10\u001B[0m          \u001B[0moptimizer\u001B[0m\u001B[1;33m.\u001B[0m\u001B[0mzero_grad\u001B[0m\u001B[1;33m(\u001B[0m\u001B[1;33m)\u001B[0m  \u001B[1;31m# Clear gradients.\u001B[0m\u001B[1;33m\u001B[0m\u001B[1;33m\u001B[0m\u001B[0m\n",
      "\u001B[1;32m~\\Anaconda3\\envs\\Open_Close_GNN\\lib\\site-packages\\torch\\_tensor.py\u001B[0m in \u001B[0;36mbackward\u001B[1;34m(self, gradient, retain_graph, create_graph, inputs)\u001B[0m\n\u001B[0;32m    486\u001B[0m             )\n\u001B[0;32m    487\u001B[0m         torch.autograd.backward(\n\u001B[1;32m--> 488\u001B[1;33m             \u001B[0mself\u001B[0m\u001B[1;33m,\u001B[0m \u001B[0mgradient\u001B[0m\u001B[1;33m,\u001B[0m \u001B[0mretain_graph\u001B[0m\u001B[1;33m,\u001B[0m \u001B[0mcreate_graph\u001B[0m\u001B[1;33m,\u001B[0m \u001B[0minputs\u001B[0m\u001B[1;33m=\u001B[0m\u001B[0minputs\u001B[0m\u001B[1;33m\u001B[0m\u001B[1;33m\u001B[0m\u001B[0m\n\u001B[0m\u001B[0;32m    489\u001B[0m         )\n\u001B[0;32m    490\u001B[0m \u001B[1;33m\u001B[0m\u001B[0m\n",
      "\u001B[1;32m~\\Anaconda3\\envs\\Open_Close_GNN\\lib\\site-packages\\torch\\autograd\\__init__.py\u001B[0m in \u001B[0;36mbackward\u001B[1;34m(tensors, grad_tensors, retain_graph, create_graph, grad_variables, inputs)\u001B[0m\n\u001B[0;32m    197\u001B[0m     Variable._execution_engine.run_backward(  # Calls into the C++ engine to run the backward pass\n\u001B[0;32m    198\u001B[0m         \u001B[0mtensors\u001B[0m\u001B[1;33m,\u001B[0m \u001B[0mgrad_tensors_\u001B[0m\u001B[1;33m,\u001B[0m \u001B[0mretain_graph\u001B[0m\u001B[1;33m,\u001B[0m \u001B[0mcreate_graph\u001B[0m\u001B[1;33m,\u001B[0m \u001B[0minputs\u001B[0m\u001B[1;33m,\u001B[0m\u001B[1;33m\u001B[0m\u001B[1;33m\u001B[0m\u001B[0m\n\u001B[1;32m--> 199\u001B[1;33m         allow_unreachable=True, accumulate_grad=True)  # Calls into the C++ engine to run the backward pass\n\u001B[0m\u001B[0;32m    200\u001B[0m \u001B[1;33m\u001B[0m\u001B[0m\n\u001B[0;32m    201\u001B[0m def grad(\n",
      "\u001B[1;31mKeyboardInterrupt\u001B[0m: "
     ]
    }
   ],
   "source": [
    "history = train(model, epochs, train_loader, val_loader, loss, optimizer)"
   ],
   "metadata": {
    "collapsed": false,
    "pycharm": {
     "name": "#%%\n"
    }
   }
  },
  {
   "cell_type": "code",
   "execution_count": 133,
   "outputs": [],
   "source": [
    "train_loss, val_loss = zip(*history)"
   ],
   "metadata": {
    "collapsed": false,
    "pycharm": {
     "name": "#%%\n"
    }
   }
  },
  {
   "cell_type": "code",
   "execution_count": 122,
   "outputs": [
    {
     "data": {
      "text/plain": "[<matplotlib.lines.Line2D at 0x262804c0908>]"
     },
     "execution_count": 122,
     "metadata": {},
     "output_type": "execute_result"
    },
    {
     "data": {
      "text/plain": "<Figure size 640x480 with 1 Axes>",
      "image/png": "[encoded data removed]"
     },
     "metadata": {},
     "output_type": "display_data"
    }
   ],
   "source": [
    "import matplotlib.pyplot as plt\n",
    "\n",
    "plt.plot(train_loss)\n",
    "plt.plot(val_loss)\n",
    "#plt.plot(acc)\n",
    "#plt.plot(pres)"
   ],
   "metadata": {
    "collapsed": false,
    "pycharm": {
     "name": "#%%\n"
    }
   }
  },
  {
   "cell_type": "code",
   "execution_count": 123,
   "outputs": [],
   "source": [
    "torch.save(model.state_dict(), '../weights/bs8_128_32_8_k10.pt')"
   ],
   "metadata": {
    "collapsed": false,
    "pycharm": {
     "name": "#%%\n"
    }
   }
  },
  {
   "cell_type": "code",
   "execution_count": 134,
   "outputs": [
    {
     "data": {
      "text/plain": "[<matplotlib.lines.Line2D at 0x26280724748>]"
     },
     "execution_count": 134,
     "metadata": {},
     "output_type": "execute_result"
    },
    {
     "data": {
      "text/plain": "<Figure size 640x480 with 1 Axes>",
      "image/png": "[encoded data removed]"
     },
     "metadata": {},
     "output_type": "display_data"
    }
   ],
   "source": [
    "plt.plot(train_loss)\n",
    "plt.plot(val_loss)"
   ],
   "metadata": {
    "collapsed": false,
    "pycharm": {
     "name": "#%%\n"
    }
   }
  },
  {
   "cell_type": "code",
   "execution_count": 135,
   "outputs": [],
   "source": [
    "torch.save(model.state_dict(), '../weights/bs8_128_32_8_k5.pt')"
   ],
   "metadata": {
    "collapsed": false,
    "pycharm": {
     "name": "#%%\n"
    }
   }
  },
  {
   "cell_type": "code",
   "execution_count": null,
   "outputs": [],
   "source": [],
   "metadata": {
    "collapsed": false,
    "pycharm": {
     "name": "#%%\n"
    }
   }
  },
  {
   "cell_type": "code",
   "execution_count": 42,
   "outputs": [
    {
     "name": "stdout",
     "output_type": "stream",
     "text": [
      "0\n",
      "\n",
      "Epoch: 000, Train Loss: 0.0904, Test Loss 0.3662, Train Acc: 0.5238, Test Acc: 0.3000\n",
      "Train Prec: 0.000, Train Rec: 0.000, Test Prec: 0.000, Test Rec: 0.000\n",
      "Epoch: 001, Train Loss: 0.0905, Test Loss 0.3722, Train Acc: 0.5238, Test Acc: 0.3000\n",
      "Train Prec: 0.000, Train Rec: 0.000, Test Prec: 0.000, Test Rec: 0.000\n",
      "Epoch: 002, Train Loss: 0.0905, Test Loss 0.3619, Train Acc: 0.5238, Test Acc: 0.3000\n",
      "Train Prec: 0.000, Train Rec: 0.000, Test Prec: 0.000, Test Rec: 0.000\n",
      "Epoch: 003, Train Loss: 0.0901, Test Loss 0.3646, Train Acc: 0.5238, Test Acc: 0.3000\n",
      "Train Prec: 0.000, Train Rec: 0.000, Test Prec: 0.000, Test Rec: 0.000\n",
      "Epoch: 004, Train Loss: 0.0901, Test Loss 0.3652, Train Acc: 0.5238, Test Acc: 0.3000\n",
      "Train Prec: 0.000, Train Rec: 0.000, Test Prec: 0.000, Test Rec: 0.000\n",
      "Epoch: 005, Train Loss: 0.0897, Test Loss 0.3576, Train Acc: 0.5595, Test Acc: 0.3000\n",
      "Train Prec: 0.152, Train Rec: 0.091, Test Prec: 0.000, Test Rec: 0.000\n",
      "Epoch: 006, Train Loss: 0.0894, Test Loss 0.3667, Train Acc: 0.5238, Test Acc: 0.3000\n",
      "Train Prec: 0.000, Train Rec: 0.000, Test Prec: 0.000, Test Rec: 0.000\n",
      "Epoch: 007, Train Loss: 0.0888, Test Loss 0.3567, Train Acc: 0.5476, Test Acc: 0.3000\n",
      "Train Prec: 0.182, Train Rec: 0.045, Test Prec: 0.000, Test Rec: 0.000\n",
      "Epoch: 008, Train Loss: 0.0883, Test Loss 0.3659, Train Acc: 0.5357, Test Acc: 0.3000\n",
      "Train Prec: 0.091, Train Rec: 0.013, Test Prec: 0.000, Test Rec: 0.000\n",
      "Epoch: 009, Train Loss: 0.0869, Test Loss 0.3571, Train Acc: 0.5476, Test Acc: 0.3000\n",
      "Train Prec: 0.182, Train Rec: 0.048, Test Prec: 0.000, Test Rec: 0.000\n",
      "Epoch: 010, Train Loss: 0.0887, Test Loss 0.3856, Train Acc: 0.5357, Test Acc: 0.3000\n",
      "Train Prec: 0.091, Train Rec: 0.030, Test Prec: 0.000, Test Rec: 0.000\n",
      "Epoch: 011, Train Loss: 0.0823, Test Loss 0.3343, Train Acc: 0.7976, Test Acc: 0.5000\n",
      "Train Prec: 0.818, Train Rec: 0.618, Test Prec: 0.500, Test Rec: 0.400\n",
      "Epoch: 012, Train Loss: 0.0806, Test Loss 0.3591, Train Acc: 0.6429, Test Acc: 0.4000\n",
      "Train Prec: 0.523, Train Rec: 0.311, Test Prec: 0.200, Test Rec: 0.100\n",
      "Epoch: 013, Train Loss: 0.0907, Test Loss 0.2895, Train Acc: 0.4762, Test Acc: 0.7000\n",
      "Train Prec: 0.477, Train Rec: 0.909, Test Prec: 0.700, Test Rec: 1.000\n",
      "Epoch: 014, Train Loss: 0.0831, Test Loss 0.3184, Train Acc: 0.6786, Test Acc: 0.9000\n",
      "Train Prec: 0.598, Train Rec: 0.959, Test Prec: 0.800, Test Rec: 0.800\n",
      "Epoch: 015, Train Loss: 0.0827, Test Loss 0.3093, Train Acc: 0.7381, Test Acc: 0.8000\n",
      "Train Prec: 0.631, Train Rec: 0.942, Test Prec: 0.900, Test Rec: 0.900\n",
      "Epoch: 016, Train Loss: 0.0791, Test Loss 0.3252, Train Acc: 0.6667, Test Acc: 0.7000\n",
      "Train Prec: 0.818, Train Rec: 0.380, Test Prec: 0.900, Test Rec: 0.800\n",
      "Epoch: 017, Train Loss: 0.0701, Test Loss 0.2886, Train Acc: 0.7381, Test Acc: 0.8000\n",
      "Train Prec: 0.696, Train Rec: 0.891, Test Prec: 0.900, Test Rec: 0.900\n",
      "Epoch: 018, Train Loss: 0.1011, Test Loss 0.2890, Train Acc: 0.4762, Test Acc: 0.7000\n",
      "Train Prec: 0.466, Train Rec: 1.000, Test Prec: 0.700, Test Rec: 1.000\n",
      "Epoch: 019, Train Loss: 0.0796, Test Loss 0.3810, Train Acc: 0.5952, Test Acc: 0.4000\n",
      "Train Prec: 0.364, Train Rec: 0.167, Test Prec: 0.200, Test Rec: 0.100\n",
      "1\n",
      "\n",
      "Epoch: 000, Train Loss: 0.0902, Test Loss 0.3594, Train Acc: 0.5238, Test Acc: 0.3000\n",
      "Train Prec: 0.000, Train Rec: 0.000, Test Prec: 0.000, Test Rec: 0.000\n",
      "Epoch: 001, Train Loss: 0.0904, Test Loss 0.3623, Train Acc: 0.5238, Test Acc: 0.3000\n",
      "Train Prec: 0.000, Train Rec: 0.000, Test Prec: 0.000, Test Rec: 0.000\n",
      "Epoch: 002, Train Loss: 0.0895, Test Loss 0.3626, Train Acc: 0.5238, Test Acc: 0.3000\n",
      "Train Prec: 0.000, Train Rec: 0.000, Test Prec: 0.000, Test Rec: 0.000\n",
      "Epoch: 003, Train Loss: 0.0904, Test Loss 0.3752, Train Acc: 0.5238, Test Acc: 0.3000\n",
      "Train Prec: 0.000, Train Rec: 0.000, Test Prec: 0.000, Test Rec: 0.000\n",
      "Epoch: 004, Train Loss: 0.0893, Test Loss 0.3590, Train Acc: 0.5238, Test Acc: 0.3000\n",
      "Train Prec: 0.000, Train Rec: 0.000, Test Prec: 0.000, Test Rec: 0.000\n",
      "Epoch: 005, Train Loss: 0.0881, Test Loss 0.3494, Train Acc: 0.6786, Test Acc: 0.4000\n",
      "Train Prec: 0.632, Train Rec: 0.715, Test Prec: 0.400, Test Rec: 0.200\n",
      "Epoch: 006, Train Loss: 0.0879, Test Loss 0.3670, Train Acc: 0.5357, Test Acc: 0.3000\n",
      "Train Prec: 0.091, Train Rec: 0.030, Test Prec: 0.000, Test Rec: 0.000\n",
      "Epoch: 007, Train Loss: 0.0864, Test Loss 0.3565, Train Acc: 0.6548, Test Acc: 0.3000\n",
      "Train Prec: 0.727, Train Rec: 0.276, Test Prec: 0.000, Test Rec: 0.000\n",
      "Epoch: 008, Train Loss: 0.0851, Test Loss 0.3581, Train Acc: 0.6667, Test Acc: 0.3000\n",
      "Train Prec: 0.591, Train Rec: 0.312, Test Prec: 0.000, Test Rec: 0.000\n",
      "Epoch: 009, Train Loss: 0.0871, Test Loss 0.4161, Train Acc: 0.5238, Test Acc: 0.3000\n",
      "Train Prec: 0.000, Train Rec: 0.000, Test Prec: 0.000, Test Rec: 0.000\n",
      "Epoch: 010, Train Loss: 0.0933, Test Loss 0.3194, Train Acc: 0.4762, Test Acc: 0.7000\n",
      "Train Prec: 0.477, Train Rec: 1.000, Test Prec: 0.700, Test Rec: 1.000\n",
      "Epoch: 011, Train Loss: 0.0881, Test Loss 0.3501, Train Acc: 0.7500, Test Acc: 0.4000\n",
      "Train Prec: 0.758, Train Rec: 0.532, Test Prec: 0.200, Test Rec: 0.200\n",
      "Epoch: 012, Train Loss: 0.0869, Test Loss 0.3547, Train Acc: 0.6310, Test Acc: 0.3000\n",
      "Train Prec: 0.455, Train Rec: 0.152, Test Prec: 0.000, Test Rec: 0.000\n",
      "Epoch: 013, Train Loss: 0.0854, Test Loss 0.3479, Train Acc: 0.7619, Test Acc: 0.4000\n",
      "Train Prec: 0.706, Train Rec: 0.723, Test Prec: 0.200, Test Rec: 0.200\n",
      "Epoch: 014, Train Loss: 0.0833, Test Loss 0.3489, Train Acc: 0.8214, Test Acc: 0.5000\n",
      "Train Prec: 0.812, Train Rec: 0.661, Test Prec: 0.400, Test Rec: 0.200\n",
      "Epoch: 015, Train Loss: 0.0820, Test Loss 0.3323, Train Acc: 0.6905, Test Acc: 0.8000\n",
      "Train Prec: 0.628, Train Rec: 0.959, Test Prec: 0.900, Test Rec: 0.900\n",
      "Epoch: 016, Train Loss: 0.0775, Test Loss 0.3250, Train Acc: 0.7024, Test Acc: 0.8000\n",
      "Train Prec: 0.632, Train Rec: 0.967, Test Prec: 0.900, Test Rec: 0.900\n",
      "Epoch: 017, Train Loss: 0.0768, Test Loss 0.3263, Train Acc: 0.7262, Test Acc: 0.8000\n",
      "Train Prec: 0.634, Train Rec: 0.947, Test Prec: 0.800, Test Rec: 0.700\n",
      "Epoch: 018, Train Loss: 0.0795, Test Loss 0.3862, Train Acc: 0.6310, Test Acc: 0.3000\n",
      "Train Prec: 0.636, Train Rec: 0.230, Test Prec: 0.000, Test Rec: 0.000\n",
      "Epoch: 019, Train Loss: 0.0739, Test Loss 0.3231, Train Acc: 0.7381, Test Acc: 0.8000\n",
      "Train Prec: 0.647, Train Rec: 0.955, Test Prec: 0.600, Test Rec: 0.600\n",
      "2\n",
      "\n",
      "Epoch: 000, Train Loss: 0.0904, Test Loss 0.3692, Train Acc: 0.5238, Test Acc: 0.3000\n",
      "Train Prec: 0.000, Train Rec: 0.000, Test Prec: 0.000, Test Rec: 0.000\n",
      "Epoch: 001, Train Loss: 0.0889, Test Loss 0.3545, Train Acc: 0.6905, Test Acc: 0.3000\n",
      "Train Prec: 0.818, Train Rec: 0.520, Test Prec: 0.000, Test Rec: 0.000\n",
      "Epoch: 002, Train Loss: 0.0895, Test Loss 0.3809, Train Acc: 0.5238, Test Acc: 0.3000\n",
      "Train Prec: 0.000, Train Rec: 0.000, Test Prec: 0.000, Test Rec: 0.000\n",
      "Epoch: 003, Train Loss: 0.0893, Test Loss 0.3369, Train Acc: 0.5119, Test Acc: 0.6000\n",
      "Train Prec: 0.488, Train Rec: 1.000, Test Prec: 0.600, Test Rec: 0.800\n",
      "Epoch: 004, Train Loss: 0.0868, Test Loss 0.3540, Train Acc: 0.7381, Test Acc: 0.3000\n",
      "Train Prec: 0.924, Train Rec: 0.503, Test Prec: 0.000, Test Rec: 0.000\n",
      "Epoch: 005, Train Loss: 0.0856, Test Loss 0.3563, Train Acc: 0.6071, Test Acc: 0.3000\n",
      "Train Prec: 0.545, Train Rec: 0.197, Test Prec: 0.000, Test Rec: 0.000\n",
      "Epoch: 006, Train Loss: 0.0826, Test Loss 0.3691, Train Acc: 0.6190, Test Acc: 0.3000\n",
      "Train Prec: 0.545, Train Rec: 0.172, Test Prec: 0.000, Test Rec: 0.000\n",
      "Epoch: 007, Train Loss: 0.0829, Test Loss 0.3849, Train Acc: 0.5833, Test Acc: 0.3000\n",
      "Train Prec: 0.364, Train Rec: 0.100, Test Prec: 0.000, Test Rec: 0.000\n",
      "Epoch: 008, Train Loss: 0.0782, Test Loss 0.3444, Train Acc: 0.7976, Test Acc: 0.3000\n",
      "Train Prec: 0.755, Train Rec: 0.906, Test Prec: 0.200, Test Rec: 0.200\n",
      "Epoch: 009, Train Loss: 0.0744, Test Loss 0.3331, Train Acc: 0.8095, Test Acc: 0.5000\n",
      "Train Prec: 0.750, Train Rec: 0.921, Test Prec: 0.600, Test Rec: 0.400\n",
      "Epoch: 010, Train Loss: 0.0706, Test Loss 0.3275, Train Acc: 0.8571, Test Acc: 0.6000\n",
      "Train Prec: 0.827, Train Rec: 0.888, Test Prec: 0.600, Test Rec: 0.400\n",
      "Epoch: 011, Train Loss: 0.0709, Test Loss 0.3682, Train Acc: 0.7143, Test Acc: 0.3000\n",
      "Train Prec: 0.727, Train Rec: 0.455, Test Prec: 0.000, Test Rec: 0.000\n",
      "Epoch: 012, Train Loss: 0.0648, Test Loss 0.3431, Train Acc: 0.9048, Test Acc: 0.4000\n",
      "Train Prec: 0.951, Train Rec: 0.879, Test Prec: 0.300, Test Rec: 0.300\n",
      "Epoch: 013, Train Loss: 0.0602, Test Loss 0.3692, Train Acc: 0.9048, Test Acc: 0.3000\n",
      "Train Prec: 0.845, Train Rec: 0.818, Test Prec: 0.200, Test Rec: 0.100\n",
      "Epoch: 014, Train Loss: 0.0823, Test Loss 0.4908, Train Acc: 0.5952, Test Acc: 0.3000\n",
      "Train Prec: 0.455, Train Rec: 0.122, Test Prec: 0.000, Test Rec: 0.000\n",
      "Epoch: 015, Train Loss: 0.0847, Test Loss 0.5030, Train Acc: 0.5833, Test Acc: 0.3000\n",
      "Train Prec: 0.455, Train Rec: 0.106, Test Prec: 0.000, Test Rec: 0.000\n",
      "Epoch: 016, Train Loss: 0.0571, Test Loss 0.3886, Train Acc: 0.8452, Test Acc: 0.2000\n",
      "Train Prec: 0.955, Train Rec: 0.712, Test Prec: 0.000, Test Rec: 0.000\n",
      "Epoch: 017, Train Loss: 0.0534, Test Loss 0.3608, Train Acc: 0.9167, Test Acc: 0.4000\n",
      "Train Prec: 0.864, Train Rec: 0.788, Test Prec: 0.400, Test Rec: 0.200\n",
      "Epoch: 018, Train Loss: 0.0490, Test Loss 0.3352, Train Acc: 0.8690, Test Acc: 0.5000\n",
      "Train Prec: 0.815, Train Rec: 0.932, Test Prec: 0.300, Test Rec: 0.400\n",
      "Epoch: 019, Train Loss: 0.0571, Test Loss 0.4187, Train Acc: 0.8214, Test Acc: 0.3000\n",
      "Train Prec: 0.909, Train Rec: 0.606, Test Prec: 0.000, Test Rec: 0.000\n",
      "3\n",
      "\n",
      "Epoch: 000, Train Loss: 0.0909, Test Loss 0.3791, Train Acc: 0.5238, Test Acc: 0.3000\n",
      "Train Prec: 0.000, Train Rec: 0.000, Test Prec: 0.000, Test Rec: 0.000\n",
      "Epoch: 001, Train Loss: 0.0900, Test Loss 0.3549, Train Acc: 0.5476, Test Acc: 0.3000\n",
      "Train Prec: 0.273, Train Rec: 0.061, Test Prec: 0.000, Test Rec: 0.000\n",
      "Epoch: 002, Train Loss: 0.0900, Test Loss 0.3632, Train Acc: 0.5238, Test Acc: 0.3000\n",
      "Train Prec: 0.000, Train Rec: 0.000, Test Prec: 0.000, Test Rec: 0.000\n",
      "Epoch: 003, Train Loss: 0.0904, Test Loss 0.3541, Train Acc: 0.5833, Test Acc: 0.3000\n",
      "Train Prec: 0.515, Train Rec: 0.155, Test Prec: 0.000, Test Rec: 0.000\n",
      "Epoch: 004, Train Loss: 0.0892, Test Loss 0.3624, Train Acc: 0.5238, Test Acc: 0.3000\n",
      "Train Prec: 0.000, Train Rec: 0.000, Test Prec: 0.000, Test Rec: 0.000\n",
      "Epoch: 005, Train Loss: 0.0888, Test Loss 0.3618, Train Acc: 0.5238, Test Acc: 0.3000\n",
      "Train Prec: 0.000, Train Rec: 0.000, Test Prec: 0.000, Test Rec: 0.000\n",
      "Epoch: 006, Train Loss: 0.0878, Test Loss 0.3602, Train Acc: 0.5357, Test Acc: 0.3000\n",
      "Train Prec: 0.091, Train Rec: 0.030, Test Prec: 0.000, Test Rec: 0.000\n",
      "Epoch: 007, Train Loss: 0.0873, Test Loss 0.3777, Train Acc: 0.5238, Test Acc: 0.3000\n",
      "Train Prec: 0.000, Train Rec: 0.000, Test Prec: 0.000, Test Rec: 0.000\n",
      "Epoch: 008, Train Loss: 0.0858, Test Loss 0.3434, Train Acc: 0.6786, Test Acc: 0.5000\n",
      "Train Prec: 0.592, Train Rec: 0.792, Test Prec: 0.400, Test Rec: 0.300\n",
      "Epoch: 009, Train Loss: 0.0851, Test Loss 0.3697, Train Acc: 0.5476, Test Acc: 0.3000\n",
      "Train Prec: 0.182, Train Rec: 0.045, Test Prec: 0.000, Test Rec: 0.000\n",
      "Epoch: 010, Train Loss: 0.0826, Test Loss 0.3315, Train Acc: 0.6310, Test Acc: 0.8000\n",
      "Train Prec: 0.585, Train Rec: 0.970, Test Prec: 0.800, Test Rec: 0.700\n",
      "Epoch: 011, Train Loss: 0.0790, Test Loss 0.3275, Train Acc: 0.6905, Test Acc: 0.8000\n",
      "Train Prec: 0.606, Train Rec: 0.964, Test Prec: 0.800, Test Rec: 0.700\n",
      "Epoch: 012, Train Loss: 0.0787, Test Loss 0.3807, Train Acc: 0.6190, Test Acc: 0.3000\n",
      "Train Prec: 0.591, Train Rec: 0.271, Test Prec: 0.000, Test Rec: 0.000\n",
      "Epoch: 013, Train Loss: 0.0713, Test Loss 0.3490, Train Acc: 0.7976, Test Acc: 0.5000\n",
      "Train Prec: 0.876, Train Rec: 0.698, Test Prec: 0.500, Test Rec: 0.500\n",
      "Epoch: 014, Train Loss: 0.0810, Test Loss 0.4135, Train Acc: 0.5714, Test Acc: 0.3000\n",
      "Train Prec: 0.409, Train Rec: 0.155, Test Prec: 0.000, Test Rec: 0.000\n",
      "Epoch: 015, Train Loss: 0.0878, Test Loss 0.4154, Train Acc: 0.5476, Test Acc: 0.3000\n",
      "Train Prec: 0.182, Train Rec: 0.041, Test Prec: 0.000, Test Rec: 0.000\n",
      "Epoch: 016, Train Loss: 0.0766, Test Loss 0.3063, Train Acc: 0.6786, Test Acc: 0.7000\n",
      "Train Prec: 0.585, Train Rec: 0.985, Test Prec: 0.700, Test Rec: 0.800\n",
      "Epoch: 017, Train Loss: 0.0776, Test Loss 0.3767, Train Acc: 0.6667, Test Acc: 0.5000\n",
      "Train Prec: 0.682, Train Rec: 0.295, Test Prec: 0.200, Test Rec: 0.200\n",
      "Epoch: 018, Train Loss: 0.0613, Test Loss 0.3009, Train Acc: 0.7738, Test Acc: 0.8000\n",
      "Train Prec: 0.712, Train Rec: 0.964, Test Prec: 0.800, Test Rec: 0.700\n",
      "Epoch: 019, Train Loss: 0.0540, Test Loss 0.3226, Train Acc: 0.8690, Test Acc: 0.7000\n",
      "Train Prec: 0.812, Train Rec: 0.941, Test Prec: 0.800, Test Rec: 0.700\n",
      "4\n",
      "\n",
      "Epoch: 000, Train Loss: 0.0906, Test Loss 0.3485, Train Acc: 0.5357, Test Acc: 0.4000\n",
      "Train Prec: 0.091, Train Rec: 0.030, Test Prec: 0.200, Test Rec: 0.100\n",
      "Epoch: 001, Train Loss: 0.0903, Test Loss 0.3535, Train Acc: 0.5238, Test Acc: 0.3000\n",
      "Train Prec: 0.000, Train Rec: 0.000, Test Prec: 0.000, Test Rec: 0.000\n",
      "Epoch: 002, Train Loss: 0.0902, Test Loss 0.3489, Train Acc: 0.5357, Test Acc: 0.3000\n",
      "Train Prec: 0.091, Train Rec: 0.018, Test Prec: 0.000, Test Rec: 0.000\n",
      "Epoch: 003, Train Loss: 0.0902, Test Loss 0.3458, Train Acc: 0.6310, Test Acc: 0.5000\n",
      "Train Prec: 0.661, Train Rec: 0.672, Test Prec: 0.600, Test Rec: 0.400\n",
      "Epoch: 004, Train Loss: 0.0909, Test Loss 0.3744, Train Acc: 0.5238, Test Acc: 0.3000\n",
      "Train Prec: 0.000, Train Rec: 0.000, Test Prec: 0.000, Test Rec: 0.000\n",
      "Epoch: 005, Train Loss: 0.0902, Test Loss 0.3514, Train Acc: 0.5357, Test Acc: 0.3000\n",
      "Train Prec: 0.091, Train Rec: 0.015, Test Prec: 0.000, Test Rec: 0.000\n",
      "Epoch: 006, Train Loss: 0.0900, Test Loss 0.3508, Train Acc: 0.5357, Test Acc: 0.3000\n",
      "Train Prec: 0.091, Train Rec: 0.045, Test Prec: 0.000, Test Rec: 0.000\n",
      "Epoch: 007, Train Loss: 0.0902, Test Loss 0.3549, Train Acc: 0.5357, Test Acc: 0.3000\n",
      "Train Prec: 0.091, Train Rec: 0.023, Test Prec: 0.000, Test Rec: 0.000\n",
      "Epoch: 008, Train Loss: 0.0897, Test Loss 0.3524, Train Acc: 0.5357, Test Acc: 0.3000\n",
      "Train Prec: 0.091, Train Rec: 0.018, Test Prec: 0.000, Test Rec: 0.000\n",
      "Epoch: 009, Train Loss: 0.0887, Test Loss 0.3542, Train Acc: 0.5357, Test Acc: 0.3000\n",
      "Train Prec: 0.091, Train Rec: 0.023, Test Prec: 0.000, Test Rec: 0.000\n",
      "Epoch: 010, Train Loss: 0.0884, Test Loss 0.3528, Train Acc: 0.5476, Test Acc: 0.3000\n",
      "Train Prec: 0.182, Train Rec: 0.045, Test Prec: 0.000, Test Rec: 0.000\n",
      "Epoch: 011, Train Loss: 0.0885, Test Loss 0.3485, Train Acc: 0.7024, Test Acc: 0.3000\n",
      "Train Prec: 0.909, Train Rec: 0.434, Test Prec: 0.000, Test Rec: 0.000\n",
      "Epoch: 012, Train Loss: 0.0896, Test Loss 0.3735, Train Acc: 0.5357, Test Acc: 0.3000\n",
      "Train Prec: 0.091, Train Rec: 0.018, Test Prec: 0.000, Test Rec: 0.000\n",
      "Epoch: 013, Train Loss: 0.0871, Test Loss 0.3457, Train Acc: 0.7976, Test Acc: 0.5000\n",
      "Train Prec: 0.902, Train Rec: 0.714, Test Prec: 0.500, Test Rec: 0.400\n",
      "Epoch: 014, Train Loss: 0.0872, Test Loss 0.3561, Train Acc: 0.5595, Test Acc: 0.3000\n",
      "Train Prec: 0.182, Train Rec: 0.067, Test Prec: 0.000, Test Rec: 0.000\n",
      "Epoch: 015, Train Loss: 0.0852, Test Loss 0.3237, Train Acc: 0.6071, Test Acc: 0.7000\n",
      "Train Prec: 0.581, Train Rec: 0.873, Test Prec: 0.700, Test Rec: 1.000\n",
      "Epoch: 016, Train Loss: 0.0870, Test Loss 0.3620, Train Acc: 0.5476, Test Acc: 0.3000\n",
      "Train Prec: 0.182, Train Rec: 0.068, Test Prec: 0.000, Test Rec: 0.000\n",
      "Epoch: 017, Train Loss: 0.0865, Test Loss 0.3463, Train Acc: 0.7738, Test Acc: 0.4000\n",
      "Train Prec: 0.786, Train Rec: 0.659, Test Prec: 0.400, Test Rec: 0.300\n",
      "Epoch: 018, Train Loss: 0.0834, Test Loss 0.3523, Train Acc: 0.7500, Test Acc: 0.3000\n",
      "Train Prec: 0.773, Train Rec: 0.498, Test Prec: 0.000, Test Rec: 0.000\n",
      "Epoch: 019, Train Loss: 0.0835, Test Loss 0.3266, Train Acc: 0.6429, Test Acc: 0.9000\n",
      "Train Prec: 0.577, Train Rec: 0.952, Test Prec: 0.700, Test Rec: 0.800\n",
      "5\n",
      "\n",
      "Epoch: 000, Train Loss: 0.0912, Test Loss 0.4009, Train Acc: 0.5238, Test Acc: 0.3000\n",
      "Train Prec: 0.000, Train Rec: 0.000, Test Prec: 0.000, Test Rec: 0.000\n",
      "Epoch: 001, Train Loss: 0.0907, Test Loss 0.3708, Train Acc: 0.5238, Test Acc: 0.3000\n",
      "Train Prec: 0.000, Train Rec: 0.000, Test Prec: 0.000, Test Rec: 0.000\n",
      "Epoch: 002, Train Loss: 0.0904, Test Loss 0.3681, Train Acc: 0.5238, Test Acc: 0.3000\n",
      "Train Prec: 0.000, Train Rec: 0.000, Test Prec: 0.000, Test Rec: 0.000\n",
      "Epoch: 003, Train Loss: 0.0901, Test Loss 0.3694, Train Acc: 0.5238, Test Acc: 0.3000\n",
      "Train Prec: 0.000, Train Rec: 0.000, Test Prec: 0.000, Test Rec: 0.000\n",
      "Epoch: 004, Train Loss: 0.0902, Test Loss 0.3490, Train Acc: 0.5357, Test Acc: 0.5000\n",
      "Train Prec: 0.472, Train Rec: 0.661, Test Prec: 0.400, Test Rec: 0.200\n",
      "Epoch: 005, Train Loss: 0.0891, Test Loss 0.3592, Train Acc: 0.5476, Test Acc: 0.3000\n",
      "Train Prec: 0.091, Train Rec: 0.030, Test Prec: 0.000, Test Rec: 0.000\n",
      "Epoch: 006, Train Loss: 0.0882, Test Loss 0.3557, Train Acc: 0.6548, Test Acc: 0.3000\n",
      "Train Prec: 0.727, Train Rec: 0.292, Test Prec: 0.000, Test Rec: 0.000\n",
      "Epoch: 007, Train Loss: 0.0894, Test Loss 0.3660, Train Acc: 0.5238, Test Acc: 0.3000\n",
      "Train Prec: 0.000, Train Rec: 0.000, Test Prec: 0.000, Test Rec: 0.000\n",
      "Epoch: 008, Train Loss: 0.0887, Test Loss 0.3590, Train Acc: 0.5476, Test Acc: 0.3000\n",
      "Train Prec: 0.182, Train Rec: 0.061, Test Prec: 0.000, Test Rec: 0.000\n",
      "Epoch: 009, Train Loss: 0.0874, Test Loss 0.3524, Train Acc: 0.6310, Test Acc: 0.3000\n",
      "Train Prec: 0.636, Train Rec: 0.203, Test Prec: 0.000, Test Rec: 0.000\n",
      "Epoch: 010, Train Loss: 0.0866, Test Loss 0.3393, Train Acc: 0.6548, Test Acc: 0.7000\n",
      "Train Prec: 0.574, Train Rec: 0.861, Test Prec: 0.700, Test Rec: 0.700\n",
      "Epoch: 011, Train Loss: 0.0897, Test Loss 0.3774, Train Acc: 0.5476, Test Acc: 0.3000\n",
      "Train Prec: 0.182, Train Rec: 0.109, Test Prec: 0.000, Test Rec: 0.000\n",
      "Epoch: 012, Train Loss: 0.0864, Test Loss 0.3165, Train Acc: 0.5238, Test Acc: 0.6000\n",
      "Train Prec: 0.489, Train Rec: 1.000, Test Prec: 0.700, Test Rec: 0.900\n",
      "Epoch: 013, Train Loss: 0.0826, Test Loss 0.3261, Train Acc: 0.6667, Test Acc: 0.8000\n",
      "Train Prec: 0.596, Train Rec: 0.936, Test Prec: 0.900, Test Rec: 0.900\n",
      "Epoch: 014, Train Loss: 0.0815, Test Loss 0.3684, Train Acc: 0.5833, Test Acc: 0.3000\n",
      "Train Prec: 0.455, Train Rec: 0.109, Test Prec: 0.000, Test Rec: 0.000\n",
      "Epoch: 015, Train Loss: 0.1111, Test Loss 0.3023, Train Acc: 0.4762, Test Acc: 0.7000\n",
      "Train Prec: 0.477, Train Rec: 1.000, Test Prec: 0.700, Test Rec: 1.000\n",
      "Epoch: 016, Train Loss: 0.0834, Test Loss 0.3890, Train Acc: 0.5476, Test Acc: 0.3000\n",
      "Train Prec: 0.182, Train Rec: 0.053, Test Prec: 0.000, Test Rec: 0.000\n",
      "Epoch: 017, Train Loss: 0.0787, Test Loss 0.3158, Train Acc: 0.6667, Test Acc: 0.8000\n",
      "Train Prec: 0.611, Train Rec: 0.982, Test Prec: 0.900, Test Rec: 0.900\n",
      "Epoch: 018, Train Loss: 0.0740, Test Loss 0.3271, Train Acc: 0.8333, Test Acc: 0.6000\n",
      "Train Prec: 0.724, Train Rec: 0.683, Test Prec: 0.800, Test Rec: 0.500\n",
      "Epoch: 019, Train Loss: 0.0702, Test Loss 0.3087, Train Acc: 0.7738, Test Acc: 0.8000\n",
      "Train Prec: 0.664, Train Rec: 0.936, Test Prec: 0.900, Test Rec: 0.900\n",
      "6\n",
      "\n",
      "Epoch: 000, Train Loss: 0.0918, Test Loss 0.3270, Train Acc: 0.4762, Test Acc: 0.7000\n",
      "Train Prec: 0.477, Train Rec: 1.000, Test Prec: 0.700, Test Rec: 1.000\n",
      "Epoch: 001, Train Loss: 0.0905, Test Loss 0.3341, Train Acc: 0.5000, Test Acc: 0.7000\n",
      "Train Prec: 0.486, Train Rec: 0.836, Test Prec: 0.700, Test Rec: 1.000\n",
      "Epoch: 002, Train Loss: 0.0906, Test Loss 0.3558, Train Acc: 0.5238, Test Acc: 0.4000\n",
      "Train Prec: 0.091, Train Rec: 0.023, Test Prec: 0.200, Test Rec: 0.100\n",
      "Epoch: 003, Train Loss: 0.0903, Test Loss 0.3394, Train Acc: 0.5238, Test Acc: 0.5000\n",
      "Train Prec: 0.509, Train Rec: 0.470, Test Prec: 0.600, Test Rec: 0.700\n",
      "Epoch: 004, Train Loss: 0.0905, Test Loss 0.3337, Train Acc: 0.5000, Test Acc: 0.7000\n",
      "Train Prec: 0.465, Train Rec: 0.810, Test Prec: 0.700, Test Rec: 1.000\n",
      "Epoch: 005, Train Loss: 0.0895, Test Loss 0.3542, Train Acc: 0.5238, Test Acc: 0.4000\n",
      "Train Prec: 0.182, Train Rec: 0.036, Test Prec: 0.200, Test Rec: 0.100\n",
      "Epoch: 006, Train Loss: 0.0892, Test Loss 0.3408, Train Acc: 0.5476, Test Acc: 0.7000\n",
      "Train Prec: 0.402, Train Rec: 0.252, Test Prec: 0.700, Test Rec: 0.700\n",
      "Epoch: 007, Train Loss: 0.0893, Test Loss 0.3393, Train Acc: 0.5357, Test Acc: 0.7000\n",
      "Train Prec: 0.394, Train Rec: 0.265, Test Prec: 0.700, Test Rec: 0.700\n",
      "Epoch: 008, Train Loss: 0.0892, Test Loss 0.3434, Train Acc: 0.6190, Test Acc: 0.8000\n",
      "Train Prec: 0.545, Train Rec: 0.271, Test Prec: 0.800, Test Rec: 0.700\n",
      "Epoch: 009, Train Loss: 0.0879, Test Loss 0.3333, Train Acc: 0.5595, Test Acc: 0.7000\n",
      "Train Prec: 0.576, Train Rec: 0.398, Test Prec: 0.700, Test Rec: 0.600\n",
      "Epoch: 010, Train Loss: 0.0873, Test Loss 0.3421, Train Acc: 0.6310, Test Acc: 0.7000\n",
      "Train Prec: 0.727, Train Rec: 0.289, Test Prec: 0.600, Test Rec: 0.400\n",
      "Epoch: 011, Train Loss: 0.0879, Test Loss 0.3577, Train Acc: 0.5476, Test Acc: 0.4000\n",
      "Train Prec: 0.182, Train Rec: 0.076, Test Prec: 0.200, Test Rec: 0.100\n",
      "Epoch: 012, Train Loss: 0.0868, Test Loss 0.3490, Train Acc: 0.6071, Test Acc: 0.6000\n",
      "Train Prec: 0.432, Train Rec: 0.192, Test Prec: 0.600, Test Rec: 0.500\n",
      "Epoch: 013, Train Loss: 0.0852, Test Loss 0.3212, Train Acc: 0.7024, Test Acc: 0.7000\n",
      "Train Prec: 0.696, Train Rec: 0.774, Test Prec: 0.700, Test Rec: 0.700\n",
      "Epoch: 014, Train Loss: 0.0885, Test Loss 0.3810, Train Acc: 0.5476, Test Acc: 0.4000\n",
      "Train Prec: 0.182, Train Rec: 0.043, Test Prec: 0.200, Test Rec: 0.200\n",
      "Epoch: 015, Train Loss: 0.0809, Test Loss 0.2920, Train Acc: 0.6429, Test Acc: 0.7000\n",
      "Train Prec: 0.594, Train Rec: 0.886, Test Prec: 0.700, Test Rec: 0.800\n",
      "Epoch: 016, Train Loss: 0.0893, Test Loss 0.3933, Train Acc: 0.5595, Test Acc: 0.4000\n",
      "Train Prec: 0.182, Train Rec: 0.061, Test Prec: 0.200, Test Rec: 0.200\n",
      "Epoch: 017, Train Loss: 0.0825, Test Loss 0.3043, Train Acc: 0.7024, Test Acc: 0.7000\n",
      "Train Prec: 0.685, Train Rec: 0.774, Test Prec: 0.800, Test Rec: 0.900\n",
      "Epoch: 018, Train Loss: 0.0821, Test Loss 0.3248, Train Acc: 0.7143, Test Acc: 0.7000\n",
      "Train Prec: 0.826, Train Rec: 0.509, Test Prec: 0.700, Test Rec: 0.600\n",
      "Epoch: 019, Train Loss: 0.0790, Test Loss 0.3146, Train Acc: 0.7381, Test Acc: 0.7000\n",
      "Train Prec: 0.765, Train Rec: 0.645, Test Prec: 0.800, Test Rec: 0.600\n",
      "7\n",
      "\n",
      "Epoch: 000, Train Loss: 0.0905, Test Loss 0.3373, Train Acc: 0.4762, Test Acc: 0.7000\n",
      "Train Prec: 0.489, Train Rec: 1.000, Test Prec: 0.700, Test Rec: 1.000\n",
      "Epoch: 001, Train Loss: 0.0898, Test Loss 0.3616, Train Acc: 0.5238, Test Acc: 0.3000\n",
      "Train Prec: 0.000, Train Rec: 0.000, Test Prec: 0.000, Test Rec: 0.000\n",
      "Epoch: 002, Train Loss: 0.0893, Test Loss 0.3521, Train Acc: 0.5357, Test Acc: 0.3000\n",
      "Train Prec: 0.091, Train Rec: 0.018, Test Prec: 0.000, Test Rec: 0.000\n",
      "Epoch: 003, Train Loss: 0.0887, Test Loss 0.3564, Train Acc: 0.5476, Test Acc: 0.3000\n",
      "Train Prec: 0.182, Train Rec: 0.048, Test Prec: 0.000, Test Rec: 0.000\n",
      "Epoch: 004, Train Loss: 0.0888, Test Loss 0.3383, Train Acc: 0.5476, Test Acc: 0.7000\n",
      "Train Prec: 0.519, Train Rec: 1.000, Test Prec: 0.700, Test Rec: 1.000\n",
      "Epoch: 005, Train Loss: 0.0883, Test Loss 0.3459, Train Acc: 0.6905, Test Acc: 0.4000\n",
      "Train Prec: 0.697, Train Rec: 0.383, Test Prec: 0.200, Test Rec: 0.100\n",
      "Epoch: 006, Train Loss: 0.0857, Test Loss 0.3371, Train Acc: 0.7024, Test Acc: 0.8000\n",
      "Train Prec: 0.641, Train Rec: 0.900, Test Prec: 0.900, Test Rec: 0.900\n",
      "Epoch: 007, Train Loss: 0.0865, Test Loss 0.3648, Train Acc: 0.5476, Test Acc: 0.3000\n",
      "Train Prec: 0.182, Train Rec: 0.034, Test Prec: 0.000, Test Rec: 0.000\n",
      "Epoch: 008, Train Loss: 0.0863, Test Loss 0.3219, Train Acc: 0.5357, Test Acc: 0.8000\n",
      "Train Prec: 0.513, Train Rec: 0.970, Test Prec: 0.800, Test Rec: 0.800\n",
      "Epoch: 009, Train Loss: 0.0834, Test Loss 0.3610, Train Acc: 0.6071, Test Acc: 0.3000\n",
      "Train Prec: 0.455, Train Rec: 0.259, Test Prec: 0.000, Test Rec: 0.000\n",
      "Epoch: 010, Train Loss: 0.0807, Test Loss 0.3321, Train Acc: 0.7262, Test Acc: 0.6000\n",
      "Train Prec: 0.659, Train Rec: 0.918, Test Prec: 0.600, Test Rec: 0.500\n",
      "Epoch: 011, Train Loss: 0.0934, Test Loss 0.4367, Train Acc: 0.5476, Test Acc: 0.3000\n",
      "Train Prec: 0.182, Train Rec: 0.045, Test Prec: 0.000, Test Rec: 0.000\n",
      "Epoch: 012, Train Loss: 0.0770, Test Loss 0.3342, Train Acc: 0.8333, Test Acc: 0.4000\n",
      "Train Prec: 0.826, Train Rec: 0.885, Test Prec: 0.300, Test Rec: 0.300\n",
      "Epoch: 013, Train Loss: 0.0710, Test Loss 0.3300, Train Acc: 0.8333, Test Acc: 0.4000\n",
      "Train Prec: 0.773, Train Rec: 0.658, Test Prec: 0.400, Test Rec: 0.200\n",
      "Epoch: 014, Train Loss: 0.0673, Test Loss 0.3528, Train Acc: 0.7976, Test Acc: 0.5000\n",
      "Train Prec: 0.833, Train Rec: 0.630, Test Prec: 0.400, Test Rec: 0.300\n",
      "Epoch: 015, Train Loss: 0.0750, Test Loss 0.3999, Train Acc: 0.6667, Test Acc: 0.4000\n",
      "Train Prec: 0.773, Train Rec: 0.389, Test Prec: 0.200, Test Rec: 0.100\n",
      "Epoch: 016, Train Loss: 0.0656, Test Loss 0.2642, Train Acc: 0.6667, Test Acc: 0.9000\n",
      "Train Prec: 0.553, Train Rec: 0.868, Test Prec: 0.900, Test Rec: 1.000\n",
      "Epoch: 017, Train Loss: 0.0933, Test Loss 0.2992, Train Acc: 0.5119, Test Acc: 0.6000\n",
      "Train Prec: 0.475, Train Rec: 1.000, Test Prec: 0.600, Test Rec: 0.800\n",
      "Epoch: 018, Train Loss: 0.0852, Test Loss 0.4467, Train Acc: 0.5476, Test Acc: 0.3000\n",
      "Train Prec: 0.182, Train Rec: 0.068, Test Prec: 0.000, Test Rec: 0.000\n",
      "Epoch: 019, Train Loss: 0.0748, Test Loss 0.3190, Train Acc: 0.6905, Test Acc: 0.8000\n",
      "Train Prec: 0.605, Train Rec: 0.955, Test Prec: 0.700, Test Rec: 0.800\n",
      "8\n",
      "\n",
      "Epoch: 000, Train Loss: 0.0900, Test Loss 0.3554, Train Acc: 0.5357, Test Acc: 0.4000\n",
      "Train Prec: 0.091, Train Rec: 0.013, Test Prec: 0.200, Test Rec: 0.200\n",
      "Epoch: 001, Train Loss: 0.0897, Test Loss 0.3471, Train Acc: 0.5952, Test Acc: 0.7000\n",
      "Train Prec: 0.485, Train Rec: 0.325, Test Prec: 0.600, Test Rec: 0.600\n",
      "Epoch: 002, Train Loss: 0.0890, Test Loss 0.3482, Train Acc: 0.5833, Test Acc: 0.7000\n",
      "Train Prec: 0.561, Train Rec: 0.194, Test Prec: 0.600, Test Rec: 0.600\n",
      "Epoch: 003, Train Loss: 0.0879, Test Loss 0.3523, Train Acc: 0.5595, Test Acc: 0.4000\n",
      "Train Prec: 0.273, Train Rec: 0.079, Test Prec: 0.200, Test Rec: 0.100\n",
      "Epoch: 004, Train Loss: 0.0876, Test Loss 0.3454, Train Acc: 0.7500, Test Acc: 0.5000\n",
      "Train Prec: 0.671, Train Rec: 0.667, Test Prec: 0.600, Test Rec: 0.400\n",
      "Epoch: 005, Train Loss: 0.0864, Test Loss 0.3475, Train Acc: 0.7500, Test Acc: 0.5000\n",
      "Train Prec: 0.780, Train Rec: 0.612, Test Prec: 0.500, Test Rec: 0.400\n",
      "Epoch: 006, Train Loss: 0.0843, Test Loss 0.3500, Train Acc: 0.7500, Test Acc: 0.6000\n",
      "Train Prec: 0.818, Train Rec: 0.512, Test Prec: 0.400, Test Rec: 0.400\n",
      "Epoch: 007, Train Loss: 0.0837, Test Loss 0.3623, Train Acc: 0.5833, Test Acc: 0.3000\n",
      "Train Prec: 0.273, Train Rec: 0.114, Test Prec: 0.000, Test Rec: 0.000\n",
      "Epoch: 008, Train Loss: 0.0819, Test Loss 0.3322, Train Acc: 0.7500, Test Acc: 0.8000\n",
      "Train Prec: 0.652, Train Rec: 0.932, Test Prec: 0.700, Test Rec: 0.700\n",
      "Epoch: 009, Train Loss: 0.0780, Test Loss 0.3482, Train Acc: 0.7619, Test Acc: 0.4000\n",
      "Train Prec: 0.770, Train Rec: 0.582, Test Prec: 0.400, Test Rec: 0.300\n",
      "Epoch: 010, Train Loss: 0.0735, Test Loss 0.3264, Train Acc: 0.8214, Test Acc: 0.6000\n",
      "Train Prec: 0.733, Train Rec: 0.909, Test Prec: 0.500, Test Rec: 0.500\n",
      "Epoch: 011, Train Loss: 0.0727, Test Loss 0.3031, Train Acc: 0.6786, Test Acc: 0.9000\n",
      "Train Prec: 0.602, Train Rec: 0.939, Test Prec: 0.900, Test Rec: 1.000\n",
      "Epoch: 012, Train Loss: 0.0746, Test Loss 0.4114, Train Acc: 0.6190, Test Acc: 0.3000\n",
      "Train Prec: 0.455, Train Rec: 0.179, Test Prec: 0.000, Test Rec: 0.000\n",
      "Epoch: 013, Train Loss: 0.0679, Test Loss 0.3933, Train Acc: 0.7262, Test Acc: 0.4000\n",
      "Train Prec: 0.909, Train Rec: 0.482, Test Prec: 0.200, Test Rec: 0.100\n",
      "Epoch: 014, Train Loss: 0.0626, Test Loss 0.3561, Train Acc: 0.8810, Test Acc: 0.4000\n",
      "Train Prec: 0.841, Train Rec: 0.848, Test Prec: 0.300, Test Rec: 0.300\n",
      "Epoch: 015, Train Loss: 0.0629, Test Loss 0.3221, Train Acc: 0.8690, Test Acc: 0.6000\n",
      "Train Prec: 0.820, Train Rec: 0.947, Test Prec: 0.500, Test Rec: 0.500\n",
      "Epoch: 016, Train Loss: 0.0769, Test Loss 0.2811, Train Acc: 0.6310, Test Acc: 0.8000\n",
      "Train Prec: 0.560, Train Rec: 1.000, Test Prec: 0.700, Test Rec: 0.800\n",
      "Epoch: 017, Train Loss: 0.0751, Test Loss 0.3563, Train Acc: 0.7262, Test Acc: 0.5000\n",
      "Train Prec: 0.727, Train Rec: 0.397, Test Prec: 0.400, Test Rec: 0.200\n",
      "Epoch: 018, Train Loss: 0.0735, Test Loss 0.3515, Train Acc: 0.7500, Test Acc: 0.5000\n",
      "Train Prec: 0.818, Train Rec: 0.453, Test Prec: 0.400, Test Rec: 0.200\n",
      "Epoch: 019, Train Loss: 0.0635, Test Loss 0.3278, Train Acc: 0.8690, Test Acc: 0.5000\n",
      "Train Prec: 0.864, Train Rec: 0.850, Test Prec: 0.300, Test Rec: 0.400\n",
      "9\n",
      "\n",
      "Epoch: 000, Train Loss: 0.0900, Test Loss 0.3538, Train Acc: 0.5357, Test Acc: 0.3000\n",
      "Train Prec: 0.091, Train Rec: 0.023, Test Prec: 0.000, Test Rec: 0.000\n",
      "Epoch: 001, Train Loss: 0.0907, Test Loss 0.3369, Train Acc: 0.4762, Test Acc: 0.7000\n",
      "Train Prec: 0.477, Train Rec: 1.000, Test Prec: 0.700, Test Rec: 1.000\n",
      "Epoch: 002, Train Loss: 0.0904, Test Loss 0.3545, Train Acc: 0.5357, Test Acc: 0.3000\n",
      "Train Prec: 0.091, Train Rec: 0.030, Test Prec: 0.000, Test Rec: 0.000\n",
      "Epoch: 003, Train Loss: 0.0902, Test Loss 0.3529, Train Acc: 0.5357, Test Acc: 0.3000\n",
      "Train Prec: 0.091, Train Rec: 0.018, Test Prec: 0.000, Test Rec: 0.000\n",
      "Epoch: 004, Train Loss: 0.0896, Test Loss 0.3435, Train Acc: 0.5714, Test Acc: 0.7000\n",
      "Train Prec: 0.406, Train Rec: 0.403, Test Prec: 0.700, Test Rec: 0.600\n",
      "Epoch: 005, Train Loss: 0.0882, Test Loss 0.3421, Train Acc: 0.6905, Test Acc: 0.7000\n",
      "Train Prec: 0.659, Train Rec: 0.712, Test Prec: 0.700, Test Rec: 0.700\n",
      "Epoch: 006, Train Loss: 0.0876, Test Loss 0.3374, Train Acc: 0.6667, Test Acc: 0.8000\n",
      "Train Prec: 0.614, Train Rec: 0.909, Test Prec: 0.800, Test Rec: 1.000\n",
      "Epoch: 007, Train Loss: 0.0867, Test Loss 0.3493, Train Acc: 0.6429, Test Acc: 0.4000\n",
      "Train Prec: 0.727, Train Rec: 0.291, Test Prec: 0.200, Test Rec: 0.100\n",
      "Epoch: 008, Train Loss: 0.0857, Test Loss 0.3597, Train Acc: 0.5833, Test Acc: 0.3000\n",
      "Train Prec: 0.364, Train Rec: 0.095, Test Prec: 0.000, Test Rec: 0.000\n",
      "Epoch: 009, Train Loss: 0.0858, Test Loss 0.3616, Train Acc: 0.5714, Test Acc: 0.3000\n",
      "Train Prec: 0.273, Train Rec: 0.098, Test Prec: 0.000, Test Rec: 0.000\n",
      "Epoch: 010, Train Loss: 0.0854, Test Loss 0.3270, Train Acc: 0.6429, Test Acc: 0.8000\n",
      "Train Prec: 0.557, Train Rec: 0.939, Test Prec: 0.800, Test Rec: 1.000\n",
      "Epoch: 011, Train Loss: 0.0820, Test Loss 0.3475, Train Acc: 0.7143, Test Acc: 0.5000\n",
      "Train Prec: 0.709, Train Rec: 0.423, Test Prec: 0.400, Test Rec: 0.300\n",
      "Epoch: 012, Train Loss: 0.0813, Test Loss 0.3093, Train Acc: 0.6548, Test Acc: 0.9000\n",
      "Train Prec: 0.568, Train Rec: 0.982, Test Prec: 0.900, Test Rec: 1.000\n",
      "Epoch: 013, Train Loss: 0.0752, Test Loss 0.3380, Train Acc: 0.8095, Test Acc: 0.5000\n",
      "Train Prec: 0.856, Train Rec: 0.607, Test Prec: 0.400, Test Rec: 0.300\n",
      "Epoch: 014, Train Loss: 0.0816, Test Loss 0.3832, Train Acc: 0.6429, Test Acc: 0.3000\n",
      "Train Prec: 0.545, Train Rec: 0.218, Test Prec: 0.000, Test Rec: 0.000\n",
      "Epoch: 015, Train Loss: 0.0746, Test Loss 0.3528, Train Acc: 0.7381, Test Acc: 0.6000\n",
      "Train Prec: 0.782, Train Rec: 0.461, Test Prec: 0.400, Test Rec: 0.400\n",
      "Epoch: 016, Train Loss: 0.0833, Test Loss 0.4172, Train Acc: 0.6190, Test Acc: 0.3000\n",
      "Train Prec: 0.636, Train Rec: 0.180, Test Prec: 0.000, Test Rec: 0.000\n",
      "Epoch: 017, Train Loss: 0.0789, Test Loss 0.4232, Train Acc: 0.6071, Test Acc: 0.3000\n",
      "Train Prec: 0.545, Train Rec: 0.155, Test Prec: 0.000, Test Rec: 0.000\n",
      "Epoch: 018, Train Loss: 0.0705, Test Loss 0.3072, Train Acc: 0.7143, Test Acc: 0.8000\n",
      "Train Prec: 0.659, Train Rec: 0.982, Test Prec: 0.700, Test Rec: 0.700\n",
      "Epoch: 019, Train Loss: 0.0588, Test Loss 0.3094, Train Acc: 0.8690, Test Acc: 0.7000\n",
      "Train Prec: 0.855, Train Rec: 0.883, Test Prec: 0.600, Test Rec: 0.500\n"
     ]
    }
   ],
   "source": [
    "from sklearn.model_selection import StratifiedKFold\n",
    "\n",
    "skf = StratifiedKFold(n_splits=10, shuffle=True)\n",
    "eval_metrics = np.zeros((skf.n_splits, 3))\n",
    "\n",
    "labels = [full_dataset[i].y for i in range(len(full_dataset))]\n",
    "\n",
    "for n_fold, (train_idx, test_idx) in enumerate(skf.split(labels, labels)):\n",
    "    model = GCN(full_dataset.num_features, 2, channels=[256, 32, 32], dropout=0.2)\n",
    "    optimizer = torch.optim.Adam(model.parameters(), lr=0.001)\n",
    "    criterion = torch.nn.CrossEntropyLoss()\n",
    "\n",
    "    train_loader_ = DataLoader(full_dataset[list(train_idx)], batch_size=8, shuffle=True)\n",
    "    test_loader_ = DataLoader(full_dataset[list(test_idx)], batch_size=8, shuffle=True)\n",
    "    min_v_loss = np.inf\n",
    "    print(n_fold)\n",
    "    print()\n",
    "    for epoch in range(20):\n",
    "        train_epoch(train_loader, model, criterion, optimizer)\n",
    "        train_loss, train_acc, train_pr, train_rc = eval_epoch(train_loader, model, criterion)\n",
    "        val_loss, test_acc, val_pr, val_rc = eval_epoch(val_loader, model, criterion)\n",
    "        print(f'Epoch: {epoch:03d}, Train Loss: {train_loss:.4f}, Test Loss {val_loss:.4f}, Train Acc: {train_acc:.4f}, Test Acc: {test_acc:.4f}')\n",
    "        print(f'Train Prec: {train_pr:.3f}, Train Rec: {train_rc:.3f}, Test Prec: {val_pr:.3f}, Test Rec: {val_rc:.3f}')\n",
    "        if min_v_loss > val_loss:\n",
    "            min_v_loss = val_loss\n",
    "            best_test_acc = test_acc\n",
    "            best_pr = val_pr\n",
    "            best_rc = val_rc\n",
    "\n",
    "    eval_metrics[n_fold, 0] = val_pr\n",
    "    eval_metrics[n_fold, 1] = val_rc\n",
    "    eval_metrics[n_fold, 2] = best_test_acc"
   ],
   "metadata": {
    "collapsed": false,
    "pycharm": {
     "name": "#%%\n"
    }
   }
  },
  {
   "cell_type": "code",
   "execution_count": 43,
   "outputs": [
    {
     "data": {
      "text/plain": "array([[0.2, 0.1, 0.8],\n       [0.6, 0.6, 0.7],\n       [0. , 0. , 0.6],\n       [0.8, 0.7, 0.8],\n       [0.7, 0.8, 0.7],\n       [0.9, 0.9, 0.7],\n       [0.8, 0.6, 0.7],\n       [0.7, 0.8, 0.9],\n       [0.3, 0.4, 0.8],\n       [0.6, 0.5, 0.8]])"
     },
     "execution_count": 43,
     "metadata": {},
     "output_type": "execute_result"
    }
   ],
   "source": [
    "eval_metrics"
   ],
   "metadata": {
    "collapsed": false,
    "pycharm": {
     "name": "#%%\n"
    }
   }
  },
  {
   "cell_type": "code",
   "execution_count": null,
   "outputs": [],
   "source": [],
   "metadata": {
    "collapsed": false,
    "pycharm": {
     "name": "#%%\n"
    }
   }
  }
 ],
 "metadata": {
  "kernelspec": {
   "display_name": "Python 3",
   "language": "python",
   "name": "python3"
  },
  "language_info": {
   "codemirror_mode": {
    "name": "ipython",
    "version": 2
   },
   "file_extension": ".py",
   "mimetype": "text/x-python",
   "name": "python",
   "nbconvert_exporter": "python",
   "pygments_lexer": "ipython2",
   "version": "2.7.6"
  }
 },
 "nbformat": 4,
 "nbformat_minor": 0
}