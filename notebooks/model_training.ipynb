{
 "cells": [
  {
   "cell_type": "code",
   "execution_count": 1,
   "metadata": {
    "collapsed": true,
    "pycharm": {
     "name": "#%%\n"
    }
   },
   "outputs": [],
   "source": [
    "from model.dataset import OpenCloseDataset\n",
    "from model.gnn_model import GCN\n",
    "import os\n",
    "from model.utils import train, device\n",
    "import torch\n",
    "import numpy as np\n",
    "import pandas as pd"
   ]
  },
  {
   "cell_type": "code",
   "execution_count": 2,
   "outputs": [],
   "source": [
    "import torch\n",
    "from torch_geometric.data import Dataset, Data\n",
    "from torch_geometric.utils import dense_to_sparse\n",
    "from scipy.sparse import coo_matrix\n",
    "import numpy as np\n",
    "import os\n",
    "\n",
    "\n",
    "\n",
    "class OpenCloseDataset(Dataset):\n",
    "\n",
    "    def __init__(self, datafolder, test=False, transform=None, pre_transform=None, k_degree=10):\n",
    "\n",
    "        self.test = test\n",
    "        self.datafolder = datafolder\n",
    "        self.open = np.load(f'{datafolder}/raw/open_sorted.npy')\n",
    "        self.close = np.load(f'{datafolder}/raw/close_sorted.npy')\n",
    "        self.edge_attr = np.load(f'{datafolder}/edge_attr.npy')\n",
    "        self.k_degree = k_degree\n",
    "\n",
    "        super().__init__(root=datafolder, transform=transform, pre_transform=pre_transform)\n",
    "\n",
    "    @property\n",
    "    def raw_file_names(self):\n",
    "        return ['close_sorted.npy', 'open_sorted.npy']\n",
    "\n",
    "    @property\n",
    "    def processed_file_names(self):\n",
    "\n",
    "        \"\"\" If these files are found in raw_dir, processing is skipped\"\"\"\n",
    "        # todo test filenames\n",
    "        if self.test:\n",
    "            return [os.path.join(self.datafolder, 'processed', 'test', f'data_{i}.pt') for i in range(47+47)]\n",
    "\n",
    "        else:\n",
    "            return [os.path.join(self.datafolder, 'processed', f'data_{i}.pt') for i in range(47+47)]\n",
    "\n",
    "    def download(self):\n",
    "        pass\n",
    "\n",
    "    def process(self):\n",
    "\n",
    "        for index, matr in enumerate(self.open):\n",
    "            _ = self._load_and_save(matr, index, 'open')\n",
    "\n",
    "        for index, matr in enumerate(self.close):\n",
    "            _ = self._load_and_save(matr, index, 'close')\n",
    "\n",
    "    def _load_and_save(self, matr, index, state):\n",
    "\n",
    "        x = torch.from_numpy(matr).float()\n",
    "\n",
    "        if self.k_degree is not None:\n",
    "            adj = self.compute_KNN_graph(matr, k_degree=self.k_degree)\n",
    "            adj = torch.from_numpy(adj).float()\n",
    "            edge_index, edge_attr = dense_to_sparse(adj)\n",
    "        else:\n",
    "            edge_index = self._adjacency_threshold(x)\n",
    "\n",
    "        label = torch.tensor(0 if state == 'close' else 1).long()\n",
    "\n",
    "        data = Data(x=x, edge_index=edge_index, y=label) # , edge_attr=self.edge_attr\n",
    "\n",
    "        index = index + 47 if state == 'close' else index\n",
    "        if self.test:\n",
    "            torch.save(data,\n",
    "                       os.path.join(self.processed_dir, 'test',\n",
    "                                    f'data_{index}.pt'))\n",
    "        else:\n",
    "            torch.save(data,\n",
    "                       os.path.join(self.processed_dir,\n",
    "                                    f'data_{index}.pt'))\n",
    "        return data\n",
    "\n",
    "    def compute_KNN_graph(self, matrix, k_degree):\n",
    "        \"\"\" Calculate the adjacency matrix from the connectivity matrix.\"\"\"\n",
    "\n",
    "        matrix = np.abs(matrix)\n",
    "        idx = np.argsort(-matrix)[:, 0:k_degree]\n",
    "        matrix.sort()\n",
    "        matrix = matrix[:, ::-1]\n",
    "        matrix = matrix[:, 0:k_degree]\n",
    "\n",
    "        A = self._adjacency(matrix, idx).astype(np.float32)\n",
    "\n",
    "        return A\n",
    "\n",
    "    def _adjacency(self, dist, idx):\n",
    "\n",
    "        m, k = dist.shape\n",
    "        assert m, k == idx.shape\n",
    "        assert dist.min() >= 0\n",
    "\n",
    "        # Weight matrix.\n",
    "        I = np.arange(0, m).repeat(k)\n",
    "        J = idx.reshape(m * k)\n",
    "        V = dist.reshape(m * k)\n",
    "        W = coo_matrix((V, (I, J)), shape=(m, m))\n",
    "\n",
    "        # No self-connections.\n",
    "        W.setdiag(0)\n",
    "\n",
    "        # Non-directed graph.\n",
    "        bigger = W.T > W\n",
    "        W = W - W.multiply(bigger) + W.T.multiply(bigger)\n",
    "\n",
    "        return W.todense()\n",
    "\n",
    "    def _adjacency_threshold(self, matr, threshold=0.5):\n",
    "\n",
    "        idx = []\n",
    "        for i in range(len(matr)):\n",
    "            for j in range(len(matr)):\n",
    "                if abs(matr[i, j]) > threshold:\n",
    "                    idx.append((i, j))\n",
    "\n",
    "        return torch.tensor(idx).long().t().contiguous()\n",
    "\n",
    "    def len(self):\n",
    "        return 47+47  # len(self.files)\n",
    "\n",
    "    def get(self, idx):\n",
    "        \"\"\" - Equivalent to __getitem__ in pytorch\n",
    "            - Is not needed for PyG's InMemoryDataset\n",
    "        \"\"\"\n",
    "        if self.test:\n",
    "            data = torch.load(os.path.join(self.processed_dir,\n",
    "                                           f'data_test_{idx}.pt'))\n",
    "        else:\n",
    "            data = torch.load(os.path.join(self.processed_dir,\n",
    "                                           f'data_{idx}.pt'))\n",
    "        return data"
   ],
   "metadata": {
    "collapsed": false,
    "pycharm": {
     "name": "#%%\n"
    }
   }
  },
  {
   "cell_type": "code",
   "execution_count": 18,
   "outputs": [
    {
     "name": "stderr",
     "output_type": "stream",
     "text": [
      "Processing...\n",
      "Done!\n"
     ]
    },
    {
     "data": {
      "text/plain": "96"
     },
     "execution_count": 18,
     "metadata": {},
     "output_type": "execute_result"
    }
   ],
   "source": [
    "full_dataset = OpenCloseDataset(datafolder='../data', k_degree=30).shuffle()\n",
    "len(os.listdir('../data/processed'))"
   ],
   "metadata": {
    "collapsed": false,
    "pycharm": {
     "name": "#%%\n"
    }
   }
  },
  {
   "cell_type": "code",
   "execution_count": 19,
   "outputs": [
    {
     "data": {
      "text/plain": "Data(x=[420, 420], edge_index=[2, 16416], y=1)"
     },
     "execution_count": 19,
     "metadata": {},
     "output_type": "execute_result"
    }
   ],
   "source": [
    "full_dataset[0]"
   ],
   "metadata": {
    "collapsed": false,
    "pycharm": {
     "name": "#%%\n"
    }
   }
  },
  {
   "cell_type": "code",
   "execution_count": 20,
   "outputs": [],
   "source": [
    "train_size = int(0.94 * len(full_dataset))\n",
    "train_dataset, val_dataset = full_dataset[:train_size], full_dataset[train_size:]\n",
    "val_dataset, test_dataset = val_dataset[:-3], val_dataset[-3:]"
   ],
   "metadata": {
    "collapsed": false,
    "pycharm": {
     "name": "#%%\n"
    }
   }
  },
  {
   "cell_type": "code",
   "execution_count": 21,
   "outputs": [
    {
     "data": {
      "text/plain": "3"
     },
     "execution_count": 21,
     "metadata": {},
     "output_type": "execute_result"
    }
   ],
   "source": [
    "len(val_dataset)"
   ],
   "metadata": {
    "collapsed": false,
    "pycharm": {
     "name": "#%%\n"
    }
   }
  },
  {
   "cell_type": "code",
   "execution_count": 22,
   "outputs": [],
   "source": [
    "import torch.nn.functional as F\n",
    "import torch.nn as nn\n",
    "from torch_geometric.nn import global_mean_pool, GCNConv, GATConv\n",
    "\n",
    "class GCN(nn.Module):\n",
    "    def __init__(self,\n",
    "                 num_features,\n",
    "                 num_classes,\n",
    "                 channels,\n",
    "                 dropout=0):\n",
    "        super().__init__()\n",
    "\n",
    "        self.p = dropout\n",
    "        self.conv1 = GCNConv(int(num_features), channels[0])\n",
    "        self.conv2 = GCNConv(channels[0], channels[1])\n",
    "        self.conv3 = GCNConv(channels[1], channels[2])\n",
    "\n",
    "        self.lin1 = nn.Linear(channels[2], int(num_classes))\n",
    "\n",
    "    def forward(self, data):\n",
    "        x, edge_index, edge_attr = data.x, data.edge_index, data.edge_attr\n",
    "        batch = data.batch\n",
    "        #print(x.shape)\n",
    "        x = F.relu(self.conv1(x, edge_index)) #\n",
    "        #print(x.shape)\n",
    "        x = F.relu(self.conv2(x, edge_index))\n",
    "        x = F.dropout(x, p=self.p, training=self.training)\n",
    "        #print(x.shape)\n",
    "        x = F.relu(self.conv3(x, edge_index))\n",
    "        #print(x.shape)\n",
    "        x = global_mean_pool(x, batch)\n",
    "        #print(x.shape)\n",
    "        x = self.lin1(x)\n",
    "        return x"
   ],
   "metadata": {
    "collapsed": false,
    "pycharm": {
     "name": "#%%\n"
    }
   }
  },
  {
   "cell_type": "code",
   "execution_count": 29,
   "outputs": [],
   "source": [
    "from sklearn.metrics import precision_score, recall_score\n",
    "from tqdm import tqdm\n",
    "\n",
    "def train_epoch(train_loader, model, criterion, optimizer):\n",
    "    model.train()\n",
    "    for data in train_loader:  # Iterate in batches over the training dataset.\n",
    "         out = model(data)  # Perform a single forward pass.\n",
    "         loss = criterion(out, data.y)  # Compute the loss.\n",
    "         loss.backward()  # Derive gradients.\n",
    "         optimizer.step()  # Update parameters based on gradients.\n",
    "         optimizer.zero_grad()  # Clear gradients.\n",
    "\n",
    "def eval_epoch(loader, model, criterion):\n",
    "    model.eval()\n",
    "    losses = 0\n",
    "    correct = 0\n",
    "    pr = []\n",
    "    rc = []\n",
    "    with torch.no_grad():\n",
    "        for data in loader:  # Iterate in batches over the training/test dataset.\n",
    "            out = model(data)\n",
    "            loss = criterion(out, data.y)\n",
    "            losses += loss.item()\n",
    "            pred = out.argmax(dim=1)  # Use the class with highest probability.\n",
    "            correct += int((pred == data.y).sum())  # Check against ground-truth labels.\n",
    "            #print(pred)\n",
    "            #print(data.y)\n",
    "\n",
    "            pr.append(precision_score(data.y, pred, zero_division=0))\n",
    "            rc.append(recall_score(data.y, pred, zero_division=0))\n",
    "        # Derive ratio of correct predictions.\n",
    "    return losses / len(loader.dataset), correct / len(loader.dataset), np.mean(pr), np.mean(rc)\n",
    "\n",
    "def train(model, epochs, train_loader, val_loader, criterion, optimizer):\n",
    "    losses = []\n",
    "    for epoch in tqdm(range(1, epochs)):\n",
    "        train_epoch(train_loader, model, criterion, optimizer)\n",
    "        train_loss, train_acc, _, _ = eval_epoch(train_loader, model, criterion)\n",
    "        val_loss, test_acc, _, _ = eval_epoch(val_loader, model, criterion)\n",
    "        scheduler.step()\n",
    "        print(f'Epoch: {epoch:03d}, Train Loss: {train_loss:.4f}, Test Loss {val_loss:.4f}, Train Acc: {train_acc:.4f}, Test Acc: {test_acc:.4f}')\n",
    "        losses.append((train_loss, val_loss))\n",
    "    return losses"
   ],
   "metadata": {
    "collapsed": false,
    "pycharm": {
     "name": "#%%\n"
    }
   }
  },
  {
   "cell_type": "code",
   "execution_count": 30,
   "outputs": [
    {
     "name": "stdout",
     "output_type": "stream",
     "text": [
      "Adjusting learning rate of group 0 to 1.0000e-03.\n"
     ]
    },
    {
     "data": {
      "text/plain": "116282"
     },
     "execution_count": 30,
     "metadata": {},
     "output_type": "execute_result"
    }
   ],
   "source": [
    "from torch.optim import lr_scheduler\n",
    "model = GCN(full_dataset.num_features, 2, channels=[256, 32, 8], dropout=0.1).to(device())\n",
    "optimizer = torch.optim.Adam(model.parameters(), lr=0.001)\n",
    "loss = torch.nn.CrossEntropyLoss()\n",
    "epochs = 20\n",
    "scheduler = lr_scheduler.StepLR(optimizer, step_size=epochs//4, gamma=0.1, last_epoch=-1, verbose=True)\n",
    "sum(p.numel() for p in model.parameters())"
   ],
   "metadata": {
    "collapsed": false,
    "pycharm": {
     "name": "#%%\n"
    }
   }
  },
  {
   "cell_type": "code",
   "execution_count": 31,
   "outputs": [],
   "source": [
    "from torch_geometric.loader import DataLoader\n",
    "train_loader = DataLoader(train_dataset, batch_size=8, shuffle=True)\n",
    "val_loader = DataLoader(val_dataset, batch_size=len(val_dataset), shuffle=True)"
   ],
   "metadata": {
    "collapsed": false,
    "pycharm": {
     "name": "#%%\n"
    }
   }
  },
  {
   "cell_type": "code",
   "execution_count": 32,
   "outputs": [
    {
     "name": "stderr",
     "output_type": "stream",
     "text": [
      "  5%|▌         | 1/19 [00:13<04:05, 13.63s/it]"
     ]
    },
    {
     "name": "stdout",
     "output_type": "stream",
     "text": [
      "Adjusting learning rate of group 0 to 1.0000e-03.\n",
      "Epoch: 001, Train Loss: 0.0866, Test Loss 0.2277, Train Acc: 0.5000, Test Acc: 0.6667\n"
     ]
    },
    {
     "name": "stderr",
     "output_type": "stream",
     "text": [
      " 11%|█         | 2/19 [00:26<03:43, 13.17s/it]"
     ]
    },
    {
     "name": "stdout",
     "output_type": "stream",
     "text": [
      "Adjusting learning rate of group 0 to 1.0000e-03.\n",
      "Epoch: 002, Train Loss: 0.0864, Test Loss 0.2273, Train Acc: 0.5000, Test Acc: 0.6667\n"
     ]
    },
    {
     "name": "stderr",
     "output_type": "stream",
     "text": [
      " 16%|█▌        | 3/19 [00:40<03:39, 13.73s/it]"
     ]
    },
    {
     "name": "stdout",
     "output_type": "stream",
     "text": [
      "Adjusting learning rate of group 0 to 1.0000e-03.\n",
      "Epoch: 003, Train Loss: 0.0868, Test Loss 0.2305, Train Acc: 0.5114, Test Acc: 0.6667\n"
     ]
    },
    {
     "name": "stderr",
     "output_type": "stream",
     "text": [
      " 21%|██        | 4/19 [00:54<03:25, 13.68s/it]"
     ]
    },
    {
     "name": "stdout",
     "output_type": "stream",
     "text": [
      "Adjusting learning rate of group 0 to 1.0000e-03.\n",
      "Epoch: 004, Train Loss: 0.0866, Test Loss 0.2285, Train Acc: 0.5000, Test Acc: 0.6667\n"
     ]
    },
    {
     "name": "stderr",
     "output_type": "stream",
     "text": [
      " 26%|██▋       | 5/19 [01:07<03:07, 13.38s/it]"
     ]
    },
    {
     "name": "stdout",
     "output_type": "stream",
     "text": [
      "Adjusting learning rate of group 0 to 1.0000e-04.\n",
      "Epoch: 005, Train Loss: 0.0866, Test Loss 0.2287, Train Acc: 0.5000, Test Acc: 0.6667\n"
     ]
    },
    {
     "name": "stderr",
     "output_type": "stream",
     "text": [
      " 32%|███▏      | 6/19 [01:20<02:53, 13.32s/it]"
     ]
    },
    {
     "name": "stdout",
     "output_type": "stream",
     "text": [
      "Adjusting learning rate of group 0 to 1.0000e-04.\n",
      "Epoch: 006, Train Loss: 0.0866, Test Loss 0.2287, Train Acc: 0.5000, Test Acc: 0.6667\n"
     ]
    },
    {
     "name": "stderr",
     "output_type": "stream",
     "text": [
      " 37%|███▋      | 7/19 [01:33<02:39, 13.27s/it]"
     ]
    },
    {
     "name": "stdout",
     "output_type": "stream",
     "text": [
      "Adjusting learning rate of group 0 to 1.0000e-04.\n",
      "Epoch: 007, Train Loss: 0.0865, Test Loss 0.2288, Train Acc: 0.5000, Test Acc: 0.6667\n"
     ]
    },
    {
     "name": "stderr",
     "output_type": "stream",
     "text": [
      " 42%|████▏     | 8/19 [01:45<02:20, 12.81s/it]"
     ]
    },
    {
     "name": "stdout",
     "output_type": "stream",
     "text": [
      "Adjusting learning rate of group 0 to 1.0000e-04.\n",
      "Epoch: 008, Train Loss: 0.0865, Test Loss 0.2287, Train Acc: 0.5000, Test Acc: 0.6667\n"
     ]
    },
    {
     "name": "stderr",
     "output_type": "stream",
     "text": [
      " 47%|████▋     | 9/19 [01:58<02:07, 12.75s/it]"
     ]
    },
    {
     "name": "stdout",
     "output_type": "stream",
     "text": [
      "Adjusting learning rate of group 0 to 1.0000e-04.\n",
      "Epoch: 009, Train Loss: 0.0865, Test Loss 0.2289, Train Acc: 0.5000, Test Acc: 0.6667\n"
     ]
    },
    {
     "name": "stderr",
     "output_type": "stream",
     "text": [
      " 53%|█████▎    | 10/19 [02:10<01:52, 12.50s/it]"
     ]
    },
    {
     "name": "stdout",
     "output_type": "stream",
     "text": [
      "Adjusting learning rate of group 0 to 1.0000e-05.\n",
      "Epoch: 010, Train Loss: 0.0865, Test Loss 0.2289, Train Acc: 0.5000, Test Acc: 0.6667\n"
     ]
    },
    {
     "name": "stderr",
     "output_type": "stream",
     "text": [
      " 58%|█████▊    | 11/19 [02:21<01:38, 12.26s/it]"
     ]
    },
    {
     "name": "stdout",
     "output_type": "stream",
     "text": [
      "Adjusting learning rate of group 0 to 1.0000e-05.\n",
      "Epoch: 011, Train Loss: 0.0865, Test Loss 0.2289, Train Acc: 0.5000, Test Acc: 0.6667\n"
     ]
    },
    {
     "name": "stderr",
     "output_type": "stream",
     "text": [
      " 63%|██████▎   | 12/19 [02:35<01:29, 12.83s/it]"
     ]
    },
    {
     "name": "stdout",
     "output_type": "stream",
     "text": [
      "Adjusting learning rate of group 0 to 1.0000e-05.\n",
      "Epoch: 012, Train Loss: 0.0865, Test Loss 0.2289, Train Acc: 0.5000, Test Acc: 0.6667\n"
     ]
    },
    {
     "name": "stderr",
     "output_type": "stream",
     "text": [
      " 68%|██████▊   | 13/19 [02:48<01:16, 12.77s/it]"
     ]
    },
    {
     "name": "stdout",
     "output_type": "stream",
     "text": [
      "Adjusting learning rate of group 0 to 1.0000e-05.\n",
      "Epoch: 013, Train Loss: 0.0865, Test Loss 0.2289, Train Acc: 0.5000, Test Acc: 0.6667\n"
     ]
    },
    {
     "name": "stderr",
     "output_type": "stream",
     "text": [
      " 74%|███████▎  | 14/19 [03:07<01:12, 14.50s/it]"
     ]
    },
    {
     "name": "stdout",
     "output_type": "stream",
     "text": [
      "Adjusting learning rate of group 0 to 1.0000e-05.\n",
      "Epoch: 014, Train Loss: 0.0865, Test Loss 0.2289, Train Acc: 0.5000, Test Acc: 0.6667\n"
     ]
    },
    {
     "name": "stderr",
     "output_type": "stream",
     "text": [
      " 79%|███████▉  | 15/19 [03:25<01:02, 15.55s/it]"
     ]
    },
    {
     "name": "stdout",
     "output_type": "stream",
     "text": [
      "Adjusting learning rate of group 0 to 1.0000e-06.\n",
      "Epoch: 015, Train Loss: 0.0865, Test Loss 0.2289, Train Acc: 0.5000, Test Acc: 0.6667\n"
     ]
    },
    {
     "name": "stderr",
     "output_type": "stream",
     "text": [
      " 84%|████████▍ | 16/19 [03:38<00:44, 14.86s/it]"
     ]
    },
    {
     "name": "stdout",
     "output_type": "stream",
     "text": [
      "Adjusting learning rate of group 0 to 1.0000e-06.\n",
      "Epoch: 016, Train Loss: 0.0865, Test Loss 0.2289, Train Acc: 0.5000, Test Acc: 0.6667\n"
     ]
    },
    {
     "name": "stderr",
     "output_type": "stream",
     "text": [
      " 89%|████████▉ | 17/19 [03:51<00:28, 14.33s/it]"
     ]
    },
    {
     "name": "stdout",
     "output_type": "stream",
     "text": [
      "Adjusting learning rate of group 0 to 1.0000e-06.\n",
      "Epoch: 017, Train Loss: 0.0865, Test Loss 0.2289, Train Acc: 0.5000, Test Acc: 0.6667\n"
     ]
    },
    {
     "name": "stderr",
     "output_type": "stream",
     "text": [
      " 95%|█████████▍| 18/19 [04:04<00:13, 13.83s/it]"
     ]
    },
    {
     "name": "stdout",
     "output_type": "stream",
     "text": [
      "Adjusting learning rate of group 0 to 1.0000e-06.\n",
      "Epoch: 018, Train Loss: 0.0865, Test Loss 0.2289, Train Acc: 0.5000, Test Acc: 0.6667\n"
     ]
    },
    {
     "name": "stderr",
     "output_type": "stream",
     "text": [
      "100%|██████████| 19/19 [04:16<00:00, 13.50s/it]"
     ]
    },
    {
     "name": "stdout",
     "output_type": "stream",
     "text": [
      "Adjusting learning rate of group 0 to 1.0000e-06.\n",
      "Epoch: 019, Train Loss: 0.0865, Test Loss 0.2289, Train Acc: 0.5000, Test Acc: 0.6667\n"
     ]
    },
    {
     "name": "stderr",
     "output_type": "stream",
     "text": [
      "\n"
     ]
    }
   ],
   "source": [
    "history = train(model, epochs, train_loader, val_loader, loss, optimizer)"
   ],
   "metadata": {
    "collapsed": false,
    "pycharm": {
     "name": "#%%\n"
    }
   }
  },
  {
   "cell_type": "code",
   "execution_count": 33,
   "outputs": [],
   "source": [
    "train_loss, val_loss = zip(*history)"
   ],
   "metadata": {
    "collapsed": false,
    "pycharm": {
     "name": "#%%\n"
    }
   }
  },
  {
   "cell_type": "code",
   "execution_count": 34,
   "outputs": [
    {
     "data": {
      "text/plain": "[<matplotlib.lines.Line2D at 0x183602666c8>]"
     },
     "execution_count": 34,
     "metadata": {},
     "output_type": "execute_result"
    },
    {
     "data": {
      "text/plain": "<Figure size 640x480 with 1 Axes>",
      "image/png": "[encoded data removed]"
     },
     "metadata": {},
     "output_type": "display_data"
    }
   ],
   "source": [
    "import matplotlib.pyplot as plt\n",
    "\n",
    "plt.plot(train_loss)\n",
    "plt.plot(val_loss)\n",
    "#plt.plot(acc)\n",
    "#plt.plot(pres)"
   ],
   "metadata": {
    "collapsed": false,
    "pycharm": {
     "name": "#%%\n"
    }
   }
  },
  {
   "cell_type": "code",
   "execution_count": 49,
   "outputs": [],
   "source": [
    "torch.save(model.state_dict(), '../weights/bs8_256_32_32_None.pt')"
   ],
   "metadata": {
    "collapsed": false,
    "pycharm": {
     "name": "#%%\n"
    }
   }
  },
  {
   "cell_type": "code",
   "execution_count": 134,
   "outputs": [
    {
     "data": {
      "text/plain": "[<matplotlib.lines.Line2D at 0x26280724748>]"
     },
     "execution_count": 134,
     "metadata": {},
     "output_type": "execute_result"
    },
    {
     "data": {
      "text/plain": "<Figure size 640x480 with 1 Axes>",
      "image/png": "[encoded data removed]"
     },
     "metadata": {},
     "output_type": "display_data"
    }
   ],
   "source": [
    "plt.plot(train_loss)\n",
    "plt.plot(val_loss)"
   ],
   "metadata": {
    "collapsed": false,
    "pycharm": {
     "name": "#%%\n"
    }
   }
  },
  {
   "cell_type": "code",
   "execution_count": 135,
   "outputs": [],
   "source": [
    "torch.save(model.state_dict(), '../weights/bs8_128_32_8_k5.pt')"
   ],
   "metadata": {
    "collapsed": false,
    "pycharm": {
     "name": "#%%\n"
    }
   }
  },
  {
   "cell_type": "code",
   "execution_count": null,
   "outputs": [],
   "source": [],
   "metadata": {
    "collapsed": false,
    "pycharm": {
     "name": "#%%\n"
    }
   }
  },
  {
   "cell_type": "code",
   "execution_count": 50,
   "outputs": [
    {
     "name": "stdout",
     "output_type": "stream",
     "text": [
      "\n",
      "0\n",
      "Epoch: 000, Train Loss: 0.0901, Test Loss 0.3478, Train Acc: 0.5714, Test Acc: 0.5000\n",
      "Train Prec: 0.598, Train Rec: 0.282, Test Prec: 0.200, Test Rec: 0.200\n",
      "Epoch: 001, Train Loss: 0.0906, Test Loss 0.3568, Train Acc: 0.5119, Test Acc: 0.4000\n",
      "Train Prec: 0.000, Train Rec: 0.000, Test Prec: 0.000, Test Rec: 0.000\n",
      "Epoch: 002, Train Loss: 0.0895, Test Loss 0.3494, Train Acc: 0.5357, Test Acc: 0.4000\n",
      "Train Prec: 0.182, Train Rec: 0.053, Test Prec: 0.000, Test Rec: 0.000\n",
      "Epoch: 003, Train Loss: 0.0886, Test Loss 0.3574, Train Acc: 0.5238, Test Acc: 0.4000\n",
      "Train Prec: 0.091, Train Rec: 0.030, Test Prec: 0.000, Test Rec: 0.000\n",
      "Epoch: 004, Train Loss: 0.0877, Test Loss 0.3517, Train Acc: 0.5595, Test Acc: 0.4000\n",
      "Train Prec: 0.409, Train Rec: 0.185, Test Prec: 0.000, Test Rec: 0.000\n",
      "Epoch: 005, Train Loss: 0.0884, Test Loss 0.3405, Train Acc: 0.7619, Test Acc: 0.6000\n",
      "Train Prec: 0.638, Train Rec: 0.808, Test Prec: 0.600, Test Rec: 0.600\n",
      "Epoch: 006, Train Loss: 0.0874, Test Loss 0.3595, Train Acc: 0.5476, Test Acc: 0.4000\n",
      "Train Prec: 0.273, Train Rec: 0.083, Test Prec: 0.000, Test Rec: 0.000\n",
      "Epoch: 007, Train Loss: 0.0861, Test Loss 0.3517, Train Acc: 0.6548, Test Acc: 0.5000\n",
      "Train Prec: 0.636, Train Rec: 0.300, Test Prec: 0.200, Test Rec: 0.200\n",
      "Epoch: 008, Train Loss: 0.0844, Test Loss 0.3373, Train Acc: 0.7976, Test Acc: 0.7000\n",
      "Train Prec: 0.750, Train Rec: 0.833, Test Prec: 0.600, Test Rec: 0.500\n",
      "Epoch: 009, Train Loss: 0.0867, Test Loss 0.3922, Train Acc: 0.5595, Test Acc: 0.4000\n",
      "Train Prec: 0.455, Train Rec: 0.123, Test Prec: 0.000, Test Rec: 0.000\n",
      "Epoch: 010, Train Loss: 0.0800, Test Loss 0.3235, Train Acc: 0.7143, Test Acc: 0.6000\n",
      "Train Prec: 0.687, Train Rec: 0.929, Test Prec: 0.500, Test Rec: 0.600\n",
      "\n",
      "1\n",
      "Epoch: 000, Train Loss: 0.0894, Test Loss 0.3549, Train Acc: 0.5119, Test Acc: 0.4000\n",
      "Train Prec: 0.000, Train Rec: 0.000, Test Prec: 0.000, Test Rec: 0.000\n",
      "Epoch: 001, Train Loss: 0.0893, Test Loss 0.3428, Train Acc: 0.6905, Test Acc: 0.8000\n",
      "Train Prec: 0.750, Train Rec: 0.568, Test Prec: 0.700, Test Rec: 0.800\n",
      "Epoch: 002, Train Loss: 0.0904, Test Loss 0.3882, Train Acc: 0.5119, Test Acc: 0.4000\n",
      "Train Prec: 0.000, Train Rec: 0.000, Test Prec: 0.000, Test Rec: 0.000\n",
      "Epoch: 003, Train Loss: 0.0867, Test Loss 0.3496, Train Acc: 0.6310, Test Acc: 0.5000\n",
      "Train Prec: 0.682, Train Rec: 0.294, Test Prec: 0.200, Test Rec: 0.200\n",
      "Epoch: 004, Train Loss: 0.0849, Test Loss 0.3407, Train Acc: 0.7619, Test Acc: 0.6000\n",
      "Train Prec: 0.732, Train Rec: 0.845, Test Prec: 0.400, Test Rec: 0.600\n",
      "Epoch: 005, Train Loss: 0.0832, Test Loss 0.3428, Train Acc: 0.7024, Test Acc: 0.6000\n",
      "Train Prec: 0.755, Train Rec: 0.682, Test Prec: 0.600, Test Rec: 0.400\n",
      "Epoch: 006, Train Loss: 0.0853, Test Loss 0.3695, Train Acc: 0.5952, Test Acc: 0.5000\n",
      "Train Prec: 0.561, Train Rec: 0.186, Test Prec: 0.200, Test Rec: 0.100\n",
      "Epoch: 007, Train Loss: 0.0846, Test Loss 0.3157, Train Acc: 0.5476, Test Acc: 0.6000\n",
      "Train Prec: 0.508, Train Rec: 1.000, Test Prec: 0.600, Test Rec: 1.000\n",
      "Epoch: 008, Train Loss: 0.0803, Test Loss 0.3153, Train Acc: 0.6667, Test Acc: 0.6000\n",
      "Train Prec: 0.608, Train Rec: 0.955, Test Prec: 0.600, Test Rec: 0.800\n",
      "Epoch: 009, Train Loss: 0.0815, Test Loss 0.3837, Train Acc: 0.6310, Test Acc: 0.5000\n",
      "Train Prec: 0.636, Train Rec: 0.230, Test Prec: 0.200, Test Rec: 0.200\n",
      "Epoch: 010, Train Loss: 0.0778, Test Loss 0.3127, Train Acc: 0.6786, Test Acc: 0.6000\n",
      "Train Prec: 0.596, Train Rec: 0.982, Test Prec: 0.600, Test Rec: 0.600\n",
      "\n",
      "2\n",
      "Epoch: 000, Train Loss: 0.0899, Test Loss 0.3661, Train Acc: 0.5238, Test Acc: 0.4000\n",
      "Train Prec: 0.273, Train Rec: 0.056, Test Prec: 0.000, Test Rec: 0.000\n",
      "Epoch: 001, Train Loss: 0.0896, Test Loss 0.3508, Train Acc: 0.5357, Test Acc: 0.5000\n",
      "Train Prec: 0.525, Train Rec: 0.448, Test Prec: 0.200, Test Rec: 0.200\n",
      "Epoch: 002, Train Loss: 0.0893, Test Loss 0.3510, Train Acc: 0.5714, Test Acc: 0.5000\n",
      "Train Prec: 0.662, Train Rec: 0.483, Test Prec: 0.200, Test Rec: 0.200\n",
      "Epoch: 003, Train Loss: 0.0884, Test Loss 0.3694, Train Acc: 0.5357, Test Acc: 0.4000\n",
      "Train Prec: 0.318, Train Rec: 0.185, Test Prec: 0.000, Test Rec: 0.000\n",
      "Epoch: 004, Train Loss: 0.0885, Test Loss 0.3383, Train Acc: 0.5714, Test Acc: 0.7000\n",
      "Train Prec: 0.537, Train Rec: 0.977, Test Prec: 0.600, Test Rec: 0.600\n",
      "Epoch: 005, Train Loss: 0.0874, Test Loss 0.3564, Train Acc: 0.6190, Test Acc: 0.5000\n",
      "Train Prec: 0.674, Train Rec: 0.496, Test Prec: 0.200, Test Rec: 0.200\n",
      "Epoch: 006, Train Loss: 0.0855, Test Loss 0.3487, Train Acc: 0.6429, Test Acc: 0.5000\n",
      "Train Prec: 0.588, Train Rec: 0.422, Test Prec: 0.200, Test Rec: 0.100\n",
      "Epoch: 007, Train Loss: 0.0975, Test Loss 0.3277, Train Acc: 0.4881, Test Acc: 0.6000\n",
      "Train Prec: 0.489, Train Rec: 1.000, Test Prec: 0.600, Test Rec: 0.800\n",
      "Epoch: 008, Train Loss: 0.0897, Test Loss 0.3789, Train Acc: 0.5357, Test Acc: 0.4000\n",
      "Train Prec: 0.273, Train Rec: 0.068, Test Prec: 0.000, Test Rec: 0.000\n",
      "Epoch: 009, Train Loss: 0.0875, Test Loss 0.3420, Train Acc: 0.5833, Test Acc: 0.6000\n",
      "Train Prec: 0.529, Train Rec: 0.898, Test Prec: 0.700, Test Rec: 0.900\n",
      "Epoch: 010, Train Loss: 0.0861, Test Loss 0.3481, Train Acc: 0.6310, Test Acc: 0.4000\n",
      "Train Prec: 0.607, Train Rec: 0.656, Test Prec: 0.200, Test Rec: 0.200\n",
      "\n",
      "3\n",
      "Epoch: 000, Train Loss: 0.0906, Test Loss 0.3513, Train Acc: 0.5119, Test Acc: 0.4000\n",
      "Train Prec: 0.000, Train Rec: 0.000, Test Prec: 0.000, Test Rec: 0.000\n",
      "Epoch: 001, Train Loss: 0.0909, Test Loss 0.3480, Train Acc: 0.5119, Test Acc: 0.4000\n",
      "Train Prec: 0.000, Train Rec: 0.000, Test Prec: 0.000, Test Rec: 0.000\n",
      "Epoch: 002, Train Loss: 0.0905, Test Loss 0.3460, Train Acc: 0.5119, Test Acc: 0.4000\n",
      "Train Prec: 0.091, Train Rec: 0.018, Test Prec: 0.000, Test Rec: 0.000\n",
      "Epoch: 003, Train Loss: 0.0898, Test Loss 0.3546, Train Acc: 0.5119, Test Acc: 0.4000\n",
      "Train Prec: 0.000, Train Rec: 0.000, Test Prec: 0.000, Test Rec: 0.000\n",
      "Epoch: 004, Train Loss: 0.0903, Test Loss 0.3505, Train Acc: 0.5119, Test Acc: 0.4000\n",
      "Train Prec: 0.000, Train Rec: 0.000, Test Prec: 0.000, Test Rec: 0.000\n",
      "Epoch: 005, Train Loss: 0.0896, Test Loss 0.3558, Train Acc: 0.5119, Test Acc: 0.4000\n",
      "Train Prec: 0.000, Train Rec: 0.000, Test Prec: 0.000, Test Rec: 0.000\n",
      "Epoch: 006, Train Loss: 0.0894, Test Loss 0.3556, Train Acc: 0.5357, Test Acc: 0.4000\n",
      "Train Prec: 0.182, Train Rec: 0.048, Test Prec: 0.000, Test Rec: 0.000\n",
      "Epoch: 007, Train Loss: 0.0883, Test Loss 0.3462, Train Acc: 0.6190, Test Acc: 0.4000\n",
      "Train Prec: 0.532, Train Rec: 0.335, Test Prec: 0.000, Test Rec: 0.000\n",
      "Epoch: 008, Train Loss: 0.0877, Test Loss 0.3475, Train Acc: 0.6190, Test Acc: 0.4000\n",
      "Train Prec: 0.606, Train Rec: 0.345, Test Prec: 0.000, Test Rec: 0.000\n",
      "Epoch: 009, Train Loss: 0.0865, Test Loss 0.3428, Train Acc: 0.6905, Test Acc: 0.5000\n",
      "Train Prec: 0.697, Train Rec: 0.438, Test Prec: 0.200, Test Rec: 0.200\n",
      "Epoch: 010, Train Loss: 0.0890, Test Loss 0.3226, Train Acc: 0.4881, Test Acc: 0.6000\n",
      "Train Prec: 0.466, Train Rec: 0.909, Test Prec: 0.600, Test Rec: 0.800\n",
      "\n",
      "4\n",
      "Epoch: 000, Train Loss: 0.0906, Test Loss 0.3538, Train Acc: 0.5119, Test Acc: 0.4000\n",
      "Train Prec: 0.000, Train Rec: 0.000, Test Prec: 0.000, Test Rec: 0.000\n",
      "Epoch: 001, Train Loss: 0.0908, Test Loss 0.3510, Train Acc: 0.5119, Test Acc: 0.4000\n",
      "Train Prec: 0.000, Train Rec: 0.000, Test Prec: 0.000, Test Rec: 0.000\n",
      "Epoch: 002, Train Loss: 0.0906, Test Loss 0.3459, Train Acc: 0.5238, Test Acc: 0.5000\n",
      "Train Prec: 0.295, Train Rec: 0.192, Test Prec: 0.200, Test Rec: 0.100\n",
      "Epoch: 003, Train Loss: 0.0908, Test Loss 0.3400, Train Acc: 0.5000, Test Acc: 0.6000\n",
      "Train Prec: 0.493, Train Rec: 0.717, Test Prec: 0.600, Test Rec: 1.000\n",
      "Epoch: 004, Train Loss: 0.0904, Test Loss 0.3541, Train Acc: 0.5119, Test Acc: 0.4000\n",
      "Train Prec: 0.000, Train Rec: 0.000, Test Prec: 0.000, Test Rec: 0.000\n",
      "Epoch: 005, Train Loss: 0.0898, Test Loss 0.3441, Train Acc: 0.5952, Test Acc: 0.7000\n",
      "Train Prec: 0.621, Train Rec: 0.311, Test Prec: 0.600, Test Rec: 0.500\n",
      "Epoch: 006, Train Loss: 0.0894, Test Loss 0.3443, Train Acc: 0.6310, Test Acc: 0.7000\n",
      "Train Prec: 0.606, Train Rec: 0.256, Test Prec: 0.600, Test Rec: 0.400\n",
      "Epoch: 007, Train Loss: 0.0895, Test Loss 0.3543, Train Acc: 0.5357, Test Acc: 0.4000\n",
      "Train Prec: 0.091, Train Rec: 0.045, Test Prec: 0.000, Test Rec: 0.000\n",
      "Epoch: 008, Train Loss: 0.0881, Test Loss 0.3440, Train Acc: 0.7500, Test Acc: 0.7000\n",
      "Train Prec: 0.742, Train Rec: 0.483, Test Prec: 0.600, Test Rec: 0.500\n",
      "Epoch: 009, Train Loss: 0.0869, Test Loss 0.3297, Train Acc: 0.5714, Test Acc: 0.6000\n",
      "Train Prec: 0.548, Train Rec: 1.000, Test Prec: 0.700, Test Rec: 0.700\n",
      "Epoch: 010, Train Loss: 0.0881, Test Loss 0.3523, Train Acc: 0.5714, Test Acc: 0.4000\n",
      "Train Prec: 0.364, Train Rec: 0.185, Test Prec: 0.000, Test Rec: 0.000\n",
      "\n",
      "5\n",
      "Epoch: 000, Train Loss: 0.0900, Test Loss 0.3549, Train Acc: 0.5119, Test Acc: 0.4000\n",
      "Train Prec: 0.000, Train Rec: 0.000, Test Prec: 0.000, Test Rec: 0.000\n",
      "Epoch: 001, Train Loss: 0.0902, Test Loss 0.3533, Train Acc: 0.5238, Test Acc: 0.4000\n",
      "Train Prec: 0.091, Train Rec: 0.015, Test Prec: 0.000, Test Rec: 0.000\n",
      "Epoch: 002, Train Loss: 0.0897, Test Loss 0.3536, Train Acc: 0.5357, Test Acc: 0.4000\n",
      "Train Prec: 0.182, Train Rec: 0.091, Test Prec: 0.000, Test Rec: 0.000\n",
      "Epoch: 003, Train Loss: 0.0889, Test Loss 0.3463, Train Acc: 0.6548, Test Acc: 0.4000\n",
      "Train Prec: 0.727, Train Rec: 0.432, Test Prec: 0.200, Test Rec: 0.200\n",
      "Epoch: 004, Train Loss: 0.0880, Test Loss 0.3581, Train Acc: 0.5357, Test Acc: 0.4000\n",
      "Train Prec: 0.273, Train Rec: 0.076, Test Prec: 0.000, Test Rec: 0.000\n",
      "Epoch: 005, Train Loss: 0.0870, Test Loss 0.3617, Train Acc: 0.5595, Test Acc: 0.4000\n",
      "Train Prec: 0.409, Train Rec: 0.124, Test Prec: 0.000, Test Rec: 0.000\n",
      "Epoch: 006, Train Loss: 0.0863, Test Loss 0.3523, Train Acc: 0.6786, Test Acc: 0.5000\n",
      "Train Prec: 0.709, Train Rec: 0.384, Test Prec: 0.200, Test Rec: 0.100\n",
      "Epoch: 007, Train Loss: 0.0858, Test Loss 0.3619, Train Acc: 0.6310, Test Acc: 0.5000\n",
      "Train Prec: 0.621, Train Rec: 0.302, Test Prec: 0.200, Test Rec: 0.200\n",
      "Epoch: 008, Train Loss: 0.0846, Test Loss 0.3499, Train Acc: 0.6905, Test Acc: 0.5000\n",
      "Train Prec: 0.700, Train Rec: 0.485, Test Prec: 0.200, Test Rec: 0.100\n",
      "Epoch: 009, Train Loss: 0.0874, Test Loss 0.3687, Train Acc: 0.5714, Test Acc: 0.4000\n",
      "Train Prec: 0.364, Train Rec: 0.123, Test Prec: 0.000, Test Rec: 0.000\n",
      "Epoch: 010, Train Loss: 0.0851, Test Loss 0.3298, Train Acc: 0.6548, Test Acc: 0.6000\n",
      "Train Prec: 0.578, Train Rec: 0.955, Test Prec: 0.600, Test Rec: 0.800\n",
      "\n",
      "6\n",
      "Epoch: 000, Train Loss: 0.0908, Test Loss 0.3491, Train Acc: 0.5000, Test Acc: 0.4000\n",
      "Train Prec: 0.000, Train Rec: 0.000, Test Prec: 0.000, Test Rec: 0.000\n",
      "Epoch: 001, Train Loss: 0.0904, Test Loss 0.3485, Train Acc: 0.5238, Test Acc: 0.4000\n",
      "Train Prec: 0.091, Train Rec: 0.018, Test Prec: 0.000, Test Rec: 0.000\n",
      "Epoch: 002, Train Loss: 0.0909, Test Loss 0.3567, Train Acc: 0.5119, Test Acc: 0.4000\n",
      "Train Prec: 0.000, Train Rec: 0.000, Test Prec: 0.000, Test Rec: 0.000\n",
      "Epoch: 003, Train Loss: 0.0906, Test Loss 0.3569, Train Acc: 0.5357, Test Acc: 0.4000\n",
      "Train Prec: 0.182, Train Rec: 0.045, Test Prec: 0.000, Test Rec: 0.000\n",
      "Epoch: 004, Train Loss: 0.0900, Test Loss 0.3547, Train Acc: 0.5476, Test Acc: 0.4000\n",
      "Train Prec: 0.182, Train Rec: 0.058, Test Prec: 0.000, Test Rec: 0.000\n",
      "Epoch: 005, Train Loss: 0.0892, Test Loss 0.3533, Train Acc: 0.5595, Test Acc: 0.4000\n",
      "Train Prec: 0.273, Train Rec: 0.098, Test Prec: 0.000, Test Rec: 0.000\n",
      "Epoch: 006, Train Loss: 0.0887, Test Loss 0.3483, Train Acc: 0.5833, Test Acc: 0.4000\n",
      "Train Prec: 0.553, Train Rec: 0.431, Test Prec: 0.000, Test Rec: 0.000\n",
      "Epoch: 007, Train Loss: 0.0872, Test Loss 0.3487, Train Acc: 0.6548, Test Acc: 0.4000\n",
      "Train Prec: 0.658, Train Rec: 0.674, Test Prec: 0.200, Test Rec: 0.200\n",
      "Epoch: 008, Train Loss: 0.0876, Test Loss 0.3482, Train Acc: 0.6310, Test Acc: 0.4000\n",
      "Train Prec: 0.758, Train Rec: 0.435, Test Prec: 0.000, Test Rec: 0.000\n",
      "Epoch: 009, Train Loss: 0.0869, Test Loss 0.3485, Train Acc: 0.6429, Test Acc: 0.5000\n",
      "Train Prec: 0.727, Train Rec: 0.427, Test Prec: 0.200, Test Rec: 0.100\n",
      "Epoch: 010, Train Loss: 0.0854, Test Loss 0.3490, Train Acc: 0.6310, Test Acc: 0.5000\n",
      "Train Prec: 0.711, Train Rec: 0.432, Test Prec: 0.200, Test Rec: 0.200\n",
      "\n",
      "7\n",
      "Epoch: 000, Train Loss: 0.0911, Test Loss 0.3438, Train Acc: 0.4881, Test Acc: 0.6000\n",
      "Train Prec: 0.489, Train Rec: 1.000, Test Prec: 0.600, Test Rec: 0.800\n",
      "Epoch: 001, Train Loss: 0.0908, Test Loss 0.3439, Train Acc: 0.4881, Test Acc: 0.6000\n",
      "Train Prec: 0.489, Train Rec: 1.000, Test Prec: 0.600, Test Rec: 0.800\n",
      "Epoch: 002, Train Loss: 0.0904, Test Loss 0.3507, Train Acc: 0.5238, Test Acc: 0.4000\n",
      "Train Prec: 0.091, Train Rec: 0.030, Test Prec: 0.000, Test Rec: 0.000\n",
      "Epoch: 003, Train Loss: 0.0903, Test Loss 0.3489, Train Acc: 0.5476, Test Acc: 0.4000\n",
      "Train Prec: 0.273, Train Rec: 0.112, Test Prec: 0.000, Test Rec: 0.000\n",
      "Epoch: 004, Train Loss: 0.0902, Test Loss 0.3539, Train Acc: 0.5357, Test Acc: 0.4000\n",
      "Train Prec: 0.182, Train Rec: 0.061, Test Prec: 0.000, Test Rec: 0.000\n",
      "Epoch: 005, Train Loss: 0.0902, Test Loss 0.3515, Train Acc: 0.5595, Test Acc: 0.4000\n",
      "Train Prec: 0.485, Train Rec: 0.185, Test Prec: 0.000, Test Rec: 0.000\n",
      "Epoch: 006, Train Loss: 0.0900, Test Loss 0.3568, Train Acc: 0.5357, Test Acc: 0.4000\n",
      "Train Prec: 0.182, Train Rec: 0.043, Test Prec: 0.000, Test Rec: 0.000\n",
      "Epoch: 007, Train Loss: 0.0895, Test Loss 0.3544, Train Acc: 0.5833, Test Acc: 0.4000\n",
      "Train Prec: 0.530, Train Rec: 0.238, Test Prec: 0.000, Test Rec: 0.000\n",
      "Epoch: 008, Train Loss: 0.0885, Test Loss 0.3518, Train Acc: 0.5714, Test Acc: 0.5000\n",
      "Train Prec: 0.641, Train Rec: 0.341, Test Prec: 0.200, Test Rec: 0.200\n",
      "Epoch: 009, Train Loss: 0.0870, Test Loss 0.3531, Train Acc: 0.6429, Test Acc: 0.5000\n",
      "Train Prec: 0.841, Train Rec: 0.442, Test Prec: 0.200, Test Rec: 0.200\n",
      "Epoch: 010, Train Loss: 0.0854, Test Loss 0.3528, Train Acc: 0.5952, Test Acc: 0.5000\n",
      "Train Prec: 0.583, Train Rec: 0.394, Test Prec: 0.200, Test Rec: 0.100\n",
      "\n",
      "8\n",
      "Epoch: 000, Train Loss: 0.0897, Test Loss 0.3546, Train Acc: 0.5119, Test Acc: 0.4000\n",
      "Train Prec: 0.000, Train Rec: 0.000, Test Prec: 0.000, Test Rec: 0.000\n",
      "Epoch: 001, Train Loss: 0.0903, Test Loss 0.3449, Train Acc: 0.6429, Test Acc: 0.6000\n",
      "Train Prec: 0.635, Train Rec: 0.592, Test Prec: 0.600, Test Rec: 0.700\n",
      "Epoch: 002, Train Loss: 0.0899, Test Loss 0.3502, Train Acc: 0.5357, Test Acc: 0.4000\n",
      "Train Prec: 0.182, Train Rec: 0.048, Test Prec: 0.000, Test Rec: 0.000\n",
      "Epoch: 003, Train Loss: 0.0888, Test Loss 0.3458, Train Acc: 0.6071, Test Acc: 0.4000\n",
      "Train Prec: 0.545, Train Rec: 0.223, Test Prec: 0.000, Test Rec: 0.000\n",
      "Epoch: 004, Train Loss: 0.0884, Test Loss 0.3458, Train Acc: 0.7619, Test Acc: 0.5000\n",
      "Train Prec: 0.864, Train Rec: 0.641, Test Prec: 0.200, Test Rec: 0.200\n",
      "Epoch: 005, Train Loss: 0.0896, Test Loss 0.3827, Train Acc: 0.5238, Test Acc: 0.4000\n",
      "Train Prec: 0.091, Train Rec: 0.091, Test Prec: 0.000, Test Rec: 0.000\n",
      "Epoch: 006, Train Loss: 0.0892, Test Loss 0.3394, Train Acc: 0.5595, Test Acc: 0.7000\n",
      "Train Prec: 0.538, Train Rec: 0.977, Test Prec: 0.600, Test Rec: 0.800\n",
      "Epoch: 007, Train Loss: 0.0872, Test Loss 0.3465, Train Acc: 0.6310, Test Acc: 0.5000\n",
      "Train Prec: 0.618, Train Rec: 0.491, Test Prec: 0.200, Test Rec: 0.200\n",
      "Epoch: 008, Train Loss: 0.0838, Test Loss 0.3592, Train Acc: 0.6429, Test Acc: 0.5000\n",
      "Train Prec: 0.545, Train Rec: 0.289, Test Prec: 0.200, Test Rec: 0.200\n",
      "Epoch: 009, Train Loss: 0.0885, Test Loss 0.3911, Train Acc: 0.5595, Test Acc: 0.4000\n",
      "Train Prec: 0.318, Train Rec: 0.102, Test Prec: 0.000, Test Rec: 0.000\n",
      "Epoch: 010, Train Loss: 0.0814, Test Loss 0.3283, Train Acc: 0.7500, Test Acc: 0.7000\n",
      "Train Prec: 0.654, Train Rec: 0.962, Test Prec: 0.700, Test Rec: 0.700\n",
      "\n",
      "9\n",
      "Epoch: 000, Train Loss: 0.0892, Test Loss 0.3605, Train Acc: 0.5476, Test Acc: 0.4000\n",
      "Train Prec: 0.455, Train Rec: 0.135, Test Prec: 0.000, Test Rec: 0.000\n",
      "Epoch: 001, Train Loss: 0.0892, Test Loss 0.3629, Train Acc: 0.5119, Test Acc: 0.4000\n",
      "Train Prec: 0.091, Train Rec: 0.041, Test Prec: 0.000, Test Rec: 0.000\n",
      "Epoch: 002, Train Loss: 0.0894, Test Loss 0.3456, Train Acc: 0.5833, Test Acc: 0.5000\n",
      "Train Prec: 0.602, Train Rec: 0.748, Test Prec: 0.400, Test Rec: 0.300\n",
      "Epoch: 003, Train Loss: 0.0890, Test Loss 0.3612, Train Acc: 0.5357, Test Acc: 0.4000\n",
      "Train Prec: 0.273, Train Rec: 0.086, Test Prec: 0.000, Test Rec: 0.000\n",
      "Epoch: 004, Train Loss: 0.0883, Test Loss 0.3424, Train Acc: 0.6071, Test Acc: 0.6000\n",
      "Train Prec: 0.570, Train Rec: 0.744, Test Prec: 0.600, Test Rec: 0.700\n",
      "Epoch: 005, Train Loss: 0.0885, Test Loss 0.3443, Train Acc: 0.6429, Test Acc: 0.6000\n",
      "Train Prec: 0.590, Train Rec: 0.823, Test Prec: 0.400, Test Rec: 0.600\n",
      "Epoch: 006, Train Loss: 0.0886, Test Loss 0.3740, Train Acc: 0.5476, Test Acc: 0.4000\n",
      "Train Prec: 0.242, Train Rec: 0.070, Test Prec: 0.000, Test Rec: 0.000\n",
      "Epoch: 007, Train Loss: 0.0861, Test Loss 0.3417, Train Acc: 0.7024, Test Acc: 0.5000\n",
      "Train Prec: 0.680, Train Rec: 0.789, Test Prec: 0.400, Test Rec: 0.300\n",
      "Epoch: 008, Train Loss: 0.0858, Test Loss 0.3639, Train Acc: 0.6190, Test Acc: 0.5000\n",
      "Train Prec: 0.606, Train Rec: 0.312, Test Prec: 0.200, Test Rec: 0.200\n",
      "Epoch: 009, Train Loss: 0.0909, Test Loss 0.3127, Train Acc: 0.4881, Test Acc: 0.6000\n",
      "Train Prec: 0.477, Train Rec: 1.000, Test Prec: 0.600, Test Rec: 1.000\n",
      "Epoch: 010, Train Loss: 0.0854, Test Loss 0.3970, Train Acc: 0.6071, Test Acc: 0.4000\n",
      "Train Prec: 0.652, Train Rec: 0.238, Test Prec: 0.000, Test Rec: 0.000\n"
     ]
    }
   ],
   "source": [
    "from sklearn.model_selection import StratifiedKFold\n",
    "\n",
    "skf = StratifiedKFold(n_splits=10, shuffle=True)\n",
    "eval_metrics = np.zeros((skf.n_splits, 4))\n",
    "\n",
    "labels = [full_dataset[i].y for i in range(len(full_dataset))]\n",
    "\n",
    "for n_fold, (train_idx, test_idx) in enumerate(skf.split(labels, labels)):\n",
    "    model = GCN(full_dataset.num_features, 2, channels=[256, 32, 32], dropout=0.1)\n",
    "    optimizer = torch.optim.Adam(model.parameters(), lr=0.001)\n",
    "    criterion = torch.nn.CrossEntropyLoss()\n",
    "\n",
    "    train_loader_ = DataLoader(full_dataset[list(train_idx)], batch_size=8, shuffle=True)\n",
    "    test_loader_ = DataLoader(full_dataset[list(test_idx)], batch_size=8, shuffle=True)\n",
    "    min_v_loss = np.inf\n",
    "    print()\n",
    "    print(n_fold)\n",
    "    pr, rc, acc = [], [], []\n",
    "    for epoch in range(11):\n",
    "        train_epoch(train_loader, model, criterion, optimizer)\n",
    "        train_loss, train_acc, train_pr, train_rc = eval_epoch(train_loader, model, criterion)\n",
    "        val_loss, test_acc, val_pr, val_rc = eval_epoch(val_loader, model, criterion)\n",
    "        print(f'Epoch: {epoch:03d}, Train Loss: {train_loss:.4f}, Test Loss {val_loss:.4f}, Train Acc: {train_acc:.4f}, Test Acc: {test_acc:.4f}')\n",
    "        print(f'Train Prec: {train_pr:.3f}, Train Rec: {train_rc:.3f}, Test Prec: {val_pr:.3f}, Test Rec: {val_rc:.3f}')\n",
    "        rc.append(val_rc)\n",
    "        pr.append(val_pr)\n",
    "        acc.append(test_acc)\n",
    "        if min_v_loss > val_loss:\n",
    "            min_v_loss = val_loss\n",
    "            best_test_acc = test_acc\n",
    "\n",
    "    eval_metrics[n_fold, 0] = np.mean(pr)\n",
    "    eval_metrics[n_fold, 1] = np.mean(rc)\n",
    "    eval_metrics[n_fold, 2] = np.mean(acc)\n",
    "    eval_metrics[n_fold, 3] = best_test_acc"
   ],
   "metadata": {
    "collapsed": false,
    "pycharm": {
     "name": "#%%\n"
    }
   }
  },
  {
   "cell_type": "code",
   "execution_count": 51,
   "outputs": [
    {
     "data": {
      "text/plain": "array([[0.19090909, 0.19090909, 0.48181818, 0.6       ],\n       [0.37272727, 0.42727273, 0.55454545, 0.6       ],\n       [0.26363636, 0.29090909, 0.5       , 0.6       ],\n       [0.07272727, 0.09090909, 0.42727273, 0.6       ],\n       [0.3       , 0.29090909, 0.52727273, 0.6       ],\n       [0.12727273, 0.12727273, 0.44545455, 0.6       ],\n       [0.05454545, 0.04545455, 0.41818182, 0.4       ],\n       [0.16363636, 0.19090909, 0.46363636, 0.6       ],\n       [0.22727273, 0.25454545, 0.5       , 0.7       ],\n       [0.23636364, 0.28181818, 0.48181818, 0.6       ]])"
     },
     "execution_count": 51,
     "metadata": {},
     "output_type": "execute_result"
    }
   ],
   "source": [
    "eval_metrics"
   ],
   "metadata": {
    "collapsed": false,
    "pycharm": {
     "name": "#%%\n"
    }
   }
  },
  {
   "cell_type": "code",
   "execution_count": null,
   "outputs": [],
   "source": [],
   "metadata": {
    "collapsed": false,
    "pycharm": {
     "name": "#%%\n"
    }
   }
  }
 ],
 "metadata": {
  "kernelspec": {
   "display_name": "Python 3",
   "language": "python",
   "name": "python3"
  },
  "language_info": {
   "codemirror_mode": {
    "name": "ipython",
    "version": 2
   },
   "file_extension": ".py",
   "mimetype": "text/x-python",
   "name": "python",
   "nbconvert_exporter": "python",
   "pygments_lexer": "ipython2",
   "version": "2.7.6"
  }
 },
 "nbformat": 4,
 "nbformat_minor": 0
}