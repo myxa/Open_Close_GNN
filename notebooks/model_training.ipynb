{
 "cells": [
  {
   "cell_type": "code",
   "execution_count": 8,
   "metadata": {
    "collapsed": true,
    "pycharm": {
     "name": "#%%\n"
    }
   },
   "outputs": [],
   "source": [
    "from model.dataset import OpenCloseDataset\n",
    "from model.gnn_model import GCN, GATv2\n",
    "import os\n",
    "from model.utils import train, device\n",
    "import torch\n",
    "import numpy as np\n",
    "import pandas as pd\n",
    "import torch.nn.functional as F\n",
    "import torch.nn as nn\n",
    "from torch_geometric.nn import global_mean_pool, GCNConv, GATConv"
   ]
  },
  {
   "cell_type": "code",
   "execution_count": 5,
   "outputs": [
    {
     "name": "stderr",
     "output_type": "stream",
     "text": [
      "Processing...\n",
      "Done!\n"
     ]
    },
    {
     "data": {
      "text/plain": "96"
     },
     "execution_count": 5,
     "metadata": {},
     "output_type": "execute_result"
    }
   ],
   "source": [
    "full_dataset = OpenCloseDataset(datafolder='../data', k_degree=30).shuffle()\n",
    "len(os.listdir('../data/processed'))"
   ],
   "metadata": {
    "collapsed": false,
    "pycharm": {
     "name": "#%%\n"
    }
   }
  },
  {
   "cell_type": "code",
   "execution_count": 6,
   "outputs": [],
   "source": [
    "train_size = int(0.94 * len(full_dataset))\n",
    "train_dataset, val_dataset = full_dataset[:train_size], full_dataset[train_size:]\n",
    "val_dataset, test_dataset = val_dataset[:-3], val_dataset[-3:]"
   ],
   "metadata": {
    "collapsed": false,
    "pycharm": {
     "name": "#%%\n"
    }
   }
  },
  {
   "cell_type": "code",
   "execution_count": 21,
   "outputs": [
    {
     "data": {
      "text/plain": "3"
     },
     "execution_count": 21,
     "metadata": {},
     "output_type": "execute_result"
    }
   ],
   "source": [
    "len(val_dataset)"
   ],
   "metadata": {
    "collapsed": false,
    "pycharm": {
     "name": "#%%\n"
    }
   }
  },
  {
   "cell_type": "code",
   "execution_count": 22,
   "outputs": [],
   "source": [
    "import torch.nn.functional as F\n",
    "import torch.nn as nn\n",
    "from torch_geometric.nn import global_mean_pool, GCNConv, GATConv\n",
    "\n",
    "class GCN(nn.Module):\n",
    "    def __init__(self,\n",
    "                 num_features,\n",
    "                 num_classes,\n",
    "                 channels,\n",
    "                 dropout=0):\n",
    "        super().__init__()\n",
    "\n",
    "        self.p = dropout\n",
    "        self.conv1 = GCNConv(int(num_features), channels[0])\n",
    "        self.conv2 = GCNConv(channels[0], channels[1])\n",
    "        self.conv3 = GCNConv(channels[1], channels[2])\n",
    "\n",
    "        self.lin1 = nn.Linear(channels[2], int(num_classes))\n",
    "\n",
    "    def forward(self, data):\n",
    "        x, edge_index, edge_attr = data.x, data.edge_index, data.edge_attr\n",
    "        batch = data.batch\n",
    "        #print(x.shape)\n",
    "        x = F.relu(self.conv1(x, edge_index)) #\n",
    "        #print(x.shape)\n",
    "        x = F.relu(self.conv2(x, edge_index))\n",
    "        x = F.dropout(x, p=self.p, training=self.training)\n",
    "        #print(x.shape)\n",
    "        x = F.relu(self.conv3(x, edge_index))\n",
    "        #print(x.shape)\n",
    "        x = global_mean_pool(x, batch)\n",
    "        #print(x.shape)\n",
    "        x = self.lin1(x)\n",
    "        return x"
   ],
   "metadata": {
    "collapsed": false,
    "pycharm": {
     "name": "#%%\n"
    }
   }
  },
  {
   "cell_type": "code",
   "execution_count": 10,
   "outputs": [],
   "source": [
    "from torch_geometric.nn import GCNConv, GATv2Conv\n",
    "\n",
    "class GAT(torch.nn.Module):\n",
    "    \"\"\"Graph Attention Network\"\"\"\n",
    "    def __init__(self, dim_in, dim_h, dim_out, heads=2):\n",
    "        super().__init__()\n",
    "        self.gat1 = GATv2Conv(dim_in, dim_h, heads=heads)\n",
    "        self.gat2 = GATv2Conv(dim_h*heads, dim_out, heads=1)\n",
    "        self.lin = nn.Linear(dim_out, 2)\n",
    "\n",
    "\n",
    "    def forward(self, data):\n",
    "        x, edge_index = data.x, data.edge_index\n",
    "        h = F.dropout(x, p=0.6, training=self.training)\n",
    "        h = self.gat1(h, edge_index)\n",
    "        h = F.elu(h)\n",
    "        h = F.dropout(h, p=0.6, training=self.training)\n",
    "        h = F.elu(self.gat2(h, edge_index))\n",
    "        h = global_mean_pool(h, data.batch)\n",
    "        h = self.lin(h)\n",
    "        return h"
   ],
   "metadata": {
    "collapsed": false,
    "pycharm": {
     "name": "#%%\n"
    }
   }
  },
  {
   "cell_type": "code",
   "execution_count": 3,
   "outputs": [],
   "source": [
    "from sklearn.metrics import precision_score, recall_score\n",
    "from tqdm import tqdm\n",
    "\n",
    "def train_epoch(train_loader, model, criterion, optimizer):\n",
    "    model.train()\n",
    "    for data in train_loader:  # Iterate in batches over the training dataset.\n",
    "         out = model(data)  # Perform a single forward pass.\n",
    "         loss = criterion(out, data.y)  # Compute the loss.\n",
    "         loss.backward()  # Derive gradients.\n",
    "         optimizer.step()  # Update parameters based on gradients.\n",
    "         optimizer.zero_grad()  # Clear gradients.\n",
    "\n",
    "def eval_epoch(loader, model, criterion):\n",
    "    model.eval()\n",
    "    losses = 0\n",
    "    correct = 0\n",
    "    pr = []\n",
    "    rc = []\n",
    "    with torch.no_grad():\n",
    "        for data in loader:  # Iterate in batches over the training/test dataset.\n",
    "            out = model(data)\n",
    "            loss = criterion(out, data.y)\n",
    "            losses += loss.item()\n",
    "            pred = out.argmax(dim=1)  # Use the class with highest probability.\n",
    "            correct += int((pred == data.y).sum())  # Check against ground-truth labels.\n",
    "            #print(pred)\n",
    "            #print(data.y)\n",
    "\n",
    "            pr.append(precision_score(data.y, pred, zero_division=0))\n",
    "            rc.append(recall_score(data.y, pred, zero_division=0))\n",
    "        # Derive ratio of correct predictions.\n",
    "    return losses / len(loader.dataset), correct / len(loader.dataset), np.mean(pr), np.mean(rc)\n",
    "\n",
    "def train(model, epochs, train_loader, val_loader, criterion, optimizer):\n",
    "    losses = []\n",
    "    for epoch in tqdm(range(1, epochs)):\n",
    "        train_epoch(train_loader, model, criterion, optimizer)\n",
    "        train_loss, train_acc, _, _ = eval_epoch(train_loader, model, criterion)\n",
    "        val_loss, test_acc, _, _ = eval_epoch(val_loader, model, criterion)\n",
    "        scheduler.step()\n",
    "        print(f'Epoch: {epoch:03d}, Train Loss: {train_loss:.4f}, Test Loss {val_loss:.4f}, Train Acc: {train_acc:.4f}, Test Acc: {test_acc:.4f}')\n",
    "        losses.append((train_loss, val_loss))\n",
    "    return losses"
   ],
   "metadata": {
    "collapsed": false,
    "pycharm": {
     "name": "#%%\n"
    }
   }
  },
  {
   "cell_type": "code",
   "execution_count": 18,
   "outputs": [
    {
     "name": "stdout",
     "output_type": "stream",
     "text": [
      "Adjusting learning rate of group 0 to 1.0000e-03.\n"
     ]
    },
    {
     "data": {
      "text/plain": "116282"
     },
     "execution_count": 18,
     "metadata": {},
     "output_type": "execute_result"
    }
   ],
   "source": [
    "from torch.optim import lr_scheduler\n",
    "model = GCN(full_dataset.num_features, 2, channels=[256, 32, 8], dropout=0.6).to(device())\n",
    "optimizer = torch.optim.Adam(model.parameters(), lr=0.001)\n",
    "loss = torch.nn.CrossEntropyLoss()\n",
    "epochs = 20\n",
    "scheduler = lr_scheduler.StepLR(optimizer, step_size=epochs//4, gamma=0.1, last_epoch=-1, verbose=True)\n",
    "sum(p.numel() for p in model.parameters())"
   ],
   "metadata": {
    "collapsed": false,
    "pycharm": {
     "name": "#%%\n"
    }
   }
  },
  {
   "cell_type": "code",
   "execution_count": 19,
   "outputs": [],
   "source": [
    "from torch_geometric.loader import DataLoader\n",
    "train_loader = DataLoader(train_dataset, batch_size=8, shuffle=True)\n",
    "val_loader = DataLoader(val_dataset, batch_size=len(val_dataset), shuffle=True)"
   ],
   "metadata": {
    "collapsed": false,
    "pycharm": {
     "name": "#%%\n"
    }
   }
  },
  {
   "cell_type": "code",
   "execution_count": 20,
   "outputs": [
    {
     "name": "stderr",
     "output_type": "stream",
     "text": [
      "  5%|▌         | 1/20 [00:13<04:11, 13.26s/it]"
     ]
    },
    {
     "name": "stdout",
     "output_type": "stream",
     "text": [
      "Epoch: 001, Train Loss: 0.0868, Test Loss 0.2246, Train Acc: 0.4545, Test Acc: 0.6667\n"
     ]
    },
    {
     "name": "stderr",
     "output_type": "stream",
     "text": [
      " 10%|█         | 2/20 [00:26<03:53, 12.98s/it]"
     ]
    },
    {
     "name": "stdout",
     "output_type": "stream",
     "text": [
      "Epoch: 002, Train Loss: 0.0865, Test Loss 0.2295, Train Acc: 0.5682, Test Acc: 0.6667\n"
     ]
    },
    {
     "name": "stderr",
     "output_type": "stream",
     "text": [
      " 15%|█▌        | 3/20 [00:38<03:34, 12.60s/it]"
     ]
    },
    {
     "name": "stdout",
     "output_type": "stream",
     "text": [
      "Epoch: 003, Train Loss: 0.0864, Test Loss 0.2319, Train Acc: 0.5227, Test Acc: 0.3333\n"
     ]
    },
    {
     "name": "stderr",
     "output_type": "stream",
     "text": [
      " 20%|██        | 4/20 [00:57<04:03, 15.24s/it]"
     ]
    },
    {
     "name": "stdout",
     "output_type": "stream",
     "text": [
      "Epoch: 004, Train Loss: 0.0861, Test Loss 0.2309, Train Acc: 0.5455, Test Acc: 0.3333\n"
     ]
    },
    {
     "name": "stderr",
     "output_type": "stream",
     "text": [
      " 25%|██▌       | 5/20 [01:16<04:07, 16.47s/it]"
     ]
    },
    {
     "name": "stdout",
     "output_type": "stream",
     "text": [
      "Epoch: 005, Train Loss: 0.0856, Test Loss 0.2401, Train Acc: 0.5114, Test Acc: 0.3333\n"
     ]
    },
    {
     "name": "stderr",
     "output_type": "stream",
     "text": [
      " 30%|███       | 6/20 [01:29<03:34, 15.33s/it]"
     ]
    },
    {
     "name": "stdout",
     "output_type": "stream",
     "text": [
      "Epoch: 006, Train Loss: 0.0859, Test Loss 0.2276, Train Acc: 0.7614, Test Acc: 1.0000\n"
     ]
    },
    {
     "name": "stderr",
     "output_type": "stream",
     "text": [
      " 35%|███▌      | 7/20 [01:43<03:15, 15.04s/it]"
     ]
    },
    {
     "name": "stdout",
     "output_type": "stream",
     "text": [
      "Epoch: 007, Train Loss: 0.0854, Test Loss 0.2301, Train Acc: 0.6250, Test Acc: 0.3333\n"
     ]
    },
    {
     "name": "stderr",
     "output_type": "stream",
     "text": [
      " 40%|████      | 8/20 [01:57<02:54, 14.51s/it]"
     ]
    },
    {
     "name": "stdout",
     "output_type": "stream",
     "text": [
      "Epoch: 008, Train Loss: 0.0846, Test Loss 0.2242, Train Acc: 0.7955, Test Acc: 1.0000\n"
     ]
    },
    {
     "name": "stderr",
     "output_type": "stream",
     "text": [
      " 45%|████▌     | 9/20 [02:11<02:38, 14.39s/it]"
     ]
    },
    {
     "name": "stdout",
     "output_type": "stream",
     "text": [
      "Epoch: 009, Train Loss: 0.0840, Test Loss 0.2306, Train Acc: 0.6705, Test Acc: 0.3333\n"
     ]
    },
    {
     "name": "stderr",
     "output_type": "stream",
     "text": [
      " 50%|█████     | 10/20 [02:26<02:27, 14.74s/it]"
     ]
    },
    {
     "name": "stdout",
     "output_type": "stream",
     "text": [
      "Epoch: 010, Train Loss: 0.0848, Test Loss 0.2024, Train Acc: 0.4886, Test Acc: 0.6667\n"
     ]
    },
    {
     "name": "stderr",
     "output_type": "stream",
     "text": [
      " 55%|█████▌    | 11/20 [02:39<02:07, 14.20s/it]"
     ]
    },
    {
     "name": "stdout",
     "output_type": "stream",
     "text": [
      "Epoch: 011, Train Loss: 0.0817, Test Loss 0.2167, Train Acc: 0.7045, Test Acc: 1.0000\n"
     ]
    },
    {
     "name": "stderr",
     "output_type": "stream",
     "text": [
      " 60%|██████    | 12/20 [02:52<01:49, 13.72s/it]"
     ]
    },
    {
     "name": "stdout",
     "output_type": "stream",
     "text": [
      "Epoch: 012, Train Loss: 0.0820, Test Loss 0.2230, Train Acc: 0.7500, Test Acc: 0.6667\n"
     ]
    },
    {
     "name": "stderr",
     "output_type": "stream",
     "text": [
      " 65%|██████▌   | 13/20 [03:05<01:34, 13.51s/it]"
     ]
    },
    {
     "name": "stdout",
     "output_type": "stream",
     "text": [
      "Epoch: 013, Train Loss: 0.0859, Test Loss 0.2510, Train Acc: 0.5341, Test Acc: 0.3333\n"
     ]
    },
    {
     "name": "stderr",
     "output_type": "stream",
     "text": [
      " 70%|███████   | 14/20 [03:18<01:20, 13.48s/it]"
     ]
    },
    {
     "name": "stdout",
     "output_type": "stream",
     "text": [
      "Epoch: 014, Train Loss: 0.0828, Test Loss 0.2258, Train Acc: 0.7159, Test Acc: 0.3333\n"
     ]
    },
    {
     "name": "stderr",
     "output_type": "stream",
     "text": [
      " 75%|███████▌  | 15/20 [03:36<01:13, 14.63s/it]"
     ]
    },
    {
     "name": "stdout",
     "output_type": "stream",
     "text": [
      "Epoch: 015, Train Loss: 0.0807, Test Loss 0.2202, Train Acc: 0.7159, Test Acc: 0.6667\n"
     ]
    },
    {
     "name": "stderr",
     "output_type": "stream",
     "text": [
      " 80%|████████  | 16/20 [03:49<00:57, 14.40s/it]"
     ]
    },
    {
     "name": "stdout",
     "output_type": "stream",
     "text": [
      "Epoch: 016, Train Loss: 0.0810, Test Loss 0.1930, Train Acc: 0.5000, Test Acc: 0.6667\n"
     ]
    },
    {
     "name": "stderr",
     "output_type": "stream",
     "text": [
      " 85%|████████▌ | 17/20 [04:03<00:42, 14.09s/it]"
     ]
    },
    {
     "name": "stdout",
     "output_type": "stream",
     "text": [
      "Epoch: 017, Train Loss: 0.0793, Test Loss 0.1942, Train Acc: 0.5909, Test Acc: 1.0000\n"
     ]
    },
    {
     "name": "stderr",
     "output_type": "stream",
     "text": [
      " 90%|█████████ | 18/20 [04:18<00:28, 14.43s/it]"
     ]
    },
    {
     "name": "stdout",
     "output_type": "stream",
     "text": [
      "Epoch: 018, Train Loss: 0.0760, Test Loss 0.2134, Train Acc: 0.7273, Test Acc: 0.3333\n"
     ]
    },
    {
     "name": "stderr",
     "output_type": "stream",
     "text": [
      " 95%|█████████▌| 19/20 [04:33<00:14, 14.72s/it]"
     ]
    },
    {
     "name": "stdout",
     "output_type": "stream",
     "text": [
      "Epoch: 019, Train Loss: 0.0735, Test Loss 0.2159, Train Acc: 0.7727, Test Acc: 0.3333\n"
     ]
    },
    {
     "name": "stderr",
     "output_type": "stream",
     "text": [
      "100%|██████████| 20/20 [04:48<00:00, 14.44s/it]"
     ]
    },
    {
     "name": "stdout",
     "output_type": "stream",
     "text": [
      "Epoch: 020, Train Loss: 0.0828, Test Loss 0.3163, Train Acc: 0.5795, Test Acc: 0.3333\n"
     ]
    },
    {
     "name": "stderr",
     "output_type": "stream",
     "text": [
      "\n"
     ]
    }
   ],
   "source": [
    "history = train(model, epochs, train_loader, val_loader, loss, optimizer)"
   ],
   "metadata": {
    "collapsed": false,
    "pycharm": {
     "name": "#%%\n"
    }
   }
  },
  {
   "cell_type": "code",
   "execution_count": 12,
   "outputs": [
    {
     "data": {
      "text/plain": "220210"
     },
     "execution_count": 12,
     "metadata": {},
     "output_type": "execute_result"
    }
   ],
   "source": [
    "from torch.optim import lr_scheduler\n",
    "model = GAT(full_dataset.num_features, 128, 8).to(device())\n",
    "optimizer = torch.optim.Adam(model.parameters(), lr=0.001)\n",
    "loss = torch.nn.CrossEntropyLoss()\n",
    "epochs = 20\n",
    "scheduler = lr_scheduler.StepLR(optimizer, step_size=epochs//4, gamma=0.1, last_epoch=-1, verbose=False)\n",
    "sum(p.numel() for p in model.parameters())"
   ],
   "metadata": {
    "collapsed": false,
    "pycharm": {
     "name": "#%%\n"
    }
   }
  },
  {
   "cell_type": "code",
   "execution_count": 14,
   "outputs": [
    {
     "name": "stderr",
     "output_type": "stream",
     "text": [
      "  5%|▌         | 1/20 [00:39<12:25, 39.24s/it]"
     ]
    },
    {
     "name": "stdout",
     "output_type": "stream",
     "text": [
      "Epoch: 001, Train Loss: 0.0864, Test Loss 0.2421, Train Acc: 0.5000, Test Acc: 0.3333\n"
     ]
    },
    {
     "name": "stderr",
     "output_type": "stream",
     "text": [
      " 10%|█         | 2/20 [01:12<10:46, 35.93s/it]"
     ]
    },
    {
     "name": "stdout",
     "output_type": "stream",
     "text": [
      "Epoch: 002, Train Loss: 0.0864, Test Loss 0.2279, Train Acc: 0.5114, Test Acc: 0.6667\n"
     ]
    },
    {
     "name": "stderr",
     "output_type": "stream",
     "text": [
      " 15%|█▌        | 3/20 [01:46<09:49, 34.67s/it]"
     ]
    },
    {
     "name": "stdout",
     "output_type": "stream",
     "text": [
      "Epoch: 003, Train Loss: 0.0858, Test Loss 0.2470, Train Acc: 0.5795, Test Acc: 0.3333\n"
     ]
    },
    {
     "name": "stderr",
     "output_type": "stream",
     "text": [
      " 20%|██        | 4/20 [02:22<09:26, 35.38s/it]"
     ]
    },
    {
     "name": "stdout",
     "output_type": "stream",
     "text": [
      "Epoch: 004, Train Loss: 0.0854, Test Loss 0.2257, Train Acc: 0.5341, Test Acc: 1.0000\n"
     ]
    },
    {
     "name": "stderr",
     "output_type": "stream",
     "text": [
      " 25%|██▌       | 5/20 [03:01<09:12, 36.85s/it]"
     ]
    },
    {
     "name": "stdout",
     "output_type": "stream",
     "text": [
      "Epoch: 005, Train Loss: 0.0847, Test Loss 0.2374, Train Acc: 0.5909, Test Acc: 0.3333\n"
     ]
    },
    {
     "name": "stderr",
     "output_type": "stream",
     "text": [
      " 30%|███       | 6/20 [03:52<09:42, 41.62s/it]"
     ]
    },
    {
     "name": "stdout",
     "output_type": "stream",
     "text": [
      "Epoch: 006, Train Loss: 0.0840, Test Loss 0.2323, Train Acc: 0.6364, Test Acc: 0.3333\n"
     ]
    },
    {
     "name": "stderr",
     "output_type": "stream",
     "text": [
      " 35%|███▌      | 7/20 [04:44<09:42, 44.83s/it]"
     ]
    },
    {
     "name": "stdout",
     "output_type": "stream",
     "text": [
      "Epoch: 007, Train Loss: 0.0835, Test Loss 0.2346, Train Acc: 0.6136, Test Acc: 0.3333\n"
     ]
    },
    {
     "name": "stderr",
     "output_type": "stream",
     "text": [
      " 40%|████      | 8/20 [05:35<09:20, 46.75s/it]"
     ]
    },
    {
     "name": "stdout",
     "output_type": "stream",
     "text": [
      "Epoch: 008, Train Loss: 0.0827, Test Loss 0.2211, Train Acc: 0.7045, Test Acc: 0.3333\n"
     ]
    },
    {
     "name": "stderr",
     "output_type": "stream",
     "text": [
      " 45%|████▌     | 9/20 [06:26<08:51, 48.29s/it]"
     ]
    },
    {
     "name": "stdout",
     "output_type": "stream",
     "text": [
      "Epoch: 009, Train Loss: 0.0819, Test Loss 0.2073, Train Acc: 0.6818, Test Acc: 1.0000\n"
     ]
    },
    {
     "name": "stderr",
     "output_type": "stream",
     "text": [
      " 50%|█████     | 10/20 [07:19<08:17, 49.72s/it]"
     ]
    },
    {
     "name": "stdout",
     "output_type": "stream",
     "text": [
      "Epoch: 010, Train Loss: 0.0804, Test Loss 0.2193, Train Acc: 0.6818, Test Acc: 0.3333\n"
     ]
    },
    {
     "name": "stderr",
     "output_type": "stream",
     "text": [
      " 55%|█████▌    | 11/20 [08:13<07:38, 50.90s/it]"
     ]
    },
    {
     "name": "stdout",
     "output_type": "stream",
     "text": [
      "Epoch: 011, Train Loss: 0.0790, Test Loss 0.2193, Train Acc: 0.6818, Test Acc: 0.3333\n"
     ]
    },
    {
     "name": "stderr",
     "output_type": "stream",
     "text": [
      " 60%|██████    | 12/20 [09:07<06:56, 52.01s/it]"
     ]
    },
    {
     "name": "stdout",
     "output_type": "stream",
     "text": [
      "Epoch: 012, Train Loss: 0.0783, Test Loss 0.1966, Train Acc: 0.7386, Test Acc: 1.0000\n"
     ]
    },
    {
     "name": "stderr",
     "output_type": "stream",
     "text": [
      " 65%|██████▌   | 13/20 [10:00<06:05, 52.28s/it]"
     ]
    },
    {
     "name": "stdout",
     "output_type": "stream",
     "text": [
      "Epoch: 013, Train Loss: 0.0768, Test Loss 0.2047, Train Acc: 0.6932, Test Acc: 0.3333\n"
     ]
    },
    {
     "name": "stderr",
     "output_type": "stream",
     "text": [
      " 70%|███████   | 14/20 [11:23<06:08, 61.39s/it]"
     ]
    },
    {
     "name": "stdout",
     "output_type": "stream",
     "text": [
      "Epoch: 014, Train Loss: 0.0761, Test Loss 0.2157, Train Acc: 0.6932, Test Acc: 0.3333\n"
     ]
    },
    {
     "name": "stderr",
     "output_type": "stream",
     "text": [
      " 75%|███████▌  | 15/20 [12:19<04:58, 59.79s/it]"
     ]
    },
    {
     "name": "stdout",
     "output_type": "stream",
     "text": [
      "Epoch: 015, Train Loss: 0.0721, Test Loss 0.1772, Train Acc: 0.7841, Test Acc: 1.0000\n"
     ]
    },
    {
     "name": "stderr",
     "output_type": "stream",
     "text": [
      " 80%|████████  | 16/20 [13:14<03:53, 58.44s/it]"
     ]
    },
    {
     "name": "stdout",
     "output_type": "stream",
     "text": [
      "Epoch: 016, Train Loss: 0.0712, Test Loss 0.1931, Train Acc: 0.7045, Test Acc: 0.3333\n"
     ]
    },
    {
     "name": "stderr",
     "output_type": "stream",
     "text": [
      " 85%|████████▌ | 17/20 [14:08<02:51, 57.08s/it]"
     ]
    },
    {
     "name": "stdout",
     "output_type": "stream",
     "text": [
      "Epoch: 017, Train Loss: 0.0743, Test Loss 0.2224, Train Acc: 0.6477, Test Acc: 0.3333\n"
     ]
    },
    {
     "name": "stderr",
     "output_type": "stream",
     "text": [
      " 90%|█████████ | 18/20 [14:56<01:48, 54.41s/it]"
     ]
    },
    {
     "name": "stdout",
     "output_type": "stream",
     "text": [
      "Epoch: 018, Train Loss: 0.0671, Test Loss 0.1734, Train Acc: 0.7386, Test Acc: 0.6667\n"
     ]
    },
    {
     "name": "stderr",
     "output_type": "stream",
     "text": [
      " 95%|█████████▌| 19/20 [15:49<00:54, 54.01s/it]"
     ]
    },
    {
     "name": "stdout",
     "output_type": "stream",
     "text": [
      "Epoch: 019, Train Loss: 0.0603, Test Loss 0.1101, Train Acc: 0.8295, Test Acc: 1.0000\n"
     ]
    },
    {
     "name": "stderr",
     "output_type": "stream",
     "text": [
      "100%|██████████| 20/20 [16:43<00:00, 50.19s/it]"
     ]
    },
    {
     "name": "stdout",
     "output_type": "stream",
     "text": [
      "Epoch: 020, Train Loss: 0.0558, Test Loss 0.1018, Train Acc: 0.8409, Test Acc: 1.0000\n"
     ]
    },
    {
     "name": "stderr",
     "output_type": "stream",
     "text": [
      "\n"
     ]
    }
   ],
   "source": [
    "history = train(model, epochs, train_loader, val_loader, loss, optimizer)"
   ],
   "metadata": {
    "collapsed": false,
    "pycharm": {
     "name": "#%%\n"
    }
   }
  },
  {
   "cell_type": "code",
   "execution_count": 15,
   "outputs": [],
   "source": [
    "train_loss, val_loss = zip(*history)"
   ],
   "metadata": {
    "collapsed": false,
    "pycharm": {
     "name": "#%%\n"
    }
   }
  },
  {
   "cell_type": "code",
   "execution_count": 16,
   "outputs": [
    {
     "data": {
      "text/plain": "[<matplotlib.lines.Line2D at 0x2eb10442148>]"
     },
     "execution_count": 16,
     "metadata": {},
     "output_type": "execute_result"
    },
    {
     "data": {
      "text/plain": "<Figure size 640x480 with 1 Axes>",
      "image/png": "[encoded data removed]"
     },
     "metadata": {},
     "output_type": "display_data"
    }
   ],
   "source": [
    "import matplotlib.pyplot as plt\n",
    "\n",
    "plt.plot(train_loss)\n",
    "plt.plot(val_loss)\n",
    "#plt.plot(acc)\n",
    "#plt.plot(pres)"
   ],
   "metadata": {
    "collapsed": false,
    "pycharm": {
     "name": "#%%\n"
    }
   }
  },
  {
   "cell_type": "code",
   "execution_count": 17,
   "outputs": [],
   "source": [
    "torch.save(model.state_dict(), '../weights/gat_2heads_128_8_knn30.pt')"
   ],
   "metadata": {
    "collapsed": false,
    "pycharm": {
     "name": "#%%\n"
    }
   }
  },
  {
   "cell_type": "code",
   "execution_count": 134,
   "outputs": [
    {
     "data": {
      "text/plain": "[<matplotlib.lines.Line2D at 0x26280724748>]"
     },
     "execution_count": 134,
     "metadata": {},
     "output_type": "execute_result"
    },
    {
     "data": {
      "text/plain": "<Figure size 640x480 with 1 Axes>",
      "image/png": "[encoded data removed]"
     },
     "metadata": {},
     "output_type": "display_data"
    }
   ],
   "source": [
    "plt.plot(train_loss)\n",
    "plt.plot(val_loss)"
   ],
   "metadata": {
    "collapsed": false,
    "pycharm": {
     "name": "#%%\n"
    }
   }
  },
  {
   "cell_type": "code",
   "execution_count": 135,
   "outputs": [],
   "source": [
    "torch.save(model.state_dict(), '../weights/bs8_128_32_8_k5.pt')"
   ],
   "metadata": {
    "collapsed": false,
    "pycharm": {
     "name": "#%%\n"
    }
   }
  },
  {
   "cell_type": "code",
   "execution_count": null,
   "outputs": [],
   "source": [],
   "metadata": {
    "collapsed": false,
    "pycharm": {
     "name": "#%%\n"
    }
   }
  },
  {
   "cell_type": "code",
   "execution_count": 50,
   "outputs": [
    {
     "name": "stdout",
     "output_type": "stream",
     "text": [
      "\n",
      "0\n",
      "Epoch: 000, Train Loss: 0.0901, Test Loss 0.3478, Train Acc: 0.5714, Test Acc: 0.5000\n",
      "Train Prec: 0.598, Train Rec: 0.282, Test Prec: 0.200, Test Rec: 0.200\n",
      "Epoch: 001, Train Loss: 0.0906, Test Loss 0.3568, Train Acc: 0.5119, Test Acc: 0.4000\n",
      "Train Prec: 0.000, Train Rec: 0.000, Test Prec: 0.000, Test Rec: 0.000\n",
      "Epoch: 002, Train Loss: 0.0895, Test Loss 0.3494, Train Acc: 0.5357, Test Acc: 0.4000\n",
      "Train Prec: 0.182, Train Rec: 0.053, Test Prec: 0.000, Test Rec: 0.000\n",
      "Epoch: 003, Train Loss: 0.0886, Test Loss 0.3574, Train Acc: 0.5238, Test Acc: 0.4000\n",
      "Train Prec: 0.091, Train Rec: 0.030, Test Prec: 0.000, Test Rec: 0.000\n",
      "Epoch: 004, Train Loss: 0.0877, Test Loss 0.3517, Train Acc: 0.5595, Test Acc: 0.4000\n",
      "Train Prec: 0.409, Train Rec: 0.185, Test Prec: 0.000, Test Rec: 0.000\n",
      "Epoch: 005, Train Loss: 0.0884, Test Loss 0.3405, Train Acc: 0.7619, Test Acc: 0.6000\n",
      "Train Prec: 0.638, Train Rec: 0.808, Test Prec: 0.600, Test Rec: 0.600\n",
      "Epoch: 006, Train Loss: 0.0874, Test Loss 0.3595, Train Acc: 0.5476, Test Acc: 0.4000\n",
      "Train Prec: 0.273, Train Rec: 0.083, Test Prec: 0.000, Test Rec: 0.000\n",
      "Epoch: 007, Train Loss: 0.0861, Test Loss 0.3517, Train Acc: 0.6548, Test Acc: 0.5000\n",
      "Train Prec: 0.636, Train Rec: 0.300, Test Prec: 0.200, Test Rec: 0.200\n",
      "Epoch: 008, Train Loss: 0.0844, Test Loss 0.3373, Train Acc: 0.7976, Test Acc: 0.7000\n",
      "Train Prec: 0.750, Train Rec: 0.833, Test Prec: 0.600, Test Rec: 0.500\n",
      "Epoch: 009, Train Loss: 0.0867, Test Loss 0.3922, Train Acc: 0.5595, Test Acc: 0.4000\n",
      "Train Prec: 0.455, Train Rec: 0.123, Test Prec: 0.000, Test Rec: 0.000\n",
      "Epoch: 010, Train Loss: 0.0800, Test Loss 0.3235, Train Acc: 0.7143, Test Acc: 0.6000\n",
      "Train Prec: 0.687, Train Rec: 0.929, Test Prec: 0.500, Test Rec: 0.600\n",
      "\n",
      "1\n",
      "Epoch: 000, Train Loss: 0.0894, Test Loss 0.3549, Train Acc: 0.5119, Test Acc: 0.4000\n",
      "Train Prec: 0.000, Train Rec: 0.000, Test Prec: 0.000, Test Rec: 0.000\n",
      "Epoch: 001, Train Loss: 0.0893, Test Loss 0.3428, Train Acc: 0.6905, Test Acc: 0.8000\n",
      "Train Prec: 0.750, Train Rec: 0.568, Test Prec: 0.700, Test Rec: 0.800\n",
      "Epoch: 002, Train Loss: 0.0904, Test Loss 0.3882, Train Acc: 0.5119, Test Acc: 0.4000\n",
      "Train Prec: 0.000, Train Rec: 0.000, Test Prec: 0.000, Test Rec: 0.000\n",
      "Epoch: 003, Train Loss: 0.0867, Test Loss 0.3496, Train Acc: 0.6310, Test Acc: 0.5000\n",
      "Train Prec: 0.682, Train Rec: 0.294, Test Prec: 0.200, Test Rec: 0.200\n",
      "Epoch: 004, Train Loss: 0.0849, Test Loss 0.3407, Train Acc: 0.7619, Test Acc: 0.6000\n",
      "Train Prec: 0.732, Train Rec: 0.845, Test Prec: 0.400, Test Rec: 0.600\n",
      "Epoch: 005, Train Loss: 0.0832, Test Loss 0.3428, Train Acc: 0.7024, Test Acc: 0.6000\n",
      "Train Prec: 0.755, Train Rec: 0.682, Test Prec: 0.600, Test Rec: 0.400\n",
      "Epoch: 006, Train Loss: 0.0853, Test Loss 0.3695, Train Acc: 0.5952, Test Acc: 0.5000\n",
      "Train Prec: 0.561, Train Rec: 0.186, Test Prec: 0.200, Test Rec: 0.100\n",
      "Epoch: 007, Train Loss: 0.0846, Test Loss 0.3157, Train Acc: 0.5476, Test Acc: 0.6000\n",
      "Train Prec: 0.508, Train Rec: 1.000, Test Prec: 0.600, Test Rec: 1.000\n",
      "Epoch: 008, Train Loss: 0.0803, Test Loss 0.3153, Train Acc: 0.6667, Test Acc: 0.6000\n",
      "Train Prec: 0.608, Train Rec: 0.955, Test Prec: 0.600, Test Rec: 0.800\n",
      "Epoch: 009, Train Loss: 0.0815, Test Loss 0.3837, Train Acc: 0.6310, Test Acc: 0.5000\n",
      "Train Prec: 0.636, Train Rec: 0.230, Test Prec: 0.200, Test Rec: 0.200\n",
      "Epoch: 010, Train Loss: 0.0778, Test Loss 0.3127, Train Acc: 0.6786, Test Acc: 0.6000\n",
      "Train Prec: 0.596, Train Rec: 0.982, Test Prec: 0.600, Test Rec: 0.600\n",
      "\n",
      "2\n",
      "Epoch: 000, Train Loss: 0.0899, Test Loss 0.3661, Train Acc: 0.5238, Test Acc: 0.4000\n",
      "Train Prec: 0.273, Train Rec: 0.056, Test Prec: 0.000, Test Rec: 0.000\n",
      "Epoch: 001, Train Loss: 0.0896, Test Loss 0.3508, Train Acc: 0.5357, Test Acc: 0.5000\n",
      "Train Prec: 0.525, Train Rec: 0.448, Test Prec: 0.200, Test Rec: 0.200\n",
      "Epoch: 002, Train Loss: 0.0893, Test Loss 0.3510, Train Acc: 0.5714, Test Acc: 0.5000\n",
      "Train Prec: 0.662, Train Rec: 0.483, Test Prec: 0.200, Test Rec: 0.200\n",
      "Epoch: 003, Train Loss: 0.0884, Test Loss 0.3694, Train Acc: 0.5357, Test Acc: 0.4000\n",
      "Train Prec: 0.318, Train Rec: 0.185, Test Prec: 0.000, Test Rec: 0.000\n",
      "Epoch: 004, Train Loss: 0.0885, Test Loss 0.3383, Train Acc: 0.5714, Test Acc: 0.7000\n",
      "Train Prec: 0.537, Train Rec: 0.977, Test Prec: 0.600, Test Rec: 0.600\n",
      "Epoch: 005, Train Loss: 0.0874, Test Loss 0.3564, Train Acc: 0.6190, Test Acc: 0.5000\n",
      "Train Prec: 0.674, Train Rec: 0.496, Test Prec: 0.200, Test Rec: 0.200\n",
      "Epoch: 006, Train Loss: 0.0855, Test Loss 0.3487, Train Acc: 0.6429, Test Acc: 0.5000\n",
      "Train Prec: 0.588, Train Rec: 0.422, Test Prec: 0.200, Test Rec: 0.100\n",
      "Epoch: 007, Train Loss: 0.0975, Test Loss 0.3277, Train Acc: 0.4881, Test Acc: 0.6000\n",
      "Train Prec: 0.489, Train Rec: 1.000, Test Prec: 0.600, Test Rec: 0.800\n",
      "Epoch: 008, Train Loss: 0.0897, Test Loss 0.3789, Train Acc: 0.5357, Test Acc: 0.4000\n",
      "Train Prec: 0.273, Train Rec: 0.068, Test Prec: 0.000, Test Rec: 0.000\n",
      "Epoch: 009, Train Loss: 0.0875, Test Loss 0.3420, Train Acc: 0.5833, Test Acc: 0.6000\n",
      "Train Prec: 0.529, Train Rec: 0.898, Test Prec: 0.700, Test Rec: 0.900\n",
      "Epoch: 010, Train Loss: 0.0861, Test Loss 0.3481, Train Acc: 0.6310, Test Acc: 0.4000\n",
      "Train Prec: 0.607, Train Rec: 0.656, Test Prec: 0.200, Test Rec: 0.200\n",
      "\n",
      "3\n",
      "Epoch: 000, Train Loss: 0.0906, Test Loss 0.3513, Train Acc: 0.5119, Test Acc: 0.4000\n",
      "Train Prec: 0.000, Train Rec: 0.000, Test Prec: 0.000, Test Rec: 0.000\n",
      "Epoch: 001, Train Loss: 0.0909, Test Loss 0.3480, Train Acc: 0.5119, Test Acc: 0.4000\n",
      "Train Prec: 0.000, Train Rec: 0.000, Test Prec: 0.000, Test Rec: 0.000\n",
      "Epoch: 002, Train Loss: 0.0905, Test Loss 0.3460, Train Acc: 0.5119, Test Acc: 0.4000\n",
      "Train Prec: 0.091, Train Rec: 0.018, Test Prec: 0.000, Test Rec: 0.000\n",
      "Epoch: 003, Train Loss: 0.0898, Test Loss 0.3546, Train Acc: 0.5119, Test Acc: 0.4000\n",
      "Train Prec: 0.000, Train Rec: 0.000, Test Prec: 0.000, Test Rec: 0.000\n",
      "Epoch: 004, Train Loss: 0.0903, Test Loss 0.3505, Train Acc: 0.5119, Test Acc: 0.4000\n",
      "Train Prec: 0.000, Train Rec: 0.000, Test Prec: 0.000, Test Rec: 0.000\n",
      "Epoch: 005, Train Loss: 0.0896, Test Loss 0.3558, Train Acc: 0.5119, Test Acc: 0.4000\n",
      "Train Prec: 0.000, Train Rec: 0.000, Test Prec: 0.000, Test Rec: 0.000\n",
      "Epoch: 006, Train Loss: 0.0894, Test Loss 0.3556, Train Acc: 0.5357, Test Acc: 0.4000\n",
      "Train Prec: 0.182, Train Rec: 0.048, Test Prec: 0.000, Test Rec: 0.000\n",
      "Epoch: 007, Train Loss: 0.0883, Test Loss 0.3462, Train Acc: 0.6190, Test Acc: 0.4000\n",
      "Train Prec: 0.532, Train Rec: 0.335, Test Prec: 0.000, Test Rec: 0.000\n",
      "Epoch: 008, Train Loss: 0.0877, Test Loss 0.3475, Train Acc: 0.6190, Test Acc: 0.4000\n",
      "Train Prec: 0.606, Train Rec: 0.345, Test Prec: 0.000, Test Rec: 0.000\n",
      "Epoch: 009, Train Loss: 0.0865, Test Loss 0.3428, Train Acc: 0.6905, Test Acc: 0.5000\n",
      "Train Prec: 0.697, Train Rec: 0.438, Test Prec: 0.200, Test Rec: 0.200\n",
      "Epoch: 010, Train Loss: 0.0890, Test Loss 0.3226, Train Acc: 0.4881, Test Acc: 0.6000\n",
      "Train Prec: 0.466, Train Rec: 0.909, Test Prec: 0.600, Test Rec: 0.800\n",
      "\n",
      "4\n",
      "Epoch: 000, Train Loss: 0.0906, Test Loss 0.3538, Train Acc: 0.5119, Test Acc: 0.4000\n",
      "Train Prec: 0.000, Train Rec: 0.000, Test Prec: 0.000, Test Rec: 0.000\n",
      "Epoch: 001, Train Loss: 0.0908, Test Loss 0.3510, Train Acc: 0.5119, Test Acc: 0.4000\n",
      "Train Prec: 0.000, Train Rec: 0.000, Test Prec: 0.000, Test Rec: 0.000\n",
      "Epoch: 002, Train Loss: 0.0906, Test Loss 0.3459, Train Acc: 0.5238, Test Acc: 0.5000\n",
      "Train Prec: 0.295, Train Rec: 0.192, Test Prec: 0.200, Test Rec: 0.100\n",
      "Epoch: 003, Train Loss: 0.0908, Test Loss 0.3400, Train Acc: 0.5000, Test Acc: 0.6000\n",
      "Train Prec: 0.493, Train Rec: 0.717, Test Prec: 0.600, Test Rec: 1.000\n",
      "Epoch: 004, Train Loss: 0.0904, Test Loss 0.3541, Train Acc: 0.5119, Test Acc: 0.4000\n",
      "Train Prec: 0.000, Train Rec: 0.000, Test Prec: 0.000, Test Rec: 0.000\n",
      "Epoch: 005, Train Loss: 0.0898, Test Loss 0.3441, Train Acc: 0.5952, Test Acc: 0.7000\n",
      "Train Prec: 0.621, Train Rec: 0.311, Test Prec: 0.600, Test Rec: 0.500\n",
      "Epoch: 006, Train Loss: 0.0894, Test Loss 0.3443, Train Acc: 0.6310, Test Acc: 0.7000\n",
      "Train Prec: 0.606, Train Rec: 0.256, Test Prec: 0.600, Test Rec: 0.400\n",
      "Epoch: 007, Train Loss: 0.0895, Test Loss 0.3543, Train Acc: 0.5357, Test Acc: 0.4000\n",
      "Train Prec: 0.091, Train Rec: 0.045, Test Prec: 0.000, Test Rec: 0.000\n",
      "Epoch: 008, Train Loss: 0.0881, Test Loss 0.3440, Train Acc: 0.7500, Test Acc: 0.7000\n",
      "Train Prec: 0.742, Train Rec: 0.483, Test Prec: 0.600, Test Rec: 0.500\n",
      "Epoch: 009, Train Loss: 0.0869, Test Loss 0.3297, Train Acc: 0.5714, Test Acc: 0.6000\n",
      "Train Prec: 0.548, Train Rec: 1.000, Test Prec: 0.700, Test Rec: 0.700\n",
      "Epoch: 010, Train Loss: 0.0881, Test Loss 0.3523, Train Acc: 0.5714, Test Acc: 0.4000\n",
      "Train Prec: 0.364, Train Rec: 0.185, Test Prec: 0.000, Test Rec: 0.000\n",
      "\n",
      "5\n",
      "Epoch: 000, Train Loss: 0.0900, Test Loss 0.3549, Train Acc: 0.5119, Test Acc: 0.4000\n",
      "Train Prec: 0.000, Train Rec: 0.000, Test Prec: 0.000, Test Rec: 0.000\n",
      "Epoch: 001, Train Loss: 0.0902, Test Loss 0.3533, Train Acc: 0.5238, Test Acc: 0.4000\n",
      "Train Prec: 0.091, Train Rec: 0.015, Test Prec: 0.000, Test Rec: 0.000\n",
      "Epoch: 002, Train Loss: 0.0897, Test Loss 0.3536, Train Acc: 0.5357, Test Acc: 0.4000\n",
      "Train Prec: 0.182, Train Rec: 0.091, Test Prec: 0.000, Test Rec: 0.000\n",
      "Epoch: 003, Train Loss: 0.0889, Test Loss 0.3463, Train Acc: 0.6548, Test Acc: 0.4000\n",
      "Train Prec: 0.727, Train Rec: 0.432, Test Prec: 0.200, Test Rec: 0.200\n",
      "Epoch: 004, Train Loss: 0.0880, Test Loss 0.3581, Train Acc: 0.5357, Test Acc: 0.4000\n",
      "Train Prec: 0.273, Train Rec: 0.076, Test Prec: 0.000, Test Rec: 0.000\n",
      "Epoch: 005, Train Loss: 0.0870, Test Loss 0.3617, Train Acc: 0.5595, Test Acc: 0.4000\n",
      "Train Prec: 0.409, Train Rec: 0.124, Test Prec: 0.000, Test Rec: 0.000\n",
      "Epoch: 006, Train Loss: 0.0863, Test Loss 0.3523, Train Acc: 0.6786, Test Acc: 0.5000\n",
      "Train Prec: 0.709, Train Rec: 0.384, Test Prec: 0.200, Test Rec: 0.100\n",
      "Epoch: 007, Train Loss: 0.0858, Test Loss 0.3619, Train Acc: 0.6310, Test Acc: 0.5000\n",
      "Train Prec: 0.621, Train Rec: 0.302, Test Prec: 0.200, Test Rec: 0.200\n",
      "Epoch: 008, Train Loss: 0.0846, Test Loss 0.3499, Train Acc: 0.6905, Test Acc: 0.5000\n",
      "Train Prec: 0.700, Train Rec: 0.485, Test Prec: 0.200, Test Rec: 0.100\n",
      "Epoch: 009, Train Loss: 0.0874, Test Loss 0.3687, Train Acc: 0.5714, Test Acc: 0.4000\n",
      "Train Prec: 0.364, Train Rec: 0.123, Test Prec: 0.000, Test Rec: 0.000\n",
      "Epoch: 010, Train Loss: 0.0851, Test Loss 0.3298, Train Acc: 0.6548, Test Acc: 0.6000\n",
      "Train Prec: 0.578, Train Rec: 0.955, Test Prec: 0.600, Test Rec: 0.800\n",
      "\n",
      "6\n",
      "Epoch: 000, Train Loss: 0.0908, Test Loss 0.3491, Train Acc: 0.5000, Test Acc: 0.4000\n",
      "Train Prec: 0.000, Train Rec: 0.000, Test Prec: 0.000, Test Rec: 0.000\n",
      "Epoch: 001, Train Loss: 0.0904, Test Loss 0.3485, Train Acc: 0.5238, Test Acc: 0.4000\n",
      "Train Prec: 0.091, Train Rec: 0.018, Test Prec: 0.000, Test Rec: 0.000\n",
      "Epoch: 002, Train Loss: 0.0909, Test Loss 0.3567, Train Acc: 0.5119, Test Acc: 0.4000\n",
      "Train Prec: 0.000, Train Rec: 0.000, Test Prec: 0.000, Test Rec: 0.000\n",
      "Epoch: 003, Train Loss: 0.0906, Test Loss 0.3569, Train Acc: 0.5357, Test Acc: 0.4000\n",
      "Train Prec: 0.182, Train Rec: 0.045, Test Prec: 0.000, Test Rec: 0.000\n",
      "Epoch: 004, Train Loss: 0.0900, Test Loss 0.3547, Train Acc: 0.5476, Test Acc: 0.4000\n",
      "Train Prec: 0.182, Train Rec: 0.058, Test Prec: 0.000, Test Rec: 0.000\n",
      "Epoch: 005, Train Loss: 0.0892, Test Loss 0.3533, Train Acc: 0.5595, Test Acc: 0.4000\n",
      "Train Prec: 0.273, Train Rec: 0.098, Test Prec: 0.000, Test Rec: 0.000\n",
      "Epoch: 006, Train Loss: 0.0887, Test Loss 0.3483, Train Acc: 0.5833, Test Acc: 0.4000\n",
      "Train Prec: 0.553, Train Rec: 0.431, Test Prec: 0.000, Test Rec: 0.000\n",
      "Epoch: 007, Train Loss: 0.0872, Test Loss 0.3487, Train Acc: 0.6548, Test Acc: 0.4000\n",
      "Train Prec: 0.658, Train Rec: 0.674, Test Prec: 0.200, Test Rec: 0.200\n",
      "Epoch: 008, Train Loss: 0.0876, Test Loss 0.3482, Train Acc: 0.6310, Test Acc: 0.4000\n",
      "Train Prec: 0.758, Train Rec: 0.435, Test Prec: 0.000, Test Rec: 0.000\n",
      "Epoch: 009, Train Loss: 0.0869, Test Loss 0.3485, Train Acc: 0.6429, Test Acc: 0.5000\n",
      "Train Prec: 0.727, Train Rec: 0.427, Test Prec: 0.200, Test Rec: 0.100\n",
      "Epoch: 010, Train Loss: 0.0854, Test Loss 0.3490, Train Acc: 0.6310, Test Acc: 0.5000\n",
      "Train Prec: 0.711, Train Rec: 0.432, Test Prec: 0.200, Test Rec: 0.200\n",
      "\n",
      "7\n",
      "Epoch: 000, Train Loss: 0.0911, Test Loss 0.3438, Train Acc: 0.4881, Test Acc: 0.6000\n",
      "Train Prec: 0.489, Train Rec: 1.000, Test Prec: 0.600, Test Rec: 0.800\n",
      "Epoch: 001, Train Loss: 0.0908, Test Loss 0.3439, Train Acc: 0.4881, Test Acc: 0.6000\n",
      "Train Prec: 0.489, Train Rec: 1.000, Test Prec: 0.600, Test Rec: 0.800\n",
      "Epoch: 002, Train Loss: 0.0904, Test Loss 0.3507, Train Acc: 0.5238, Test Acc: 0.4000\n",
      "Train Prec: 0.091, Train Rec: 0.030, Test Prec: 0.000, Test Rec: 0.000\n",
      "Epoch: 003, Train Loss: 0.0903, Test Loss 0.3489, Train Acc: 0.5476, Test Acc: 0.4000\n",
      "Train Prec: 0.273, Train Rec: 0.112, Test Prec: 0.000, Test Rec: 0.000\n",
      "Epoch: 004, Train Loss: 0.0902, Test Loss 0.3539, Train Acc: 0.5357, Test Acc: 0.4000\n",
      "Train Prec: 0.182, Train Rec: 0.061, Test Prec: 0.000, Test Rec: 0.000\n",
      "Epoch: 005, Train Loss: 0.0902, Test Loss 0.3515, Train Acc: 0.5595, Test Acc: 0.4000\n",
      "Train Prec: 0.485, Train Rec: 0.185, Test Prec: 0.000, Test Rec: 0.000\n",
      "Epoch: 006, Train Loss: 0.0900, Test Loss 0.3568, Train Acc: 0.5357, Test Acc: 0.4000\n",
      "Train Prec: 0.182, Train Rec: 0.043, Test Prec: 0.000, Test Rec: 0.000\n",
      "Epoch: 007, Train Loss: 0.0895, Test Loss 0.3544, Train Acc: 0.5833, Test Acc: 0.4000\n",
      "Train Prec: 0.530, Train Rec: 0.238, Test Prec: 0.000, Test Rec: 0.000\n",
      "Epoch: 008, Train Loss: 0.0885, Test Loss 0.3518, Train Acc: 0.5714, Test Acc: 0.5000\n",
      "Train Prec: 0.641, Train Rec: 0.341, Test Prec: 0.200, Test Rec: 0.200\n",
      "Epoch: 009, Train Loss: 0.0870, Test Loss 0.3531, Train Acc: 0.6429, Test Acc: 0.5000\n",
      "Train Prec: 0.841, Train Rec: 0.442, Test Prec: 0.200, Test Rec: 0.200\n",
      "Epoch: 010, Train Loss: 0.0854, Test Loss 0.3528, Train Acc: 0.5952, Test Acc: 0.5000\n",
      "Train Prec: 0.583, Train Rec: 0.394, Test Prec: 0.200, Test Rec: 0.100\n",
      "\n",
      "8\n",
      "Epoch: 000, Train Loss: 0.0897, Test Loss 0.3546, Train Acc: 0.5119, Test Acc: 0.4000\n",
      "Train Prec: 0.000, Train Rec: 0.000, Test Prec: 0.000, Test Rec: 0.000\n",
      "Epoch: 001, Train Loss: 0.0903, Test Loss 0.3449, Train Acc: 0.6429, Test Acc: 0.6000\n",
      "Train Prec: 0.635, Train Rec: 0.592, Test Prec: 0.600, Test Rec: 0.700\n",
      "Epoch: 002, Train Loss: 0.0899, Test Loss 0.3502, Train Acc: 0.5357, Test Acc: 0.4000\n",
      "Train Prec: 0.182, Train Rec: 0.048, Test Prec: 0.000, Test Rec: 0.000\n",
      "Epoch: 003, Train Loss: 0.0888, Test Loss 0.3458, Train Acc: 0.6071, Test Acc: 0.4000\n",
      "Train Prec: 0.545, Train Rec: 0.223, Test Prec: 0.000, Test Rec: 0.000\n",
      "Epoch: 004, Train Loss: 0.0884, Test Loss 0.3458, Train Acc: 0.7619, Test Acc: 0.5000\n",
      "Train Prec: 0.864, Train Rec: 0.641, Test Prec: 0.200, Test Rec: 0.200\n",
      "Epoch: 005, Train Loss: 0.0896, Test Loss 0.3827, Train Acc: 0.5238, Test Acc: 0.4000\n",
      "Train Prec: 0.091, Train Rec: 0.091, Test Prec: 0.000, Test Rec: 0.000\n",
      "Epoch: 006, Train Loss: 0.0892, Test Loss 0.3394, Train Acc: 0.5595, Test Acc: 0.7000\n",
      "Train Prec: 0.538, Train Rec: 0.977, Test Prec: 0.600, Test Rec: 0.800\n",
      "Epoch: 007, Train Loss: 0.0872, Test Loss 0.3465, Train Acc: 0.6310, Test Acc: 0.5000\n",
      "Train Prec: 0.618, Train Rec: 0.491, Test Prec: 0.200, Test Rec: 0.200\n",
      "Epoch: 008, Train Loss: 0.0838, Test Loss 0.3592, Train Acc: 0.6429, Test Acc: 0.5000\n",
      "Train Prec: 0.545, Train Rec: 0.289, Test Prec: 0.200, Test Rec: 0.200\n",
      "Epoch: 009, Train Loss: 0.0885, Test Loss 0.3911, Train Acc: 0.5595, Test Acc: 0.4000\n",
      "Train Prec: 0.318, Train Rec: 0.102, Test Prec: 0.000, Test Rec: 0.000\n",
      "Epoch: 010, Train Loss: 0.0814, Test Loss 0.3283, Train Acc: 0.7500, Test Acc: 0.7000\n",
      "Train Prec: 0.654, Train Rec: 0.962, Test Prec: 0.700, Test Rec: 0.700\n",
      "\n",
      "9\n",
      "Epoch: 000, Train Loss: 0.0892, Test Loss 0.3605, Train Acc: 0.5476, Test Acc: 0.4000\n",
      "Train Prec: 0.455, Train Rec: 0.135, Test Prec: 0.000, Test Rec: 0.000\n",
      "Epoch: 001, Train Loss: 0.0892, Test Loss 0.3629, Train Acc: 0.5119, Test Acc: 0.4000\n",
      "Train Prec: 0.091, Train Rec: 0.041, Test Prec: 0.000, Test Rec: 0.000\n",
      "Epoch: 002, Train Loss: 0.0894, Test Loss 0.3456, Train Acc: 0.5833, Test Acc: 0.5000\n",
      "Train Prec: 0.602, Train Rec: 0.748, Test Prec: 0.400, Test Rec: 0.300\n",
      "Epoch: 003, Train Loss: 0.0890, Test Loss 0.3612, Train Acc: 0.5357, Test Acc: 0.4000\n",
      "Train Prec: 0.273, Train Rec: 0.086, Test Prec: 0.000, Test Rec: 0.000\n",
      "Epoch: 004, Train Loss: 0.0883, Test Loss 0.3424, Train Acc: 0.6071, Test Acc: 0.6000\n",
      "Train Prec: 0.570, Train Rec: 0.744, Test Prec: 0.600, Test Rec: 0.700\n",
      "Epoch: 005, Train Loss: 0.0885, Test Loss 0.3443, Train Acc: 0.6429, Test Acc: 0.6000\n",
      "Train Prec: 0.590, Train Rec: 0.823, Test Prec: 0.400, Test Rec: 0.600\n",
      "Epoch: 006, Train Loss: 0.0886, Test Loss 0.3740, Train Acc: 0.5476, Test Acc: 0.4000\n",
      "Train Prec: 0.242, Train Rec: 0.070, Test Prec: 0.000, Test Rec: 0.000\n",
      "Epoch: 007, Train Loss: 0.0861, Test Loss 0.3417, Train Acc: 0.7024, Test Acc: 0.5000\n",
      "Train Prec: 0.680, Train Rec: 0.789, Test Prec: 0.400, Test Rec: 0.300\n",
      "Epoch: 008, Train Loss: 0.0858, Test Loss 0.3639, Train Acc: 0.6190, Test Acc: 0.5000\n",
      "Train Prec: 0.606, Train Rec: 0.312, Test Prec: 0.200, Test Rec: 0.200\n",
      "Epoch: 009, Train Loss: 0.0909, Test Loss 0.3127, Train Acc: 0.4881, Test Acc: 0.6000\n",
      "Train Prec: 0.477, Train Rec: 1.000, Test Prec: 0.600, Test Rec: 1.000\n",
      "Epoch: 010, Train Loss: 0.0854, Test Loss 0.3970, Train Acc: 0.6071, Test Acc: 0.4000\n",
      "Train Prec: 0.652, Train Rec: 0.238, Test Prec: 0.000, Test Rec: 0.000\n"
     ]
    }
   ],
   "source": [
    "from sklearn.model_selection import StratifiedKFold\n",
    "from tqdm import tqdm\n",
    "\n",
    "skf = StratifiedKFold(n_splits=10, shuffle=True)\n",
    "eval_metrics = np.zeros((skf.n_splits, 4))\n",
    "\n",
    "labels = [full_dataset[i].y for i in range(len(full_dataset))]\n",
    "\n",
    "for n_fold, (train_idx, test_idx) in tqdm(enumerate(skf.split(labels, labels))):\n",
    "    model = GCN(full_dataset.num_features, 2, channels=[256, 32, 32], dropout=0.1)\n",
    "    optimizer = torch.optim.Adam(model.parameters(), lr=0.001)\n",
    "    criterion = torch.nn.CrossEntropyLoss()\n",
    "\n",
    "    train_loader_ = DataLoader(full_dataset[list(train_idx)], batch_size=8, shuffle=True)\n",
    "    test_loader_ = DataLoader(full_dataset[list(test_idx)], batch_size=8, shuffle=True)\n",
    "    min_v_loss = np.inf\n",
    "    print()\n",
    "    print(n_fold)\n",
    "    pr, rc, acc = [], [], []\n",
    "    for epoch in range(11):\n",
    "        train_epoch(train_loader, model, criterion, optimizer)\n",
    "        train_loss, train_acc, train_pr, train_rc = eval_epoch(train_loader, model, criterion)\n",
    "        val_loss, test_acc, val_pr, val_rc = eval_epoch(val_loader, model, criterion)\n",
    "        print(f'Epoch: {epoch:03d}, Train Loss: {train_loss:.4f}, Test Loss {val_loss:.4f}, Train Acc: {train_acc:.4f}, Test Acc: {test_acc:.4f}')\n",
    "        print(f'Train Prec: {train_pr:.3f}, Train Rec: {train_rc:.3f}, Test Prec: {val_pr:.3f}, Test Rec: {val_rc:.3f}')\n",
    "        rc.append(val_rc)\n",
    "        pr.append(val_pr)\n",
    "        acc.append(test_acc)\n",
    "        if min_v_loss > val_loss:\n",
    "            min_v_loss = val_loss\n",
    "            best_test_acc = test_acc\n",
    "\n",
    "    eval_metrics[n_fold, 0] = np.mean(pr)\n",
    "    eval_metrics[n_fold, 1] = np.mean(rc)\n",
    "    eval_metrics[n_fold, 2] = np.mean(acc)\n",
    "    eval_metrics[n_fold, 3] = best_test_acc"
   ],
   "metadata": {
    "collapsed": false,
    "pycharm": {
     "name": "#%%\n"
    }
   }
  },
  {
   "cell_type": "code",
   "execution_count": 51,
   "outputs": [
    {
     "data": {
      "text/plain": "array([[0.19090909, 0.19090909, 0.48181818, 0.6       ],\n       [0.37272727, 0.42727273, 0.55454545, 0.6       ],\n       [0.26363636, 0.29090909, 0.5       , 0.6       ],\n       [0.07272727, 0.09090909, 0.42727273, 0.6       ],\n       [0.3       , 0.29090909, 0.52727273, 0.6       ],\n       [0.12727273, 0.12727273, 0.44545455, 0.6       ],\n       [0.05454545, 0.04545455, 0.41818182, 0.4       ],\n       [0.16363636, 0.19090909, 0.46363636, 0.6       ],\n       [0.22727273, 0.25454545, 0.5       , 0.7       ],\n       [0.23636364, 0.28181818, 0.48181818, 0.6       ]])"
     },
     "execution_count": 51,
     "metadata": {},
     "output_type": "execute_result"
    }
   ],
   "source": [
    "eval_metrics"
   ],
   "metadata": {
    "collapsed": false,
    "pycharm": {
     "name": "#%%\n"
    }
   }
  },
  {
   "cell_type": "code",
   "execution_count": null,
   "outputs": [],
   "source": [],
   "metadata": {
    "collapsed": false,
    "pycharm": {
     "name": "#%%\n"
    }
   }
  }
 ],
 "metadata": {
  "kernelspec": {
   "display_name": "Python 3",
   "language": "python",
   "name": "python3"
  },
  "language_info": {
   "codemirror_mode": {
    "name": "ipython",
    "version": 2
   },
   "file_extension": ".py",
   "mimetype": "text/x-python",
   "name": "python",
   "nbconvert_exporter": "python",
   "pygments_lexer": "ipython2",
   "version": "2.7.6"
  }
 },
 "nbformat": 4,
 "nbformat_minor": 0
}