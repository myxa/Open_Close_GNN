{
 "cells": [
  {
   "cell_type": "code",
   "execution_count": 1,
   "metadata": {},
   "outputs": [
    {
     "name": "stdout",
     "output_type": "stream",
     "text": [
      "Python 3.7.16 (default, Jan 17 2023, 16:06:28) [MSC v.1916 64 bit (AMD64)] on win32\n"
     ]
    }
   ],
   "source": [
    "import sys; print('Python %s on %s' % (sys.version, sys.platform))\n",
    "sys.path.extend(['C:\\\\Users\\\\user\\\\PycharmProjects\\\\Open_Close_GNN'])"
   ]
  },
  {
   "cell_type": "code",
   "execution_count": 2,
   "metadata": {
    "collapsed": true,
    "pycharm": {
     "is_executing": true
    }
   },
   "outputs": [],
   "source": [
    "from model.dataset import OpenCloseDataset\n",
    "from model.gnn_model import GCN, GATv2\n",
    "import os\n",
    "from model.utils import train, device, train_epoch, eval_epoch, cross_val\n",
    "import torch\n",
    "import numpy as np\n",
    "import matplotlib.pyplot as plt\n",
    "from torch.optim import lr_scheduler\n",
    "from torch_geometric.loader import DataLoader\n",
    "\n",
    "from seaborn import heatmap"
   ]
  },
  {
   "cell_type": "code",
   "execution_count": 4,
   "metadata": {
    "collapsed": false,
    "pycharm": {
     "is_executing": true
    }
   },
   "outputs": [
    {
     "data": {
      "text/plain": [
       "170"
      ]
     },
     "execution_count": 4,
     "metadata": {},
     "output_type": "execute_result"
    }
   ],
   "source": [
    "full_dataset = OpenCloseDataset(datafolder='../data/new', reload=False, k_degree=10).shuffle()\n",
    "len(os.listdir('../data/new/processed'))"
   ]
  },
  {
   "cell_type": "code",
   "execution_count": 31,
   "metadata": {},
   "outputs": [
    {
     "data": {
      "text/plain": [
       "Data(x=[418, 418], edge_index=[2, 6098], edge_attr=[6098], y=0)"
      ]
     },
     "execution_count": 31,
     "metadata": {},
     "output_type": "execute_result"
    }
   ],
   "source": [
    "full_dataset[0]"
   ]
  },
  {
   "cell_type": "code",
   "execution_count": 6,
   "metadata": {
    "collapsed": false
   },
   "outputs": [],
   "source": [
    "train_size = int(0.8 * len(full_dataset))\n",
    "train_dataset, val_dataset = full_dataset[:train_size], full_dataset[train_size:]\n",
    "val_dataset, test_dataset = val_dataset[:-15], val_dataset[-15:]\n",
    "\n",
    "# len train - 134\n",
    "# val - 19\n",
    "# test - 15"
   ]
  },
  {
   "cell_type": "code",
   "execution_count": 7,
   "metadata": {
    "collapsed": false
   },
   "outputs": [],
   "source": [
    "train_loader = DataLoader(train_dataset, batch_size=16, shuffle=True)\n",
    "val_loader = DataLoader(val_dataset, batch_size=len(val_dataset), shuffle=True)\n",
    "test_loader = DataLoader(test_dataset, batch_size=len(test_dataset))"
   ]
  },
  {
   "attachments": {},
   "cell_type": "markdown",
   "metadata": {},
   "source": [
    "## GCN"
   ]
  },
  {
   "cell_type": "code",
   "execution_count": 8,
   "metadata": {},
   "outputs": [],
   "source": [
    "import torch.nn as nn\n",
    "from torch_geometric.nn import global_mean_pool, GCNConv, GATv2Conv, BatchNorm\n",
    "\n",
    "class GCN(nn.Module):\n",
    "    def __init__(self, num_features, channels, dropout=.3):\n",
    "        super().__init__()\n",
    "        self.conv1 = GCNConv(int(num_features), channels[0])\n",
    "        self.bn1 = BatchNorm(channels[0])\n",
    "        self.conv2 = GCNConv(channels[0], channels[1])\n",
    "        self.dropout = nn.Dropout(dropout)\n",
    "        self.relu = nn.ReLU()\n",
    "        self.lin1 = nn.Linear(channels[1], 2)\n",
    "\n",
    "    def forward(self, data):\n",
    "        x, edge_index, edge_attr = data.x, data.edge_index, data.edge_attr\n",
    "        batch = data.batch\n",
    "        x = self.relu(self.conv1(x, edge_index, edge_attr))\n",
    "        x = self.bn1(x)\n",
    "        x = self.relu(self.conv2(x, edge_index, edge_attr))\n",
    "        x = self.dropout(x)\n",
    "        x = global_mean_pool(x, batch)\n",
    "        x = self.lin1(x)\n",
    "        return x"
   ]
  },
  {
   "cell_type": "code",
   "execution_count": 21,
   "metadata": {
    "collapsed": false
   },
   "outputs": [
    {
     "name": "stdout",
     "output_type": "stream",
     "text": [
      "Adjusting learning rate of group 0 to 1.0000e-03.\n"
     ]
    },
    {
     "data": {
      "text/plain": [
       "116066"
      ]
     },
     "execution_count": 21,
     "metadata": {},
     "output_type": "execute_result"
    }
   ],
   "source": [
    "model = GCN(full_dataset.num_features, channels=[256, 32], dropout=0.3).to(device())\n",
    "optimizer = torch.optim.Adam(model.parameters(), lr=0.001)\n",
    "loss = torch.nn.CrossEntropyLoss()\n",
    "epochs = 10\n",
    "scheduler = lr_scheduler.StepLR(optimizer, step_size=epochs//3, gamma=0.1, last_epoch=-1, verbose=True)\n",
    "sum(p.numel() for p in model.parameters())"
   ]
  },
  {
   "cell_type": "code",
   "execution_count": 22,
   "metadata": {
    "collapsed": false
   },
   "outputs": [
    {
     "data": {
      "application/vnd.jupyter.widget-view+json": {
       "model_id": "acfc3b1146cb4338a5a1209650eecaad",
       "version_major": 2,
       "version_minor": 0
      },
      "text/plain": [
       "  0%|          | 0/10 [00:00<?, ?it/s]"
      ]
     },
     "metadata": {},
     "output_type": "display_data"
    },
    {
     "name": "stdout",
     "output_type": "stream",
     "text": [
      "Epoch: 001, Train Loss: 0.0440, Test Loss 0.0357, Train Acc: 0.7986, Test Acc: 0.6316\n",
      "Test precision: 1.0000, Test recall: 0.2222\n",
      "Epoch: 002, Train Loss: 0.0390, Test Loss 0.0338, Train Acc: 0.9051, Test Acc: 0.6842\n",
      "Test precision: 1.0000, Test recall: 0.3333\n",
      "Epoch: 003, Train Loss: 0.0302, Test Loss 0.0310, Train Acc: 0.9792, Test Acc: 0.7895\n",
      "Test precision: 0.8571, Test recall: 0.6667\n",
      "Epoch: 004, Train Loss: 0.0203, Test Loss 0.0280, Train Acc: 0.9931, Test Acc: 0.7895\n",
      "Test precision: 0.8571, Test recall: 0.6667\n",
      "Epoch: 005, Train Loss: 0.0118, Test Loss 0.0256, Train Acc: 1.0000, Test Acc: 0.8947\n",
      "Test precision: 1.0000, Test recall: 0.7778\n",
      "Epoch: 006, Train Loss: 0.0063, Test Loss 0.0256, Train Acc: 1.0000, Test Acc: 0.7895\n",
      "Test precision: 1.0000, Test recall: 0.5556\n",
      "Epoch: 007, Train Loss: 0.0034, Test Loss 0.0266, Train Acc: 1.0000, Test Acc: 0.8421\n",
      "Test precision: 1.0000, Test recall: 0.6667\n",
      "Epoch: 008, Train Loss: 0.0020, Test Loss 0.0287, Train Acc: 1.0000, Test Acc: 0.8421\n",
      "Test precision: 1.0000, Test recall: 0.6667\n",
      "Epoch: 009, Train Loss: 0.0012, Test Loss 0.0305, Train Acc: 1.0000, Test Acc: 0.8421\n",
      "Test precision: 1.0000, Test recall: 0.6667\n",
      "Epoch: 010, Train Loss: 0.0008, Test Loss 0.0308, Train Acc: 1.0000, Test Acc: 0.8421\n",
      "Test precision: 1.0000, Test recall: 0.6667\n"
     ]
    }
   ],
   "source": [
    "history = train(model, epochs, train_loader, val_loader, loss, optimizer, scheduler=None)"
   ]
  },
  {
   "cell_type": "code",
   "execution_count": 23,
   "metadata": {
    "collapsed": false
   },
   "outputs": [
    {
     "data": {
      "image/png": "[encoded data removed]",
      "text/plain": [
       "<Figure size 640x480 with 1 Axes>"
      ]
     },
     "metadata": {},
     "output_type": "display_data"
    }
   ],
   "source": [
    "train_loss, val_loss, train_acc, test_acc = zip(*history)\n",
    "plt.plot(train_loss, label='train loss')\n",
    "plt.plot(val_loss, label='val loss')\n",
    "plt.legend();"
   ]
  },
  {
   "cell_type": "code",
   "execution_count": 24,
   "metadata": {},
   "outputs": [
    {
     "data": {
      "image/png": "[encoded data removed]",
      "text/plain": [
       "<Figure size 640x480 with 1 Axes>"
      ]
     },
     "metadata": {},
     "output_type": "display_data"
    }
   ],
   "source": [
    "plt.plot(train_acc, label='train acc')\n",
    "plt.plot(test_acc, label='val acc')\n",
    "plt.legend();"
   ]
  },
  {
   "cell_type": "code",
   "execution_count": 25,
   "metadata": {},
   "outputs": [
    {
     "data": {
      "text/plain": [
       "0.79473686"
      ]
     },
     "execution_count": 25,
     "metadata": {},
     "output_type": "execute_result"
    }
   ],
   "source": [
    "np.mean(test_acc)"
   ]
  },
  {
   "cell_type": "code",
   "execution_count": 26,
   "metadata": {},
   "outputs": [
    {
     "data": {
      "text/plain": [
       "(0.6665676551560561, 0.6666667, 0.33333334, 0.33333334)"
      ]
     },
     "execution_count": 26,
     "metadata": {},
     "output_type": "execute_result"
    }
   ],
   "source": [
    "test_loader = DataLoader(test_dataset)\n",
    "eval_epoch(test_loader, model, loss)\n",
    "# loss, acc, precision, recall"
   ]
  },
  {
   "attachments": {},
   "cell_type": "markdown",
   "metadata": {},
   "source": [
    "## GAT"
   ]
  },
  {
   "cell_type": "code",
   "execution_count": 84,
   "metadata": {
    "collapsed": false
   },
   "outputs": [
    {
     "data": {
      "text/plain": [
       "219698"
      ]
     },
     "execution_count": 84,
     "metadata": {},
     "output_type": "execute_result"
    }
   ],
   "source": [
    "model = GATv2(full_dataset.num_features, 128, 8, dropout=0.3).to(device())\n",
    "optimizer = torch.optim.Adam(model.parameters(), lr=0.0001)\n",
    "loss = torch.nn.CrossEntropyLoss()\n",
    "epochs = 30\n",
    "scheduler = lr_scheduler.StepLR(optimizer, step_size=epochs//3, gamma=0.1, last_epoch=-1, verbose=False)\n",
    "sum(p.numel() for p in model.parameters())"
   ]
  },
  {
   "cell_type": "code",
   "execution_count": 85,
   "metadata": {
    "collapsed": false
   },
   "outputs": [
    {
     "data": {
      "application/vnd.jupyter.widget-view+json": {
       "model_id": "a76b12dd4ba64fea9b2c89aea4493dde",
       "version_major": 2,
       "version_minor": 0
      },
      "text/plain": [
       "  0%|          | 0/30 [00:00<?, ?it/s]"
      ]
     },
     "metadata": {},
     "output_type": "display_data"
    },
    {
     "name": "stdout",
     "output_type": "stream",
     "text": [
      "Epoch: 001, Train Loss: 0.0858, Test Loss 0.1140, Train Acc: 0.5686, Test Acc: 0.4861\n",
      "Test precision: 0.4623, Test recall: 1.0000\n",
      "Epoch: 002, Train Loss: 0.0796, Test Loss 0.1117, Train Acc: 0.6716, Test Acc: 0.5556\n",
      "Test precision: 0.5258, Test recall: 1.0000\n",
      "Epoch: 003, Train Loss: 0.0712, Test Loss 0.1054, Train Acc: 0.7206, Test Acc: 0.5556\n",
      "Test precision: 0.5377, Test recall: 1.0000\n",
      "Epoch: 004, Train Loss: 0.0651, Test Loss 0.1214, Train Acc: 0.7696, Test Acc: 0.4861\n",
      "Test precision: 0.4683, Test recall: 1.0000\n",
      "Epoch: 005, Train Loss: 0.0594, Test Loss 0.0937, Train Acc: 0.8186, Test Acc: 0.6250\n",
      "Test precision: 0.6012, Test recall: 1.0000\n",
      "Epoch: 006, Train Loss: 0.0540, Test Loss 0.0935, Train Acc: 0.8603, Test Acc: 0.6389\n",
      "Test precision: 0.5794, Test recall: 1.0000\n",
      "Epoch: 007, Train Loss: 0.0489, Test Loss 0.0964, Train Acc: 0.8676, Test Acc: 0.7083\n",
      "Test precision: 0.6429, Test recall: 1.0000\n",
      "Epoch: 008, Train Loss: 0.0444, Test Loss 0.0939, Train Acc: 0.8897, Test Acc: 0.6806\n",
      "Test precision: 0.6111, Test recall: 1.0000\n",
      "Epoch: 009, Train Loss: 0.0401, Test Loss 0.0886, Train Acc: 0.9118, Test Acc: 0.6806\n",
      "Test precision: 0.6317, Test recall: 1.0000\n",
      "Epoch: 010, Train Loss: 0.0367, Test Loss 0.0824, Train Acc: 0.9461, Test Acc: 0.7639\n",
      "Test precision: 0.7083, Test recall: 1.0000\n",
      "Epoch: 011, Train Loss: 0.0324, Test Loss 0.0796, Train Acc: 0.9485, Test Acc: 0.8333\n",
      "Test precision: 0.7714, Test recall: 1.0000\n",
      "Epoch: 012, Train Loss: 0.0294, Test Loss 0.0979, Train Acc: 0.9706, Test Acc: 0.7639\n",
      "Test precision: 0.6389, Test recall: 1.0000\n",
      "Epoch: 013, Train Loss: 0.0263, Test Loss 0.0871, Train Acc: 0.9632, Test Acc: 0.6528\n",
      "Test precision: 0.4667, Test recall: 0.6667\n",
      "Epoch: 014, Train Loss: 0.0231, Test Loss 0.0928, Train Acc: 0.9779, Test Acc: 0.7639\n",
      "Test precision: 0.6444, Test recall: 1.0000\n",
      "Epoch: 015, Train Loss: 0.0206, Test Loss 0.0952, Train Acc: 0.9779, Test Acc: 0.7222\n",
      "Test precision: 0.6333, Test recall: 0.9167\n",
      "Epoch: 016, Train Loss: 0.0187, Test Loss 0.0989, Train Acc: 0.9779, Test Acc: 0.7639\n",
      "Test precision: 0.5333, Test recall: 0.6111\n",
      "Epoch: 017, Train Loss: 0.0171, Test Loss 0.0807, Train Acc: 0.9755, Test Acc: 0.7639\n",
      "Test precision: 0.5278, Test recall: 0.6111\n",
      "Epoch: 018, Train Loss: 0.0148, Test Loss 0.0959, Train Acc: 0.9853, Test Acc: 0.6944\n",
      "Test precision: 0.7000, Test recall: 0.8333\n",
      "Epoch: 019, Train Loss: 0.0131, Test Loss 0.0939, Train Acc: 1.0000, Test Acc: 0.7639\n",
      "Test precision: 0.7111, Test recall: 0.8889\n",
      "Epoch: 020, Train Loss: 0.0121, Test Loss 0.0671, Train Acc: 1.0000, Test Acc: 0.8333\n",
      "Test precision: 0.7111, Test recall: 0.8333\n",
      "Epoch: 021, Train Loss: 0.0105, Test Loss 0.0702, Train Acc: 1.0000, Test Acc: 0.8333\n",
      "Test precision: 0.8000, Test recall: 0.9333\n",
      "Epoch: 022, Train Loss: 0.0096, Test Loss 0.0700, Train Acc: 1.0000, Test Acc: 0.8333\n",
      "Test precision: 0.7833, Test recall: 0.9167\n",
      "Epoch: 023, Train Loss: 0.0084, Test Loss 0.0797, Train Acc: 1.0000, Test Acc: 0.7639\n",
      "Test precision: 0.4778, Test recall: 0.6667\n",
      "Epoch: 024, Train Loss: 0.0077, Test Loss 0.0762, Train Acc: 1.0000, Test Acc: 0.7639\n",
      "Test precision: 0.5000, Test recall: 0.6667\n",
      "Epoch: 025, Train Loss: 0.0068, Test Loss 0.0647, Train Acc: 1.0000, Test Acc: 0.8333\n",
      "Test precision: 0.7778, Test recall: 0.9444\n",
      "Epoch: 026, Train Loss: 0.0062, Test Loss 0.0803, Train Acc: 1.0000, Test Acc: 0.7639\n",
      "Test precision: 0.7778, Test recall: 0.8333\n",
      "Epoch: 027, Train Loss: 0.0055, Test Loss 0.0724, Train Acc: 1.0000, Test Acc: 0.8333\n",
      "Test precision: 0.8056, Test recall: 0.9333\n",
      "Epoch: 028, Train Loss: 0.0049, Test Loss 0.0743, Train Acc: 1.0000, Test Acc: 0.8333\n",
      "Test precision: 0.8056, Test recall: 0.9167\n",
      "Epoch: 029, Train Loss: 0.0046, Test Loss 0.0808, Train Acc: 1.0000, Test Acc: 0.8333\n",
      "Test precision: 0.8333, Test recall: 0.9333\n",
      "Epoch: 030, Train Loss: 0.0041, Test Loss 0.0766, Train Acc: 1.0000, Test Acc: 0.8333\n",
      "Test precision: 0.7833, Test recall: 0.9167\n"
     ]
    }
   ],
   "source": [
    "history = train(model, epochs, train_loader, val_loader, loss, optimizer, scheduler=None)"
   ]
  },
  {
   "cell_type": "code",
   "execution_count": 86,
   "metadata": {},
   "outputs": [
    {
     "data": {
      "text/plain": [
       "(0.25161364951999304, 0.8666667, 0.26666668, 0.26666668)"
      ]
     },
     "execution_count": 86,
     "metadata": {},
     "output_type": "execute_result"
    }
   ],
   "source": [
    "eval_epoch(test_loader, model, loss)\n",
    "# loss, acc, precision, recall"
   ]
  },
  {
   "cell_type": "code",
   "execution_count": 87,
   "metadata": {},
   "outputs": [
    {
     "data": {
      "image/png": "[encoded data removed]",
      "text/plain": [
       "<Figure size 640x480 with 1 Axes>"
      ]
     },
     "metadata": {},
     "output_type": "display_data"
    }
   ],
   "source": [
    "train_loss, val_loss, train_acc, test_acc = zip(*history)\n",
    "plt.plot(train_loss, label='train loss')\n",
    "plt.plot(val_loss, label='val loss')\n",
    "plt.legend();"
   ]
  },
  {
   "cell_type": "code",
   "execution_count": 88,
   "metadata": {},
   "outputs": [
    {
     "data": {
      "image/png": "[encoded data removed]",
      "text/plain": [
       "<Figure size 640x480 with 1 Axes>"
      ]
     },
     "metadata": {},
     "output_type": "display_data"
    }
   ],
   "source": [
    "plt.plot(train_acc, label='train acc')\n",
    "plt.plot(test_acc, label='val acc')\n",
    "plt.legend();"
   ]
  },
  {
   "cell_type": "code",
   "execution_count": 65,
   "metadata": {},
   "outputs": [
    {
     "data": {
      "text/plain": [
       "0.76620376"
      ]
     },
     "execution_count": 65,
     "metadata": {},
     "output_type": "execute_result"
    }
   ],
   "source": [
    "np.mean(test_acc)"
   ]
  },
  {
   "cell_type": "code",
   "execution_count": 22,
   "metadata": {
    "collapsed": false
   },
   "outputs": [],
   "source": [
    "torch.save(model.state_dict(), '../weights/gat_2heads_128_8_knn10_crossval.pt')"
   ]
  },
  {
   "attachments": {},
   "cell_type": "markdown",
   "metadata": {},
   "source": [
    "## Cross-validation"
   ]
  },
  {
   "cell_type": "code",
   "execution_count": 71,
   "metadata": {
    "collapsed": false
   },
   "outputs": [
    {
     "data": {
      "application/vnd.jupyter.widget-view+json": {
       "model_id": "30afd2578baf4faba5bc58c34170f39b",
       "version_major": 2,
       "version_minor": 0
      },
      "text/plain": [
       "0it [00:00, ?it/s]"
      ]
     },
     "metadata": {},
     "output_type": "display_data"
    },
    {
     "name": "stdout",
     "output_type": "stream",
     "text": [
      "0\n",
      "Epoch: 000, Train Loss: 0.0806, Test Loss 0.0879, Train Acc: 0.8482, Test Acc: 0.6964\n",
      "Epoch: 001, Train Loss: 0.0637, Test Loss 0.0830, Train Acc: 0.9643, Test Acc: 0.5714\n",
      "Epoch: 002, Train Loss: 0.0406, Test Loss 0.0759, Train Acc: 0.9809, Test Acc: 0.6488\n",
      "Epoch: 003, Train Loss: 0.0219, Test Loss 0.0730, Train Acc: 1.0000, Test Acc: 0.6190\n",
      "Epoch: 004, Train Loss: 0.0113, Test Loss 0.0671, Train Acc: 1.0000, Test Acc: 0.6548\n",
      "Epoch: 005, Train Loss: 0.0062, Test Loss 0.0630, Train Acc: 1.0000, Test Acc: 0.7024\n",
      "Epoch: 006, Train Loss: 0.0036, Test Loss 0.0708, Train Acc: 1.0000, Test Acc: 0.6905\n",
      "Epoch: 007, Train Loss: 0.0022, Test Loss 0.0642, Train Acc: 1.0000, Test Acc: 0.6964\n",
      "Epoch: 008, Train Loss: 0.0014, Test Loss 0.0653, Train Acc: 1.0000, Test Acc: 0.6964\n",
      "Epoch: 009, Train Loss: 0.0010, Test Loss 0.0715, Train Acc: 1.0000, Test Acc: 0.6964\n",
      "Epoch: 010, Train Loss: 0.0008, Test Loss 0.0689, Train Acc: 1.0000, Test Acc: 0.7440\n",
      "Epoch: 011, Train Loss: 0.0006, Test Loss 0.0714, Train Acc: 1.0000, Test Acc: 0.7321\n",
      "Epoch: 012, Train Loss: 0.0004, Test Loss 0.0680, Train Acc: 1.0000, Test Acc: 0.7500\n",
      "Epoch: 013, Train Loss: 0.0006, Test Loss 0.0722, Train Acc: 1.0000, Test Acc: 0.7381\n",
      "Epoch: 014, Train Loss: 0.0003, Test Loss 0.0764, Train Acc: 1.0000, Test Acc: 0.6905\n",
      "Epoch: 015, Train Loss: 0.0002, Test Loss 0.0711, Train Acc: 1.0000, Test Acc: 0.7321\n",
      "Epoch: 016, Train Loss: 0.0002, Test Loss 0.0655, Train Acc: 1.0000, Test Acc: 0.6964\n",
      "Epoch: 017, Train Loss: 0.0001, Test Loss 0.0681, Train Acc: 1.0000, Test Acc: 0.6964\n",
      "Epoch: 018, Train Loss: 0.0001, Test Loss 0.0724, Train Acc: 1.0000, Test Acc: 0.6548\n",
      "Epoch: 019, Train Loss: 0.0001, Test Loss 0.0770, Train Acc: 1.0000, Test Acc: 0.6964\n",
      "1\n",
      "Epoch: 000, Train Loss: 0.0810, Test Loss 0.0894, Train Acc: 0.8125, Test Acc: 0.5357\n",
      "Epoch: 001, Train Loss: 0.0644, Test Loss 0.0855, Train Acc: 0.9821, Test Acc: 0.6250\n",
      "Epoch: 002, Train Loss: 0.0388, Test Loss 0.0822, Train Acc: 0.9911, Test Acc: 0.5238\n",
      "Epoch: 003, Train Loss: 0.0196, Test Loss 0.0869, Train Acc: 1.0000, Test Acc: 0.5952\n",
      "Epoch: 004, Train Loss: 0.0104, Test Loss 0.0908, Train Acc: 1.0000, Test Acc: 0.5655\n",
      "Epoch: 005, Train Loss: 0.0057, Test Loss 0.0876, Train Acc: 1.0000, Test Acc: 0.6071\n",
      "Epoch: 006, Train Loss: 0.0031, Test Loss 0.0986, Train Acc: 1.0000, Test Acc: 0.6548\n",
      "Epoch: 007, Train Loss: 0.0020, Test Loss 0.1072, Train Acc: 1.0000, Test Acc: 0.6488\n",
      "Epoch: 008, Train Loss: 0.0013, Test Loss 0.1134, Train Acc: 1.0000, Test Acc: 0.6429\n",
      "Epoch: 009, Train Loss: 0.0009, Test Loss 0.1211, Train Acc: 1.0000, Test Acc: 0.6429\n",
      "Epoch: 010, Train Loss: 0.0008, Test Loss 0.1277, Train Acc: 1.0000, Test Acc: 0.6131\n",
      "Epoch: 011, Train Loss: 0.0005, Test Loss 0.1165, Train Acc: 1.0000, Test Acc: 0.6131\n",
      "Epoch: 012, Train Loss: 0.0004, Test Loss 0.1047, Train Acc: 1.0000, Test Acc: 0.6190\n",
      "Epoch: 013, Train Loss: 0.0003, Test Loss 0.1197, Train Acc: 1.0000, Test Acc: 0.6071\n",
      "Epoch: 014, Train Loss: 0.0003, Test Loss 0.1150, Train Acc: 1.0000, Test Acc: 0.6190\n",
      "Epoch: 015, Train Loss: 0.0003, Test Loss 0.1248, Train Acc: 1.0000, Test Acc: 0.6071\n",
      "Epoch: 016, Train Loss: 0.0002, Test Loss 0.1548, Train Acc: 1.0000, Test Acc: 0.5774\n",
      "Epoch: 017, Train Loss: 0.0002, Test Loss 0.1685, Train Acc: 1.0000, Test Acc: 0.5536\n",
      "Epoch: 018, Train Loss: 0.0001, Test Loss 0.1572, Train Acc: 1.0000, Test Acc: 0.5655\n",
      "Epoch: 019, Train Loss: 0.0001, Test Loss 0.1558, Train Acc: 1.0000, Test Acc: 0.6071\n",
      "2\n",
      "Epoch: 000, Train Loss: 0.0808, Test Loss 0.0920, Train Acc: 0.7143, Test Acc: 0.5972\n",
      "Epoch: 001, Train Loss: 0.0654, Test Loss 0.0858, Train Acc: 0.9821, Test Acc: 0.6667\n",
      "Epoch: 002, Train Loss: 0.0414, Test Loss 0.0747, Train Acc: 1.0000, Test Acc: 0.7083\n",
      "Epoch: 003, Train Loss: 0.0225, Test Loss 0.0667, Train Acc: 1.0000, Test Acc: 0.8750\n",
      "Epoch: 004, Train Loss: 0.0120, Test Loss 0.0661, Train Acc: 1.0000, Test Acc: 0.8194\n",
      "Epoch: 005, Train Loss: 0.0064, Test Loss 0.0649, Train Acc: 1.0000, Test Acc: 0.7778\n",
      "Epoch: 006, Train Loss: 0.0038, Test Loss 0.0667, Train Acc: 1.0000, Test Acc: 0.6944\n",
      "Epoch: 007, Train Loss: 0.0022, Test Loss 0.0620, Train Acc: 1.0000, Test Acc: 0.7778\n",
      "Epoch: 008, Train Loss: 0.0014, Test Loss 0.0633, Train Acc: 1.0000, Test Acc: 0.7361\n",
      "Epoch: 009, Train Loss: 0.0009, Test Loss 0.0640, Train Acc: 1.0000, Test Acc: 0.7500\n",
      "Epoch: 010, Train Loss: 0.0007, Test Loss 0.0709, Train Acc: 1.0000, Test Acc: 0.7361\n",
      "Epoch: 011, Train Loss: 0.0005, Test Loss 0.0733, Train Acc: 1.0000, Test Acc: 0.7222\n",
      "Epoch: 012, Train Loss: 0.0004, Test Loss 0.0720, Train Acc: 1.0000, Test Acc: 0.7639\n",
      "Epoch: 013, Train Loss: 0.0003, Test Loss 0.0687, Train Acc: 1.0000, Test Acc: 0.7778\n",
      "Epoch: 014, Train Loss: 0.0003, Test Loss 0.0676, Train Acc: 1.0000, Test Acc: 0.7778\n",
      "Epoch: 015, Train Loss: 0.0002, Test Loss 0.0757, Train Acc: 1.0000, Test Acc: 0.7639\n",
      "Epoch: 016, Train Loss: 0.0002, Test Loss 0.0735, Train Acc: 1.0000, Test Acc: 0.7361\n",
      "Epoch: 017, Train Loss: 0.0002, Test Loss 0.0835, Train Acc: 1.0000, Test Acc: 0.6944\n",
      "Epoch: 018, Train Loss: 0.0001, Test Loss 0.0760, Train Acc: 1.0000, Test Acc: 0.7500\n",
      "Epoch: 019, Train Loss: 0.0001, Test Loss 0.0688, Train Acc: 1.0000, Test Acc: 0.7778\n",
      "3\n",
      "Epoch: 000, Train Loss: 0.0810, Test Loss 0.0934, Train Acc: 0.5804, Test Acc: 0.5278\n",
      "Epoch: 001, Train Loss: 0.0648, Test Loss 0.0886, Train Acc: 0.9107, Test Acc: 0.6111\n",
      "Epoch: 002, Train Loss: 0.0416, Test Loss 0.0807, Train Acc: 0.9911, Test Acc: 0.7222\n",
      "Epoch: 003, Train Loss: 0.0224, Test Loss 0.0724, Train Acc: 1.0000, Test Acc: 0.7917\n",
      "Epoch: 004, Train Loss: 0.0120, Test Loss 0.0689, Train Acc: 1.0000, Test Acc: 0.7361\n",
      "Epoch: 005, Train Loss: 0.0075, Test Loss 0.0772, Train Acc: 1.0000, Test Acc: 0.7222\n",
      "Epoch: 006, Train Loss: 0.0046, Test Loss 0.0716, Train Acc: 1.0000, Test Acc: 0.7222\n",
      "Epoch: 007, Train Loss: 0.0029, Test Loss 0.0700, Train Acc: 1.0000, Test Acc: 0.7778\n",
      "Epoch: 008, Train Loss: 0.0019, Test Loss 0.0776, Train Acc: 1.0000, Test Acc: 0.7778\n",
      "Epoch: 009, Train Loss: 0.0012, Test Loss 0.0816, Train Acc: 1.0000, Test Acc: 0.7361\n",
      "Epoch: 010, Train Loss: 0.0009, Test Loss 0.0787, Train Acc: 1.0000, Test Acc: 0.7361\n",
      "Epoch: 011, Train Loss: 0.0007, Test Loss 0.0848, Train Acc: 1.0000, Test Acc: 0.6806\n",
      "Epoch: 012, Train Loss: 0.0005, Test Loss 0.0869, Train Acc: 1.0000, Test Acc: 0.7361\n",
      "Epoch: 013, Train Loss: 0.0004, Test Loss 0.0834, Train Acc: 1.0000, Test Acc: 0.7083\n",
      "Epoch: 014, Train Loss: 0.0003, Test Loss 0.0840, Train Acc: 1.0000, Test Acc: 0.6944\n",
      "Epoch: 015, Train Loss: 0.0003, Test Loss 0.0858, Train Acc: 1.0000, Test Acc: 0.7361\n",
      "Epoch: 016, Train Loss: 0.0002, Test Loss 0.0934, Train Acc: 1.0000, Test Acc: 0.6806\n",
      "Epoch: 017, Train Loss: 0.0002, Test Loss 0.1018, Train Acc: 1.0000, Test Acc: 0.6667\n",
      "Epoch: 018, Train Loss: 0.0002, Test Loss 0.0917, Train Acc: 1.0000, Test Acc: 0.7500\n",
      "Epoch: 019, Train Loss: 0.0002, Test Loss 0.0975, Train Acc: 1.0000, Test Acc: 0.7361\n",
      "4\n",
      "Epoch: 000, Train Loss: 0.0816, Test Loss 0.0939, Train Acc: 0.7679, Test Acc: 0.5417\n",
      "Epoch: 001, Train Loss: 0.0673, Test Loss 0.0884, Train Acc: 0.9554, Test Acc: 0.8333\n",
      "Epoch: 002, Train Loss: 0.0444, Test Loss 0.0785, Train Acc: 0.9911, Test Acc: 0.8194\n",
      "Epoch: 003, Train Loss: 0.0241, Test Loss 0.0711, Train Acc: 1.0000, Test Acc: 0.7222\n",
      "Epoch: 004, Train Loss: 0.0125, Test Loss 0.0665, Train Acc: 1.0000, Test Acc: 0.7778\n",
      "Epoch: 005, Train Loss: 0.0065, Test Loss 0.0647, Train Acc: 1.0000, Test Acc: 0.8194\n",
      "Epoch: 006, Train Loss: 0.0036, Test Loss 0.0616, Train Acc: 1.0000, Test Acc: 0.7361\n",
      "Epoch: 007, Train Loss: 0.0020, Test Loss 0.0659, Train Acc: 1.0000, Test Acc: 0.7639\n",
      "Epoch: 008, Train Loss: 0.0014, Test Loss 0.0678, Train Acc: 1.0000, Test Acc: 0.7222\n",
      "Epoch: 009, Train Loss: 0.0010, Test Loss 0.0698, Train Acc: 1.0000, Test Acc: 0.7222\n",
      "Epoch: 010, Train Loss: 0.0007, Test Loss 0.0679, Train Acc: 1.0000, Test Acc: 0.6806\n",
      "Epoch: 011, Train Loss: 0.0005, Test Loss 0.0648, Train Acc: 1.0000, Test Acc: 0.7361\n",
      "Epoch: 012, Train Loss: 0.0004, Test Loss 0.0652, Train Acc: 1.0000, Test Acc: 0.7917\n",
      "Epoch: 013, Train Loss: 0.0003, Test Loss 0.0607, Train Acc: 1.0000, Test Acc: 0.7500\n",
      "Epoch: 014, Train Loss: 0.0003, Test Loss 0.0651, Train Acc: 1.0000, Test Acc: 0.6806\n",
      "Epoch: 015, Train Loss: 0.0002, Test Loss 0.0704, Train Acc: 1.0000, Test Acc: 0.7500\n",
      "Epoch: 016, Train Loss: 0.0002, Test Loss 0.0633, Train Acc: 1.0000, Test Acc: 0.7778\n",
      "Epoch: 017, Train Loss: 0.0001, Test Loss 0.0653, Train Acc: 1.0000, Test Acc: 0.7639\n",
      "Epoch: 018, Train Loss: 0.0001, Test Loss 0.0645, Train Acc: 1.0000, Test Acc: 0.8194\n",
      "Epoch: 019, Train Loss: 0.0001, Test Loss 0.0646, Train Acc: 1.0000, Test Acc: 0.7778\n",
      "5\n",
      "Epoch: 000, Train Loss: 0.0800, Test Loss 0.0938, Train Acc: 0.8661, Test Acc: 0.6389\n",
      "Epoch: 001, Train Loss: 0.0636, Test Loss 0.0900, Train Acc: 0.9554, Test Acc: 0.6111\n",
      "Epoch: 002, Train Loss: 0.0400, Test Loss 0.0868, Train Acc: 0.9911, Test Acc: 0.6944\n",
      "Epoch: 003, Train Loss: 0.0212, Test Loss 0.0808, Train Acc: 1.0000, Test Acc: 0.6389\n",
      "Epoch: 004, Train Loss: 0.0107, Test Loss 0.0818, Train Acc: 1.0000, Test Acc: 0.6389\n",
      "Epoch: 005, Train Loss: 0.0056, Test Loss 0.0881, Train Acc: 1.0000, Test Acc: 0.5833\n",
      "Epoch: 006, Train Loss: 0.0031, Test Loss 0.0932, Train Acc: 1.0000, Test Acc: 0.5556\n",
      "Epoch: 007, Train Loss: 0.0019, Test Loss 0.0885, Train Acc: 1.0000, Test Acc: 0.6528\n",
      "Epoch: 008, Train Loss: 0.0011, Test Loss 0.0953, Train Acc: 1.0000, Test Acc: 0.6250\n",
      "Epoch: 009, Train Loss: 0.0008, Test Loss 0.1033, Train Acc: 1.0000, Test Acc: 0.5278\n",
      "Epoch: 010, Train Loss: 0.0005, Test Loss 0.1049, Train Acc: 1.0000, Test Acc: 0.6389\n",
      "Epoch: 011, Train Loss: 0.0004, Test Loss 0.1144, Train Acc: 1.0000, Test Acc: 0.6111\n",
      "Epoch: 012, Train Loss: 0.0003, Test Loss 0.1014, Train Acc: 1.0000, Test Acc: 0.5556\n",
      "Epoch: 013, Train Loss: 0.0002, Test Loss 0.1044, Train Acc: 1.0000, Test Acc: 0.6944\n",
      "Epoch: 014, Train Loss: 0.0004, Test Loss 0.1046, Train Acc: 1.0000, Test Acc: 0.5833\n",
      "Epoch: 015, Train Loss: 0.0002, Test Loss 0.1070, Train Acc: 1.0000, Test Acc: 0.6250\n",
      "Epoch: 016, Train Loss: 0.0001, Test Loss 0.1108, Train Acc: 1.0000, Test Acc: 0.6806\n",
      "Epoch: 017, Train Loss: 0.0001, Test Loss 0.1121, Train Acc: 1.0000, Test Acc: 0.5694\n",
      "Epoch: 018, Train Loss: 0.0001, Test Loss 0.1103, Train Acc: 1.0000, Test Acc: 0.5556\n",
      "Epoch: 019, Train Loss: 0.0001, Test Loss 0.1068, Train Acc: 1.0000, Test Acc: 0.6111\n"
     ]
    }
   ],
   "source": [
    "# GCN\n",
    "\n",
    "from sklearn.model_selection import StratifiedKFold\n",
    "from tqdm.notebook import tqdm\n",
    "\n",
    "skf = StratifiedKFold(n_splits=6, shuffle=True)\n",
    "eval_metrics = np.zeros((skf.n_splits, 3))\n",
    "crossval_dataset = train_dataset #+ val_dataset\n",
    "\n",
    "labels = [crossval_dataset[i].y for i in range(len(crossval_dataset))]\n",
    "\n",
    "\n",
    "for n_fold, (train_idx, test_idx) in tqdm(enumerate(skf.split(labels, labels))):\n",
    "    model = GCN(crossval_dataset.num_features, channels=[256, 32], dropout=0.3).to(device())\n",
    "    optimizer = torch.optim.Adam(model.parameters(), lr=0.001)\n",
    "    criterion = torch.nn.CrossEntropyLoss()\n",
    "    scheduler = lr_scheduler.StepLR(optimizer, step_size=30//3, gamma=0.1, last_epoch=-1, verbose=False)\n",
    "\n",
    "    train_loader_ = DataLoader(crossval_dataset[list(train_idx)], batch_size=8, shuffle=True)\n",
    "    test_loader_ = DataLoader(crossval_dataset[list(test_idx)], batch_size=8, shuffle=True)\n",
    "    min_v_loss = np.inf\n",
    "    print(n_fold)\n",
    "    pr, rc, acc = [], [], []\n",
    "    for epoch in range(20):\n",
    "        train_epoch(train_loader_, model, criterion, optimizer)\n",
    "        train_loss, train_acc, _, _ = eval_epoch(train_loader_, model, criterion)\n",
    "        val_loss, test_acc, _, _ = eval_epoch(test_loader_, model, criterion)\n",
    "        #scheduler.step()\n",
    "        print(f'Epoch: {epoch:03d}, Train Loss: {train_loss:.4f}, Test Loss {val_loss:.4f}, Train Acc: {train_acc:.4f}, Test Acc: {test_acc:.4f}')\n",
    "        #print(f'Train Prec: {train_pr:.3f}, Train Rec: {train_rc:.3f}, Test Prec: {val_pr:.3f}, Test Rec: {val_rc:.3f}')\n",
    "        #rc.append(val_rc)\n",
    "        #pr.append(val_pr)\n",
    "        acc.append(test_acc)\n",
    "        if min_v_loss > val_loss:\n",
    "            min_v_loss = val_loss\n",
    "            best_test_acc = test_acc\n",
    "\n",
    "    eval_metrics[n_fold, 0] = best_test_acc\n",
    "    eval_metrics[n_fold, 1] = np.mean(acc)\n",
    "    eval_metrics[n_fold, 2] = np.std(acc)\n",
    "### eval_metrics[n_fold, 3] ="
   ]
  },
  {
   "cell_type": "code",
   "execution_count": 72,
   "metadata": {},
   "outputs": [
    {
     "data": {
      "text/plain": [
       "(0.7578488029335858, 0.6666667, 0.4, 0.4)"
      ]
     },
     "execution_count": 72,
     "metadata": {},
     "output_type": "execute_result"
    }
   ],
   "source": [
    "eval_epoch(test_loader, model, loss)"
   ]
  },
  {
   "cell_type": "code",
   "execution_count": 36,
   "metadata": {
    "collapsed": false
   },
   "outputs": [
    {
     "data": {
      "text/plain": [
       "array([[0.64285713, 0.61398804, 0.06108881],\n",
       "       [0.91666669, 0.80565482, 0.14652142],\n",
       "       [0.72222227, 0.69999993, 0.07275445],\n",
       "       [0.625     , 0.64027774, 0.06068347],\n",
       "       [0.7638889 , 0.72847223, 0.09249154],\n",
       "       [0.6388889 , 0.58541662, 0.06074304]])"
      ]
     },
     "execution_count": 36,
     "metadata": {},
     "output_type": "execute_result"
    }
   ],
   "source": [
    "eval_metrics\n",
    "# acc during minimal loss, mean acc, std"
   ]
  },
  {
   "cell_type": "code",
   "execution_count": 73,
   "metadata": {
    "collapsed": false
   },
   "outputs": [
    {
     "data": {
      "text/plain": [
       "(0.685482790072759, 0.05847524153388064)"
      ]
     },
     "execution_count": 73,
     "metadata": {},
     "output_type": "execute_result"
    }
   ],
   "source": [
    "# mean acc across all folds \n",
    "np.mean(eval_metrics[:, 1]), np.std(eval_metrics[:, 1])"
   ]
  },
  {
   "cell_type": "code",
   "execution_count": 38,
   "metadata": {
    "collapsed": false
   },
   "outputs": [
    {
     "data": {
      "application/vnd.jupyter.widget-view+json": {
       "model_id": "e7fe32d706e1412d85a14e99f360cbb6",
       "version_major": 2,
       "version_minor": 0
      },
      "text/plain": [
       "0it [00:00, ?it/s]"
      ]
     },
     "metadata": {},
     "output_type": "display_data"
    },
    {
     "name": "stdout",
     "output_type": "stream",
     "text": [
      "0\n",
      "Epoch: 000, Train Loss: 0.0821, Test Loss 0.0891, Train Acc: 0.7092, Test Acc: 0.6548\n",
      "Epoch: 001, Train Loss: 0.0528, Test Loss 0.0777, Train Acc: 0.9094, Test Acc: 0.7024\n",
      "Epoch: 002, Train Loss: 0.0227, Test Loss 0.0716, Train Acc: 0.9643, Test Acc: 0.7857\n",
      "Epoch: 003, Train Loss: 0.0094, Test Loss 0.0710, Train Acc: 0.9911, Test Acc: 0.6488\n",
      "Epoch: 004, Train Loss: 0.0043, Test Loss 0.0774, Train Acc: 1.0000, Test Acc: 0.6964\n",
      "Epoch: 005, Train Loss: 0.0020, Test Loss 0.0774, Train Acc: 1.0000, Test Acc: 0.6905\n",
      "Epoch: 006, Train Loss: 0.0011, Test Loss 0.0833, Train Acc: 1.0000, Test Acc: 0.6964\n",
      "Epoch: 007, Train Loss: 0.0008, Test Loss 0.0872, Train Acc: 1.0000, Test Acc: 0.7500\n",
      "Epoch: 008, Train Loss: 0.0005, Test Loss 0.0853, Train Acc: 1.0000, Test Acc: 0.7381\n",
      "Epoch: 009, Train Loss: 0.0004, Test Loss 0.0889, Train Acc: 1.0000, Test Acc: 0.6964\n",
      "Epoch: 010, Train Loss: 0.0003, Test Loss 0.0902, Train Acc: 1.0000, Test Acc: 0.7321\n",
      "Epoch: 011, Train Loss: 0.0002, Test Loss 0.0930, Train Acc: 1.0000, Test Acc: 0.7381\n",
      "Epoch: 012, Train Loss: 0.0002, Test Loss 0.0944, Train Acc: 1.0000, Test Acc: 0.7381\n",
      "Epoch: 013, Train Loss: 0.0002, Test Loss 0.0903, Train Acc: 1.0000, Test Acc: 0.7500\n",
      "Epoch: 014, Train Loss: 0.0001, Test Loss 0.0948, Train Acc: 1.0000, Test Acc: 0.7321\n",
      "Epoch: 015, Train Loss: 0.0001, Test Loss 0.0921, Train Acc: 1.0000, Test Acc: 0.7500\n",
      "Epoch: 016, Train Loss: 0.0001, Test Loss 0.1003, Train Acc: 1.0000, Test Acc: 0.7798\n",
      "Epoch: 017, Train Loss: 0.0001, Test Loss 0.0985, Train Acc: 1.0000, Test Acc: 0.7798\n",
      "Epoch: 018, Train Loss: 0.0001, Test Loss 0.0966, Train Acc: 1.0000, Test Acc: 0.7440\n",
      "Epoch: 019, Train Loss: 0.0001, Test Loss 0.0985, Train Acc: 1.0000, Test Acc: 0.7440\n",
      "1\n",
      "Epoch: 000, Train Loss: 0.0767, Test Loss 0.0944, Train Acc: 0.5944, Test Acc: 0.4762\n",
      "Epoch: 001, Train Loss: 0.0465, Test Loss 0.0897, Train Acc: 0.9286, Test Acc: 0.4821\n",
      "Epoch: 002, Train Loss: 0.0189, Test Loss 0.0798, Train Acc: 0.9911, Test Acc: 0.5179\n",
      "Epoch: 003, Train Loss: 0.0092, Test Loss 0.0746, Train Acc: 1.0000, Test Acc: 0.6488\n",
      "Epoch: 004, Train Loss: 0.0043, Test Loss 0.0837, Train Acc: 1.0000, Test Acc: 0.6131\n",
      "Epoch: 005, Train Loss: 0.0023, Test Loss 0.1009, Train Acc: 1.0000, Test Acc: 0.5536\n",
      "Epoch: 006, Train Loss: 0.0017, Test Loss 0.1199, Train Acc: 1.0000, Test Acc: 0.5179\n",
      "Epoch: 007, Train Loss: 0.0009, Test Loss 0.1154, Train Acc: 1.0000, Test Acc: 0.5179\n",
      "Epoch: 008, Train Loss: 0.0006, Test Loss 0.1064, Train Acc: 1.0000, Test Acc: 0.6548\n",
      "Epoch: 009, Train Loss: 0.0004, Test Loss 0.1109, Train Acc: 1.0000, Test Acc: 0.6488\n",
      "Epoch: 010, Train Loss: 0.0003, Test Loss 0.1199, Train Acc: 1.0000, Test Acc: 0.5595\n",
      "Epoch: 011, Train Loss: 0.0002, Test Loss 0.1197, Train Acc: 1.0000, Test Acc: 0.5714\n",
      "Epoch: 012, Train Loss: 0.0002, Test Loss 0.1168, Train Acc: 1.0000, Test Acc: 0.6548\n",
      "Epoch: 013, Train Loss: 0.0002, Test Loss 0.1209, Train Acc: 1.0000, Test Acc: 0.6071\n",
      "Epoch: 014, Train Loss: 0.0001, Test Loss 0.1194, Train Acc: 1.0000, Test Acc: 0.6190\n",
      "Epoch: 015, Train Loss: 0.0001, Test Loss 0.1222, Train Acc: 1.0000, Test Acc: 0.6131\n",
      "Epoch: 016, Train Loss: 0.0001, Test Loss 0.1266, Train Acc: 1.0000, Test Acc: 0.6071\n",
      "Epoch: 017, Train Loss: 0.0001, Test Loss 0.1327, Train Acc: 1.0000, Test Acc: 0.5298\n",
      "Epoch: 018, Train Loss: 0.0001, Test Loss 0.1371, Train Acc: 1.0000, Test Acc: 0.5536\n",
      "Epoch: 019, Train Loss: 0.0001, Test Loss 0.1282, Train Acc: 1.0000, Test Acc: 0.5714\n",
      "2\n",
      "Epoch: 000, Train Loss: 0.0814, Test Loss 0.0900, Train Acc: 0.6518, Test Acc: 0.5972\n",
      "Epoch: 001, Train Loss: 0.0658, Test Loss 0.0783, Train Acc: 0.7857, Test Acc: 0.7361\n",
      "Epoch: 002, Train Loss: 0.0326, Test Loss 0.0582, Train Acc: 0.9375, Test Acc: 0.8194\n",
      "Epoch: 003, Train Loss: 0.0171, Test Loss 0.0427, Train Acc: 0.9732, Test Acc: 0.8611\n",
      "Epoch: 004, Train Loss: 0.0071, Test Loss 0.0579, Train Acc: 1.0000, Test Acc: 0.7361\n",
      "Epoch: 005, Train Loss: 0.0042, Test Loss 0.0497, Train Acc: 1.0000, Test Acc: 0.8056\n",
      "Epoch: 006, Train Loss: 0.0023, Test Loss 0.0628, Train Acc: 1.0000, Test Acc: 0.7361\n",
      "Epoch: 007, Train Loss: 0.0017, Test Loss 0.0527, Train Acc: 1.0000, Test Acc: 0.8611\n",
      "Epoch: 008, Train Loss: 0.0012, Test Loss 0.0591, Train Acc: 1.0000, Test Acc: 0.8056\n",
      "Epoch: 009, Train Loss: 0.0008, Test Loss 0.0940, Train Acc: 1.0000, Test Acc: 0.7083\n",
      "Epoch: 010, Train Loss: 0.0006, Test Loss 0.0889, Train Acc: 1.0000, Test Acc: 0.7222\n",
      "Epoch: 011, Train Loss: 0.0005, Test Loss 0.0938, Train Acc: 1.0000, Test Acc: 0.7361\n",
      "Epoch: 012, Train Loss: 0.0004, Test Loss 0.1187, Train Acc: 1.0000, Test Acc: 0.7361\n",
      "Epoch: 013, Train Loss: 0.0004, Test Loss 0.1526, Train Acc: 1.0000, Test Acc: 0.7222\n",
      "Epoch: 014, Train Loss: 0.0003, Test Loss 0.1093, Train Acc: 1.0000, Test Acc: 0.7361\n",
      "Epoch: 015, Train Loss: 0.0002, Test Loss 0.1206, Train Acc: 1.0000, Test Acc: 0.7222\n",
      "Epoch: 016, Train Loss: 0.0002, Test Loss 0.1552, Train Acc: 1.0000, Test Acc: 0.7222\n",
      "Epoch: 017, Train Loss: 0.0002, Test Loss 0.1529, Train Acc: 1.0000, Test Acc: 0.7222\n",
      "Epoch: 018, Train Loss: 0.0002, Test Loss 0.1343, Train Acc: 1.0000, Test Acc: 0.7778\n",
      "Epoch: 019, Train Loss: 0.0001, Test Loss 0.1348, Train Acc: 1.0000, Test Acc: 0.7778\n",
      "3\n",
      "Epoch: 000, Train Loss: 0.0786, Test Loss 0.0922, Train Acc: 0.6250, Test Acc: 0.5972\n",
      "Epoch: 001, Train Loss: 0.0496, Test Loss 0.0785, Train Acc: 0.9196, Test Acc: 0.6806\n",
      "Epoch: 002, Train Loss: 0.0306, Test Loss 0.0691, Train Acc: 0.9732, Test Acc: 0.7639\n",
      "Epoch: 003, Train Loss: 0.0170, Test Loss 0.0689, Train Acc: 0.9911, Test Acc: 0.7778\n",
      "Epoch: 004, Train Loss: 0.0082, Test Loss 0.0657, Train Acc: 1.0000, Test Acc: 0.7778\n",
      "Epoch: 005, Train Loss: 0.0035, Test Loss 0.0961, Train Acc: 1.0000, Test Acc: 0.7639\n",
      "Epoch: 006, Train Loss: 0.0020, Test Loss 0.0994, Train Acc: 1.0000, Test Acc: 0.7639\n",
      "Epoch: 007, Train Loss: 0.0013, Test Loss 0.0857, Train Acc: 1.0000, Test Acc: 0.7778\n",
      "Epoch: 008, Train Loss: 0.0010, Test Loss 0.0908, Train Acc: 1.0000, Test Acc: 0.7639\n",
      "Epoch: 009, Train Loss: 0.0006, Test Loss 0.0788, Train Acc: 1.0000, Test Acc: 0.7917\n",
      "Epoch: 010, Train Loss: 0.0005, Test Loss 0.0866, Train Acc: 1.0000, Test Acc: 0.7917\n",
      "Epoch: 011, Train Loss: 0.0004, Test Loss 0.1120, Train Acc: 1.0000, Test Acc: 0.7639\n",
      "Epoch: 012, Train Loss: 0.0003, Test Loss 0.0958, Train Acc: 1.0000, Test Acc: 0.7778\n",
      "Epoch: 013, Train Loss: 0.0002, Test Loss 0.1258, Train Acc: 1.0000, Test Acc: 0.7361\n",
      "Epoch: 014, Train Loss: 0.0002, Test Loss 0.1004, Train Acc: 1.0000, Test Acc: 0.7917\n",
      "Epoch: 015, Train Loss: 0.0002, Test Loss 0.1177, Train Acc: 1.0000, Test Acc: 0.7639\n",
      "Epoch: 016, Train Loss: 0.0001, Test Loss 0.1160, Train Acc: 1.0000, Test Acc: 0.7778\n",
      "Epoch: 017, Train Loss: 0.0001, Test Loss 0.1087, Train Acc: 1.0000, Test Acc: 0.7778\n",
      "Epoch: 018, Train Loss: 0.0001, Test Loss 0.1276, Train Acc: 1.0000, Test Acc: 0.7639\n",
      "Epoch: 019, Train Loss: 0.0001, Test Loss 0.1106, Train Acc: 1.0000, Test Acc: 0.7917\n",
      "4\n",
      "Epoch: 000, Train Loss: 0.0747, Test Loss 0.0889, Train Acc: 0.8839, Test Acc: 0.7361\n",
      "Epoch: 001, Train Loss: 0.0576, Test Loss 0.0811, Train Acc: 0.8125, Test Acc: 0.6111\n",
      "Epoch: 002, Train Loss: 0.0237, Test Loss 0.0628, Train Acc: 0.9464, Test Acc: 0.7917\n",
      "Epoch: 003, Train Loss: 0.0125, Test Loss 0.0602, Train Acc: 1.0000, Test Acc: 0.7639\n",
      "Epoch: 004, Train Loss: 0.0070, Test Loss 0.0658, Train Acc: 1.0000, Test Acc: 0.7222\n",
      "Epoch: 005, Train Loss: 0.0040, Test Loss 0.0600, Train Acc: 1.0000, Test Acc: 0.6528\n",
      "Epoch: 006, Train Loss: 0.0026, Test Loss 0.0613, Train Acc: 1.0000, Test Acc: 0.7083\n",
      "Epoch: 007, Train Loss: 0.0018, Test Loss 0.0714, Train Acc: 1.0000, Test Acc: 0.6944\n",
      "Epoch: 008, Train Loss: 0.0012, Test Loss 0.0731, Train Acc: 1.0000, Test Acc: 0.6944\n",
      "Epoch: 009, Train Loss: 0.0009, Test Loss 0.0751, Train Acc: 1.0000, Test Acc: 0.7361\n",
      "Epoch: 010, Train Loss: 0.0007, Test Loss 0.0745, Train Acc: 1.0000, Test Acc: 0.6667\n",
      "Epoch: 011, Train Loss: 0.0006, Test Loss 0.0742, Train Acc: 1.0000, Test Acc: 0.7361\n",
      "Epoch: 012, Train Loss: 0.0004, Test Loss 0.0713, Train Acc: 1.0000, Test Acc: 0.7500\n",
      "Epoch: 013, Train Loss: 0.0004, Test Loss 0.0796, Train Acc: 1.0000, Test Acc: 0.7361\n",
      "Epoch: 014, Train Loss: 0.0003, Test Loss 0.0794, Train Acc: 1.0000, Test Acc: 0.7222\n",
      "Epoch: 015, Train Loss: 0.0003, Test Loss 0.0761, Train Acc: 1.0000, Test Acc: 0.7361\n",
      "Epoch: 016, Train Loss: 0.0002, Test Loss 0.0762, Train Acc: 1.0000, Test Acc: 0.7500\n",
      "Epoch: 017, Train Loss: 0.0002, Test Loss 0.0899, Train Acc: 1.0000, Test Acc: 0.7778\n",
      "Epoch: 018, Train Loss: 0.0002, Test Loss 0.0801, Train Acc: 1.0000, Test Acc: 0.7222\n",
      "Epoch: 019, Train Loss: 0.0001, Test Loss 0.0812, Train Acc: 1.0000, Test Acc: 0.7361\n",
      "5\n",
      "Epoch: 000, Train Loss: 0.0754, Test Loss 0.0948, Train Acc: 0.6607, Test Acc: 0.4861\n",
      "Epoch: 001, Train Loss: 0.0386, Test Loss 0.0846, Train Acc: 0.9107, Test Acc: 0.6528\n",
      "Epoch: 002, Train Loss: 0.0285, Test Loss 0.1280, Train Acc: 0.9464, Test Acc: 0.5278\n",
      "Epoch: 003, Train Loss: 0.0124, Test Loss 0.1172, Train Acc: 0.9821, Test Acc: 0.6667\n",
      "Epoch: 004, Train Loss: 0.0065, Test Loss 0.1625, Train Acc: 1.0000, Test Acc: 0.6389\n",
      "Epoch: 005, Train Loss: 0.0036, Test Loss 0.1551, Train Acc: 1.0000, Test Acc: 0.6389\n",
      "Epoch: 006, Train Loss: 0.0020, Test Loss 0.1631, Train Acc: 1.0000, Test Acc: 0.6389\n",
      "Epoch: 007, Train Loss: 0.0015, Test Loss 0.2178, Train Acc: 1.0000, Test Acc: 0.5833\n",
      "Epoch: 008, Train Loss: 0.0010, Test Loss 0.1916, Train Acc: 1.0000, Test Acc: 0.6528\n",
      "Epoch: 009, Train Loss: 0.0007, Test Loss 0.1769, Train Acc: 1.0000, Test Acc: 0.6667\n",
      "Epoch: 010, Train Loss: 0.0006, Test Loss 0.1876, Train Acc: 1.0000, Test Acc: 0.6528\n",
      "Epoch: 011, Train Loss: 0.0005, Test Loss 0.1922, Train Acc: 1.0000, Test Acc: 0.6528\n",
      "Epoch: 012, Train Loss: 0.0004, Test Loss 0.2017, Train Acc: 1.0000, Test Acc: 0.6528\n",
      "Epoch: 013, Train Loss: 0.0003, Test Loss 0.2303, Train Acc: 1.0000, Test Acc: 0.6389\n",
      "Epoch: 014, Train Loss: 0.0003, Test Loss 0.2471, Train Acc: 1.0000, Test Acc: 0.6111\n",
      "Epoch: 015, Train Loss: 0.0002, Test Loss 0.2220, Train Acc: 1.0000, Test Acc: 0.6389\n",
      "Epoch: 016, Train Loss: 0.0002, Test Loss 0.2310, Train Acc: 1.0000, Test Acc: 0.6111\n",
      "Epoch: 017, Train Loss: 0.0002, Test Loss 0.2337, Train Acc: 1.0000, Test Acc: 0.6111\n",
      "Epoch: 018, Train Loss: 0.0002, Test Loss 0.2245, Train Acc: 1.0000, Test Acc: 0.6250\n",
      "Epoch: 019, Train Loss: 0.0001, Test Loss 0.2210, Train Acc: 1.0000, Test Acc: 0.6528\n"
     ]
    }
   ],
   "source": [
    "# GAT\n",
    "\n",
    "from sklearn.model_selection import StratifiedKFold\n",
    "from tqdm.notebook import tqdm\n",
    "\n",
    "skf = StratifiedKFold(n_splits=6, shuffle=True)\n",
    "eval_metrics = np.zeros((skf.n_splits, 3))\n",
    "\n",
    "labels = [train_dataset[i].y for i in range(len(train_dataset))]\n",
    "\n",
    "\n",
    "for n_fold, (train_idx, test_idx) in tqdm(enumerate(skf.split(labels, labels))):\n",
    "    model = GATv2(train_dataset.num_features, 128, 8).to(device())\n",
    "    optimizer = torch.optim.Adam(model.parameters(), lr=0.001)\n",
    "    criterion = torch.nn.CrossEntropyLoss()\n",
    "    scheduler = lr_scheduler.StepLR(optimizer, step_size=30//3, gamma=0.1, last_epoch=-1, verbose=False)\n",
    "\n",
    "    train_loader_ = DataLoader(train_dataset[list(train_idx)], batch_size=8, shuffle=True)\n",
    "    test_loader_ = DataLoader(train_dataset[list(test_idx)], batch_size=8, shuffle=True)\n",
    "    min_v_loss = np.inf\n",
    "    print(n_fold)\n",
    "    pr, rc, acc = [], [], []\n",
    "    for epoch in range(20):\n",
    "        train_epoch(train_loader_, model, criterion, optimizer)\n",
    "        train_loss, train_acc, _, _ = eval_epoch(train_loader_, model, criterion)\n",
    "        val_loss, test_acc, _, _ = eval_epoch(test_loader_, model, criterion)\n",
    "        #scheduler.step()\n",
    "        print(f'Epoch: {epoch:03d}, Train Loss: {train_loss:.4f}, Test Loss {val_loss:.4f}, Train Acc: {train_acc:.4f}, Test Acc: {test_acc:.4f}')\n",
    "        #print(f'Train Prec: {train_pr:.3f}, Train Rec: {train_rc:.3f}, Test Prec: {val_pr:.3f}, Test Rec: {val_rc:.3f}')\n",
    "        #rc.append(val_rc)\n",
    "        #pr.append(val_pr)\n",
    "        acc.append(test_acc)\n",
    "        if min_v_loss > val_loss:\n",
    "            min_v_loss = val_loss\n",
    "            best_test_acc = test_acc\n",
    "\n",
    "    eval_metrics[n_fold, 0] = best_test_acc\n",
    "    eval_metrics[n_fold, 1] = np.mean(acc)\n",
    "    eval_metrics[n_fold, 2] = np.std(acc)\n",
    "### eval_metrics[n_fold, 3] ="
   ]
  },
  {
   "cell_type": "code",
   "execution_count": 39,
   "metadata": {
    "collapsed": false
   },
   "outputs": [
    {
     "data": {
      "text/plain": [
       "array([[0.64880949, 0.72738093, 0.03720121],\n",
       "       [0.64880949, 0.57589281, 0.05564362],\n",
       "       [0.8611111 , 0.7520833 , 0.0579809 ],\n",
       "       [0.77777773, 0.75972229, 0.04437928],\n",
       "       [0.65277773, 0.72222221, 0.04143455],\n",
       "       [0.65277773, 0.62499994, 0.04479031]])"
      ]
     },
     "execution_count": 39,
     "metadata": {},
     "output_type": "execute_result"
    }
   ],
   "source": [
    "eval_metrics"
   ]
  },
  {
   "cell_type": "code",
   "execution_count": 40,
   "metadata": {
    "collapsed": false
   },
   "outputs": [
    {
     "data": {
      "text/plain": [
       "(0.6937169134616852, 0.06869462128180329)"
      ]
     },
     "execution_count": 40,
     "metadata": {},
     "output_type": "execute_result"
    }
   ],
   "source": [
    "np.mean(eval_metrics[:, 1]), np.std(eval_metrics[:, 1])"
   ]
  },
  {
   "cell_type": "code",
   "execution_count": 41,
   "metadata": {},
   "outputs": [
    {
     "data": {
      "text/plain": [
       "(0.32423661667514003, 0.8, 0.46666667, 0.46666667)"
      ]
     },
     "execution_count": 41,
     "metadata": {},
     "output_type": "execute_result"
    }
   ],
   "source": [
    "eval_epoch(test_loader, model, loss)"
   ]
  },
  {
   "attachments": {},
   "cell_type": "markdown",
   "metadata": {},
   "source": [
    "## Explainability"
   ]
  },
  {
   "cell_type": "code",
   "execution_count": null,
   "metadata": {
    "collapsed": false
   },
   "outputs": [],
   "source": [
    "from captum.attr import Saliency, IntegratedGradients\n",
    "\n",
    "def model_forward(edge_mask, data):\n",
    "    batch = torch.zeros(data.x.shape[0], dtype=int).to(device())\n",
    "    out = model(data) # .x, data.edge_index, batch, edge_mask\n",
    "    return out\n",
    "\n",
    "\n",
    "def explain(method, data, target=0):\n",
    "    input_mask = torch.ones(data.edge_index.shape[1]).requires_grad_(True).to(device)\n",
    "    if method == 'ig':\n",
    "        ig = IntegratedGradients(model_forward)\n",
    "        mask = ig.attribute(input_mask, target=target,\n",
    "                            additional_forward_args=(data,),\n",
    "                            internal_batch_size=data.edge_index.shape[1])\n",
    "    elif method == 'saliency':\n",
    "        saliency = Saliency(model_forward)\n",
    "        mask = saliency.attribute(input_mask, target=target,\n",
    "                                  additional_forward_args=(data,))\n",
    "    else:\n",
    "        raise Exception('Unknown explanation method')\n",
    "\n",
    "    edge_mask = np.abs(mask.cpu().detach().numpy())\n",
    "    if edge_mask.max() > 0:  # avoid division by zero\n",
    "        edge_mask = edge_mask / edge_mask.max()\n",
    "    return edge_mask"
   ]
  },
  {
   "cell_type": "code",
   "execution_count": null,
   "metadata": {
    "collapsed": false
   },
   "outputs": [],
   "source": []
  }
 ],
 "metadata": {
  "kernelspec": {
   "display_name": "Open_Close_GNN",
   "language": "python",
   "name": "python3"
  },
  "language_info": {
   "codemirror_mode": {
    "name": "ipython",
    "version": 3
   },
   "file_extension": ".py",
   "mimetype": "text/x-python",
   "name": "python",
   "nbconvert_exporter": "python",
   "pygments_lexer": "ipython3",
   "version": "3.7.16"
  },
  "vscode": {
   "interpreter": {
    "hash": "266da1a1721e4588a8feaf69449a5145239fab947ce8997260eacc776b5422ab"
   }
  }
 },
 "nbformat": 4,
 "nbformat_minor": 0
}
